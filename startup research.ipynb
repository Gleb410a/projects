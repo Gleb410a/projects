{
 "cells": [
  {
   "cell_type": "markdown",
   "metadata": {
    "id": "4mJbK1knrJgz"
   },
   "source": [
    "# Проект: Исследование стартапов\n",
    "\n",
    "- Автор: Шишкин Глеб Андреевич\n",
    "- Дата: 06.02.2025"
   ]
  },
  {
   "cell_type": "markdown",
   "metadata": {
    "id": "P6j0r3worJg0"
   },
   "source": [
    "## Введение"
   ]
  },
  {
   "cell_type": "markdown",
   "metadata": {
    "id": "8lQtbsIUyFG6"
   },
   "source": [
    "### Цели и задачи проекта\n",
    "\n",
    "<font color='#000000'> **Цель:** Подготовить датасет и проверить, что данные в нём соответствуют здравому смыслу, а также ответить на вопросы заказчика как о предобработке, так и о значении данных для бизнеса.\n",
    "\n",
    "**Задачи:**\n",
    "- Загрузить данные и познакомиться с их содержимым.\n",
    "- Провести предобработку данных.\n",
    "- Провести исследовательский анализ данных:\n",
    "- Изучить данные более детально;\n",
    "- Изучить взаимосвязь данных.\n",
    "- Сформулировать выводы по проведённому анализу.</font>"
   ]
  },
  {
   "cell_type": "markdown",
   "metadata": {
    "id": "xqr6uttCrJg0"
   },
   "source": [
    "\n",
    "## Шаг 1. Знакомство с данными: загрузка и первичная предобработка\n",
    "\n",
    "Названия файлов:\n",
    "* acquisition.csv\n",
    "* company_and_rounds.csv\n",
    "* degrees.csv\n",
    "* education.csv\n",
    "* fund.csv\n",
    "* investment.csv\n",
    "* people.csv\n",
    "\n",
    "\n",
    "\n",
    "### 1.1. Вывод общей информации, исправление названия столбцов"
   ]
  },
  {
   "cell_type": "markdown",
   "metadata": {},
   "source": [
    "\n",
    "* Загрузите все данные по проекту."
   ]
  },
  {
   "cell_type": "markdown",
   "metadata": {},
   "source": [
    "\n",
    "* Проверьте названия столбцов."
   ]
  },
  {
   "cell_type": "markdown",
   "metadata": {},
   "source": [
    "\n",
    "* Выведите информацию, которая необходима вам для принятия решений о предобработке, для каждого из датасетов."
   ]
  },
  {
   "cell_type": "code",
   "execution_count": 1,
   "metadata": {
    "id": "4u9np9gSnyqT"
   },
   "outputs": [
    {
     "name": "stdout",
     "output_type": "stream",
     "text": [
      "Requirement already satisfied: phik in /opt/conda/lib/python3.9/site-packages (0.12.4)\n",
      "Requirement already satisfied: matplotlib>=2.2.3 in /opt/conda/lib/python3.9/site-packages (from phik) (3.3.4)\n",
      "Requirement already satisfied: numpy>=1.18.0 in /opt/conda/lib/python3.9/site-packages (from phik) (1.21.1)\n",
      "Requirement already satisfied: pandas>=0.25.1 in /opt/conda/lib/python3.9/site-packages (from phik) (1.2.4)\n",
      "Requirement already satisfied: joblib>=0.14.1 in /opt/conda/lib/python3.9/site-packages (from phik) (1.1.0)\n",
      "Requirement already satisfied: scipy>=1.5.2 in /opt/conda/lib/python3.9/site-packages (from phik) (1.9.1)\n",
      "Requirement already satisfied: kiwisolver>=1.0.1 in /opt/conda/lib/python3.9/site-packages (from matplotlib>=2.2.3->phik) (1.4.4)\n",
      "Requirement already satisfied: pillow>=6.2.0 in /opt/conda/lib/python3.9/site-packages (from matplotlib>=2.2.3->phik) (8.4.0)\n",
      "Requirement already satisfied: pyparsing!=2.0.4,!=2.1.2,!=2.1.6,>=2.0.3 in /opt/conda/lib/python3.9/site-packages (from matplotlib>=2.2.3->phik) (2.4.7)\n",
      "Requirement already satisfied: python-dateutil>=2.1 in /opt/conda/lib/python3.9/site-packages (from matplotlib>=2.2.3->phik) (2.8.1)\n",
      "Requirement already satisfied: cycler>=0.10 in /opt/conda/lib/python3.9/site-packages (from matplotlib>=2.2.3->phik) (0.11.0)\n",
      "Requirement already satisfied: pytz>=2017.3 in /opt/conda/lib/python3.9/site-packages (from pandas>=0.25.1->phik) (2021.1)\n",
      "Requirement already satisfied: six>=1.5 in /opt/conda/lib/python3.9/site-packages (from python-dateutil>=2.1->matplotlib>=2.2.3->phik) (1.16.0)\n"
     ]
    }
   ],
   "source": [
    "# Импортируем библиотеки\n",
    "import pandas as pd\n",
    "import matplotlib.pyplot as plt\n",
    "import seaborn as sns\n",
    "import numpy as np\n",
    "# Установим библиотеку phik\n",
    "!pip install phik\n",
    "# Загружаем библиотеку для расчёта коэффициента корреляции phi_k\n",
    "from phik import phik_matrix"
   ]
  },
  {
   "cell_type": "code",
   "execution_count": 2,
   "metadata": {},
   "outputs": [],
   "source": [
    "# Выгружаем данные в переменные acquisition_df, company_and_rounds_df, degrees_df, education_df, fund_df, investment_df, people_df\n",
    "acquisition_df = pd.read_csv('acquisition.csv')\n",
    "company_and_rounds_df = pd.read_csv('company_and_rounds.csv')\n",
    "degrees_df = pd.read_csv('degrees.csv')\n",
    "education_df = pd.read_csv('education.csv')\n",
    "fund_df = pd.read_csv('fund.csv')\n",
    "investment_df = pd.read_csv('investment.csv')\n",
    "people_df = pd.read_csv('people.csv')"
   ]
  },
  {
   "cell_type": "markdown",
   "metadata": {},
   "source": [
    "Познакомимся с данными датасетов и выведем первые строки методом head(), а информацию о датафрейме методом info():"
   ]
  },
  {
   "cell_type": "code",
   "execution_count": 3,
   "metadata": {},
   "outputs": [
    {
     "data": {
      "text/html": [
       "<div>\n",
       "<style scoped>\n",
       "    .dataframe tbody tr th:only-of-type {\n",
       "        vertical-align: middle;\n",
       "    }\n",
       "\n",
       "    .dataframe tbody tr th {\n",
       "        vertical-align: top;\n",
       "    }\n",
       "\n",
       "    .dataframe thead th {\n",
       "        text-align: right;\n",
       "    }\n",
       "</style>\n",
       "<table border=\"1\" class=\"dataframe\">\n",
       "  <thead>\n",
       "    <tr style=\"text-align: right;\">\n",
       "      <th></th>\n",
       "      <th>id</th>\n",
       "      <th>acquiring_company_id</th>\n",
       "      <th>acquired_company_id</th>\n",
       "      <th>term_code</th>\n",
       "      <th>price_amount</th>\n",
       "      <th>acquired_at</th>\n",
       "    </tr>\n",
       "  </thead>\n",
       "  <tbody>\n",
       "    <tr>\n",
       "      <th>0</th>\n",
       "      <td>1</td>\n",
       "      <td>11</td>\n",
       "      <td>10</td>\n",
       "      <td>NaN</td>\n",
       "      <td>20000000</td>\n",
       "      <td>2007-05-30</td>\n",
       "    </tr>\n",
       "    <tr>\n",
       "      <th>1</th>\n",
       "      <td>7</td>\n",
       "      <td>59</td>\n",
       "      <td>72</td>\n",
       "      <td>cash</td>\n",
       "      <td>60000000</td>\n",
       "      <td>2007-07-01</td>\n",
       "    </tr>\n",
       "    <tr>\n",
       "      <th>2</th>\n",
       "      <td>8</td>\n",
       "      <td>24</td>\n",
       "      <td>132</td>\n",
       "      <td>cash</td>\n",
       "      <td>280000000</td>\n",
       "      <td>2007-05-01</td>\n",
       "    </tr>\n",
       "    <tr>\n",
       "      <th>3</th>\n",
       "      <td>9</td>\n",
       "      <td>59</td>\n",
       "      <td>155</td>\n",
       "      <td>cash</td>\n",
       "      <td>100000000</td>\n",
       "      <td>2007-06-01</td>\n",
       "    </tr>\n",
       "    <tr>\n",
       "      <th>4</th>\n",
       "      <td>10</td>\n",
       "      <td>212</td>\n",
       "      <td>215</td>\n",
       "      <td>cash</td>\n",
       "      <td>25000000</td>\n",
       "      <td>2007-07-01</td>\n",
       "    </tr>\n",
       "  </tbody>\n",
       "</table>\n",
       "</div>"
      ],
      "text/plain": [
       "   id  acquiring_company_id  acquired_company_id term_code  price_amount  \\\n",
       "0   1                    11                   10       NaN      20000000   \n",
       "1   7                    59                   72      cash      60000000   \n",
       "2   8                    24                  132      cash     280000000   \n",
       "3   9                    59                  155      cash     100000000   \n",
       "4  10                   212                  215      cash      25000000   \n",
       "\n",
       "  acquired_at  \n",
       "0  2007-05-30  \n",
       "1  2007-07-01  \n",
       "2  2007-05-01  \n",
       "3  2007-06-01  \n",
       "4  2007-07-01  "
      ]
     },
     "execution_count": 3,
     "metadata": {},
     "output_type": "execute_result"
    }
   ],
   "source": [
    "# Выводим первые строки о датафрейме acquisition_df на экран\n",
    "acquisition_df.head()"
   ]
  },
  {
   "cell_type": "code",
   "execution_count": 4,
   "metadata": {},
   "outputs": [
    {
     "name": "stdout",
     "output_type": "stream",
     "text": [
      "<class 'pandas.core.frame.DataFrame'>\n",
      "RangeIndex: 9407 entries, 0 to 9406\n",
      "Data columns (total 6 columns):\n",
      " #   Column                Non-Null Count  Dtype \n",
      "---  ------                --------------  ----- \n",
      " 0   id                    9407 non-null   int64 \n",
      " 1   acquiring_company_id  9407 non-null   int64 \n",
      " 2   acquired_company_id   9407 non-null   int64 \n",
      " 3   term_code             1831 non-null   object\n",
      " 4   price_amount          9407 non-null   int64 \n",
      " 5   acquired_at           9378 non-null   object\n",
      "dtypes: int64(4), object(2)\n",
      "memory usage: 441.1+ KB\n"
     ]
    }
   ],
   "source": [
    "# Выводим информацию о датафрейме acquisition_df на экран\n",
    "acquisition_df.info()"
   ]
  },
  {
   "cell_type": "markdown",
   "metadata": {},
   "source": [
    "Датасет acquisition.csv содержит 6 столбцов и 9407 строк, в которых представлена информация о покупках одними компаниями других компаний.\n",
    "\n",
    "После первичного анализа данных можно сделать следующие выводы:\n",
    "Названия столбцов в нижнем регистре и не требуют приведения к snake case. Пропуски наблюдаются в столбцах term_code и acquired_at. Однако следует проверить и другие столбцы.\n",
    "\n",
    "Судя по первому знакомству с данными, значения в столбцах соответствуют своему описанию.\n",
    "\n",
    "Возможно необходимо изменить тип данных для столбца acquired_at и приветсти его к типу datetime\n"
   ]
  },
  {
   "cell_type": "code",
   "execution_count": 5,
   "metadata": {},
   "outputs": [
    {
     "data": {
      "text/html": [
       "<div>\n",
       "<style scoped>\n",
       "    .dataframe tbody tr th:only-of-type {\n",
       "        vertical-align: middle;\n",
       "    }\n",
       "\n",
       "    .dataframe tbody tr th {\n",
       "        vertical-align: top;\n",
       "    }\n",
       "\n",
       "    .dataframe thead th {\n",
       "        text-align: right;\n",
       "    }\n",
       "</style>\n",
       "<table border=\"1\" class=\"dataframe\">\n",
       "  <thead>\n",
       "    <tr style=\"text-align: right;\">\n",
       "      <th></th>\n",
       "      <th>company  ID</th>\n",
       "      <th>name</th>\n",
       "      <th>category  code</th>\n",
       "      <th>status</th>\n",
       "      <th>founded  at</th>\n",
       "      <th>closed  at</th>\n",
       "      <th>domain</th>\n",
       "      <th>network  username</th>\n",
       "      <th>country  code</th>\n",
       "      <th>investment  rounds</th>\n",
       "      <th>...</th>\n",
       "      <th>milestones</th>\n",
       "      <th>funding  round  id</th>\n",
       "      <th>company  id</th>\n",
       "      <th>funded  at</th>\n",
       "      <th>funding  round  type</th>\n",
       "      <th>raised  amount</th>\n",
       "      <th>pre  money  valuation</th>\n",
       "      <th>participants</th>\n",
       "      <th>is  first  round</th>\n",
       "      <th>is  last  round</th>\n",
       "    </tr>\n",
       "  </thead>\n",
       "  <tbody>\n",
       "    <tr>\n",
       "      <th>0</th>\n",
       "      <td>1.0</td>\n",
       "      <td>Wetpaint</td>\n",
       "      <td>web</td>\n",
       "      <td>operating</td>\n",
       "      <td>2005-10-17</td>\n",
       "      <td>NaN</td>\n",
       "      <td>wetpaint-inc.com</td>\n",
       "      <td>BachelrWetpaint</td>\n",
       "      <td>USA</td>\n",
       "      <td>0.0</td>\n",
       "      <td>...</td>\n",
       "      <td>5.0</td>\n",
       "      <td>888.0</td>\n",
       "      <td>1.0</td>\n",
       "      <td>2005-10-01</td>\n",
       "      <td>series-a</td>\n",
       "      <td>5250000.0</td>\n",
       "      <td>0.0</td>\n",
       "      <td>2.0</td>\n",
       "      <td>0.0</td>\n",
       "      <td>1.0</td>\n",
       "    </tr>\n",
       "    <tr>\n",
       "      <th>1</th>\n",
       "      <td>1.0</td>\n",
       "      <td>Wetpaint</td>\n",
       "      <td>web</td>\n",
       "      <td>operating</td>\n",
       "      <td>2005-10-17</td>\n",
       "      <td>NaN</td>\n",
       "      <td>wetpaint-inc.com</td>\n",
       "      <td>BachelrWetpaint</td>\n",
       "      <td>USA</td>\n",
       "      <td>0.0</td>\n",
       "      <td>...</td>\n",
       "      <td>5.0</td>\n",
       "      <td>889.0</td>\n",
       "      <td>1.0</td>\n",
       "      <td>2007-01-01</td>\n",
       "      <td>series-b</td>\n",
       "      <td>9500000.0</td>\n",
       "      <td>0.0</td>\n",
       "      <td>3.0</td>\n",
       "      <td>0.0</td>\n",
       "      <td>0.0</td>\n",
       "    </tr>\n",
       "    <tr>\n",
       "      <th>2</th>\n",
       "      <td>1.0</td>\n",
       "      <td>Wetpaint</td>\n",
       "      <td>web</td>\n",
       "      <td>operating</td>\n",
       "      <td>2005-10-17</td>\n",
       "      <td>NaN</td>\n",
       "      <td>wetpaint-inc.com</td>\n",
       "      <td>BachelrWetpaint</td>\n",
       "      <td>USA</td>\n",
       "      <td>0.0</td>\n",
       "      <td>...</td>\n",
       "      <td>5.0</td>\n",
       "      <td>2312.0</td>\n",
       "      <td>1.0</td>\n",
       "      <td>2008-05-19</td>\n",
       "      <td>series-c+</td>\n",
       "      <td>25000000.0</td>\n",
       "      <td>0.0</td>\n",
       "      <td>4.0</td>\n",
       "      <td>1.0</td>\n",
       "      <td>0.0</td>\n",
       "    </tr>\n",
       "    <tr>\n",
       "      <th>3</th>\n",
       "      <td>10.0</td>\n",
       "      <td>Flektor</td>\n",
       "      <td>games_video</td>\n",
       "      <td>acquired</td>\n",
       "      <td>NaN</td>\n",
       "      <td>NaN</td>\n",
       "      <td>flektor.com</td>\n",
       "      <td>NaN</td>\n",
       "      <td>USA</td>\n",
       "      <td>0.0</td>\n",
       "      <td>...</td>\n",
       "      <td>0.0</td>\n",
       "      <td>NaN</td>\n",
       "      <td>NaN</td>\n",
       "      <td>NaN</td>\n",
       "      <td>NaN</td>\n",
       "      <td>NaN</td>\n",
       "      <td>NaN</td>\n",
       "      <td>NaN</td>\n",
       "      <td>NaN</td>\n",
       "      <td>NaN</td>\n",
       "    </tr>\n",
       "    <tr>\n",
       "      <th>4</th>\n",
       "      <td>100.0</td>\n",
       "      <td>There</td>\n",
       "      <td>games_video</td>\n",
       "      <td>acquired</td>\n",
       "      <td>NaN</td>\n",
       "      <td>NaN</td>\n",
       "      <td>there.com</td>\n",
       "      <td>NaN</td>\n",
       "      <td>USA</td>\n",
       "      <td>0.0</td>\n",
       "      <td>...</td>\n",
       "      <td>4.0</td>\n",
       "      <td>NaN</td>\n",
       "      <td>NaN</td>\n",
       "      <td>NaN</td>\n",
       "      <td>NaN</td>\n",
       "      <td>NaN</td>\n",
       "      <td>NaN</td>\n",
       "      <td>NaN</td>\n",
       "      <td>NaN</td>\n",
       "      <td>NaN</td>\n",
       "    </tr>\n",
       "  </tbody>\n",
       "</table>\n",
       "<p>5 rows × 22 columns</p>\n",
       "</div>"
      ],
      "text/plain": [
       "   company  ID      name category  code     status founded  at closed  at  \\\n",
       "0          1.0  Wetpaint            web  operating  2005-10-17        NaN   \n",
       "1          1.0  Wetpaint            web  operating  2005-10-17        NaN   \n",
       "2          1.0  Wetpaint            web  operating  2005-10-17        NaN   \n",
       "3         10.0   Flektor    games_video   acquired         NaN        NaN   \n",
       "4        100.0     There    games_video   acquired         NaN        NaN   \n",
       "\n",
       "             domain network  username country  code  investment  rounds  ...  \\\n",
       "0  wetpaint-inc.com   BachelrWetpaint           USA                 0.0  ...   \n",
       "1  wetpaint-inc.com   BachelrWetpaint           USA                 0.0  ...   \n",
       "2  wetpaint-inc.com   BachelrWetpaint           USA                 0.0  ...   \n",
       "3       flektor.com               NaN           USA                 0.0  ...   \n",
       "4         there.com               NaN           USA                 0.0  ...   \n",
       "\n",
       "   milestones  funding  round  id  company  id  funded  at  \\\n",
       "0         5.0               888.0          1.0  2005-10-01   \n",
       "1         5.0               889.0          1.0  2007-01-01   \n",
       "2         5.0              2312.0          1.0  2008-05-19   \n",
       "3         0.0                 NaN          NaN         NaN   \n",
       "4         4.0                 NaN          NaN         NaN   \n",
       "\n",
       "   funding  round  type raised  amount pre  money  valuation  participants  \\\n",
       "0              series-a      5250000.0                   0.0           2.0   \n",
       "1              series-b      9500000.0                   0.0           3.0   \n",
       "2             series-c+     25000000.0                   0.0           4.0   \n",
       "3                   NaN            NaN                   NaN           NaN   \n",
       "4                   NaN            NaN                   NaN           NaN   \n",
       "\n",
       "   is  first  round  is  last  round  \n",
       "0               0.0              1.0  \n",
       "1               0.0              0.0  \n",
       "2               1.0              0.0  \n",
       "3               NaN              NaN  \n",
       "4               NaN              NaN  \n",
       "\n",
       "[5 rows x 22 columns]"
      ]
     },
     "execution_count": 5,
     "metadata": {},
     "output_type": "execute_result"
    }
   ],
   "source": [
    "# Выводим первые строки о датафрейме company_and_rounds_df на экран\n",
    "company_and_rounds_df.head()"
   ]
  },
  {
   "cell_type": "code",
   "execution_count": 6,
   "metadata": {},
   "outputs": [
    {
     "name": "stdout",
     "output_type": "stream",
     "text": [
      "<class 'pandas.core.frame.DataFrame'>\n",
      "RangeIndex: 217774 entries, 0 to 217773\n",
      "Data columns (total 22 columns):\n",
      " #   Column                 Non-Null Count   Dtype  \n",
      "---  ------                 --------------   -----  \n",
      " 0   company  ID            217472 non-null  float64\n",
      " 1   name                   217472 non-null  object \n",
      " 2   category  code         143886 non-null  object \n",
      " 3   status                 217472 non-null  object \n",
      " 4   founded  at            109956 non-null  object \n",
      " 5   closed  at             3449 non-null    object \n",
      " 6   domain                 147159 non-null  object \n",
      " 7   network  username      95534 non-null   object \n",
      " 8   country  code          108607 non-null  object \n",
      " 9   investment  rounds     217472 non-null  float64\n",
      " 10  funding  rounds        217472 non-null  float64\n",
      " 11  funding  total         217472 non-null  float64\n",
      " 12  milestones             217472 non-null  float64\n",
      " 13  funding  round  id     52928 non-null   float64\n",
      " 14  company  id            52928 non-null   float64\n",
      " 15  funded  at             52680 non-null   object \n",
      " 16  funding  round  type   52928 non-null   object \n",
      " 17  raised  amount         52928 non-null   float64\n",
      " 18  pre  money  valuation  52928 non-null   float64\n",
      " 19  participants           52928 non-null   float64\n",
      " 20  is  first  round       52928 non-null   float64\n",
      " 21  is  last  round        52928 non-null   float64\n",
      "dtypes: float64(12), object(10)\n",
      "memory usage: 36.6+ MB\n"
     ]
    }
   ],
   "source": [
    "# Выводим информацию о датафрейме company_and_rounds_df на экран\n",
    "company_and_rounds_df.info()"
   ]
  },
  {
   "cell_type": "markdown",
   "metadata": {},
   "source": [
    "Датасет company_and_rounds.csv содержит 22 столбцf и 217774 строк, в которых представлена информация о компаниях и раундах финансирования.\n",
    "\n",
    "После первичного анализа данных можно сделать следующие выводы: Названия столбцов не приведены к snake case. Пропуски наблюдаются во всех столбцах.\n",
    "\n",
    "Судя по первому знакомству с данными, значения в столбцах соответствуют своему описанию.\n",
    "\n",
    "Необходимо изменить тип данных для столбцов: company  ID - int64, founded  at / funded  at / closed  at- datetime, investment  rounds - int64, milestones - int64, funding  round  id - int64, company  id (возможно дубликат и придется удалить) - int64, participants - int64, is  first  round / is  last  round  - int8"
   ]
  },
  {
   "cell_type": "code",
   "execution_count": 7,
   "metadata": {},
   "outputs": [
    {
     "data": {
      "text/html": [
       "<div>\n",
       "<style scoped>\n",
       "    .dataframe tbody tr th:only-of-type {\n",
       "        vertical-align: middle;\n",
       "    }\n",
       "\n",
       "    .dataframe tbody tr th {\n",
       "        vertical-align: top;\n",
       "    }\n",
       "\n",
       "    .dataframe thead th {\n",
       "        text-align: right;\n",
       "    }\n",
       "</style>\n",
       "<table border=\"1\" class=\"dataframe\">\n",
       "  <thead>\n",
       "    <tr style=\"text-align: right;\">\n",
       "      <th></th>\n",
       "      <th>id</th>\n",
       "      <th>object_id</th>\n",
       "      <th>degree_type</th>\n",
       "      <th>subject</th>\n",
       "    </tr>\n",
       "  </thead>\n",
       "  <tbody>\n",
       "    <tr>\n",
       "      <th>0</th>\n",
       "      <td>1</td>\n",
       "      <td>p:6117</td>\n",
       "      <td>MBA</td>\n",
       "      <td>NaN</td>\n",
       "    </tr>\n",
       "    <tr>\n",
       "      <th>1</th>\n",
       "      <td>2</td>\n",
       "      <td>p:6136</td>\n",
       "      <td>BA</td>\n",
       "      <td>English, French</td>\n",
       "    </tr>\n",
       "    <tr>\n",
       "      <th>2</th>\n",
       "      <td>3</td>\n",
       "      <td>p:6136</td>\n",
       "      <td>MS</td>\n",
       "      <td>Mass Communication</td>\n",
       "    </tr>\n",
       "    <tr>\n",
       "      <th>3</th>\n",
       "      <td>4</td>\n",
       "      <td>p:6005</td>\n",
       "      <td>MS</td>\n",
       "      <td>Internet Technology</td>\n",
       "    </tr>\n",
       "    <tr>\n",
       "      <th>4</th>\n",
       "      <td>5</td>\n",
       "      <td>p:5832</td>\n",
       "      <td>BCS</td>\n",
       "      <td>Computer Science, Psychology</td>\n",
       "    </tr>\n",
       "  </tbody>\n",
       "</table>\n",
       "</div>"
      ],
      "text/plain": [
       "   id object_id degree_type                       subject\n",
       "0   1    p:6117         MBA                           NaN\n",
       "1   2    p:6136          BA               English, French\n",
       "2   3    p:6136          MS            Mass Communication\n",
       "3   4    p:6005          MS           Internet Technology\n",
       "4   5    p:5832         BCS  Computer Science, Psychology"
      ]
     },
     "execution_count": 7,
     "metadata": {},
     "output_type": "execute_result"
    }
   ],
   "source": [
    "# Выводим первые строки о датафрейме degrees_df на экран\n",
    "degrees_df.head()"
   ]
  },
  {
   "cell_type": "code",
   "execution_count": 8,
   "metadata": {},
   "outputs": [
    {
     "name": "stdout",
     "output_type": "stream",
     "text": [
      "<class 'pandas.core.frame.DataFrame'>\n",
      "RangeIndex: 109610 entries, 0 to 109609\n",
      "Data columns (total 4 columns):\n",
      " #   Column       Non-Null Count   Dtype \n",
      "---  ------       --------------   ----- \n",
      " 0   id           109610 non-null  int64 \n",
      " 1   object_id    109610 non-null  object\n",
      " 2   degree_type  98392 non-null   object\n",
      " 3   subject      81298 non-null   object\n",
      "dtypes: int64(1), object(3)\n",
      "memory usage: 3.3+ MB\n"
     ]
    }
   ],
   "source": [
    "# Выводим информацию о датафрейме degrees_df на экран\n",
    "degrees_df.info()"
   ]
  },
  {
   "cell_type": "markdown",
   "metadata": {},
   "source": [
    "Датасет degrees.csv содержит 4 столбца и 109610 строк, в которых представлена информация о типе образования сотрудника.\n",
    "\n",
    "После первичного анализа данных можно сделать следующие выводы: Названия столбцов приведены к snake case. Пропуски наблюдаются в столбцах: degree_type и subject.\n",
    "\n",
    "Судя по первому знакомству с данными, значения в столбцах соответствуют своему описанию.\n",
    "\n",
    "Типы данных корректные."
   ]
  },
  {
   "cell_type": "code",
   "execution_count": 9,
   "metadata": {},
   "outputs": [
    {
     "data": {
      "text/html": [
       "<div>\n",
       "<style scoped>\n",
       "    .dataframe tbody tr th:only-of-type {\n",
       "        vertical-align: middle;\n",
       "    }\n",
       "\n",
       "    .dataframe tbody tr th {\n",
       "        vertical-align: top;\n",
       "    }\n",
       "\n",
       "    .dataframe thead th {\n",
       "        text-align: right;\n",
       "    }\n",
       "</style>\n",
       "<table border=\"1\" class=\"dataframe\">\n",
       "  <thead>\n",
       "    <tr style=\"text-align: right;\">\n",
       "      <th></th>\n",
       "      <th>id</th>\n",
       "      <th>person_id</th>\n",
       "      <th>instituition</th>\n",
       "      <th>graduated_at</th>\n",
       "    </tr>\n",
       "  </thead>\n",
       "  <tbody>\n",
       "    <tr>\n",
       "      <th>0</th>\n",
       "      <td>1</td>\n",
       "      <td>6117</td>\n",
       "      <td>NaN</td>\n",
       "      <td>NaN</td>\n",
       "    </tr>\n",
       "    <tr>\n",
       "      <th>1</th>\n",
       "      <td>2</td>\n",
       "      <td>6136</td>\n",
       "      <td>Washington University, St. Louis</td>\n",
       "      <td>1990-01-01</td>\n",
       "    </tr>\n",
       "    <tr>\n",
       "      <th>2</th>\n",
       "      <td>3</td>\n",
       "      <td>6136</td>\n",
       "      <td>Boston University</td>\n",
       "      <td>1992-01-01</td>\n",
       "    </tr>\n",
       "    <tr>\n",
       "      <th>3</th>\n",
       "      <td>4</td>\n",
       "      <td>6005</td>\n",
       "      <td>University of Greenwich</td>\n",
       "      <td>2006-01-01</td>\n",
       "    </tr>\n",
       "    <tr>\n",
       "      <th>4</th>\n",
       "      <td>5</td>\n",
       "      <td>5832</td>\n",
       "      <td>Rice University</td>\n",
       "      <td>NaN</td>\n",
       "    </tr>\n",
       "  </tbody>\n",
       "</table>\n",
       "</div>"
      ],
      "text/plain": [
       "   id  person_id                      instituition graduated_at\n",
       "0   1       6117                               NaN          NaN\n",
       "1   2       6136  Washington University, St. Louis   1990-01-01\n",
       "2   3       6136                 Boston University   1992-01-01\n",
       "3   4       6005           University of Greenwich   2006-01-01\n",
       "4   5       5832                   Rice University          NaN"
      ]
     },
     "execution_count": 9,
     "metadata": {},
     "output_type": "execute_result"
    }
   ],
   "source": [
    "# Выводим первые строки о датафрейме education_df на экран\n",
    "education_df.head()"
   ]
  },
  {
   "cell_type": "code",
   "execution_count": 10,
   "metadata": {},
   "outputs": [
    {
     "name": "stdout",
     "output_type": "stream",
     "text": [
      "<class 'pandas.core.frame.DataFrame'>\n",
      "RangeIndex: 109610 entries, 0 to 109609\n",
      "Data columns (total 4 columns):\n",
      " #   Column        Non-Null Count   Dtype \n",
      "---  ------        --------------   ----- \n",
      " 0   id            109610 non-null  int64 \n",
      " 1   person_id     109610 non-null  int64 \n",
      " 2   instituition  109555 non-null  object\n",
      " 3   graduated_at  58054 non-null   object\n",
      "dtypes: int64(2), object(2)\n",
      "memory usage: 3.3+ MB\n"
     ]
    }
   ],
   "source": [
    "# Выводим информацию о датафрейме education_df на экран\n",
    "education_df.info()"
   ]
  },
  {
   "cell_type": "markdown",
   "metadata": {},
   "source": [
    "Датасет education.csv содержит 4 столбца и 109610 строк, в которых представлена информация об образовании сотрудника\n",
    "\n",
    "После первичного анализа данных можно сделать следующие выводы: Названия столбцов приведены к snake case. Пропуски наблюдаются в столбцах: instituition и graduated_at.\n",
    "\n",
    "Судя по первому знакомству с данными, значения в столбцах соответствуют своему описанию.\n",
    "\n",
    "Возможно понадобится привести данные столбца graduated_at к datetime."
   ]
  },
  {
   "cell_type": "code",
   "execution_count": 11,
   "metadata": {},
   "outputs": [
    {
     "data": {
      "text/html": [
       "<div>\n",
       "<style scoped>\n",
       "    .dataframe tbody tr th:only-of-type {\n",
       "        vertical-align: middle;\n",
       "    }\n",
       "\n",
       "    .dataframe tbody tr th {\n",
       "        vertical-align: top;\n",
       "    }\n",
       "\n",
       "    .dataframe thead th {\n",
       "        text-align: right;\n",
       "    }\n",
       "</style>\n",
       "<table border=\"1\" class=\"dataframe\">\n",
       "  <thead>\n",
       "    <tr style=\"text-align: right;\">\n",
       "      <th></th>\n",
       "      <th>id</th>\n",
       "      <th>name</th>\n",
       "      <th>founded_at</th>\n",
       "      <th>domain</th>\n",
       "      <th>network_username</th>\n",
       "      <th>country_code</th>\n",
       "      <th>investment_rounds</th>\n",
       "      <th>invested_companies</th>\n",
       "      <th>milestones</th>\n",
       "    </tr>\n",
       "  </thead>\n",
       "  <tbody>\n",
       "    <tr>\n",
       "      <th>0</th>\n",
       "      <td>13131</td>\n",
       "      <td>NaN</td>\n",
       "      <td>NaN</td>\n",
       "      <td>NaN</td>\n",
       "      <td>NaN</td>\n",
       "      <td>NaN</td>\n",
       "      <td>0</td>\n",
       "      <td>0</td>\n",
       "      <td>0</td>\n",
       "    </tr>\n",
       "    <tr>\n",
       "      <th>1</th>\n",
       "      <td>1</td>\n",
       "      <td>Greylock Partners</td>\n",
       "      <td>1965-01-01</td>\n",
       "      <td>greylock.com</td>\n",
       "      <td>greylockvc</td>\n",
       "      <td>USA</td>\n",
       "      <td>307</td>\n",
       "      <td>196</td>\n",
       "      <td>0</td>\n",
       "    </tr>\n",
       "    <tr>\n",
       "      <th>2</th>\n",
       "      <td>10</td>\n",
       "      <td>Mission Ventures</td>\n",
       "      <td>1996-01-01</td>\n",
       "      <td>missionventures.com</td>\n",
       "      <td>NaN</td>\n",
       "      <td>USA</td>\n",
       "      <td>58</td>\n",
       "      <td>33</td>\n",
       "      <td>0</td>\n",
       "    </tr>\n",
       "    <tr>\n",
       "      <th>3</th>\n",
       "      <td>100</td>\n",
       "      <td>Kapor Enterprises, Inc.</td>\n",
       "      <td>NaN</td>\n",
       "      <td>kei.com</td>\n",
       "      <td>NaN</td>\n",
       "      <td>USA</td>\n",
       "      <td>2</td>\n",
       "      <td>1</td>\n",
       "      <td>0</td>\n",
       "    </tr>\n",
       "    <tr>\n",
       "      <th>4</th>\n",
       "      <td>1000</td>\n",
       "      <td>Speed Ventures</td>\n",
       "      <td>NaN</td>\n",
       "      <td>NaN</td>\n",
       "      <td>NaN</td>\n",
       "      <td>NaN</td>\n",
       "      <td>0</td>\n",
       "      <td>0</td>\n",
       "      <td>1</td>\n",
       "    </tr>\n",
       "  </tbody>\n",
       "</table>\n",
       "</div>"
      ],
      "text/plain": [
       "      id                     name  founded_at               domain  \\\n",
       "0  13131                      NaN         NaN                  NaN   \n",
       "1      1        Greylock Partners  1965-01-01         greylock.com   \n",
       "2     10         Mission Ventures  1996-01-01  missionventures.com   \n",
       "3    100  Kapor Enterprises, Inc.         NaN              kei.com   \n",
       "4   1000           Speed Ventures         NaN                  NaN   \n",
       "\n",
       "  network_username country_code  investment_rounds  invested_companies  \\\n",
       "0              NaN          NaN                  0                   0   \n",
       "1       greylockvc          USA                307                 196   \n",
       "2              NaN          USA                 58                  33   \n",
       "3              NaN          USA                  2                   1   \n",
       "4              NaN          NaN                  0                   0   \n",
       "\n",
       "   milestones  \n",
       "0           0  \n",
       "1           0  \n",
       "2           0  \n",
       "3           0  \n",
       "4           1  "
      ]
     },
     "execution_count": 11,
     "metadata": {},
     "output_type": "execute_result"
    }
   ],
   "source": [
    "# Выводим первые строки о датафрейме fund_df на экран\n",
    "fund_df.head()"
   ]
  },
  {
   "cell_type": "code",
   "execution_count": 12,
   "metadata": {},
   "outputs": [
    {
     "name": "stdout",
     "output_type": "stream",
     "text": [
      "<class 'pandas.core.frame.DataFrame'>\n",
      "RangeIndex: 11652 entries, 0 to 11651\n",
      "Data columns (total 9 columns):\n",
      " #   Column              Non-Null Count  Dtype \n",
      "---  ------              --------------  ----- \n",
      " 0   id                  11652 non-null  int64 \n",
      " 1   name                11650 non-null  object\n",
      " 2   founded_at          4605 non-null   object\n",
      " 3   domain              7362 non-null   object\n",
      " 4   network_username    2149 non-null   object\n",
      " 5   country_code        7053 non-null   object\n",
      " 6   investment_rounds   11652 non-null  int64 \n",
      " 7   invested_companies  11652 non-null  int64 \n",
      " 8   milestones          11652 non-null  int64 \n",
      "dtypes: int64(4), object(5)\n",
      "memory usage: 819.4+ KB\n"
     ]
    }
   ],
   "source": [
    "# Выводим информацию о датафрейме fund_df на экран\n",
    "fund_df.info()"
   ]
  },
  {
   "cell_type": "markdown",
   "metadata": {},
   "source": [
    "Датасет fund.csv содержит 9 столбцов и 11652 строки, в которых представлена информация о фондах.\n",
    "\n",
    "После первичного анализа данных можно сделать следующие выводы: Названия столбцов приведены к snake case. Пропуски наблюдаются в столбцах: name, founded_at,  domain, network_username и country_code.\n",
    "\n",
    "Судя по первому знакомству с данными, значения в столбцах соответствуют своему описанию.\n",
    "\n",
    "Возможно понадобится привести данные столбца founded_at к datetime."
   ]
  },
  {
   "cell_type": "code",
   "execution_count": 13,
   "metadata": {},
   "outputs": [
    {
     "data": {
      "text/html": [
       "<div>\n",
       "<style scoped>\n",
       "    .dataframe tbody tr th:only-of-type {\n",
       "        vertical-align: middle;\n",
       "    }\n",
       "\n",
       "    .dataframe tbody tr th {\n",
       "        vertical-align: top;\n",
       "    }\n",
       "\n",
       "    .dataframe thead th {\n",
       "        text-align: right;\n",
       "    }\n",
       "</style>\n",
       "<table border=\"1\" class=\"dataframe\">\n",
       "  <thead>\n",
       "    <tr style=\"text-align: right;\">\n",
       "      <th></th>\n",
       "      <th>id</th>\n",
       "      <th>funding_round_id</th>\n",
       "      <th>company_id</th>\n",
       "      <th>fund_id</th>\n",
       "    </tr>\n",
       "  </thead>\n",
       "  <tbody>\n",
       "    <tr>\n",
       "      <th>0</th>\n",
       "      <td>1</td>\n",
       "      <td>1</td>\n",
       "      <td>4</td>\n",
       "      <td>1</td>\n",
       "    </tr>\n",
       "    <tr>\n",
       "      <th>1</th>\n",
       "      <td>2</td>\n",
       "      <td>1</td>\n",
       "      <td>4</td>\n",
       "      <td>2</td>\n",
       "    </tr>\n",
       "    <tr>\n",
       "      <th>2</th>\n",
       "      <td>3</td>\n",
       "      <td>3</td>\n",
       "      <td>5</td>\n",
       "      <td>4</td>\n",
       "    </tr>\n",
       "    <tr>\n",
       "      <th>3</th>\n",
       "      <td>4</td>\n",
       "      <td>4</td>\n",
       "      <td>5</td>\n",
       "      <td>1</td>\n",
       "    </tr>\n",
       "    <tr>\n",
       "      <th>4</th>\n",
       "      <td>5</td>\n",
       "      <td>4</td>\n",
       "      <td>5</td>\n",
       "      <td>5</td>\n",
       "    </tr>\n",
       "  </tbody>\n",
       "</table>\n",
       "</div>"
      ],
      "text/plain": [
       "   id  funding_round_id  company_id  fund_id\n",
       "0   1                 1           4        1\n",
       "1   2                 1           4        2\n",
       "2   3                 3           5        4\n",
       "3   4                 4           5        1\n",
       "4   5                 4           5        5"
      ]
     },
     "execution_count": 13,
     "metadata": {},
     "output_type": "execute_result"
    }
   ],
   "source": [
    "# Выводим первые строки о датафрейме investment_df на экран\n",
    "investment_df.head()"
   ]
  },
  {
   "cell_type": "code",
   "execution_count": 14,
   "metadata": {},
   "outputs": [
    {
     "name": "stdout",
     "output_type": "stream",
     "text": [
      "<class 'pandas.core.frame.DataFrame'>\n",
      "RangeIndex: 61403 entries, 0 to 61402\n",
      "Data columns (total 4 columns):\n",
      " #   Column            Non-Null Count  Dtype\n",
      "---  ------            --------------  -----\n",
      " 0   id                61403 non-null  int64\n",
      " 1   funding_round_id  61403 non-null  int64\n",
      " 2   company_id        61403 non-null  int64\n",
      " 3   fund_id           61403 non-null  int64\n",
      "dtypes: int64(4)\n",
      "memory usage: 1.9 MB\n"
     ]
    }
   ],
   "source": [
    "# Выводим информацию о датафрейме investment_df на экран\n",
    "investment_df.info()"
   ]
  },
  {
   "cell_type": "markdown",
   "metadata": {},
   "source": [
    "Датасет investment.csv содержит 4 столбца и 61403 строки, в которых представлена информация о фондах.\n",
    "\n",
    "После первичного анализа данных можно сделать следующие выводы: Названия столбцов приведены к snake case. Пропуски не наблюдаются.\n",
    "\n",
    "Судя по первому знакомству с данными, значения в столбцах соответствуют своему описанию.\n",
    "\n",
    "Типы данных корректные."
   ]
  },
  {
   "cell_type": "code",
   "execution_count": 15,
   "metadata": {},
   "outputs": [
    {
     "data": {
      "text/html": [
       "<div>\n",
       "<style scoped>\n",
       "    .dataframe tbody tr th:only-of-type {\n",
       "        vertical-align: middle;\n",
       "    }\n",
       "\n",
       "    .dataframe tbody tr th {\n",
       "        vertical-align: top;\n",
       "    }\n",
       "\n",
       "    .dataframe thead th {\n",
       "        text-align: right;\n",
       "    }\n",
       "</style>\n",
       "<table border=\"1\" class=\"dataframe\">\n",
       "  <thead>\n",
       "    <tr style=\"text-align: right;\">\n",
       "      <th></th>\n",
       "      <th>id</th>\n",
       "      <th>first_name</th>\n",
       "      <th>last_name</th>\n",
       "      <th>company_id</th>\n",
       "      <th>network_username</th>\n",
       "    </tr>\n",
       "  </thead>\n",
       "  <tbody>\n",
       "    <tr>\n",
       "      <th>0</th>\n",
       "      <td>10</td>\n",
       "      <td>Mark</td>\n",
       "      <td>Zuckerberg</td>\n",
       "      <td>5.0</td>\n",
       "      <td>NaN</td>\n",
       "    </tr>\n",
       "    <tr>\n",
       "      <th>1</th>\n",
       "      <td>100</td>\n",
       "      <td>Peter</td>\n",
       "      <td>Lester</td>\n",
       "      <td>27.0</td>\n",
       "      <td>NaN</td>\n",
       "    </tr>\n",
       "    <tr>\n",
       "      <th>2</th>\n",
       "      <td>1000</td>\n",
       "      <td>Dr. Steven</td>\n",
       "      <td>E. Saunders</td>\n",
       "      <td>292.0</td>\n",
       "      <td>NaN</td>\n",
       "    </tr>\n",
       "    <tr>\n",
       "      <th>3</th>\n",
       "      <td>10000</td>\n",
       "      <td>Neil</td>\n",
       "      <td>Capel</td>\n",
       "      <td>2526.0</td>\n",
       "      <td>NaN</td>\n",
       "    </tr>\n",
       "    <tr>\n",
       "      <th>4</th>\n",
       "      <td>100000</td>\n",
       "      <td>Sue</td>\n",
       "      <td>Pilsch</td>\n",
       "      <td>NaN</td>\n",
       "      <td>NaN</td>\n",
       "    </tr>\n",
       "  </tbody>\n",
       "</table>\n",
       "</div>"
      ],
      "text/plain": [
       "       id  first_name    last_name  company_id network_username\n",
       "0      10        Mark   Zuckerberg         5.0              NaN\n",
       "1     100       Peter       Lester        27.0              NaN\n",
       "2    1000  Dr. Steven  E. Saunders       292.0              NaN\n",
       "3   10000        Neil        Capel      2526.0              NaN\n",
       "4  100000         Sue       Pilsch         NaN              NaN"
      ]
     },
     "execution_count": 15,
     "metadata": {},
     "output_type": "execute_result"
    }
   ],
   "source": [
    "# Выводим первые строки о датафрейме people_df на экран\n",
    "people_df.head()"
   ]
  },
  {
   "cell_type": "code",
   "execution_count": 16,
   "metadata": {},
   "outputs": [
    {
     "name": "stdout",
     "output_type": "stream",
     "text": [
      "<class 'pandas.core.frame.DataFrame'>\n",
      "RangeIndex: 226709 entries, 0 to 226708\n",
      "Data columns (total 5 columns):\n",
      " #   Column            Non-Null Count   Dtype  \n",
      "---  ------            --------------   -----  \n",
      " 0   id                226709 non-null  int64  \n",
      " 1   first_name        226704 non-null  object \n",
      " 2   last_name         226708 non-null  object \n",
      " 3   company_id        34615 non-null   float64\n",
      " 4   network_username  38867 non-null   object \n",
      "dtypes: float64(1), int64(1), object(3)\n",
      "memory usage: 8.6+ MB\n"
     ]
    }
   ],
   "source": [
    "# Выводим информацию о датафрейме people_df на экран\n",
    "people_df.info()"
   ]
  },
  {
   "cell_type": "markdown",
   "metadata": {},
   "source": [
    "Датасет people.csv содержит 5 столбцов и 226709 строки, в которых представлена информация о сотрудниках.\n",
    "\n",
    "После первичного анализа данных можно сделать следующие выводы: Названия столбцов приведены к snake case. Пропуски наблюдаются в во всех столбцах, кроме id.\n",
    "\n",
    "Судя по первому знакомству с данными, значения в столбцах соответствуют своему описанию.\n",
    "\n",
    "Данные столбца company_id стоит привести к типу int64."
   ]
  },
  {
   "cell_type": "markdown",
   "metadata": {
    "id": "mg2gEwh0rJg0"
   },
   "source": [
    "### 1.2. Смена типов и анализ пропусков\n",
    "\n",
    "* Обработайте типы данных в столбцах, которые хранят значения даты и времени, если это необходимо."
   ]
  },
  {
   "cell_type": "markdown",
   "metadata": {},
   "source": [
    "\n",
    "* Оцените полноту данных — сделайте предварительный вывод, достаточно ли данных для решения задач проекта."
   ]
  },
  {
   "cell_type": "code",
   "execution_count": 17,
   "metadata": {},
   "outputs": [],
   "source": [
    "# датафрейм company_and_rounds_df содержит столбцы с одинаковым названием. \n",
    "# Для удобства дальнейшего анализа заменим название столбца company  id на 'company_id2'\n",
    "company_and_rounds_df = company_and_rounds_df.rename(columns = {'company  id':'company_id2'})"
   ]
  },
  {
   "cell_type": "code",
   "execution_count": 18,
   "metadata": {},
   "outputs": [],
   "source": [
    "# Приведем названия столбцов company_and_rounds_df к snake case\n",
    "def clean_column_name(column_name):\n",
    "    # Удаляем лишние пробелы в начале и конце\n",
    "    column_name = column_name.strip()\n",
    "    # Заменяем множественные пробелы на один\n",
    "    column_name = ' '.join(column_name.split())\n",
    "    # Заменяем оставшиеся пробелы на _\n",
    "    column_name = column_name.replace(' ', '_')\n",
    "    # Приводим к нижнему регистру\n",
    "    return column_name.lower()\n",
    "\n",
    "# Применяем функцию к названиям столбцов\n",
    "company_and_rounds_df.columns = [clean_column_name(col) for col in company_and_rounds_df.columns]"
   ]
  },
  {
   "cell_type": "code",
   "execution_count": 19,
   "metadata": {
    "id": "FsL0A8RBrJg1"
   },
   "outputs": [],
   "source": [
    "# Приведем к типу datetime столбцы содержащие дату во всех датафремах\n",
    "acquisition_df['acquired_at'] = pd.to_datetime(acquisition_df['acquired_at'])\n",
    "company_and_rounds_df['founded_at'] = pd.to_datetime(company_and_rounds_df['founded_at'])\n",
    "company_and_rounds_df['funded_at'] = pd.to_datetime(company_and_rounds_df['funded_at'])\n",
    "company_and_rounds_df['closed_at'] = pd.to_datetime(company_and_rounds_df['closed_at'])\n",
    "education_df['graduated_at'] = pd.to_datetime(education_df['graduated_at']) \n",
    "fund_df['founded_at'] = pd.to_datetime(fund_df['founded_at']) "
   ]
  },
  {
   "cell_type": "markdown",
   "metadata": {
    "id": "5Sg2O8zNnzKc"
   },
   "source": [
    "Данные в датафреймах имеют значительное количество пропусков, некоторые столбы с данными дублируются в датафремах. Более точно о качестве полученных данных можно будет сказаь после обработки пропусков, дубликатов и нормализации данных."
   ]
  },
  {
   "cell_type": "markdown",
   "metadata": {
    "id": "u60cHsn6rJg1"
   },
   "source": [
    "## Шаг 2. Предобработка данных, предварительное исследование"
   ]
  },
  {
   "cell_type": "markdown",
   "metadata": {
    "id": "g2bHIIjcrJg1"
   },
   "source": [
    "\n",
    "### 2.1. Раунды финансирования по годам\n",
    "\n",
    "Задание необходимо выполнить без объединения и дополнительной предобработки на основе датасета `company_and_rounds.csv`.\n",
    "\n",
    "* Составьте сводную таблицу по годам, в которой на основании столбца `raised_amount` для каждого года указан:\n",
    "\n",
    "  * типичный размер средств, выделяемый в рамках одного раунда;\n",
    "  * общее количество раундов финансирования за этот год.\n",
    "\n",
    "* Оставьте в таблице информацию только для тех лет, для которых есть информация о более чем 50 раундах финансирования.\n",
    "\n",
    "* На основе получившейся таблицы постройте график, который будет отражать динамику типичного размера средств, которые стартапы получали в рамках одного раунда финансирования.\n",
    "\n",
    "На основе полученных данных ответьте на вопросы:\n",
    "\n",
    "* В каком году типичный размер собранных в рамках одного раунда средств был максимален?\n",
    "\n",
    "* Какая тенденция по количеству раундов и выделяемых в рамках каждого раунда средств наблюдалась в 2013 году?"
   ]
  },
  {
   "cell_type": "code",
   "execution_count": 20,
   "metadata": {
    "id": "HB81GTA9n04M"
   },
   "outputs": [
    {
     "data": {
      "text/html": [
       "<div>\n",
       "<style scoped>\n",
       "    .dataframe tbody tr th:only-of-type {\n",
       "        vertical-align: middle;\n",
       "    }\n",
       "\n",
       "    .dataframe tbody tr th {\n",
       "        vertical-align: top;\n",
       "    }\n",
       "\n",
       "    .dataframe thead th {\n",
       "        text-align: right;\n",
       "    }\n",
       "</style>\n",
       "<table border=\"1\" class=\"dataframe\">\n",
       "  <thead>\n",
       "    <tr style=\"text-align: right;\">\n",
       "      <th></th>\n",
       "      <th>funded_year</th>\n",
       "      <th>typical_funding</th>\n",
       "      <th>total_rounds</th>\n",
       "    </tr>\n",
       "  </thead>\n",
       "  <tbody>\n",
       "    <tr>\n",
       "      <th>15</th>\n",
       "      <td>1999.0</td>\n",
       "      <td>2000000.0</td>\n",
       "      <td>76</td>\n",
       "    </tr>\n",
       "    <tr>\n",
       "      <th>16</th>\n",
       "      <td>2000.0</td>\n",
       "      <td>4200000.0</td>\n",
       "      <td>125</td>\n",
       "    </tr>\n",
       "    <tr>\n",
       "      <th>17</th>\n",
       "      <td>2001.0</td>\n",
       "      <td>3000000.0</td>\n",
       "      <td>96</td>\n",
       "    </tr>\n",
       "    <tr>\n",
       "      <th>18</th>\n",
       "      <td>2002.0</td>\n",
       "      <td>4200000.0</td>\n",
       "      <td>116</td>\n",
       "    </tr>\n",
       "    <tr>\n",
       "      <th>19</th>\n",
       "      <td>2003.0</td>\n",
       "      <td>3000000.0</td>\n",
       "      <td>159</td>\n",
       "    </tr>\n",
       "    <tr>\n",
       "      <th>20</th>\n",
       "      <td>2004.0</td>\n",
       "      <td>5000000.0</td>\n",
       "      <td>291</td>\n",
       "    </tr>\n",
       "    <tr>\n",
       "      <th>21</th>\n",
       "      <td>2005.0</td>\n",
       "      <td>5500000.0</td>\n",
       "      <td>1633</td>\n",
       "    </tr>\n",
       "    <tr>\n",
       "      <th>22</th>\n",
       "      <td>2006.0</td>\n",
       "      <td>5000000.0</td>\n",
       "      <td>2436</td>\n",
       "    </tr>\n",
       "    <tr>\n",
       "      <th>23</th>\n",
       "      <td>2007.0</td>\n",
       "      <td>3973320.0</td>\n",
       "      <td>3279</td>\n",
       "    </tr>\n",
       "    <tr>\n",
       "      <th>24</th>\n",
       "      <td>2008.0</td>\n",
       "      <td>3110000.0</td>\n",
       "      <td>3774</td>\n",
       "    </tr>\n",
       "    <tr>\n",
       "      <th>25</th>\n",
       "      <td>2009.0</td>\n",
       "      <td>2000000.0</td>\n",
       "      <td>4151</td>\n",
       "    </tr>\n",
       "    <tr>\n",
       "      <th>26</th>\n",
       "      <td>2010.0</td>\n",
       "      <td>1602500.0</td>\n",
       "      <td>6221</td>\n",
       "    </tr>\n",
       "    <tr>\n",
       "      <th>27</th>\n",
       "      <td>2011.0</td>\n",
       "      <td>1200000.0</td>\n",
       "      <td>9204</td>\n",
       "    </tr>\n",
       "    <tr>\n",
       "      <th>28</th>\n",
       "      <td>2012.0</td>\n",
       "      <td>1000000.0</td>\n",
       "      <td>9970</td>\n",
       "    </tr>\n",
       "    <tr>\n",
       "      <th>29</th>\n",
       "      <td>2013.0</td>\n",
       "      <td>1200000.0</td>\n",
       "      <td>11072</td>\n",
       "    </tr>\n",
       "  </tbody>\n",
       "</table>\n",
       "</div>"
      ],
      "text/plain": [
       "    funded_year  typical_funding  total_rounds\n",
       "15       1999.0        2000000.0            76\n",
       "16       2000.0        4200000.0           125\n",
       "17       2001.0        3000000.0            96\n",
       "18       2002.0        4200000.0           116\n",
       "19       2003.0        3000000.0           159\n",
       "20       2004.0        5000000.0           291\n",
       "21       2005.0        5500000.0          1633\n",
       "22       2006.0        5000000.0          2436\n",
       "23       2007.0        3973320.0          3279\n",
       "24       2008.0        3110000.0          3774\n",
       "25       2009.0        2000000.0          4151\n",
       "26       2010.0        1602500.0          6221\n",
       "27       2011.0        1200000.0          9204\n",
       "28       2012.0        1000000.0          9970\n",
       "29       2013.0        1200000.0         11072"
      ]
     },
     "execution_count": 20,
     "metadata": {},
     "output_type": "execute_result"
    }
   ],
   "source": [
    "# Преобразуем дату в год \n",
    "company_and_rounds_df['funded_year'] = pd.to_datetime(company_and_rounds_df['funded_at']).dt.year\n",
    "\n",
    "pivot_df = company_and_rounds_df.groupby('funded_year').agg(\n",
    "    typical_funding=('raised_amount', 'median'),  # Медианный размер раунда\n",
    "    total_rounds=('raised_amount', 'count')     # Количество раундов\n",
    ").reset_index()\n",
    "\n",
    "filtered_df = pivot_df[pivot_df['total_rounds'] > 50]\n",
    "filtered_df"
   ]
  },
  {
   "cell_type": "code",
   "execution_count": 21,
   "metadata": {},
   "outputs": [
    {
     "data": {
      "image/png": "[encoded data removed]",
      "text/plain": [
       "<Figure size 720x432 with 1 Axes>"
      ]
     },
     "metadata": {},
     "output_type": "display_data"
    }
   ],
   "source": [
    "sns.set(style=\"whitegrid\")\n",
    "\n",
    "# Создаем график\n",
    "plt.figure(figsize=(10, 6))  # Размер графика\n",
    "sns.lineplot(data=filtered_df, x='funded_year', y='typical_funding', marker='o', color='b')\n",
    "\n",
    "# Добавляем подписи\n",
    "plt.title('Динамика типичного размера финансирования на раунд по годам')\n",
    "plt.xlabel('Год')\n",
    "plt.ylabel('Типичный размер финансирования')\n",
    "\n",
    "# Отображаем сетку\n",
    "plt.grid(True)\n",
    "\n",
    "# Показываем график\n",
    "plt.show()"
   ]
  },
  {
   "cell_type": "markdown",
   "metadata": {},
   "source": [
    "Вывод:\n",
    "Типичный размер собранных в рамках одного раунда средств был максимален в 2005 году.\n",
    "Наблюдается тендеция к увеличению количества раундов. В 2013 году количество раундов составило - 11072 раунда. \n",
    "Количество средств выделяемых в рамках каждого раунда выросло, по сравнению с показателем 2012 года. По состоянию на 2013 год наблюдается тендеция к увеличению количества выделяемых в рамках каждого раунда средств."
   ]
  },
  {
   "cell_type": "markdown",
   "metadata": {
    "id": "45if1en1rJg2"
   },
   "source": [
    "\n",
    "### 2.2. Люди и их образование\n",
    "\n",
    "Заказчик хочет понять, зависит ли полнота сведений о сотрудниках (например, об их образовании) от размера компаний.\n",
    "\n",
    "* Оцените, насколько информация об образовании сотрудников полна. Используя датасеты `people.csv` и `education.csv`, разделите все компании на несколько групп по количеству сотрудников и оцените среднюю долю сотрудников без информации об образовании в каждой из групп. Обоснуйте выбранные границы групп.\n",
    "\n",
    "* Оцените, возможно ли для выполнения задания присоединить к этим таблицам ещё и таблицу `degrees.csv`."
   ]
  },
  {
   "cell_type": "code",
   "execution_count": 23,
   "metadata": {
    "id": "psPO7C4MrJg2"
   },
   "outputs": [
    {
     "data": {
      "text/html": [
       "<div>\n",
       "<style scoped>\n",
       "    .dataframe tbody tr th:only-of-type {\n",
       "        vertical-align: middle;\n",
       "    }\n",
       "\n",
       "    .dataframe tbody tr th {\n",
       "        vertical-align: top;\n",
       "    }\n",
       "\n",
       "    .dataframe thead th {\n",
       "        text-align: right;\n",
       "    }\n",
       "</style>\n",
       "<table border=\"1\" class=\"dataframe\">\n",
       "  <thead>\n",
       "    <tr style=\"text-align: right;\">\n",
       "      <th></th>\n",
       "      <th>employee_id</th>\n",
       "      <th>first_name</th>\n",
       "      <th>last_name</th>\n",
       "      <th>company_id</th>\n",
       "      <th>network_username</th>\n",
       "      <th>id</th>\n",
       "      <th>person_id</th>\n",
       "      <th>instituition</th>\n",
       "      <th>graduated_at</th>\n",
       "    </tr>\n",
       "  </thead>\n",
       "  <tbody>\n",
       "    <tr>\n",
       "      <th>0</th>\n",
       "      <td>10</td>\n",
       "      <td>Mark</td>\n",
       "      <td>Zuckerberg</td>\n",
       "      <td>5.0</td>\n",
       "      <td>NaN</td>\n",
       "      <td>2415.0</td>\n",
       "      <td>10.0</td>\n",
       "      <td>Harvard University</td>\n",
       "      <td>NaT</td>\n",
       "    </tr>\n",
       "    <tr>\n",
       "      <th>1</th>\n",
       "      <td>100</td>\n",
       "      <td>Peter</td>\n",
       "      <td>Lester</td>\n",
       "      <td>27.0</td>\n",
       "      <td>NaN</td>\n",
       "      <td>NaN</td>\n",
       "      <td>NaN</td>\n",
       "      <td>NaN</td>\n",
       "      <td>NaT</td>\n",
       "    </tr>\n",
       "    <tr>\n",
       "      <th>2</th>\n",
       "      <td>1000</td>\n",
       "      <td>Dr. Steven</td>\n",
       "      <td>E. Saunders</td>\n",
       "      <td>292.0</td>\n",
       "      <td>NaN</td>\n",
       "      <td>NaN</td>\n",
       "      <td>NaN</td>\n",
       "      <td>NaN</td>\n",
       "      <td>NaT</td>\n",
       "    </tr>\n",
       "    <tr>\n",
       "      <th>3</th>\n",
       "      <td>10000</td>\n",
       "      <td>Neil</td>\n",
       "      <td>Capel</td>\n",
       "      <td>2526.0</td>\n",
       "      <td>NaN</td>\n",
       "      <td>NaN</td>\n",
       "      <td>NaN</td>\n",
       "      <td>NaN</td>\n",
       "      <td>NaT</td>\n",
       "    </tr>\n",
       "    <tr>\n",
       "      <th>4</th>\n",
       "      <td>100000</td>\n",
       "      <td>Sue</td>\n",
       "      <td>Pilsch</td>\n",
       "      <td>NaN</td>\n",
       "      <td>NaN</td>\n",
       "      <td>NaN</td>\n",
       "      <td>NaN</td>\n",
       "      <td>NaN</td>\n",
       "      <td>NaT</td>\n",
       "    </tr>\n",
       "    <tr>\n",
       "      <th>...</th>\n",
       "      <td>...</td>\n",
       "      <td>...</td>\n",
       "      <td>...</td>\n",
       "      <td>...</td>\n",
       "      <td>...</td>\n",
       "      <td>...</td>\n",
       "      <td>...</td>\n",
       "      <td>...</td>\n",
       "      <td>...</td>\n",
       "    </tr>\n",
       "    <tr>\n",
       "      <th>267689</th>\n",
       "      <td>99999</td>\n",
       "      <td>Ramon</td>\n",
       "      <td>Peypoch</td>\n",
       "      <td>NaN</td>\n",
       "      <td>NaN</td>\n",
       "      <td>NaN</td>\n",
       "      <td>NaN</td>\n",
       "      <td>NaN</td>\n",
       "      <td>NaT</td>\n",
       "    </tr>\n",
       "    <tr>\n",
       "      <th>267690</th>\n",
       "      <td>174088</td>\n",
       "      <td>Dr. Ray</td>\n",
       "      <td>Woods</td>\n",
       "      <td>188200.0</td>\n",
       "      <td>network</td>\n",
       "      <td>25958.0</td>\n",
       "      <td>174088.0</td>\n",
       "      <td>Sydney University Medical School</td>\n",
       "      <td>1982-01-01</td>\n",
       "    </tr>\n",
       "    <tr>\n",
       "      <th>267691</th>\n",
       "      <td>118386</td>\n",
       "      <td>Ricardo</td>\n",
       "      <td>Durand</td>\n",
       "      <td>143419.0</td>\n",
       "      <td>itechsocialnet</td>\n",
       "      <td>18871.0</td>\n",
       "      <td>118386.0</td>\n",
       "      <td>ESCS</td>\n",
       "      <td>2004-01-01</td>\n",
       "    </tr>\n",
       "    <tr>\n",
       "      <th>267692</th>\n",
       "      <td>175827</td>\n",
       "      <td>mahesh</td>\n",
       "      <td>kumar</td>\n",
       "      <td>NaN</td>\n",
       "      <td>socialnethubs</td>\n",
       "      <td>NaN</td>\n",
       "      <td>NaN</td>\n",
       "      <td>NaN</td>\n",
       "      <td>NaT</td>\n",
       "    </tr>\n",
       "    <tr>\n",
       "      <th>267693</th>\n",
       "      <td>178190</td>\n",
       "      <td>Alex</td>\n",
       "      <td>Smith</td>\n",
       "      <td>NaN</td>\n",
       "      <td>esocialnetlike</td>\n",
       "      <td>NaN</td>\n",
       "      <td>NaN</td>\n",
       "      <td>NaN</td>\n",
       "      <td>NaT</td>\n",
       "    </tr>\n",
       "  </tbody>\n",
       "</table>\n",
       "<p>267694 rows × 9 columns</p>\n",
       "</div>"
      ],
      "text/plain": [
       "        employee_id  first_name    last_name  company_id network_username  \\\n",
       "0                10        Mark   Zuckerberg         5.0              NaN   \n",
       "1               100       Peter       Lester        27.0              NaN   \n",
       "2              1000  Dr. Steven  E. Saunders       292.0              NaN   \n",
       "3             10000        Neil        Capel      2526.0              NaN   \n",
       "4            100000         Sue       Pilsch         NaN              NaN   \n",
       "...             ...         ...          ...         ...              ...   \n",
       "267689        99999       Ramon      Peypoch         NaN              NaN   \n",
       "267690       174088     Dr. Ray        Woods    188200.0          network   \n",
       "267691       118386     Ricardo       Durand    143419.0   itechsocialnet   \n",
       "267692       175827      mahesh        kumar         NaN    socialnethubs   \n",
       "267693       178190        Alex        Smith         NaN   esocialnetlike   \n",
       "\n",
       "             id  person_id                      instituition graduated_at  \n",
       "0        2415.0       10.0                Harvard University          NaT  \n",
       "1           NaN        NaN                               NaN          NaT  \n",
       "2           NaN        NaN                               NaN          NaT  \n",
       "3           NaN        NaN                               NaN          NaT  \n",
       "4           NaN        NaN                               NaN          NaT  \n",
       "...         ...        ...                               ...          ...  \n",
       "267689      NaN        NaN                               NaN          NaT  \n",
       "267690  25958.0   174088.0  Sydney University Medical School   1982-01-01  \n",
       "267691  18871.0   118386.0                              ESCS   2004-01-01  \n",
       "267692      NaN        NaN                               NaN          NaT  \n",
       "267693      NaN        NaN                               NaN          NaT  \n",
       "\n",
       "[267694 rows x 9 columns]"
      ]
     },
     "execution_count": 23,
     "metadata": {},
     "output_type": "execute_result"
    }
   ],
   "source": [
    "people_df = people_df.rename(columns = {'id':'employee_id'})\n",
    "df_merged = pd.merge(people_df, education_df, left_on = 'employee_id', right_on = 'person_id', how = 'left')\n",
    "df_merged"
   ]
  },
  {
   "cell_type": "code",
   "execution_count": 24,
   "metadata": {},
   "outputs": [
    {
     "data": {
      "text/html": [
       "<div>\n",
       "<style scoped>\n",
       "    .dataframe tbody tr th:only-of-type {\n",
       "        vertical-align: middle;\n",
       "    }\n",
       "\n",
       "    .dataframe tbody tr th {\n",
       "        vertical-align: top;\n",
       "    }\n",
       "\n",
       "    .dataframe thead th {\n",
       "        text-align: right;\n",
       "    }\n",
       "</style>\n",
       "<table border=\"1\" class=\"dataframe\">\n",
       "  <thead>\n",
       "    <tr style=\"text-align: right;\">\n",
       "      <th></th>\n",
       "      <th>employee_id</th>\n",
       "      <th>first_name</th>\n",
       "      <th>last_name</th>\n",
       "      <th>company_id</th>\n",
       "      <th>network_username</th>\n",
       "      <th>id</th>\n",
       "      <th>person_id</th>\n",
       "      <th>instituition</th>\n",
       "      <th>graduated_at</th>\n",
       "      <th>education_filled</th>\n",
       "    </tr>\n",
       "  </thead>\n",
       "  <tbody>\n",
       "    <tr>\n",
       "      <th>191140</th>\n",
       "      <td>3</td>\n",
       "      <td>Kevin</td>\n",
       "      <td>Flaherty</td>\n",
       "      <td>1.0</td>\n",
       "      <td>NaN</td>\n",
       "      <td>707.0</td>\n",
       "      <td>3.0</td>\n",
       "      <td>Indiana University</td>\n",
       "      <td>NaT</td>\n",
       "      <td>False</td>\n",
       "    </tr>\n",
       "    <tr>\n",
       "      <th>191139</th>\n",
       "      <td>3</td>\n",
       "      <td>Kevin</td>\n",
       "      <td>Flaherty</td>\n",
       "      <td>1.0</td>\n",
       "      <td>NaN</td>\n",
       "      <td>706.0</td>\n",
       "      <td>3.0</td>\n",
       "      <td>Washington University in St Louis</td>\n",
       "      <td>NaT</td>\n",
       "      <td>False</td>\n",
       "    </tr>\n",
       "    <tr>\n",
       "      <th>4393</th>\n",
       "      <td>104800</td>\n",
       "      <td>Alex</td>\n",
       "      <td>Weinstein</td>\n",
       "      <td>1.0</td>\n",
       "      <td>alexweinstein</td>\n",
       "      <td>NaN</td>\n",
       "      <td>NaN</td>\n",
       "      <td>NaN</td>\n",
       "      <td>NaT</td>\n",
       "      <td>False</td>\n",
       "    </tr>\n",
       "    <tr>\n",
       "      <th>265175</th>\n",
       "      <td>9729</td>\n",
       "      <td>Bharath</td>\n",
       "      <td>Balasubramanian</td>\n",
       "      <td>2.0</td>\n",
       "      <td>spinfree</td>\n",
       "      <td>594.0</td>\n",
       "      <td>9729.0</td>\n",
       "      <td>Tamilnadu College of engineering</td>\n",
       "      <td>1998-01-01</td>\n",
       "      <td>True</td>\n",
       "    </tr>\n",
       "    <tr>\n",
       "      <th>230712</th>\n",
       "      <td>6456</td>\n",
       "      <td>Sridhar</td>\n",
       "      <td>Vembu</td>\n",
       "      <td>3.0</td>\n",
       "      <td>NaN</td>\n",
       "      <td>43581.0</td>\n",
       "      <td>6456.0</td>\n",
       "      <td>Indian Institute of Technology, Madras</td>\n",
       "      <td>1989-01-01</td>\n",
       "      <td>True</td>\n",
       "    </tr>\n",
       "    <tr>\n",
       "      <th>230713</th>\n",
       "      <td>6456</td>\n",
       "      <td>Sridhar</td>\n",
       "      <td>Vembu</td>\n",
       "      <td>3.0</td>\n",
       "      <td>NaN</td>\n",
       "      <td>43582.0</td>\n",
       "      <td>6456.0</td>\n",
       "      <td>Princeton University</td>\n",
       "      <td>NaT</td>\n",
       "      <td>False</td>\n",
       "    </tr>\n",
       "    <tr>\n",
       "      <th>214177</th>\n",
       "      <td>5</td>\n",
       "      <td>Ian</td>\n",
       "      <td>Wenig</td>\n",
       "      <td>3.0</td>\n",
       "      <td>NaN</td>\n",
       "      <td>47871.0</td>\n",
       "      <td>5.0</td>\n",
       "      <td>McGill University</td>\n",
       "      <td>1986-01-01</td>\n",
       "      <td>True</td>\n",
       "    </tr>\n",
       "    <tr>\n",
       "      <th>202670</th>\n",
       "      <td>4</td>\n",
       "      <td>Raju</td>\n",
       "      <td>Vegesna</td>\n",
       "      <td>3.0</td>\n",
       "      <td>NaN</td>\n",
       "      <td>NaN</td>\n",
       "      <td>NaN</td>\n",
       "      <td>NaN</td>\n",
       "      <td>NaT</td>\n",
       "      <td>False</td>\n",
       "    </tr>\n",
       "    <tr>\n",
       "      <th>214176</th>\n",
       "      <td>5</td>\n",
       "      <td>Ian</td>\n",
       "      <td>Wenig</td>\n",
       "      <td>3.0</td>\n",
       "      <td>NaN</td>\n",
       "      <td>47870.0</td>\n",
       "      <td>5.0</td>\n",
       "      <td>The Aji Network</td>\n",
       "      <td>2005-01-01</td>\n",
       "      <td>True</td>\n",
       "    </tr>\n",
       "    <tr>\n",
       "      <th>192123</th>\n",
       "      <td>30923</td>\n",
       "      <td>Bob</td>\n",
       "      <td>Buch</td>\n",
       "      <td>4.0</td>\n",
       "      <td>bobbuch</td>\n",
       "      <td>58868.0</td>\n",
       "      <td>30923.0</td>\n",
       "      <td>University of California, Los Angeles (UCLA)</td>\n",
       "      <td>NaT</td>\n",
       "      <td>False</td>\n",
       "    </tr>\n",
       "    <tr>\n",
       "      <th>195932</th>\n",
       "      <td>34275</td>\n",
       "      <td>Mike</td>\n",
       "      <td>Maser</td>\n",
       "      <td>4.0</td>\n",
       "      <td>mmaser</td>\n",
       "      <td>24462.0</td>\n",
       "      <td>34275.0</td>\n",
       "      <td>UNC Chapel Hill</td>\n",
       "      <td>1997-01-01</td>\n",
       "      <td>True</td>\n",
       "    </tr>\n",
       "    <tr>\n",
       "      <th>248157</th>\n",
       "      <td>8</td>\n",
       "      <td>Owen</td>\n",
       "      <td>Byrne</td>\n",
       "      <td>4.0</td>\n",
       "      <td>owenbyrne</td>\n",
       "      <td>1027.0</td>\n",
       "      <td>8.0</td>\n",
       "      <td>Saint Mary's (Canada)</td>\n",
       "      <td>1986-01-01</td>\n",
       "      <td>True</td>\n",
       "    </tr>\n",
       "  </tbody>\n",
       "</table>\n",
       "</div>"
      ],
      "text/plain": [
       "        employee_id first_name        last_name  company_id network_username  \\\n",
       "191140            3      Kevin         Flaherty         1.0              NaN   \n",
       "191139            3      Kevin         Flaherty         1.0              NaN   \n",
       "4393         104800       Alex        Weinstein         1.0    alexweinstein   \n",
       "265175         9729    Bharath  Balasubramanian         2.0         spinfree   \n",
       "230712         6456    Sridhar            Vembu         3.0              NaN   \n",
       "230713         6456    Sridhar            Vembu         3.0              NaN   \n",
       "214177            5        Ian            Wenig         3.0              NaN   \n",
       "202670            4       Raju          Vegesna         3.0              NaN   \n",
       "214176            5        Ian            Wenig         3.0              NaN   \n",
       "192123        30923        Bob             Buch         4.0          bobbuch   \n",
       "195932        34275       Mike            Maser         4.0           mmaser   \n",
       "248157            8       Owen            Byrne         4.0        owenbyrne   \n",
       "\n",
       "             id  person_id                                  instituition  \\\n",
       "191140    707.0        3.0                            Indiana University   \n",
       "191139    706.0        3.0             Washington University in St Louis   \n",
       "4393        NaN        NaN                                           NaN   \n",
       "265175    594.0     9729.0              Tamilnadu College of engineering   \n",
       "230712  43581.0     6456.0        Indian Institute of Technology, Madras   \n",
       "230713  43582.0     6456.0                          Princeton University   \n",
       "214177  47871.0        5.0                             McGill University   \n",
       "202670      NaN        NaN                                           NaN   \n",
       "214176  47870.0        5.0                               The Aji Network   \n",
       "192123  58868.0    30923.0  University of California, Los Angeles (UCLA)   \n",
       "195932  24462.0    34275.0                               UNC Chapel Hill   \n",
       "248157   1027.0        8.0                         Saint Mary's (Canada)   \n",
       "\n",
       "       graduated_at  education_filled  \n",
       "191140          NaT             False  \n",
       "191139          NaT             False  \n",
       "4393            NaT             False  \n",
       "265175   1998-01-01              True  \n",
       "230712   1989-01-01              True  \n",
       "230713          NaT             False  \n",
       "214177   1986-01-01              True  \n",
       "202670          NaT             False  \n",
       "214176   2005-01-01              True  \n",
       "192123          NaT             False  \n",
       "195932   1997-01-01              True  \n",
       "248157   1986-01-01              True  "
      ]
     },
     "execution_count": 24,
     "metadata": {},
     "output_type": "execute_result"
    }
   ],
   "source": [
    "df_merged['education_filled'] = df_merged['graduated_at'].notna()\n",
    "df_merged.sort_values(by = 'company_id').head(12)"
   ]
  },
  {
   "cell_type": "code",
   "execution_count": 25,
   "metadata": {
    "id": "xdQ6H5ZSn1ZM"
   },
   "outputs": [
    {
     "data": {
      "text/html": [
       "<div>\n",
       "<style scoped>\n",
       "    .dataframe tbody tr th:only-of-type {\n",
       "        vertical-align: middle;\n",
       "    }\n",
       "\n",
       "    .dataframe tbody tr th {\n",
       "        vertical-align: top;\n",
       "    }\n",
       "\n",
       "    .dataframe thead th {\n",
       "        text-align: right;\n",
       "    }\n",
       "</style>\n",
       "<table border=\"1\" class=\"dataframe\">\n",
       "  <thead>\n",
       "    <tr style=\"text-align: right;\">\n",
       "      <th></th>\n",
       "      <th>company_id</th>\n",
       "      <th>total_employees</th>\n",
       "      <th>no_education_count</th>\n",
       "      <th>no_education_ratio</th>\n",
       "    </tr>\n",
       "  </thead>\n",
       "  <tbody>\n",
       "    <tr>\n",
       "      <th>0</th>\n",
       "      <td>1.0</td>\n",
       "      <td>2</td>\n",
       "      <td>2</td>\n",
       "      <td>1.000000</td>\n",
       "    </tr>\n",
       "    <tr>\n",
       "      <th>1</th>\n",
       "      <td>2.0</td>\n",
       "      <td>1</td>\n",
       "      <td>0</td>\n",
       "      <td>0.000000</td>\n",
       "    </tr>\n",
       "    <tr>\n",
       "      <th>2</th>\n",
       "      <td>3.0</td>\n",
       "      <td>3</td>\n",
       "      <td>1</td>\n",
       "      <td>0.333333</td>\n",
       "    </tr>\n",
       "    <tr>\n",
       "      <th>3</th>\n",
       "      <td>4.0</td>\n",
       "      <td>13</td>\n",
       "      <td>3</td>\n",
       "      <td>0.230769</td>\n",
       "    </tr>\n",
       "    <tr>\n",
       "      <th>4</th>\n",
       "      <td>5.0</td>\n",
       "      <td>61</td>\n",
       "      <td>37</td>\n",
       "      <td>0.606557</td>\n",
       "    </tr>\n",
       "    <tr>\n",
       "      <th>...</th>\n",
       "      <td>...</td>\n",
       "      <td>...</td>\n",
       "      <td>...</td>\n",
       "      <td>...</td>\n",
       "    </tr>\n",
       "    <tr>\n",
       "      <th>22916</th>\n",
       "      <td>285897.0</td>\n",
       "      <td>2</td>\n",
       "      <td>1</td>\n",
       "      <td>0.500000</td>\n",
       "    </tr>\n",
       "    <tr>\n",
       "      <th>22917</th>\n",
       "      <td>285953.0</td>\n",
       "      <td>1</td>\n",
       "      <td>1</td>\n",
       "      <td>1.000000</td>\n",
       "    </tr>\n",
       "    <tr>\n",
       "      <th>22918</th>\n",
       "      <td>285972.0</td>\n",
       "      <td>2</td>\n",
       "      <td>2</td>\n",
       "      <td>1.000000</td>\n",
       "    </tr>\n",
       "    <tr>\n",
       "      <th>22919</th>\n",
       "      <td>285996.0</td>\n",
       "      <td>1</td>\n",
       "      <td>1</td>\n",
       "      <td>1.000000</td>\n",
       "    </tr>\n",
       "    <tr>\n",
       "      <th>22920</th>\n",
       "      <td>286091.0</td>\n",
       "      <td>6</td>\n",
       "      <td>4</td>\n",
       "      <td>0.666667</td>\n",
       "    </tr>\n",
       "  </tbody>\n",
       "</table>\n",
       "<p>22921 rows × 4 columns</p>\n",
       "</div>"
      ],
      "text/plain": [
       "       company_id  total_employees  no_education_count  no_education_ratio\n",
       "0             1.0                2                   2            1.000000\n",
       "1             2.0                1                   0            0.000000\n",
       "2             3.0                3                   1            0.333333\n",
       "3             4.0               13                   3            0.230769\n",
       "4             5.0               61                  37            0.606557\n",
       "...           ...              ...                 ...                 ...\n",
       "22916    285897.0                2                   1            0.500000\n",
       "22917    285953.0                1                   1            1.000000\n",
       "22918    285972.0                2                   2            1.000000\n",
       "22919    285996.0                1                   1            1.000000\n",
       "22920    286091.0                6                   4            0.666667\n",
       "\n",
       "[22921 rows x 4 columns]"
      ]
     },
     "metadata": {},
     "output_type": "display_data"
    }
   ],
   "source": [
    "df_unique = df_merged.drop_duplicates(subset=['employee_id'])\n",
    "\n",
    "# Группируем по company_id и считаем количество сотрудников без образования\n",
    "df_grouped = df_unique.groupby('company_id').agg(\n",
    "    total_employees=('employee_id', 'size'),  # Общее количество сотрудников в компании\n",
    "    no_education_count=('education_filled', lambda x: (x == False).sum())  # Количество сотрудников без образования\n",
    ").reset_index()\n",
    "\n",
    "# Рассчитываем долю сотрудников без образования\n",
    "df_grouped['no_education_ratio'] = df_grouped['no_education_count'] / df_grouped['total_employees']\n",
    "\n",
    "# Выводим результат\n",
    "display(df_grouped)"
   ]
  },
  {
   "cell_type": "code",
   "execution_count": 27,
   "metadata": {},
   "outputs": [
    {
     "data": {
      "text/html": [
       "<div>\n",
       "<style scoped>\n",
       "    .dataframe tbody tr th:only-of-type {\n",
       "        vertical-align: middle;\n",
       "    }\n",
       "\n",
       "    .dataframe tbody tr th {\n",
       "        vertical-align: top;\n",
       "    }\n",
       "\n",
       "    .dataframe thead th {\n",
       "        text-align: right;\n",
       "    }\n",
       "</style>\n",
       "<table border=\"1\" class=\"dataframe\">\n",
       "  <thead>\n",
       "    <tr style=\"text-align: right;\">\n",
       "      <th></th>\n",
       "      <th>Размер компании</th>\n",
       "      <th>Средняя доля сотрудников без образования</th>\n",
       "    </tr>\n",
       "  </thead>\n",
       "  <tbody>\n",
       "    <tr>\n",
       "      <th>0</th>\n",
       "      <td>1</td>\n",
       "      <td>0.572201</td>\n",
       "    </tr>\n",
       "    <tr>\n",
       "      <th>1</th>\n",
       "      <td>2</td>\n",
       "      <td>0.597268</td>\n",
       "    </tr>\n",
       "    <tr>\n",
       "      <th>2</th>\n",
       "      <td>3</td>\n",
       "      <td>0.636989</td>\n",
       "    </tr>\n",
       "    <tr>\n",
       "      <th>3</th>\n",
       "      <td>4-5</td>\n",
       "      <td>0.655968</td>\n",
       "    </tr>\n",
       "    <tr>\n",
       "      <th>4</th>\n",
       "      <td>6-10</td>\n",
       "      <td>0.701020</td>\n",
       "    </tr>\n",
       "    <tr>\n",
       "      <th>5</th>\n",
       "      <td>11-25</td>\n",
       "      <td>0.688615</td>\n",
       "    </tr>\n",
       "    <tr>\n",
       "      <th>6</th>\n",
       "      <td>26+</td>\n",
       "      <td>0.572953</td>\n",
       "    </tr>\n",
       "  </tbody>\n",
       "</table>\n",
       "</div>"
      ],
      "text/plain": [
       "  Размер компании  Средняя доля сотрудников без образования\n",
       "0               1                                  0.572201\n",
       "1               2                                  0.597268\n",
       "2               3                                  0.636989\n",
       "3             4-5                                  0.655968\n",
       "4            6-10                                  0.701020\n",
       "5           11-25                                  0.688615\n",
       "6             26+                                  0.572953"
      ]
     },
     "metadata": {},
     "output_type": "display_data"
    }
   ],
   "source": [
    "# Создаем категории для размера компаний\n",
    "bins = [0, 1, 2, 3, 5, 10, 25, float('inf')]  # Границы для категорий\n",
    "labels = ['1', '2', '3', '4-5', '6-10', '11-25', '26+']  # Названия категорий\n",
    "\n",
    "# Добавляем столбец с категориями размера компании\n",
    "df_grouped['company_size'] = pd.cut(df_grouped['total_employees'], bins=bins, labels=labels)\n",
    "\n",
    "# Группируем по категориям и считаем среднюю долю сотрудников без образования\n",
    "pivot_table = df_grouped.groupby('company_size')['no_education_ratio'].mean().reset_index()\n",
    "\n",
    "# Переименуем столбцы для наглядности\n",
    "pivot_table.columns = ['Размер компании', 'Средняя доля сотрудников без образования']\n",
    "\n",
    "# Выводим результат\n",
    "display(pivot_table)"
   ]
  },
  {
   "cell_type": "markdown",
   "metadata": {},
   "source": [
    "В качестве маркера наличия образования мы взяли столбец graduated_at (дата получения образования). В идеале стоило бы уточнить у заказчика, что он понимает под наличием образования (возможно допускается наличие неоконченного, т.е. наличие данных о названии учебного заведения). Для стартапов наиболее характерно малое количество сотрудников. Исходя из полученных данных наиболее часто встречаются значения до 10 человек. Чаще всего встречаются стартапы с 1 сотрудником - 18116 компаний. Для удобства анализа разобъем данные на 6 групп: '1', '2', '3', '4-5', '6-10', '11-25', '26+'"
   ]
  },
  {
   "cell_type": "markdown",
   "metadata": {},
   "source": [
    "Вывод:\n",
    "Проведя анализ данных можно сделать вывод, что полнота сведений о сотрудниках (в нашем случае, наличие данных об образовании) не зависит от размера компании. Средняя доля сотрудников без образования (отсутствие данных о дате получения образования) распределена почти равномерно -  60-70%."
   ]
  },
  {
   "cell_type": "code",
   "execution_count": 28,
   "metadata": {},
   "outputs": [
    {
     "data": {
      "text/plain": [
       "22923"
      ]
     },
     "execution_count": 28,
     "metadata": {},
     "output_type": "execute_result"
    }
   ],
   "source": [
    "unique_ids = df_merged['company_id'].unique()\n",
    "number_of_unique_rows = len(unique_ids)\n",
    "number_of_unique_rows"
   ]
  },
  {
   "cell_type": "markdown",
   "metadata": {},
   "source": [
    "Для увеличения полноты данных об образовании можно присоединить датафрейм `degrees` с предварительной обработкой столбца `object_id`. В этом столбце содержится идентификатор сотрудника, который отличается от подобного идентификатора в других таблицах наличием префикса `p:`. После удаления префикса возможно присоединение."
   ]
  },
  {
   "cell_type": "code",
   "execution_count": 29,
   "metadata": {},
   "outputs": [
    {
     "data": {
      "text/html": [
       "<div>\n",
       "<style scoped>\n",
       "    .dataframe tbody tr th:only-of-type {\n",
       "        vertical-align: middle;\n",
       "    }\n",
       "\n",
       "    .dataframe tbody tr th {\n",
       "        vertical-align: top;\n",
       "    }\n",
       "\n",
       "    .dataframe thead th {\n",
       "        text-align: right;\n",
       "    }\n",
       "</style>\n",
       "<table border=\"1\" class=\"dataframe\">\n",
       "  <thead>\n",
       "    <tr style=\"text-align: right;\">\n",
       "      <th></th>\n",
       "      <th>id</th>\n",
       "      <th>object_id</th>\n",
       "      <th>degree_type</th>\n",
       "      <th>subject</th>\n",
       "    </tr>\n",
       "  </thead>\n",
       "  <tbody>\n",
       "    <tr>\n",
       "      <th>0</th>\n",
       "      <td>1</td>\n",
       "      <td>6117</td>\n",
       "      <td>MBA</td>\n",
       "      <td>NaN</td>\n",
       "    </tr>\n",
       "    <tr>\n",
       "      <th>1</th>\n",
       "      <td>2</td>\n",
       "      <td>6136</td>\n",
       "      <td>BA</td>\n",
       "      <td>English, French</td>\n",
       "    </tr>\n",
       "    <tr>\n",
       "      <th>2</th>\n",
       "      <td>3</td>\n",
       "      <td>6136</td>\n",
       "      <td>MS</td>\n",
       "      <td>Mass Communication</td>\n",
       "    </tr>\n",
       "    <tr>\n",
       "      <th>3</th>\n",
       "      <td>4</td>\n",
       "      <td>6005</td>\n",
       "      <td>MS</td>\n",
       "      <td>Internet Technology</td>\n",
       "    </tr>\n",
       "    <tr>\n",
       "      <th>4</th>\n",
       "      <td>5</td>\n",
       "      <td>5832</td>\n",
       "      <td>BCS</td>\n",
       "      <td>Computer Science, Psychology</td>\n",
       "    </tr>\n",
       "  </tbody>\n",
       "</table>\n",
       "</div>"
      ],
      "text/plain": [
       "   id  object_id degree_type                       subject\n",
       "0   1       6117         MBA                           NaN\n",
       "1   2       6136          BA               English, French\n",
       "2   3       6136          MS            Mass Communication\n",
       "3   4       6005          MS           Internet Technology\n",
       "4   5       5832         BCS  Computer Science, Psychology"
      ]
     },
     "execution_count": 29,
     "metadata": {},
     "output_type": "execute_result"
    }
   ],
   "source": [
    "degrees_df['object_id'] = degrees_df['object_id'].replace({'p:': ''}, regex=True)\n",
    "degrees_df['object_id'] = degrees_df['object_id'].astype('int64')\n",
    "degrees_df.head()"
   ]
  },
  {
   "cell_type": "markdown",
   "metadata": {},
   "source": [
    "### 2.3. Объединять или не объединять — вот в чём вопрос\n",
    "\n",
    "Некоторые названия столбцов встречаются в датасетах чаще других. И, например, в результате предварительной проверки датасетов было выяснено, что столбец `company_id` подходит для объединения данных, так как большая часть значений встречается в разных датасетах не один, а несколько раз. Этот столбец может быть использован для объединения данных.\n",
    "\n",
    "* Установите, подходит ли для объединения данных столбец `network_username`, который встречается в нескольких датасетах. Нам необходимо понимать, дублируется ли для разных датасетов информация в столбцах с таким названием, и если да — то насколько часто.\n",
    "\n",
    "* Оцените, можно ли использовать столбцы с именем `network_username` для объединения данных."
   ]
  },
  {
   "cell_type": "markdown",
   "metadata": {
    "id": "CilOkz-inz37"
   },
   "source": [
    "Согласно описанию, данные network_username содержат абсолютно разную информацию в датасетах (ник компании в сети, ник сотрудника в социальных сетях, ник фонда в сети).\n",
    "Посмотрим, Сколько мы получил дополнительной информации от этого обьединения. Для этого построим диаграмму Венна на основе столбца network_username для датафреймов (people_df и company_and_rounds_df) и (fund_df и company_and_rounds_df)."
   ]
  },
  {
   "cell_type": "code",
   "execution_count": 30,
   "metadata": {},
   "outputs": [],
   "source": [
    "# Установим и импортируем библиотеки\n",
    "!pip install matplotlib-venn -q\n",
    "from matplotlib_venn import venn2\n",
    "import matplotlib.pyplot as plt"
   ]
  },
  {
   "cell_type": "code",
   "execution_count": 31,
   "metadata": {},
   "outputs": [
    {
     "data": {
      "image/png": "[encoded data removed]",
      "text/plain": [
       "<Figure size 432x288 with 1 Axes>"
      ]
     },
     "metadata": {},
     "output_type": "display_data"
    }
   ],
   "source": [
    "# Для построения диаграммы Венна преобразуем столбцы network_username в множества\n",
    "set_people = set(people_df['network_username'])\n",
    "set_company = set(company_and_rounds_df['network_username'])\n",
    "# Создаем диаграмму Венна\n",
    "venn2([set_people, set_company], ('People DF', 'Company Rounds DF'))\n",
    "\n",
    "# Отображаем диаграмму\n",
    "plt.title(\"Диаграмма Венна для network_username\")\n",
    "plt.show()"
   ]
  },
  {
   "cell_type": "code",
   "execution_count": 32,
   "metadata": {},
   "outputs": [
    {
     "data": {
      "image/png": "[encoded data removed]",
      "text/plain": [
       "<Figure size 1152x720 with 1 Axes>"
      ]
     },
     "metadata": {},
     "output_type": "display_data"
    }
   ],
   "source": [
    "# Для построения диаграммы Венна преобразуем столбцы network_username в множества\n",
    "set_fund = set(fund_df['network_username'])\n",
    "set_company2 = set(company_and_rounds_df['network_username'])\n",
    "\n",
    "# Создаем диаграмму Венна\n",
    "plt.figure(figsize=(16, 10))\n",
    "venn2([set_fund, set_company2], ('Fund DF', 'Company Rounds DF'))\n",
    "\n",
    "# Отображаем диаграмму\n",
    "plt.title(\"Диаграмма Венна для network_username\")\n",
    "plt.show()"
   ]
  },
  {
   "cell_type": "code",
   "execution_count": 33,
   "metadata": {},
   "outputs": [
    {
     "data": {
      "image/png": "[encoded data removed]",
      "text/plain": [
       "<Figure size 1152x720 with 1 Axes>"
      ]
     },
     "metadata": {},
     "output_type": "display_data"
    }
   ],
   "source": [
    "# Для построения диаграммы Венна преобразуем столбцы network_username в множества\n",
    "set_fund = set(fund_df['network_username'])\n",
    "set_company2 = set(company_and_rounds_df['network_username'])\n",
    "\n",
    "# Создаем диаграмму Венна\n",
    "plt.figure(figsize=(16, 10))\n",
    "venn2([set_fund, set_company2], ('Fund DF', 'Company Rounds DF'))\n",
    "\n",
    "# Отображаем диаграмму\n",
    "plt.title(\"Диаграмма Венна для network_username\")\n",
    "plt.show()"
   ]
  },
  {
   "cell_type": "markdown",
   "metadata": {},
   "source": [
    "Вывод:\n",
    "Построив диаграммы Венна на основе столбца network_username для датафреймов (people_df и company_and_rounds_df) и (fund_df и company_and_rounds_df) можно сделать вывод, что количество пересечений менее 1% для обоих диаграмм. Соединение по столбцу network_username не даст нам значимого количества информации. Данные слабо связаны."
   ]
  },
  {
   "cell_type": "markdown",
   "metadata": {
    "id": "EHcODomVrJg1"
   },
   "source": [
    "\n",
    "### 2.4. Проблемный датасет и причина возникновения пропусков\n",
    "\n",
    "Во время собственного анализа данных у заказчика больше всего вопросов возникло к датасету `company_and_rounds.csv`. В нём много пропусков как раз в информации о раундах, которая заказчику важна. Хотя информация об общем объёме финансирования по раундам присутствует в других датасетах, заказчик считает данные `company_and_rounds.csv` о размере средств наиболее верными.\n",
    "\n",
    "* Любым удобным способом приведите данные в вид, который позволяет проводить анализ в разрезе отдельных компаний. Можно изменять форму данных, порядок их хранения. Обратите внимание на структуру датасета, порядок и названия столбцов, проанализируйте значения.\n",
    "\n",
    "По гипотезе заказчика данные по компаниям из этой таблицы раньше хранились иначе, более удобным для исследования образом.\n",
    "\n",
    "* Максимальным образом сохраняя данные, сохранив их связность и исключив возможные возникающие при этом ошибки, подготовьте данные так, чтобы удобно было отобрать компании по параметрам и рассчитать показатели из расчёта на одну компанию."
   ]
  },
  {
   "cell_type": "markdown",
   "metadata": {},
   "source": [
    "Вероятнее всего ранее были объединены два датасета в один. Для удобства дальнейшего анализа разделим датасет на два. Изучив данные датасета company_and_rounds можно прийти к выводу, что второй датасет начинается со столбца funding_round_id — идентификатора этапа финансирования (все последующие значения меньше, чем в предыдущих столбцах). По этому столбцу и проведем разделение. Далее очистим от дубликатов датасет с компаниями."
   ]
  },
  {
   "cell_type": "code",
   "execution_count": 34,
   "metadata": {
    "id": "tJ6Sl6MKrJg1"
   },
   "outputs": [
    {
     "name": "stdout",
     "output_type": "stream",
     "text": [
      "<class 'pandas.core.frame.DataFrame'>\n",
      "RangeIndex: 217774 entries, 0 to 217773\n",
      "Data columns (total 23 columns):\n",
      " #   Column               Non-Null Count   Dtype         \n",
      "---  ------               --------------   -----         \n",
      " 0   company_id           217472 non-null  float64       \n",
      " 1   name                 217472 non-null  object        \n",
      " 2   category_code        143886 non-null  object        \n",
      " 3   status               217472 non-null  object        \n",
      " 4   founded_at           109956 non-null  datetime64[ns]\n",
      " 5   closed_at            3449 non-null    datetime64[ns]\n",
      " 6   domain               147159 non-null  object        \n",
      " 7   network_username     95534 non-null   object        \n",
      " 8   country_code         108607 non-null  object        \n",
      " 9   investment_rounds    217472 non-null  float64       \n",
      " 10  funding_rounds       217472 non-null  float64       \n",
      " 11  funding_total        217472 non-null  float64       \n",
      " 12  milestones           217472 non-null  float64       \n",
      " 13  funding_round_id     52928 non-null   float64       \n",
      " 14  company_id2          52928 non-null   float64       \n",
      " 15  funded_at            52680 non-null   datetime64[ns]\n",
      " 16  funding_round_type   52928 non-null   object        \n",
      " 17  raised_amount        52928 non-null   float64       \n",
      " 18  pre_money_valuation  52928 non-null   float64       \n",
      " 19  participants         52928 non-null   float64       \n",
      " 20  is_first_round       52928 non-null   float64       \n",
      " 21  is_last_round        52928 non-null   float64       \n",
      " 22  funded_year          52680 non-null   float64       \n",
      "dtypes: datetime64[ns](3), float64(13), object(7)\n",
      "memory usage: 38.2+ MB\n"
     ]
    }
   ],
   "source": [
    "company_and_rounds_df.info()"
   ]
  },
  {
   "cell_type": "code",
   "execution_count": 35,
   "metadata": {
    "id": "SFfUmzron0Tc"
   },
   "outputs": [],
   "source": [
    "# Создаем новый датафрейм с первыми столбцами\n",
    "company_df = company_and_rounds_df.iloc[:, :13]\n",
    "\n",
    "# Создаем второй датафрейм со всеми остальными столбцами\n",
    "rounds_df = company_and_rounds_df.iloc[:, 13:]"
   ]
  },
  {
   "cell_type": "code",
   "execution_count": 36,
   "metadata": {},
   "outputs": [
    {
     "name": "stdout",
     "output_type": "stream",
     "text": [
      "<class 'pandas.core.frame.DataFrame'>\n",
      "RangeIndex: 217774 entries, 0 to 217773\n",
      "Data columns (total 13 columns):\n",
      " #   Column             Non-Null Count   Dtype         \n",
      "---  ------             --------------   -----         \n",
      " 0   company_id         217472 non-null  float64       \n",
      " 1   name               217472 non-null  object        \n",
      " 2   category_code      143886 non-null  object        \n",
      " 3   status             217472 non-null  object        \n",
      " 4   founded_at         109956 non-null  datetime64[ns]\n",
      " 5   closed_at          3449 non-null    datetime64[ns]\n",
      " 6   domain             147159 non-null  object        \n",
      " 7   network_username   95534 non-null   object        \n",
      " 8   country_code       108607 non-null  object        \n",
      " 9   investment_rounds  217472 non-null  float64       \n",
      " 10  funding_rounds     217472 non-null  float64       \n",
      " 11  funding_total      217472 non-null  float64       \n",
      " 12  milestones         217472 non-null  float64       \n",
      "dtypes: datetime64[ns](2), float64(5), object(6)\n",
      "memory usage: 21.6+ MB\n"
     ]
    }
   ],
   "source": [
    "company_df.info()"
   ]
  },
  {
   "cell_type": "code",
   "execution_count": 37,
   "metadata": {},
   "outputs": [
    {
     "name": "stdout",
     "output_type": "stream",
     "text": [
      "<class 'pandas.core.frame.DataFrame'>\n",
      "RangeIndex: 217774 entries, 0 to 217773\n",
      "Data columns (total 10 columns):\n",
      " #   Column               Non-Null Count  Dtype         \n",
      "---  ------               --------------  -----         \n",
      " 0   funding_round_id     52928 non-null  float64       \n",
      " 1   company_id2          52928 non-null  float64       \n",
      " 2   funded_at            52680 non-null  datetime64[ns]\n",
      " 3   funding_round_type   52928 non-null  object        \n",
      " 4   raised_amount        52928 non-null  float64       \n",
      " 5   pre_money_valuation  52928 non-null  float64       \n",
      " 6   participants         52928 non-null  float64       \n",
      " 7   is_first_round       52928 non-null  float64       \n",
      " 8   is_last_round        52928 non-null  float64       \n",
      " 9   funded_year          52680 non-null  float64       \n",
      "dtypes: datetime64[ns](1), float64(8), object(1)\n",
      "memory usage: 16.6+ MB\n"
     ]
    }
   ],
   "source": [
    "rounds_df.info()"
   ]
  },
  {
   "cell_type": "code",
   "execution_count": 38,
   "metadata": {},
   "outputs": [
    {
     "data": {
      "text/plain": [
       "company_id              302\n",
       "name                    302\n",
       "category_code         73888\n",
       "status                  302\n",
       "founded_at           107818\n",
       "closed_at            214325\n",
       "domain                70615\n",
       "network_username     122240\n",
       "country_code         109167\n",
       "investment_rounds       302\n",
       "funding_rounds          302\n",
       "funding_total           302\n",
       "milestones              302\n",
       "dtype: int64"
      ]
     },
     "execution_count": 38,
     "metadata": {},
     "output_type": "execute_result"
    }
   ],
   "source": [
    "# Посмотрим количество пропусков в полученном датафреме company_df\n",
    "company_df.isna().sum()"
   ]
  },
  {
   "cell_type": "code",
   "execution_count": 39,
   "metadata": {},
   "outputs": [
    {
     "data": {
      "text/plain": [
       "company_id            0.138676\n",
       "name                  0.138676\n",
       "category_code        33.928752\n",
       "status                0.138676\n",
       "founded_at           49.509124\n",
       "closed_at            98.416248\n",
       "domain               32.425818\n",
       "network_username     56.131586\n",
       "country_code         50.128574\n",
       "investment_rounds     0.138676\n",
       "funding_rounds        0.138676\n",
       "funding_total         0.138676\n",
       "milestones            0.138676\n",
       "dtype: float64"
      ]
     },
     "execution_count": 39,
     "metadata": {},
     "output_type": "execute_result"
    }
   ],
   "source": [
    "# Выведем количество пропусков в кажом столбце датафрейма company_df в относительных значениях\n",
    "company_df.isna().sum() / len(company_df) * 100"
   ]
  },
  {
   "cell_type": "code",
   "execution_count": 40,
   "metadata": {},
   "outputs": [
    {
     "data": {
      "text/plain": [
       "funding_round_id       164846\n",
       "company_id2            164846\n",
       "funded_at              165094\n",
       "funding_round_type     164846\n",
       "raised_amount          164846\n",
       "pre_money_valuation    164846\n",
       "participants           164846\n",
       "is_first_round         164846\n",
       "is_last_round          164846\n",
       "funded_year            165094\n",
       "dtype: int64"
      ]
     },
     "execution_count": 40,
     "metadata": {},
     "output_type": "execute_result"
    }
   ],
   "source": [
    "# Посмотрим количество пропусков в полученном датафреме rounds_df\n",
    "rounds_df.isna().sum()"
   ]
  },
  {
   "cell_type": "code",
   "execution_count": 41,
   "metadata": {},
   "outputs": [
    {
     "data": {
      "text/plain": [
       "funding_round_id       75.695905\n",
       "company_id2            75.695905\n",
       "funded_at              75.809784\n",
       "funding_round_type     75.695905\n",
       "raised_amount          75.695905\n",
       "pre_money_valuation    75.695905\n",
       "participants           75.695905\n",
       "is_first_round         75.695905\n",
       "is_last_round          75.695905\n",
       "funded_year            75.809784\n",
       "dtype: float64"
      ]
     },
     "execution_count": 41,
     "metadata": {},
     "output_type": "execute_result"
    }
   ],
   "source": [
    "# Выведем количество пропусков в кажом столбце датафрейма rounds_df в относительных значениях\n",
    "rounds_df.isna().sum() / len(company_df) * 100"
   ]
  },
  {
   "cell_type": "markdown",
   "metadata": {},
   "source": []
  },
  {
   "cell_type": "code",
   "execution_count": 42,
   "metadata": {},
   "outputs": [
    {
     "data": {
      "text/html": [
       "<div>\n",
       "<style scoped>\n",
       "    .dataframe tbody tr th:only-of-type {\n",
       "        vertical-align: middle;\n",
       "    }\n",
       "\n",
       "    .dataframe tbody tr th {\n",
       "        vertical-align: top;\n",
       "    }\n",
       "\n",
       "    .dataframe thead th {\n",
       "        text-align: right;\n",
       "    }\n",
       "</style>\n",
       "<table border=\"1\" class=\"dataframe\">\n",
       "  <thead>\n",
       "    <tr style=\"text-align: right;\">\n",
       "      <th></th>\n",
       "      <th>company_id</th>\n",
       "      <th>name</th>\n",
       "      <th>category_code</th>\n",
       "      <th>status</th>\n",
       "      <th>founded_at</th>\n",
       "      <th>closed_at</th>\n",
       "      <th>domain</th>\n",
       "      <th>network_username</th>\n",
       "      <th>country_code</th>\n",
       "      <th>investment_rounds</th>\n",
       "      <th>funding_rounds</th>\n",
       "      <th>funding_total</th>\n",
       "      <th>milestones</th>\n",
       "    </tr>\n",
       "  </thead>\n",
       "  <tbody>\n",
       "    <tr>\n",
       "      <th>0</th>\n",
       "      <td>1.0</td>\n",
       "      <td>Wetpaint</td>\n",
       "      <td>web</td>\n",
       "      <td>operating</td>\n",
       "      <td>2005-10-17</td>\n",
       "      <td>NaT</td>\n",
       "      <td>wetpaint-inc.com</td>\n",
       "      <td>BachelrWetpaint</td>\n",
       "      <td>USA</td>\n",
       "      <td>0.0</td>\n",
       "      <td>3.0</td>\n",
       "      <td>39750000.0</td>\n",
       "      <td>5.0</td>\n",
       "    </tr>\n",
       "    <tr>\n",
       "      <th>1</th>\n",
       "      <td>1.0</td>\n",
       "      <td>Wetpaint</td>\n",
       "      <td>web</td>\n",
       "      <td>operating</td>\n",
       "      <td>2005-10-17</td>\n",
       "      <td>NaT</td>\n",
       "      <td>wetpaint-inc.com</td>\n",
       "      <td>BachelrWetpaint</td>\n",
       "      <td>USA</td>\n",
       "      <td>0.0</td>\n",
       "      <td>3.0</td>\n",
       "      <td>39750000.0</td>\n",
       "      <td>5.0</td>\n",
       "    </tr>\n",
       "    <tr>\n",
       "      <th>2</th>\n",
       "      <td>1.0</td>\n",
       "      <td>Wetpaint</td>\n",
       "      <td>web</td>\n",
       "      <td>operating</td>\n",
       "      <td>2005-10-17</td>\n",
       "      <td>NaT</td>\n",
       "      <td>wetpaint-inc.com</td>\n",
       "      <td>BachelrWetpaint</td>\n",
       "      <td>USA</td>\n",
       "      <td>0.0</td>\n",
       "      <td>3.0</td>\n",
       "      <td>39750000.0</td>\n",
       "      <td>5.0</td>\n",
       "    </tr>\n",
       "    <tr>\n",
       "      <th>3</th>\n",
       "      <td>10.0</td>\n",
       "      <td>Flektor</td>\n",
       "      <td>games_video</td>\n",
       "      <td>acquired</td>\n",
       "      <td>NaT</td>\n",
       "      <td>NaT</td>\n",
       "      <td>flektor.com</td>\n",
       "      <td>NaN</td>\n",
       "      <td>USA</td>\n",
       "      <td>0.0</td>\n",
       "      <td>0.0</td>\n",
       "      <td>0.0</td>\n",
       "      <td>0.0</td>\n",
       "    </tr>\n",
       "    <tr>\n",
       "      <th>4</th>\n",
       "      <td>100.0</td>\n",
       "      <td>There</td>\n",
       "      <td>games_video</td>\n",
       "      <td>acquired</td>\n",
       "      <td>NaT</td>\n",
       "      <td>NaT</td>\n",
       "      <td>there.com</td>\n",
       "      <td>NaN</td>\n",
       "      <td>USA</td>\n",
       "      <td>0.0</td>\n",
       "      <td>0.0</td>\n",
       "      <td>0.0</td>\n",
       "      <td>4.0</td>\n",
       "    </tr>\n",
       "  </tbody>\n",
       "</table>\n",
       "</div>"
      ],
      "text/plain": [
       "   company_id      name category_code     status founded_at closed_at  \\\n",
       "0         1.0  Wetpaint           web  operating 2005-10-17       NaT   \n",
       "1         1.0  Wetpaint           web  operating 2005-10-17       NaT   \n",
       "2         1.0  Wetpaint           web  operating 2005-10-17       NaT   \n",
       "3        10.0   Flektor   games_video   acquired        NaT       NaT   \n",
       "4       100.0     There   games_video   acquired        NaT       NaT   \n",
       "\n",
       "             domain network_username country_code  investment_rounds  \\\n",
       "0  wetpaint-inc.com  BachelrWetpaint          USA                0.0   \n",
       "1  wetpaint-inc.com  BachelrWetpaint          USA                0.0   \n",
       "2  wetpaint-inc.com  BachelrWetpaint          USA                0.0   \n",
       "3       flektor.com              NaN          USA                0.0   \n",
       "4         there.com              NaN          USA                0.0   \n",
       "\n",
       "   funding_rounds  funding_total  milestones  \n",
       "0             3.0     39750000.0         5.0  \n",
       "1             3.0     39750000.0         5.0  \n",
       "2             3.0     39750000.0         5.0  \n",
       "3             0.0            0.0         0.0  \n",
       "4             0.0            0.0         4.0  "
      ]
     },
     "execution_count": 42,
     "metadata": {},
     "output_type": "execute_result"
    }
   ],
   "source": [
    "company_df.head()"
   ]
  },
  {
   "cell_type": "code",
   "execution_count": 43,
   "metadata": {},
   "outputs": [
    {
     "data": {
      "text/plain": [
       "21220"
      ]
     },
     "execution_count": 43,
     "metadata": {},
     "output_type": "execute_result"
    }
   ],
   "source": [
    "# Проверяем, есть ли в датафрейме дубликаты\n",
    "company_df.duplicated().sum()"
   ]
  },
  {
   "cell_type": "code",
   "execution_count": 44,
   "metadata": {},
   "outputs": [
    {
     "name": "stdout",
     "output_type": "stream",
     "text": [
      "Количество строк до удаления дубликатов: 217774\n",
      "Количество строк после удаления дубликатов: 196554\n"
     ]
    }
   ],
   "source": [
    "# Выведем количество строк в датафрейме до удаления явных дубликатов\n",
    "initial_row_count = company_df.shape[0]\n",
    "print(f'Количество строк до удаления дубликатов: {initial_row_count}')\n",
    "\n",
    "# Удалим дублирующиеся строки\n",
    "company_df_cleaned = company_df.drop_duplicates()\n",
    "\n",
    "# Выведем количество строк в датафрейме после удаления явных дубликатов\n",
    "final_row_count = company_df_cleaned.shape[0]\n",
    "print(f'Количество строк после удаления дубликатов: {final_row_count}')"
   ]
  },
  {
   "cell_type": "code",
   "execution_count": 45,
   "metadata": {},
   "outputs": [
    {
     "name": "stdout",
     "output_type": "stream",
     "text": [
      "Количество удалённых строк:  21220\n",
      "Относительное количество удалённых строк (%):  9.744046580399864\n"
     ]
    }
   ],
   "source": [
    "# Посчитаем абсолютное и относительное значение удаленных строк в сравнении с исходным датафреймом\n",
    "deleted_rows_count = len(company_df) - len(company_df_cleaned)\n",
    "deleted_rows_percentage = (len(company_df) - len(company_df_cleaned)) / len(company_df) * 100\n",
    "\n",
    "# Выведем результат\n",
    "print(\"Количество удалённых строк: \", deleted_rows_count)\n",
    "print(\"Относительное количество удалённых строк (%): \", deleted_rows_percentage)"
   ]
  },
  {
   "cell_type": "markdown",
   "metadata": {},
   "source": [
    "Для дальнейшего анализа очистим данные полученного датафрейма company_df от пропусков в столбце company_id (13% - существенное количество) и приведем тип данных столба к целочисленному. Также сбросим индекс и отсортируем по company_id"
   ]
  },
  {
   "cell_type": "code",
   "execution_count": 46,
   "metadata": {},
   "outputs": [
    {
     "data": {
      "text/html": [
       "<div>\n",
       "<style scoped>\n",
       "    .dataframe tbody tr th:only-of-type {\n",
       "        vertical-align: middle;\n",
       "    }\n",
       "\n",
       "    .dataframe tbody tr th {\n",
       "        vertical-align: top;\n",
       "    }\n",
       "\n",
       "    .dataframe thead th {\n",
       "        text-align: right;\n",
       "    }\n",
       "</style>\n",
       "<table border=\"1\" class=\"dataframe\">\n",
       "  <thead>\n",
       "    <tr style=\"text-align: right;\">\n",
       "      <th></th>\n",
       "      <th>company_id</th>\n",
       "      <th>name</th>\n",
       "      <th>category_code</th>\n",
       "      <th>status</th>\n",
       "      <th>founded_at</th>\n",
       "      <th>closed_at</th>\n",
       "      <th>domain</th>\n",
       "      <th>network_username</th>\n",
       "      <th>country_code</th>\n",
       "      <th>investment_rounds</th>\n",
       "      <th>funding_rounds</th>\n",
       "      <th>funding_total</th>\n",
       "      <th>milestones</th>\n",
       "    </tr>\n",
       "  </thead>\n",
       "  <tbody>\n",
       "    <tr>\n",
       "      <th>0</th>\n",
       "      <td>1</td>\n",
       "      <td>Wetpaint</td>\n",
       "      <td>web</td>\n",
       "      <td>operating</td>\n",
       "      <td>2005-10-17</td>\n",
       "      <td>NaT</td>\n",
       "      <td>wetpaint-inc.com</td>\n",
       "      <td>BachelrWetpaint</td>\n",
       "      <td>USA</td>\n",
       "      <td>0.0</td>\n",
       "      <td>3.0</td>\n",
       "      <td>3.975000e+07</td>\n",
       "      <td>5.0</td>\n",
       "    </tr>\n",
       "    <tr>\n",
       "      <th>1</th>\n",
       "      <td>2</td>\n",
       "      <td>AdventNet</td>\n",
       "      <td>enterprise</td>\n",
       "      <td>operating</td>\n",
       "      <td>1996-01-01</td>\n",
       "      <td>NaT</td>\n",
       "      <td>adventnet.com</td>\n",
       "      <td>manageengine</td>\n",
       "      <td>USA</td>\n",
       "      <td>0.0</td>\n",
       "      <td>0.0</td>\n",
       "      <td>0.000000e+00</td>\n",
       "      <td>0.0</td>\n",
       "    </tr>\n",
       "    <tr>\n",
       "      <th>2</th>\n",
       "      <td>3</td>\n",
       "      <td>Zoho</td>\n",
       "      <td>software</td>\n",
       "      <td>operating</td>\n",
       "      <td>2005-09-15</td>\n",
       "      <td>NaT</td>\n",
       "      <td>zoho.com</td>\n",
       "      <td>zoho</td>\n",
       "      <td>USA</td>\n",
       "      <td>0.0</td>\n",
       "      <td>0.0</td>\n",
       "      <td>0.000000e+00</td>\n",
       "      <td>5.0</td>\n",
       "    </tr>\n",
       "    <tr>\n",
       "      <th>3</th>\n",
       "      <td>4</td>\n",
       "      <td>Digg</td>\n",
       "      <td>news</td>\n",
       "      <td>acquired</td>\n",
       "      <td>2004-10-11</td>\n",
       "      <td>NaT</td>\n",
       "      <td>digg.com</td>\n",
       "      <td>digg</td>\n",
       "      <td>USA</td>\n",
       "      <td>0.0</td>\n",
       "      <td>4.0</td>\n",
       "      <td>4.500000e+07</td>\n",
       "      <td>8.0</td>\n",
       "    </tr>\n",
       "    <tr>\n",
       "      <th>4</th>\n",
       "      <td>5</td>\n",
       "      <td>Socialnet</td>\n",
       "      <td>social</td>\n",
       "      <td>ipo</td>\n",
       "      <td>2004-02-01</td>\n",
       "      <td>NaT</td>\n",
       "      <td>socialnet.com</td>\n",
       "      <td>socialnet</td>\n",
       "      <td>USA</td>\n",
       "      <td>3.0</td>\n",
       "      <td>11.0</td>\n",
       "      <td>2.425700e+09</td>\n",
       "      <td>5.0</td>\n",
       "    </tr>\n",
       "  </tbody>\n",
       "</table>\n",
       "</div>"
      ],
      "text/plain": [
       "   company_id       name category_code     status founded_at closed_at  \\\n",
       "0           1   Wetpaint           web  operating 2005-10-17       NaT   \n",
       "1           2  AdventNet    enterprise  operating 1996-01-01       NaT   \n",
       "2           3       Zoho      software  operating 2005-09-15       NaT   \n",
       "3           4       Digg          news   acquired 2004-10-11       NaT   \n",
       "4           5  Socialnet        social        ipo 2004-02-01       NaT   \n",
       "\n",
       "             domain network_username country_code  investment_rounds  \\\n",
       "0  wetpaint-inc.com  BachelrWetpaint          USA                0.0   \n",
       "1     adventnet.com     manageengine          USA                0.0   \n",
       "2          zoho.com             zoho          USA                0.0   \n",
       "3          digg.com             digg          USA                0.0   \n",
       "4     socialnet.com        socialnet          USA                3.0   \n",
       "\n",
       "   funding_rounds  funding_total  milestones  \n",
       "0             3.0   3.975000e+07         5.0  \n",
       "1             0.0   0.000000e+00         0.0  \n",
       "2             0.0   0.000000e+00         5.0  \n",
       "3             4.0   4.500000e+07         8.0  \n",
       "4            11.0   2.425700e+09         5.0  "
      ]
     },
     "execution_count": 46,
     "metadata": {},
     "output_type": "execute_result"
    }
   ],
   "source": [
    "# Исключим данные с пропусками по столбцу company_id\n",
    "company_df_cleaned = company_df_cleaned[company_df_cleaned['company_id'].notnull()]\n",
    "\n",
    "# Преобразование типа данных столбца 'company_id' в int64\n",
    "company_df_cleaned['company_id'] = company_df_cleaned['company_id'].astype('int64')\n",
    "\n",
    "# Сортировка строк по 'company_id'\n",
    "company_df_cleaned = company_df_cleaned.sort_values(by='company_id')\n",
    "\n",
    "# Сброс индекса\n",
    "company_df_cleaned = company_df_cleaned.reset_index(drop=True)\n",
    "\n",
    "# Вывод результата\n",
    "company_df_cleaned.head()"
   ]
  },
  {
   "cell_type": "markdown",
   "metadata": {
    "id": "bmVYhphNrJg2"
   },
   "source": [
    "\n",
    "## Шаг 3. Исследовательский анализ объединённых таблиц\n",
    "\n",
    "<big>Приступите к шагу 3 после проверки ревьюера.</big>"
   ]
  },
  {
   "cell_type": "markdown",
   "metadata": {
    "id": "3Di6tCT3rJg2"
   },
   "source": [
    "\n",
    "### 3.1. Объединение данных\n",
    "\n",
    "Объедините данные для ответа на вопросы заказчика, которые касаются интересующих его компаний.\n",
    "\n",
    "В качестве основы для объединённой таблицы возьмите данные из обработанного датасета `company_and_rounds.csv` — выберите только те компании, у которых указаны значения `funding_rounds` или `investment_rounds` больше нуля, и те, у которых в колонке `status` указано `acquired`.\n",
    "\n",
    "Далее работайте только с этими данными."
   ]
  },
  {
   "cell_type": "code",
   "execution_count": null,
   "metadata": {},
   "outputs": [],
   "source": []
  },
  {
   "cell_type": "code",
   "execution_count": 47,
   "metadata": {
    "id": "mGYqoHS7rJg2"
   },
   "outputs": [
    {
     "data": {
      "text/html": [
       "<div>\n",
       "<style scoped>\n",
       "    .dataframe tbody tr th:only-of-type {\n",
       "        vertical-align: middle;\n",
       "    }\n",
       "\n",
       "    .dataframe tbody tr th {\n",
       "        vertical-align: top;\n",
       "    }\n",
       "\n",
       "    .dataframe thead th {\n",
       "        text-align: right;\n",
       "    }\n",
       "</style>\n",
       "<table border=\"1\" class=\"dataframe\">\n",
       "  <thead>\n",
       "    <tr style=\"text-align: right;\">\n",
       "      <th></th>\n",
       "      <th>company_id</th>\n",
       "      <th>name</th>\n",
       "      <th>category_code</th>\n",
       "      <th>status</th>\n",
       "      <th>founded_at</th>\n",
       "      <th>closed_at</th>\n",
       "      <th>domain</th>\n",
       "      <th>network_username</th>\n",
       "      <th>country_code</th>\n",
       "      <th>investment_rounds</th>\n",
       "      <th>funding_rounds</th>\n",
       "      <th>funding_total</th>\n",
       "      <th>milestones</th>\n",
       "    </tr>\n",
       "  </thead>\n",
       "  <tbody>\n",
       "    <tr>\n",
       "      <th>0</th>\n",
       "      <td>1</td>\n",
       "      <td>Wetpaint</td>\n",
       "      <td>web</td>\n",
       "      <td>operating</td>\n",
       "      <td>2005-10-17</td>\n",
       "      <td>NaT</td>\n",
       "      <td>wetpaint-inc.com</td>\n",
       "      <td>BachelrWetpaint</td>\n",
       "      <td>USA</td>\n",
       "      <td>0.0</td>\n",
       "      <td>3.0</td>\n",
       "      <td>3.975000e+07</td>\n",
       "      <td>5.0</td>\n",
       "    </tr>\n",
       "    <tr>\n",
       "      <th>3</th>\n",
       "      <td>4</td>\n",
       "      <td>Digg</td>\n",
       "      <td>news</td>\n",
       "      <td>acquired</td>\n",
       "      <td>2004-10-11</td>\n",
       "      <td>NaT</td>\n",
       "      <td>digg.com</td>\n",
       "      <td>digg</td>\n",
       "      <td>USA</td>\n",
       "      <td>0.0</td>\n",
       "      <td>4.0</td>\n",
       "      <td>4.500000e+07</td>\n",
       "      <td>8.0</td>\n",
       "    </tr>\n",
       "    <tr>\n",
       "      <th>4</th>\n",
       "      <td>5</td>\n",
       "      <td>Socialnet</td>\n",
       "      <td>social</td>\n",
       "      <td>ipo</td>\n",
       "      <td>2004-02-01</td>\n",
       "      <td>NaT</td>\n",
       "      <td>socialnet.com</td>\n",
       "      <td>socialnet</td>\n",
       "      <td>USA</td>\n",
       "      <td>3.0</td>\n",
       "      <td>11.0</td>\n",
       "      <td>2.425700e+09</td>\n",
       "      <td>5.0</td>\n",
       "    </tr>\n",
       "    <tr>\n",
       "      <th>5</th>\n",
       "      <td>7</td>\n",
       "      <td>Omnidrive</td>\n",
       "      <td>network_hosting</td>\n",
       "      <td>closed</td>\n",
       "      <td>2005-11-01</td>\n",
       "      <td>2008-09-15</td>\n",
       "      <td>omnidrive.com</td>\n",
       "      <td>Nomadesk</td>\n",
       "      <td>ISR</td>\n",
       "      <td>0.0</td>\n",
       "      <td>1.0</td>\n",
       "      <td>8.000000e+05</td>\n",
       "      <td>4.0</td>\n",
       "    </tr>\n",
       "    <tr>\n",
       "      <th>6</th>\n",
       "      <td>8</td>\n",
       "      <td>Postini</td>\n",
       "      <td>web</td>\n",
       "      <td>acquired</td>\n",
       "      <td>1999-06-02</td>\n",
       "      <td>NaT</td>\n",
       "      <td>postini.com</td>\n",
       "      <td>NaN</td>\n",
       "      <td>USA</td>\n",
       "      <td>0.0</td>\n",
       "      <td>0.0</td>\n",
       "      <td>0.000000e+00</td>\n",
       "      <td>0.0</td>\n",
       "    </tr>\n",
       "    <tr>\n",
       "      <th>...</th>\n",
       "      <td>...</td>\n",
       "      <td>...</td>\n",
       "      <td>...</td>\n",
       "      <td>...</td>\n",
       "      <td>...</td>\n",
       "      <td>...</td>\n",
       "      <td>...</td>\n",
       "      <td>...</td>\n",
       "      <td>...</td>\n",
       "      <td>...</td>\n",
       "      <td>...</td>\n",
       "      <td>...</td>\n",
       "      <td>...</td>\n",
       "    </tr>\n",
       "    <tr>\n",
       "      <th>196527</th>\n",
       "      <td>286183</td>\n",
       "      <td>Wedding Spot</td>\n",
       "      <td>web</td>\n",
       "      <td>operating</td>\n",
       "      <td>2013-05-01</td>\n",
       "      <td>NaT</td>\n",
       "      <td>wedding-spot.com</td>\n",
       "      <td>weddingspot</td>\n",
       "      <td>USA</td>\n",
       "      <td>0.0</td>\n",
       "      <td>1.0</td>\n",
       "      <td>2.250000e+05</td>\n",
       "      <td>0.0</td>\n",
       "    </tr>\n",
       "    <tr>\n",
       "      <th>196528</th>\n",
       "      <td>286184</td>\n",
       "      <td>Seldar Pharma</td>\n",
       "      <td>biotech</td>\n",
       "      <td>operating</td>\n",
       "      <td>NaT</td>\n",
       "      <td>NaT</td>\n",
       "      <td>NaN</td>\n",
       "      <td>NaN</td>\n",
       "      <td>USA</td>\n",
       "      <td>0.0</td>\n",
       "      <td>1.0</td>\n",
       "      <td>1.299900e+07</td>\n",
       "      <td>0.0</td>\n",
       "    </tr>\n",
       "    <tr>\n",
       "      <th>196529</th>\n",
       "      <td>286186</td>\n",
       "      <td>Micromidas</td>\n",
       "      <td>cleantech</td>\n",
       "      <td>operating</td>\n",
       "      <td>NaT</td>\n",
       "      <td>NaT</td>\n",
       "      <td>micromidas.com</td>\n",
       "      <td>NaN</td>\n",
       "      <td>USA</td>\n",
       "      <td>0.0</td>\n",
       "      <td>1.0</td>\n",
       "      <td>2.156060e+06</td>\n",
       "      <td>0.0</td>\n",
       "    </tr>\n",
       "    <tr>\n",
       "      <th>196538</th>\n",
       "      <td>286200</td>\n",
       "      <td>STWA</td>\n",
       "      <td>other</td>\n",
       "      <td>operating</td>\n",
       "      <td>1998-01-01</td>\n",
       "      <td>NaT</td>\n",
       "      <td>stwa.com</td>\n",
       "      <td>NaN</td>\n",
       "      <td>USA</td>\n",
       "      <td>0.0</td>\n",
       "      <td>1.0</td>\n",
       "      <td>1.588120e+06</td>\n",
       "      <td>0.0</td>\n",
       "    </tr>\n",
       "    <tr>\n",
       "      <th>196552</th>\n",
       "      <td>286215</td>\n",
       "      <td>The Betty Mills Company</td>\n",
       "      <td>ecommerce</td>\n",
       "      <td>operating</td>\n",
       "      <td>NaT</td>\n",
       "      <td>NaT</td>\n",
       "      <td>bettymills.com</td>\n",
       "      <td>NaN</td>\n",
       "      <td>USA</td>\n",
       "      <td>0.0</td>\n",
       "      <td>1.0</td>\n",
       "      <td>2.712500e+05</td>\n",
       "      <td>0.0</td>\n",
       "    </tr>\n",
       "  </tbody>\n",
       "</table>\n",
       "<p>40747 rows × 13 columns</p>\n",
       "</div>"
      ],
      "text/plain": [
       "        company_id                     name    category_code     status  \\\n",
       "0                1                 Wetpaint              web  operating   \n",
       "3                4                     Digg             news   acquired   \n",
       "4                5                Socialnet           social        ipo   \n",
       "5                7                Omnidrive  network_hosting     closed   \n",
       "6                8                  Postini              web   acquired   \n",
       "...            ...                      ...              ...        ...   \n",
       "196527      286183             Wedding Spot              web  operating   \n",
       "196528      286184            Seldar Pharma          biotech  operating   \n",
       "196529      286186               Micromidas        cleantech  operating   \n",
       "196538      286200                     STWA            other  operating   \n",
       "196552      286215  The Betty Mills Company        ecommerce  operating   \n",
       "\n",
       "       founded_at  closed_at            domain network_username country_code  \\\n",
       "0      2005-10-17        NaT  wetpaint-inc.com  BachelrWetpaint          USA   \n",
       "3      2004-10-11        NaT          digg.com             digg          USA   \n",
       "4      2004-02-01        NaT     socialnet.com        socialnet          USA   \n",
       "5      2005-11-01 2008-09-15     omnidrive.com         Nomadesk          ISR   \n",
       "6      1999-06-02        NaT       postini.com              NaN          USA   \n",
       "...           ...        ...               ...              ...          ...   \n",
       "196527 2013-05-01        NaT  wedding-spot.com      weddingspot          USA   \n",
       "196528        NaT        NaT               NaN              NaN          USA   \n",
       "196529        NaT        NaT    micromidas.com              NaN          USA   \n",
       "196538 1998-01-01        NaT          stwa.com              NaN          USA   \n",
       "196552        NaT        NaT    bettymills.com              NaN          USA   \n",
       "\n",
       "        investment_rounds  funding_rounds  funding_total  milestones  \n",
       "0                     0.0             3.0   3.975000e+07         5.0  \n",
       "3                     0.0             4.0   4.500000e+07         8.0  \n",
       "4                     3.0            11.0   2.425700e+09         5.0  \n",
       "5                     0.0             1.0   8.000000e+05         4.0  \n",
       "6                     0.0             0.0   0.000000e+00         0.0  \n",
       "...                   ...             ...            ...         ...  \n",
       "196527                0.0             1.0   2.250000e+05         0.0  \n",
       "196528                0.0             1.0   1.299900e+07         0.0  \n",
       "196529                0.0             1.0   2.156060e+06         0.0  \n",
       "196538                0.0             1.0   1.588120e+06         0.0  \n",
       "196552                0.0             1.0   2.712500e+05         0.0  \n",
       "\n",
       "[40747 rows x 13 columns]"
      ]
     },
     "metadata": {},
     "output_type": "display_data"
    }
   ],
   "source": [
    "# Фильтрация данных\n",
    "filt_company_df = company_df_cleaned[\n",
    "    (company_df_cleaned['funding_rounds'] > 0) | (company_df_cleaned['investment_rounds'] > 0) |\n",
    "    (company_df_cleaned['status'] == 'acquired')\n",
    "]\n",
    "\n",
    "# Вывод результата\n",
    "display(filt_company_df)\n"
   ]
  },
  {
   "cell_type": "markdown",
   "metadata": {
    "id": "vJZ4mO2Un1yt"
   },
   "source": [
    "Отфильтровав данные по заданным условиям получили датафрейм с 40747 строками. Далее будем использовать датафрейм filt_company_df."
   ]
  },
  {
   "cell_type": "markdown",
   "metadata": {
    "id": "DFHINkV3rJg2"
   },
   "source": [
    "\n",
    "### 3.2. Анализ выбросов\n",
    "\n",
    "Заказчика интересует обычный для рассматриваемого периода размер средств, который предоставлялся компаниям.\n",
    "\n",
    "* По предобработанному столбцу `funding_total` графическим способом оцените, какой размер общего финансирования для одной компании будет типичным, а какой — выбивающимся.\n",
    "\n",
    "* В процессе расчёта значений обратите внимание, например, на показатели, возвращаемые методом `.describe()`, — объясните их. Применимы ли к таким данным обычные способы нахождения типичных значений?"
   ]
  },
  {
   "cell_type": "code",
   "execution_count": 48,
   "metadata": {},
   "outputs": [],
   "source": [
    "# Задаём параметр отображения, который позволит вывести нормальные числовые значения без экспоненциального представления\n",
    "pd.set_option('display.float_format', '{:.2f}'.format)"
   ]
  },
  {
   "cell_type": "code",
   "execution_count": 49,
   "metadata": {
    "id": "dIWqyEomn2MU"
   },
   "outputs": [
    {
     "data": {
      "text/plain": [
       "count        40747.00\n",
       "mean      10135609.64\n",
       "std       56464359.98\n",
       "min              0.00\n",
       "25%              0.00\n",
       "50%         600000.00\n",
       "75%        5650650.00\n",
       "max     5700000000.00\n",
       "Name: funding_total, dtype: float64"
      ]
     },
     "execution_count": 49,
     "metadata": {},
     "output_type": "execute_result"
    }
   ],
   "source": [
    "# Посмотрим краткое статистическое описание данных для столбца funding_total\n",
    "filt_company_df['funding_total'].describe()"
   ]
  },
  {
   "cell_type": "code",
   "execution_count": 50,
   "metadata": {
    "id": "8jm75fKXrJg2"
   },
   "outputs": [
    {
     "data": {
      "image/png": "[encoded data removed]",
      "text/plain": [
       "<Figure size 1152x432 with 1 Axes>"
      ]
     },
     "metadata": {},
     "output_type": "display_data"
    }
   ],
   "source": [
    "# Строим диаграмму размаха методом boxplot() для столбца funding_total без выбросов\n",
    "boxplot = filt_company_df.boxplot(column='funding_total',\n",
    "                     grid=False,\n",
    "                     vert=False,\n",
    "                     showfliers=False,\n",
    "                     figsize=(16, 6))\n",
    "boxplot.set_title('Детализированный диаграмма размаха сумм финансирования (funding_total)')\n",
    "boxplot.set_xlabel('Значения funding_total (сумма финансирования)')\n",
    "plt.show() "
   ]
  },
  {
   "cell_type": "markdown",
   "metadata": {},
   "source": [
    "Вывод:\n",
    "Исходя из полученных данных типичным размером общего финансирования для одной компании будет сумма в пределах среднего значения (около 10 млн), а также медианы (600 тыс.), но с учётом большого стандартного отклонения, можно предположить, что значительное число компаний имеет суммы финансирования как намного меньше, так и намного больше этих значений. Выбивающимся размером финансирования будут суммы близкие к максимальной (5.7 млрд), так как они значительно превышают остальные показатели.\n",
    "\n",
    "Для анализа данных с таким большим разбросом значений и наличием выбросов (максимальное значение финансирования значительно превышает остальные) обычные способы нахождения типичных значений, такие как среднее (mean) и медиана (median), могут быть не совсем показательными. В таких случаях рекомендуется использовать дополнительные методы анализа, чтобы получить более точную картину распределения данных."
   ]
  },
  {
   "cell_type": "code",
   "execution_count": 51,
   "metadata": {
    "id": "wJHXCBwwrJg2"
   },
   "outputs": [
    {
     "data": {
      "text/html": [
       "<div>\n",
       "<style scoped>\n",
       "    .dataframe tbody tr th:only-of-type {\n",
       "        vertical-align: middle;\n",
       "    }\n",
       "\n",
       "    .dataframe tbody tr th {\n",
       "        vertical-align: top;\n",
       "    }\n",
       "\n",
       "    .dataframe thead th {\n",
       "        text-align: right;\n",
       "    }\n",
       "</style>\n",
       "<table border=\"1\" class=\"dataframe\">\n",
       "  <thead>\n",
       "    <tr style=\"text-align: right;\">\n",
       "      <th></th>\n",
       "      <th>id</th>\n",
       "      <th>acquiring_company_id</th>\n",
       "      <th>acquired_company_id</th>\n",
       "      <th>term_code</th>\n",
       "      <th>price_amount</th>\n",
       "      <th>acquired_at</th>\n",
       "    </tr>\n",
       "  </thead>\n",
       "  <tbody>\n",
       "    <tr>\n",
       "      <th>0</th>\n",
       "      <td>1</td>\n",
       "      <td>11</td>\n",
       "      <td>10</td>\n",
       "      <td>NaN</td>\n",
       "      <td>20000000</td>\n",
       "      <td>2007-05-30</td>\n",
       "    </tr>\n",
       "    <tr>\n",
       "      <th>1</th>\n",
       "      <td>7</td>\n",
       "      <td>59</td>\n",
       "      <td>72</td>\n",
       "      <td>cash</td>\n",
       "      <td>60000000</td>\n",
       "      <td>2007-07-01</td>\n",
       "    </tr>\n",
       "    <tr>\n",
       "      <th>2</th>\n",
       "      <td>8</td>\n",
       "      <td>24</td>\n",
       "      <td>132</td>\n",
       "      <td>cash</td>\n",
       "      <td>280000000</td>\n",
       "      <td>2007-05-01</td>\n",
       "    </tr>\n",
       "    <tr>\n",
       "      <th>3</th>\n",
       "      <td>9</td>\n",
       "      <td>59</td>\n",
       "      <td>155</td>\n",
       "      <td>cash</td>\n",
       "      <td>100000000</td>\n",
       "      <td>2007-06-01</td>\n",
       "    </tr>\n",
       "    <tr>\n",
       "      <th>4</th>\n",
       "      <td>10</td>\n",
       "      <td>212</td>\n",
       "      <td>215</td>\n",
       "      <td>cash</td>\n",
       "      <td>25000000</td>\n",
       "      <td>2007-07-01</td>\n",
       "    </tr>\n",
       "  </tbody>\n",
       "</table>\n",
       "</div>"
      ],
      "text/plain": [
       "   id  acquiring_company_id  acquired_company_id term_code  price_amount  \\\n",
       "0   1                    11                   10       NaN      20000000   \n",
       "1   7                    59                   72      cash      60000000   \n",
       "2   8                    24                  132      cash     280000000   \n",
       "3   9                    59                  155      cash     100000000   \n",
       "4  10                   212                  215      cash      25000000   \n",
       "\n",
       "  acquired_at  \n",
       "0  2007-05-30  \n",
       "1  2007-07-01  \n",
       "2  2007-05-01  \n",
       "3  2007-06-01  \n",
       "4  2007-07-01  "
      ]
     },
     "execution_count": 51,
     "metadata": {},
     "output_type": "execute_result"
    }
   ],
   "source": [
    "acquisition_df.head()"
   ]
  },
  {
   "cell_type": "markdown",
   "metadata": {},
   "source": [
    "Для исследования проданных компаний нам понадобится датафрейм acquisition_df с данными о покупках одними компаниями других компаний. Присоединим его к ранее полученному датафрейму filt_company_df. Присоединение будем делать по столбцу acquired_company_id — идентификатор покупаемой компании, поскольку нас интересуют проданные компании."
   ]
  },
  {
   "cell_type": "code",
   "execution_count": 52,
   "metadata": {
    "id": "-kA4CO27n2ql"
   },
   "outputs": [
    {
     "name": "stdout",
     "output_type": "stream",
     "text": [
      "<class 'pandas.core.frame.DataFrame'>\n",
      "Int64Index: 40890 entries, 0 to 40889\n",
      "Data columns (total 19 columns):\n",
      " #   Column                Non-Null Count  Dtype         \n",
      "---  ------                --------------  -----         \n",
      " 0   company_id            40890 non-null  int64         \n",
      " 1   name                  40890 non-null  object        \n",
      " 2   category_code         35436 non-null  object        \n",
      " 3   status                40890 non-null  object        \n",
      " 4   founded_at            27911 non-null  datetime64[ns]\n",
      " 5   closed_at             2128 non-null   datetime64[ns]\n",
      " 6   domain                35883 non-null  object        \n",
      " 7   network_username      20938 non-null  object        \n",
      " 8   country_code          34858 non-null  object        \n",
      " 9   investment_rounds     40890 non-null  float64       \n",
      " 10  funding_rounds        40890 non-null  float64       \n",
      " 11  funding_total         40890 non-null  float64       \n",
      " 12  milestones            40890 non-null  float64       \n",
      " 13  id                    9390 non-null   float64       \n",
      " 14  acquiring_company_id  9390 non-null   float64       \n",
      " 15  acquired_company_id   9390 non-null   float64       \n",
      " 16  term_code             1830 non-null   object        \n",
      " 17  price_amount          9390 non-null   float64       \n",
      " 18  acquired_at           9361 non-null   datetime64[ns]\n",
      "dtypes: datetime64[ns](3), float64(8), int64(1), object(7)\n",
      "memory usage: 6.2+ MB\n"
     ]
    }
   ],
   "source": [
    "company_n_acquisition_df = pd.merge(filt_company_df, acquisition_df, left_on = 'company_id', right_on = 'acquired_company_id', how = 'left')\n",
    "company_n_acquisition_df.info()"
   ]
  },
  {
   "cell_type": "code",
   "execution_count": 53,
   "metadata": {},
   "outputs": [
    {
     "name": "stdout",
     "output_type": "stream",
     "text": [
      "Количество дубликатов: 270\n"
     ]
    }
   ],
   "source": [
    "# Проверим на наличие дубликатов объединенный датафрейм по столбцу company_id\n",
    "duplicates = company_n_acquisition_df.duplicated(subset=['company_id'], keep=False)\n",
    "\n",
    "# Выведем общее количество дубликатов\n",
    "print(\"Количество дубликатов:\", sum(duplicates))"
   ]
  },
  {
   "cell_type": "markdown",
   "metadata": {},
   "source": [
    "Проверим датафрейм acquisition_df на полные дубликаты и посмотрим с чем может быть связано появление дубликатов по столбцу acquired_company_id"
   ]
  },
  {
   "cell_type": "code",
   "execution_count": 54,
   "metadata": {},
   "outputs": [
    {
     "data": {
      "text/plain": [
       "0"
      ]
     },
     "execution_count": 54,
     "metadata": {},
     "output_type": "execute_result"
    }
   ],
   "source": [
    "acquisition_df.duplicated().sum()"
   ]
  },
  {
   "cell_type": "code",
   "execution_count": 55,
   "metadata": {},
   "outputs": [
    {
     "data": {
      "text/html": [
       "<div>\n",
       "<style scoped>\n",
       "    .dataframe tbody tr th:only-of-type {\n",
       "        vertical-align: middle;\n",
       "    }\n",
       "\n",
       "    .dataframe tbody tr th {\n",
       "        vertical-align: top;\n",
       "    }\n",
       "\n",
       "    .dataframe thead th {\n",
       "        text-align: right;\n",
       "    }\n",
       "</style>\n",
       "<table border=\"1\" class=\"dataframe\">\n",
       "  <thead>\n",
       "    <tr style=\"text-align: right;\">\n",
       "      <th></th>\n",
       "      <th>id</th>\n",
       "      <th>acquiring_company_id</th>\n",
       "      <th>acquired_company_id</th>\n",
       "      <th>term_code</th>\n",
       "      <th>price_amount</th>\n",
       "      <th>acquired_at</th>\n",
       "    </tr>\n",
       "  </thead>\n",
       "  <tbody>\n",
       "    <tr>\n",
       "      <th>5438</th>\n",
       "      <td>5984</td>\n",
       "      <td>13</td>\n",
       "      <td>13</td>\n",
       "      <td>NaN</td>\n",
       "      <td>29000000</td>\n",
       "      <td>2009-04-01</td>\n",
       "    </tr>\n",
       "    <tr>\n",
       "      <th>3845</th>\n",
       "      <td>4283</td>\n",
       "      <td>20</td>\n",
       "      <td>13</td>\n",
       "      <td>NaN</td>\n",
       "      <td>0</td>\n",
       "      <td>2007-05-30</td>\n",
       "    </tr>\n",
       "    <tr>\n",
       "      <th>5284</th>\n",
       "      <td>5806</td>\n",
       "      <td>20</td>\n",
       "      <td>62</td>\n",
       "      <td>NaN</td>\n",
       "      <td>2600000000</td>\n",
       "      <td>2005-09-12</td>\n",
       "    </tr>\n",
       "    <tr>\n",
       "      <th>5003</th>\n",
       "      <td>5504</td>\n",
       "      <td>1242</td>\n",
       "      <td>62</td>\n",
       "      <td>cash</td>\n",
       "      <td>8500000000</td>\n",
       "      <td>2011-05-10</td>\n",
       "    </tr>\n",
       "    <tr>\n",
       "      <th>4954</th>\n",
       "      <td>5451</td>\n",
       "      <td>29</td>\n",
       "      <td>75</td>\n",
       "      <td>cash</td>\n",
       "      <td>0</td>\n",
       "      <td>2005-12-01</td>\n",
       "    </tr>\n",
       "    <tr>\n",
       "      <th>7761</th>\n",
       "      <td>8668</td>\n",
       "      <td>74819</td>\n",
       "      <td>75</td>\n",
       "      <td>NaN</td>\n",
       "      <td>0</td>\n",
       "      <td>2011-04-27</td>\n",
       "    </tr>\n",
       "    <tr>\n",
       "      <th>4610</th>\n",
       "      <td>5073</td>\n",
       "      <td>475</td>\n",
       "      <td>130</td>\n",
       "      <td>NaN</td>\n",
       "      <td>0</td>\n",
       "      <td>2011-01-31</td>\n",
       "    </tr>\n",
       "    <tr>\n",
       "      <th>8083</th>\n",
       "      <td>9040</td>\n",
       "      <td>234881</td>\n",
       "      <td>130</td>\n",
       "      <td>NaN</td>\n",
       "      <td>0</td>\n",
       "      <td>2012-12-12</td>\n",
       "    </tr>\n",
       "    <tr>\n",
       "      <th>5412</th>\n",
       "      <td>5955</td>\n",
       "      <td>5602</td>\n",
       "      <td>142</td>\n",
       "      <td>NaN</td>\n",
       "      <td>10000000</td>\n",
       "      <td>2010-06-17</td>\n",
       "    </tr>\n",
       "    <tr>\n",
       "      <th>164</th>\n",
       "      <td>213</td>\n",
       "      <td>351</td>\n",
       "      <td>142</td>\n",
       "      <td>cash</td>\n",
       "      <td>850000000</td>\n",
       "      <td>2008-03-13</td>\n",
       "    </tr>\n",
       "    <tr>\n",
       "      <th>6138</th>\n",
       "      <td>6800</td>\n",
       "      <td>1316</td>\n",
       "      <td>431</td>\n",
       "      <td>NaN</td>\n",
       "      <td>0</td>\n",
       "      <td>2011-06-22</td>\n",
       "    </tr>\n",
       "    <tr>\n",
       "      <th>3425</th>\n",
       "      <td>3851</td>\n",
       "      <td>1283</td>\n",
       "      <td>431</td>\n",
       "      <td>NaN</td>\n",
       "      <td>0</td>\n",
       "      <td>2010-09-21</td>\n",
       "    </tr>\n",
       "    <tr>\n",
       "      <th>7839</th>\n",
       "      <td>8750</td>\n",
       "      <td>215686</td>\n",
       "      <td>445</td>\n",
       "      <td>cash</td>\n",
       "      <td>0</td>\n",
       "      <td>2011-01-31</td>\n",
       "    </tr>\n",
       "    <tr>\n",
       "      <th>3415</th>\n",
       "      <td>3839</td>\n",
       "      <td>141</td>\n",
       "      <td>445</td>\n",
       "      <td>NaN</td>\n",
       "      <td>0</td>\n",
       "      <td>2010-11-24</td>\n",
       "    </tr>\n",
       "    <tr>\n",
       "      <th>5488</th>\n",
       "      <td>6039</td>\n",
       "      <td>66086</td>\n",
       "      <td>569</td>\n",
       "      <td>cash</td>\n",
       "      <td>0</td>\n",
       "      <td>2011-06-02</td>\n",
       "    </tr>\n",
       "    <tr>\n",
       "      <th>23</th>\n",
       "      <td>32</td>\n",
       "      <td>570</td>\n",
       "      <td>569</td>\n",
       "      <td>cash</td>\n",
       "      <td>560000000</td>\n",
       "      <td>2005-06-01</td>\n",
       "    </tr>\n",
       "    <tr>\n",
       "      <th>453</th>\n",
       "      <td>575</td>\n",
       "      <td>11503</td>\n",
       "      <td>593</td>\n",
       "      <td>cash</td>\n",
       "      <td>0</td>\n",
       "      <td>2007-02-06</td>\n",
       "    </tr>\n",
       "    <tr>\n",
       "      <th>5414</th>\n",
       "      <td>5957</td>\n",
       "      <td>22312</td>\n",
       "      <td>593</td>\n",
       "      <td>NaN</td>\n",
       "      <td>560800000</td>\n",
       "      <td>2011-08-03</td>\n",
       "    </tr>\n",
       "    <tr>\n",
       "      <th>7118</th>\n",
       "      <td>7922</td>\n",
       "      <td>1444</td>\n",
       "      <td>596</td>\n",
       "      <td>cash</td>\n",
       "      <td>71000000</td>\n",
       "      <td>2004-07-14</td>\n",
       "    </tr>\n",
       "    <tr>\n",
       "      <th>69</th>\n",
       "      <td>91</td>\n",
       "      <td>1246</td>\n",
       "      <td>596</td>\n",
       "      <td>cash</td>\n",
       "      <td>45000000</td>\n",
       "      <td>2007-10-01</td>\n",
       "    </tr>\n",
       "  </tbody>\n",
       "</table>\n",
       "</div>"
      ],
      "text/plain": [
       "        id  acquiring_company_id  acquired_company_id term_code  price_amount  \\\n",
       "5438  5984                    13                   13       NaN      29000000   \n",
       "3845  4283                    20                   13       NaN             0   \n",
       "5284  5806                    20                   62       NaN    2600000000   \n",
       "5003  5504                  1242                   62      cash    8500000000   \n",
       "4954  5451                    29                   75      cash             0   \n",
       "7761  8668                 74819                   75       NaN             0   \n",
       "4610  5073                   475                  130       NaN             0   \n",
       "8083  9040                234881                  130       NaN             0   \n",
       "5412  5955                  5602                  142       NaN      10000000   \n",
       "164    213                   351                  142      cash     850000000   \n",
       "6138  6800                  1316                  431       NaN             0   \n",
       "3425  3851                  1283                  431       NaN             0   \n",
       "7839  8750                215686                  445      cash             0   \n",
       "3415  3839                   141                  445       NaN             0   \n",
       "5488  6039                 66086                  569      cash             0   \n",
       "23      32                   570                  569      cash     560000000   \n",
       "453    575                 11503                  593      cash             0   \n",
       "5414  5957                 22312                  593       NaN     560800000   \n",
       "7118  7922                  1444                  596      cash      71000000   \n",
       "69      91                  1246                  596      cash      45000000   \n",
       "\n",
       "     acquired_at  \n",
       "5438  2009-04-01  \n",
       "3845  2007-05-30  \n",
       "5284  2005-09-12  \n",
       "5003  2011-05-10  \n",
       "4954  2005-12-01  \n",
       "7761  2011-04-27  \n",
       "4610  2011-01-31  \n",
       "8083  2012-12-12  \n",
       "5412  2010-06-17  \n",
       "164   2008-03-13  \n",
       "6138  2011-06-22  \n",
       "3425  2010-09-21  \n",
       "7839  2011-01-31  \n",
       "3415  2010-11-24  \n",
       "5488  2011-06-02  \n",
       "23    2005-06-01  \n",
       "453   2007-02-06  \n",
       "5414  2011-08-03  \n",
       "7118  2004-07-14  \n",
       "69    2007-10-01  "
      ]
     },
     "metadata": {},
     "output_type": "display_data"
    }
   ],
   "source": [
    "# Находим дублирующиеся строки по столбцу 'acquired_company_id'\n",
    "duplicates2 = acquisition_df[acquisition_df.duplicated('acquired_company_id', keep=False)]\n",
    "\n",
    "# Сортируем дубликаты по 'acquired_company_id' в порядке возрастания\n",
    "sorted_duplicates = duplicates2.sort_values(by='acquired_company_id')\n",
    "\n",
    "# Выводим первые несколько строк с дубликатами\n",
    "display(sorted_duplicates.head(20))"
   ]
  },
  {
   "cell_type": "markdown",
   "metadata": {},
   "source": [
    "Дубликаты появились при соеднинени двух датафреймов. Дубликаты находились в датафрейме acquisition_df. Проверив, с чем связаны дубликаты убедились, что некоторые компании были проданы дважды (id компаний покупателей и даты сделок разные). Исходя из этого удалять дубликаты по столбцу company_id не имеет смысла"
   ]
  },
  {
   "cell_type": "code",
   "execution_count": 57,
   "metadata": {},
   "outputs": [
    {
     "data": {
      "text/plain": [
       "count         1618.00\n",
       "mean      18152961.94\n",
       "std      144503027.47\n",
       "min           3750.00\n",
       "25%        2000000.00\n",
       "50%        6000000.00\n",
       "75%       15500000.00\n",
       "max     5700000000.00\n",
       "Name: funding_total, dtype: float64"
      ]
     },
     "execution_count": 57,
     "metadata": {},
     "output_type": "execute_result"
    }
   ],
   "source": [
    "acquired_company_df['funding_total'].describe()"
   ]
  },
  {
   "cell_type": "code",
   "execution_count": 58,
   "metadata": {},
   "outputs": [
    {
     "data": {
      "image/png": "[encoded data removed]",
      "text/plain": [
       "<Figure size 1152x432 with 1 Axes>"
      ]
     },
     "metadata": {},
     "output_type": "display_data"
    }
   ],
   "source": [
    "# Строим диаграмму размаха методом boxplot() для столбца funding_total без выбросов\n",
    "boxplot = acquired_company_df.boxplot(column='funding_total',\n",
    "                     grid=False,\n",
    "                     vert=False,\n",
    "                     showfliers=False,\n",
    "                     figsize=(16, 6))\n",
    "boxplot.set_title('Детализированная диаграмма размаха сумм финансирования (funding_total)')\n",
    "boxplot.set_xlabel('Значения funding_total (сумма финансирования)')\n",
    "plt.show() "
   ]
  },
  {
   "cell_type": "code",
   "execution_count": 59,
   "metadata": {},
   "outputs": [],
   "source": [
    "# Рассчитываем квантили\n",
    "q3 = acquired_company_df['funding_total'].quantile(0.75)\n",
    "q1 = acquired_company_df['funding_total'].quantile(0.25)\n",
    "iqr = q3 - q1\n",
    "\n",
    "# Определяем коэффициенты для границ выбросов\n",
    "k_upper = 1.5\n",
    "k_lower = 1.5\n",
    "\n",
    "# Расчёт границ выбросов\n",
    "upper_bound = q3 + k_upper * iqr\n",
    "lower_bound = q1 - k_lower * iqr"
   ]
  },
  {
   "cell_type": "code",
   "execution_count": 60,
   "metadata": {},
   "outputs": [
    {
     "name": "stdout",
     "output_type": "stream",
     "text": [
      "Q3 — третий квартиль:  15500000.0\n",
      "Q1 — первый квартиль:  2000000.0\n",
      "Межквартильный размах (IQR):  13500000.0\n",
      "Верхняя граница выбросов (Upper Bound):  35750000.0\n",
      "Нижняя граница выбросов (Lower Bound):  -18250000.0\n"
     ]
    }
   ],
   "source": [
    "print(\"Q3 — третий квартиль: \", q3)\n",
    "print(\"Q1 — первый квартиль: \", q1)\n",
    "print(\"Межквартильный размах (IQR): \", iqr)\n",
    "print(\"Верхняя граница выбросов (Upper Bound): \", upper_bound)\n",
    "print(\"Нижняя граница выбросов (Lower Bound): \", lower_bound)"
   ]
  },
  {
   "cell_type": "code",
   "execution_count": 61,
   "metadata": {},
   "outputs": [
    {
     "data": {
      "text/plain": [
       "count         1618.00\n",
       "mean      18152961.94\n",
       "std      144503027.47\n",
       "min           3750.00\n",
       "50%        6000000.00\n",
       "91%       35894000.00\n",
       "max     5700000000.00\n",
       "Name: funding_total, dtype: float64"
      ]
     },
     "execution_count": 61,
     "metadata": {},
     "output_type": "execute_result"
    }
   ],
   "source": [
    "# Найдем значение процентиля, которое наиболее соответствует верхней границе выбросов \n",
    "acquired_company_df['funding_total'].describe(percentiles=[0.91])"
   ]
  },
  {
   "cell_type": "code",
   "execution_count": 62,
   "metadata": {},
   "outputs": [
    {
     "data": {
      "text/plain": [
       "count         1618.00\n",
       "mean      18152961.94\n",
       "std      144503027.47\n",
       "min           3750.00\n",
       "0%            3750.00\n",
       "50%        6000000.00\n",
       "max     5700000000.00\n",
       "Name: funding_total, dtype: float64"
      ]
     },
     "execution_count": 62,
     "metadata": {},
     "output_type": "execute_result"
    }
   ],
   "source": [
    "# Найдем значение процентиля, которое наиболее соответствует нижней границе выбросов \n",
    "acquired_company_df['funding_total'].describe(percentiles=[0.0])"
   ]
  },
  {
   "cell_type": "markdown",
   "metadata": {},
   "source": [
    "Вывод:\n",
    "Замена верхней границы на значение, рассчитанное по процентилям (91-й процентиль), обоснована, так как это позволяет сохранить основную массу данных и исключить только аномально высокие значения.\n",
    "Нижняя граница, рассчитанная по IQR, неприменима в данном случае и её можно заменить на минимальное значение (3750) или 0-й процентиль, который соответствует минимальному значению в наборе данных (отрицательные значения финансирования невозможны). \n",
    "\n",
    "Таким образом, замена границ выбросов на значения, рассчитанные по процентилям (91-й и 0-й), является корректной для верхней и нижней границы."
   ]
  },
  {
   "cell_type": "markdown",
   "metadata": {
    "id": "mEiWpROjrJg2"
   },
   "source": [
    "\n",
    "### 3.4. Цены стартапов по категориям\n",
    "\n",
    "Категории стартапов с наибольшими ценами и значительным разбросом цен могут быть наиболее привлекательными для крупных инвесторов, которые готовы к высоким рискам ради потенциально больших доходов. Среди категорий стартапов выделите категории стартапов, характеризующиеся:\n",
    "\n",
    "* наибольшими ценами;\n",
    "* и наибольшим разбросом цен за стартап.\n",
    "\n",
    "Объясните, почему решили составить топ именно из такого числа категорий и почему рассчитывали именно так."
   ]
  },
  {
   "cell_type": "code",
   "execution_count": 63,
   "metadata": {
    "id": "MFONscXPn29F"
   },
   "outputs": [
    {
     "data": {
      "text/plain": [
       "count            9390.00\n",
       "mean        393988145.31\n",
       "std       26846244613.76\n",
       "min                 0.00\n",
       "25%                 0.00\n",
       "50%                 0.00\n",
       "75%             23625.50\n",
       "max     2600000000000.00\n",
       "Name: price_amount, dtype: float64"
      ]
     },
     "execution_count": 63,
     "metadata": {},
     "output_type": "execute_result"
    }
   ],
   "source": [
    "# Посмотрим краткое статистическое описание данных для столбца price_amount\n",
    "company_n_acquisition_df['price_amount'].describe()"
   ]
  },
  {
   "cell_type": "code",
   "execution_count": 64,
   "metadata": {},
   "outputs": [
    {
     "data": {
      "image/png": "[encoded data removed]",
      "text/plain": [
       "<Figure size 1152x432 with 1 Axes>"
      ]
     },
     "metadata": {},
     "output_type": "display_data"
    },
    {
     "data": {
      "image/png": "[encoded data removed]",
      "text/plain": [
       "<Figure size 1152x432 with 1 Axes>"
      ]
     },
     "metadata": {},
     "output_type": "display_data"
    }
   ],
   "source": [
    "# Строим диаграмму размаха методом boxplot() для столбца price_amount\n",
    "boxplot = company_n_acquisition_df.boxplot(column='price_amount',\n",
    "                     grid=False,\n",
    "                     vert=False,\n",
    "                     showfliers=True,\n",
    "                     figsize=(16, 6))\n",
    "boxplot.set_title('Детализированная диаграмма размаха сумм сделок (price_amount)')\n",
    "boxplot.set_xlabel('Значения price_amount (сумм сделок)')\n",
    "plt.show() \n",
    "\n",
    "# Строим диаграмму размаха методом boxplot() для столбца price_amount без выбросов\n",
    "boxplot = company_n_acquisition_df.boxplot(column='price_amount',\n",
    "                     grid=False,\n",
    "                     vert=False,\n",
    "                     showfliers=False,\n",
    "                     figsize=(16, 6))\n",
    "boxplot.set_title('Детализированная диаграмма размаха сумм сделок (price_amount) без выбросов')\n",
    "boxplot.set_xlabel('Значения price_amount (сумм сделок)')\n",
    "plt.show() "
   ]
  },
  {
   "cell_type": "markdown",
   "metadata": {},
   "source": [
    "Данные сильно скошены в сторону низких значений, с большим количеством сделок, имеющих нулевую стоимость, и несколькими очень крупными сделками, которые значительно увеличивают среднее значение и стандартное отклонение.\n",
    "\n",
    "Наличие очень крупных сделок (например, с ценой в 2.6 триллиона) указывает на то, что в данных присутствуют выбросы, которые могут искажать общую картину.\n",
    "\n",
    "Поскольку медиана равна 0.00, это говорит о том, что большинство сделок имеют нулевую или очень низкую стоимость. В таких случаях медиана является более надежным показателем центральной тенденции, чем среднее значение."
   ]
  },
  {
   "cell_type": "code",
   "execution_count": 65,
   "metadata": {
    "id": "jQ09dYUWrJg2"
   },
   "outputs": [
    {
     "data": {
      "text/html": [
       "<div>\n",
       "<style scoped>\n",
       "    .dataframe tbody tr th:only-of-type {\n",
       "        vertical-align: middle;\n",
       "    }\n",
       "\n",
       "    .dataframe tbody tr th {\n",
       "        vertical-align: top;\n",
       "    }\n",
       "\n",
       "    .dataframe thead th {\n",
       "        text-align: right;\n",
       "    }\n",
       "</style>\n",
       "<table border=\"1\" class=\"dataframe\">\n",
       "  <thead>\n",
       "    <tr style=\"text-align: right;\">\n",
       "      <th></th>\n",
       "      <th>mean</th>\n",
       "      <th>std</th>\n",
       "    </tr>\n",
       "    <tr>\n",
       "      <th>category_code</th>\n",
       "      <th></th>\n",
       "      <th></th>\n",
       "    </tr>\n",
       "  </thead>\n",
       "  <tbody>\n",
       "    <tr>\n",
       "      <th>enterprise</th>\n",
       "      <td>6464338116.50</td>\n",
       "      <td>128088235060.17</td>\n",
       "    </tr>\n",
       "    <tr>\n",
       "      <th>automotive</th>\n",
       "      <td>1528600000.00</td>\n",
       "      <td>2297757559.01</td>\n",
       "    </tr>\n",
       "    <tr>\n",
       "      <th>real_estate</th>\n",
       "      <td>1256142857.14</td>\n",
       "      <td>2505122913.06</td>\n",
       "    </tr>\n",
       "    <tr>\n",
       "      <th>public_relations</th>\n",
       "      <td>615190296.80</td>\n",
       "      <td>4059244205.05</td>\n",
       "    </tr>\n",
       "    <tr>\n",
       "      <th>manufacturing</th>\n",
       "      <td>589272426.66</td>\n",
       "      <td>969657968.02</td>\n",
       "    </tr>\n",
       "    <tr>\n",
       "      <th>nanotech</th>\n",
       "      <td>584000000.00</td>\n",
       "      <td>NaN</td>\n",
       "    </tr>\n",
       "    <tr>\n",
       "      <th>biotech</th>\n",
       "      <td>426312140.97</td>\n",
       "      <td>1540373521.41</td>\n",
       "    </tr>\n",
       "    <tr>\n",
       "      <th>health</th>\n",
       "      <td>394462962.96</td>\n",
       "      <td>1249084287.10</td>\n",
       "    </tr>\n",
       "    <tr>\n",
       "      <th>finance</th>\n",
       "      <td>302198750.00</td>\n",
       "      <td>796098475.78</td>\n",
       "    </tr>\n",
       "    <tr>\n",
       "      <th>hospitality</th>\n",
       "      <td>280218181.82</td>\n",
       "      <td>651449440.58</td>\n",
       "    </tr>\n",
       "    <tr>\n",
       "      <th>other</th>\n",
       "      <td>141005890.48</td>\n",
       "      <td>1085128941.40</td>\n",
       "    </tr>\n",
       "    <tr>\n",
       "      <th>semiconductor</th>\n",
       "      <td>203832402.60</td>\n",
       "      <td>790488902.82</td>\n",
       "    </tr>\n",
       "  </tbody>\n",
       "</table>\n",
       "</div>"
      ],
      "text/plain": [
       "                          mean             std\n",
       "category_code                                 \n",
       "enterprise       6464338116.50 128088235060.17\n",
       "automotive       1528600000.00   2297757559.01\n",
       "real_estate      1256142857.14   2505122913.06\n",
       "public_relations  615190296.80   4059244205.05\n",
       "manufacturing     589272426.66    969657968.02\n",
       "nanotech          584000000.00             NaN\n",
       "biotech           426312140.97   1540373521.41\n",
       "health            394462962.96   1249084287.10\n",
       "finance           302198750.00    796098475.78\n",
       "hospitality       280218181.82    651449440.58\n",
       "other             141005890.48   1085128941.40\n",
       "semiconductor     203832402.60    790488902.82"
      ]
     },
     "metadata": {},
     "output_type": "display_data"
    }
   ],
   "source": [
    "# Группируем по категориям и рассчитываем среднюю цену и стандартное отклонение\n",
    "category_stats = company_n_acquisition_df.groupby('category_code')['price_amount'].agg(['mean', 'std'])\n",
    "\n",
    "# Сортируем по средней цене (наибольшие цены)\n",
    "top_categories_by_mean = category_stats.sort_values(by='mean', ascending=False).head(10)\n",
    "\n",
    "# Сортируем по стандартному отклонению (наибольший разброс цен)\n",
    "top_categories_by_std = category_stats.sort_values(by='std', ascending=False).head(10)\n",
    "\n",
    "# Объединяем результаты и сбрасываем дубликаты\n",
    "top_categories = pd.concat([top_categories_by_mean, top_categories_by_std]).drop_duplicates()\n",
    "\n",
    "display(top_categories)"
   ]
  },
  {
   "cell_type": "markdown",
   "metadata": {},
   "source": [
    "Категории отсортированы по средней цене от наибольшей к наименьшей. Наибольшее значение средней цены у категории enterprise, а наименьшее — у other.\n",
    "\n",
    "Стандартное отклонение показывает разброс значений относительно среднего. Категория enterprise также имеет наибольшее стандартное отклонение, что говорит о большом разбросе цен в этой категории.\n",
    "\n",
    "Эти данные могут быть полезны для анализа рынка, определения наиболее и наименее дорогих категорий области деятельности компаний, а также для выявления тенденций и закономерностей в стоимости компаний."
   ]
  },
  {
   "cell_type": "markdown",
   "metadata": {},
   "source": [
    "Посмотрим какие статистические данные будут, если отбросить выбросы."
   ]
  },
  {
   "cell_type": "code",
   "execution_count": 66,
   "metadata": {},
   "outputs": [],
   "source": [
    "# Рассчитываем квантили\n",
    "Q3 = company_n_acquisition_df['price_amount'].quantile(0.75)\n",
    "Q1 = company_n_acquisition_df['price_amount'].quantile(0.25)\n",
    "IQR = Q3 - Q1\n",
    "\n",
    "# Определяем коэффициенты для границ выбросов\n",
    "k_upper = 1.5\n",
    "k_lower = 1.5\n",
    "\n",
    "# Расчёт границ выбросов\n",
    "upper_bound = Q3 + k_upper * IQR\n",
    "lower_bound = Q1 - k_lower * IQR"
   ]
  },
  {
   "cell_type": "code",
   "execution_count": 67,
   "metadata": {},
   "outputs": [
    {
     "name": "stdout",
     "output_type": "stream",
     "text": [
      "Q3 — третий квартиль:  23625.5\n",
      "Q1 — первый квартиль:  0.0\n",
      "Межквартильный размах (IQR):  23625.5\n",
      "Верхняя граница выбросов (Upper Bound):  59063.75\n",
      "Нижняя граница выбросов (Lower Bound):  -35438.25\n"
     ]
    }
   ],
   "source": [
    "print(\"Q3 — третий квартиль: \", Q3)\n",
    "print(\"Q1 — первый квартиль: \", Q1)\n",
    "print(\"Межквартильный размах (IQR): \", IQR)\n",
    "print(\"Верхняя граница выбросов (Upper Bound): \", upper_bound)\n",
    "print(\"Нижняя граница выбросов (Lower Bound): \", lower_bound)"
   ]
  },
  {
   "cell_type": "code",
   "execution_count": 68,
   "metadata": {},
   "outputs": [
    {
     "data": {
      "text/plain": [
       "count            9390.00\n",
       "mean        393988145.31\n",
       "std       26846244613.76\n",
       "min                 0.00\n",
       "50%                 0.00\n",
       "75.2%           75000.00\n",
       "max     2600000000000.00\n",
       "Name: price_amount, dtype: float64"
      ]
     },
     "execution_count": 68,
     "metadata": {},
     "output_type": "execute_result"
    }
   ],
   "source": [
    "# Найдем значение процентиля, которое наиболее соответствует верхней границе выбросов \n",
    "company_n_acquisition_df['price_amount'].describe(percentiles=[0.752])"
   ]
  },
  {
   "cell_type": "code",
   "execution_count": 69,
   "metadata": {},
   "outputs": [],
   "source": [
    "# Удаление выбросов с использованием метода .loc\n",
    "company_n_acquisition_filtered = company_n_acquisition_df.loc[\n",
    "    (company_n_acquisition_df['price_amount'] >= 0) & (company_n_acquisition_df['price_amount'] <= 59063.75)\n",
    "]"
   ]
  },
  {
   "cell_type": "code",
   "execution_count": 70,
   "metadata": {},
   "outputs": [
    {
     "data": {
      "text/plain": [
       "count    7057.00\n",
       "mean      213.43\n",
       "std      2185.66\n",
       "min         0.00\n",
       "25%         0.00\n",
       "50%         0.00\n",
       "75%         0.00\n",
       "max     50000.00\n",
       "Name: price_amount, dtype: float64"
      ]
     },
     "execution_count": 70,
     "metadata": {},
     "output_type": "execute_result"
    }
   ],
   "source": [
    "company_n_acquisition_filtered['price_amount'].describe()"
   ]
  },
  {
   "cell_type": "code",
   "execution_count": 71,
   "metadata": {},
   "outputs": [
    {
     "data": {
      "text/html": [
       "<div>\n",
       "<style scoped>\n",
       "    .dataframe tbody tr th:only-of-type {\n",
       "        vertical-align: middle;\n",
       "    }\n",
       "\n",
       "    .dataframe tbody tr th {\n",
       "        vertical-align: top;\n",
       "    }\n",
       "\n",
       "    .dataframe thead th {\n",
       "        text-align: right;\n",
       "    }\n",
       "</style>\n",
       "<table border=\"1\" class=\"dataframe\">\n",
       "  <thead>\n",
       "    <tr style=\"text-align: right;\">\n",
       "      <th></th>\n",
       "      <th>mean</th>\n",
       "      <th>std</th>\n",
       "    </tr>\n",
       "    <tr>\n",
       "      <th>category_code</th>\n",
       "      <th></th>\n",
       "      <th></th>\n",
       "    </tr>\n",
       "  </thead>\n",
       "  <tbody>\n",
       "    <tr>\n",
       "      <th>search</th>\n",
       "      <td>943.40</td>\n",
       "      <td>6868.03</td>\n",
       "    </tr>\n",
       "    <tr>\n",
       "      <th>network_hosting</th>\n",
       "      <td>592.86</td>\n",
       "      <td>4707.10</td>\n",
       "    </tr>\n",
       "    <tr>\n",
       "      <th>games_video</th>\n",
       "      <td>197.14</td>\n",
       "      <td>3107.22</td>\n",
       "    </tr>\n",
       "    <tr>\n",
       "      <th>public_relations</th>\n",
       "      <td>171.23</td>\n",
       "      <td>2069.01</td>\n",
       "    </tr>\n",
       "    <tr>\n",
       "      <th>enterprise</th>\n",
       "      <td>67.34</td>\n",
       "      <td>1160.52</td>\n",
       "    </tr>\n",
       "    <tr>\n",
       "      <th>advertising</th>\n",
       "      <td>43.29</td>\n",
       "      <td>657.95</td>\n",
       "    </tr>\n",
       "    <tr>\n",
       "      <th>manufacturing</th>\n",
       "      <td>41.44</td>\n",
       "      <td>124.33</td>\n",
       "    </tr>\n",
       "    <tr>\n",
       "      <th>web</th>\n",
       "      <td>35.62</td>\n",
       "      <td>581.50</td>\n",
       "    </tr>\n",
       "    <tr>\n",
       "      <th>other</th>\n",
       "      <td>23.51</td>\n",
       "      <td>254.75</td>\n",
       "    </tr>\n",
       "    <tr>\n",
       "      <th>mobile</th>\n",
       "      <td>16.56</td>\n",
       "      <td>287.72</td>\n",
       "    </tr>\n",
       "  </tbody>\n",
       "</table>\n",
       "</div>"
      ],
      "text/plain": [
       "                   mean     std\n",
       "category_code                  \n",
       "search           943.40 6868.03\n",
       "network_hosting  592.86 4707.10\n",
       "games_video      197.14 3107.22\n",
       "public_relations 171.23 2069.01\n",
       "enterprise        67.34 1160.52\n",
       "advertising       43.29  657.95\n",
       "manufacturing     41.44  124.33\n",
       "web               35.62  581.50\n",
       "other             23.51  254.75\n",
       "mobile            16.56  287.72"
      ]
     },
     "metadata": {},
     "output_type": "display_data"
    }
   ],
   "source": [
    "# Группируем по категориям и рассчитываем среднюю цену и стандартное отклонение\n",
    "category_stats = company_n_acquisition_filtered.groupby('category_code')['price_amount'].agg(['mean', 'std'])\n",
    "\n",
    "# Сортируем по средней цене (наибольшие цены)\n",
    "top_categories_by_mean = category_stats.sort_values(by='mean', ascending=False).head(10)\n",
    "\n",
    "# Сортируем по стандартному отклонению (наибольший разброс цен)\n",
    "top_categories_by_std = category_stats.sort_values(by='std', ascending=False).head(10)\n",
    "\n",
    "# Объединяем результаты и сбрасываем дубликаты\n",
    "top_categories = pd.concat([top_categories_by_mean, top_categories_by_std]).drop_duplicates()\n",
    "\n",
    "display(top_categories)"
   ]
  },
  {
   "cell_type": "markdown",
   "metadata": {},
   "source": [
    "Исключив из выборки данные по верхней границе выбросов получили следующее: \n",
    "- Категория search имеет наибольшую среднюю цену, но также и большое стандартное отклонение, что указывает на значительный разброс цен в этой категории. \n",
    "- Категория manufacturing, напротив, имеет наименьшую среднюю цену и относительно небольшое стандартное отклонение."
   ]
  },
  {
   "cell_type": "markdown",
   "metadata": {},
   "source": [
    "Вывод:\n",
    "\n",
    "Категории стартапов с наибольшими ценами и значительным разбросом цен могут быть наиболее привлекательными для крупных инвесторов, которые готовы к высоким рискам ради потенциально больших доходов. Среди категорий стартапов можно выделить категории стартапов, характеризующиеся наибольшими типичными ценами и наибольшим разбросом цен за стартап.\n",
    "Так сгруппировав данные по категориям мы отсортировали их по средней цене (от наибольшей к наименьшей), а также по стандартному отклонению (показывает разброс значений относительно среднего) мы получили следующую информацию:\n",
    "\n",
    "- Наибольшее значение средней цены у категории enterprise, а наименьшее — у other.\n",
    "- Категория enterprise также имеет наибольшее стандартное отклонение, что говорит о большом разбросе цен в этой категории.\n",
    "\n",
    "Таким образом можно сделать вывод, что наиболее привлекательная категория для инвесторов - enterprise.\n",
    "\n",
    "\n",
    "Дополнительно мы вычислили верхнюю и нижнюю границу выбросов для данных по price_amount (сумма сделки). Нижняя граница, рассчитанная по IQR, не применима в данном случае, и её можно заменить на минимальное значение (0, поскольку мы можем допустить, что некоторые сделки были бесплатными (например, в рамках партнерства или обмена активами)). Отбросив значения по верхней границе выбросов, мы получили следующие данные:\n",
    "\n",
    "- Категория search имеет наибольшую среднюю цену, но также и большое стандартное отклонение, что указывает на значительный разброс цен в этой категории.\n",
    "- Категория manufacturing, напротив, имеет наименьшую среднюю цену и относительно небольшое стандартное отклонение.\n",
    "\n",
    "Таким образом, если ивестора интересуют более точная информация (без учета выбросов), то наиболее привлекательная категория для инвесторов - search. Но лучше уточнить у заказчика, какие данные его интересуют.\n"
   ]
  },
  {
   "cell_type": "markdown",
   "metadata": {
    "id": "ADOfyVY_rJg3"
   },
   "source": [
    "\n",
    "### 3.5. Сколько раундов продержится стартап перед покупкой\n",
    "\n",
    "* Необходимо проанализировать столбец `funding_rounds`. Исследуйте значения столбца. Заказчика интересует типичное значение количества раундов для каждого возможного статуса стартапа.\n",
    "\n",
    "* Постройте график, который отображает, сколько в среднем раундов финансирования проходило для стартапов из каждой группы. Сделайте выводы."
   ]
  },
  {
   "cell_type": "markdown",
   "metadata": {},
   "source": [
    "Сначала изучим данные в столбце funding_rounds:\n",
    "- Проверим наличие пропущенных значений.\n",
    "- Изучим распределение значений."
   ]
  },
  {
   "cell_type": "code",
   "execution_count": 72,
   "metadata": {},
   "outputs": [
    {
     "name": "stdout",
     "output_type": "stream",
     "text": [
      "0\n",
      "count   40890.00\n",
      "mean        1.29\n",
      "std         1.26\n",
      "min         0.00\n",
      "25%         1.00\n",
      "50%         1.00\n",
      "75%         2.00\n",
      "max        15.00\n",
      "Name: funding_rounds, dtype: float64\n"
     ]
    },
    {
     "data": {
      "image/png": "[encoded data removed]",
      "text/plain": [
       "<Figure size 1152x432 with 1 Axes>"
      ]
     },
     "metadata": {},
     "output_type": "display_data"
    }
   ],
   "source": [
    "# Проверим наличие пропущенных значений\n",
    "print(company_n_acquisition_df['funding_rounds'].isnull().sum())\n",
    "\n",
    "# Посмотрим краткое статистическое описание данных для столбца funding_rounds\n",
    "print(company_n_acquisition_df['funding_rounds'].describe())\n",
    "\n",
    "# Построим гистограмму распределения\n",
    "plt.figure(figsize=(16, 6))\n",
    "sns.histplot(company_n_acquisition_df['funding_rounds'], bins=20, kde=True)\n",
    "plt.title('Распределение количества раундов финансирования')\n",
    "plt.xlabel('Количество раундов')\n",
    "plt.ylabel('Частота')\n",
    "plt.show()"
   ]
  },
  {
   "cell_type": "markdown",
   "metadata": {},
   "source": [
    "Теперь сгруппируем данные по столбцу status и найдем типичное значение количества раундов финансирования для каждого статуса. В качестве типичного значения можно использовать:\n",
    "- Медиану (устойчива к выбросам).\n",
    "- Среднее значение (если данные распределены нормально)."
   ]
  },
  {
   "cell_type": "code",
   "execution_count": 73,
   "metadata": {},
   "outputs": [
    {
     "data": {
      "text/html": [
       "<div>\n",
       "<style scoped>\n",
       "    .dataframe tbody tr th:only-of-type {\n",
       "        vertical-align: middle;\n",
       "    }\n",
       "\n",
       "    .dataframe tbody tr th {\n",
       "        vertical-align: top;\n",
       "    }\n",
       "\n",
       "    .dataframe thead th {\n",
       "        text-align: right;\n",
       "    }\n",
       "</style>\n",
       "<table border=\"1\" class=\"dataframe\">\n",
       "  <thead>\n",
       "    <tr style=\"text-align: right;\">\n",
       "      <th></th>\n",
       "      <th>status</th>\n",
       "      <th>median_funding_rounds</th>\n",
       "      <th>mean_funding_rounds</th>\n",
       "    </tr>\n",
       "  </thead>\n",
       "  <tbody>\n",
       "    <tr>\n",
       "      <th>0</th>\n",
       "      <td>acquired</td>\n",
       "      <td>0.00</td>\n",
       "      <td>0.53</td>\n",
       "    </tr>\n",
       "    <tr>\n",
       "      <th>1</th>\n",
       "      <td>closed</td>\n",
       "      <td>1.00</td>\n",
       "      <td>1.38</td>\n",
       "    </tr>\n",
       "    <tr>\n",
       "      <th>2</th>\n",
       "      <td>ipo</td>\n",
       "      <td>1.00</td>\n",
       "      <td>1.93</td>\n",
       "    </tr>\n",
       "    <tr>\n",
       "      <th>3</th>\n",
       "      <td>operating</td>\n",
       "      <td>1.00</td>\n",
       "      <td>1.52</td>\n",
       "    </tr>\n",
       "  </tbody>\n",
       "</table>\n",
       "</div>"
      ],
      "text/plain": [
       "      status  median_funding_rounds  mean_funding_rounds\n",
       "0   acquired                   0.00                 0.53\n",
       "1     closed                   1.00                 1.38\n",
       "2        ipo                   1.00                 1.93\n",
       "3  operating                   1.00                 1.52"
      ]
     },
     "metadata": {},
     "output_type": "display_data"
    }
   ],
   "source": [
    "# Сгруппируем по статусу и расчетаем медиану\n",
    "typical_funding_rounds = company_n_acquisition_df.groupby('status')['funding_rounds'].median().reset_index()\n",
    "typical_funding_rounds.columns = ['status', 'median_funding_rounds']\n",
    "\n",
    "# Сгруппируем по статусу и расчетаем среднее\n",
    "mean_funding_rounds = company_n_acquisition_df.groupby('status')['funding_rounds'].mean().reset_index()\n",
    "mean_funding_rounds.columns = ['status', 'mean_funding_rounds']\n",
    "\n",
    "# Объединенм результаты\n",
    "typical_funding_rounds = typical_funding_rounds.merge(mean_funding_rounds, on='status')\n",
    "\n",
    "display(typical_funding_rounds)"
   ]
  },
  {
   "cell_type": "markdown",
   "metadata": {},
   "source": [
    "Для наглядности визуализирeум результаты:"
   ]
  },
  {
   "cell_type": "code",
   "execution_count": 74,
   "metadata": {},
   "outputs": [
    {
     "data": {
      "image/png": "[encoded data removed]",
      "text/plain": [
       "<Figure size 720x360 with 1 Axes>"
      ]
     },
     "metadata": {},
     "output_type": "display_data"
    },
    {
     "data": {
      "image/png": "[encoded data removed]",
      "text/plain": [
       "<Figure size 720x360 with 1 Axes>"
      ]
     },
     "metadata": {},
     "output_type": "display_data"
    }
   ],
   "source": [
    "# График медианного количества раундов по статусам\n",
    "plt.figure(figsize=(10, 5))\n",
    "sns.barplot(x='status', y='median_funding_rounds', data=typical_funding_rounds)\n",
    "plt.title('Медианное количество раундов финансирования по статусам')\n",
    "plt.xlabel('Статус стартапа')\n",
    "plt.ylabel('Медианное количество раундов')\n",
    "plt.xticks(rotation=0)\n",
    "plt.show()\n",
    "\n",
    "# График среднего количества раундов по статусам\n",
    "plt.figure(figsize=(10, 5))\n",
    "sns.barplot(x='status', y='mean_funding_rounds', data=typical_funding_rounds)\n",
    "plt.title('Среднее количество раундов финансирования по статусам')\n",
    "plt.xlabel('Статус стартапа')\n",
    "plt.ylabel('Среднее количество раундов')\n",
    "plt.xticks(rotation=0)\n",
    "plt.show()"
   ]
  },
  {
   "cell_type": "markdown",
   "metadata": {},
   "source": [
    "acquired (приобретенные стартапы):\n",
    "Медиана: 0.00\n",
    "Среднее: 0.53\n",
    "У половины приобретенных стартапов не было ни одного раунда финансирования (медиана равна 0). Среднее значение (0.53) немного выше, что указывает на наличие стартапов с одним или несколькими раундами финансирования. Это может означать, что многие приобретенные стартапы либо не привлекали внешнего финансирования, либо были куплены на ранних стадиях.\n",
    "\n",
    "closed (закрытые стартапы):\n",
    "Медиана: 1.00\n",
    "Среднее: 1.38\n",
    "У половины закрытых стартапов был хотя бы один раунд финансирования (медиана равна 1). Среднее значение (1.38) выше медианы, что говорит о наличии стартапов, которые привлекали больше одного раунда финансирования. Это может указывать на то, что даже несколько раундов финансирования не всегда гарантируют успех.\n",
    "\n",
    "ipo (стартапы, вышедшие на IPO):\n",
    "Медиана: 1.00\n",
    "Среднее: 1.93\n",
    "У половины стартапов, вышедших на IPO, был хотя бы один раунд финансирования (медиана равна 1). Среднее значение (1.93) значительно выше медианы, что указывает на наличие стартапов, которые привлекали несколько раундов финансирования перед выходом на IPO. Это может свидетельствовать о том, что успешные стартапы, как правило, проходят больше раундов финансирования.\n",
    "\n",
    "operating (действующие стартапы):\n",
    "Медиана: 1.00\n",
    "Среднее: 1.52\n",
    "У половины действующих стартапов был хотя бы один раунд финансирования (медиана равна 1). Среднее значение (1.52) выше медианы, что говорит о наличии стартапов, которые привлекали больше одного раунда финансирования. Это может указывать на то, что действующие стартапы часто проходят несколько раундов финансирования для поддержания своей деятельности."
   ]
  },
  {
   "cell_type": "markdown",
   "metadata": {},
   "source": [
    "Выводы:\n",
    "- Приобретенные стартапы чаще всего не привлекали финансирование или привлекали его минимально.\n",
    "\n",
    "- Закрытые стартапы в среднем привлекали немного больше финансирования, чем приобретенные, но этого было недостаточно для успеха.\n",
    "\n",
    "- Стартапы, вышедшие на IPO, привлекали больше раундов финансирования, что может быть связано с их успешным развитием.\n",
    "\n",
    "- Действующие стартапы также привлекают несколько раундов финансирования, что может быть необходимо для их текущей деятельности."
   ]
  },
  {
   "cell_type": "markdown",
   "metadata": {
    "id": "VAFEZ2HBrJg3"
   },
   "source": [
    "\n",
    "## Шаг 4. Итоговый вывод и рекомендации\n",
    "\n",
    "Опишите, что было сделано в проекте, какие были сделаны выводы, подкрепляют ли они друг друга или заставляют сомневаться в полученных результатах."
   ]
  },
  {
   "cell_type": "markdown",
   "metadata": {},
   "source": [
    "В ходе работы над проектом мы ознакомились с данными: загрузили и сделали первичную предобработку, осуществили смену типов и проанализировали пропуски.\n",
    "\n",
    "Далее мы осуществили предобработку данных и предварительное исследование:\n",
    "1) Раундов финансирования по годам: \n",
    "  - Составили сводную таблицу по годам. Оставили в таблице информацию только для тех лет, для которых есть информация о более чем 50 раундах финансирования. На основе получившейся таблицы построили график, который отражает динамику типичного размера средств, которые стартапы получали в рамках одного раунда финансирования. \n",
    "  - Сделали выводы: \n",
    "   - Типичный размер собранных в рамках одного раунда средств был максимален в 2005 году. Наблюдается тендеция к увеличению количества раундов. \n",
    "   - В 2013 году количество раундов составило - 11072 раунда. Количество средств выделяемых в рамках каждого раунда выросло, по сравнению с показателем 2012 года. О тенденции можно будет говорить, после получения данных на 2014, 2015 года.\n",
    "\n",
    "2) Людей и их образования:\n",
    "  - Используя датасеты people.csv и education.csv, разделили все компании на несколько групп по количеству сотрудников и оценили среднюю долю сотрудников без информации об образовании в каждой из групп.\n",
    "  - Проведя анализ данных сделали вывод, что полнота сведений о сотрудниках (в нашем случае, наличие данных об образовании) не зависит от размера компании. Средняя доля сотрудников без образования (отсутствие данных о дате получения образования) распределена почти равномерно - 60-70%.\n",
    "  - Оценили возможность присоединения к этим таблицам ещё и таблицу degrees.csv\n",
    "\n",
    "3) Объединения датасетов по столбцу network_username:\n",
    "  - Построив диаграммы Венна на основе столбца network_username для датафреймов (people_df и company_and_rounds_df) и (fund_df и company_and_rounds_df) сделали вывод, что количество пересечений менее 1% для обоих диаграмм. Соединение по столбцу network_username не даст нам значимого количества информации. Данные слабо связаны.\n",
    "\n",
    "4) Проблемного датасета company_and_rounds.csv:\n",
    "  - Привели данные датасета company_and_rounds.csv в вид, который позволит в дальнейшем проводить анализ в разрезе отдельных компаний. Максимальным образом сохранили данные, сохранив их связность и исключив возможные возникающие при этом ошибки, подготовили данные так, чтобы удобно было отобрать компании по параметрам и рассчитать показатели из расчёта на одну компанию без промежуточных агрегаций.\n",
    "\n",
    "\n",
    "\n",
    "\n",
    "Провели исследовательский анализ объединённой таблицы:\n",
    "\n",
    "1) Объединили данные для ответа на вопросы заказчика, которые касаются интересующих его компаний. Проверили полноту и корректность получившейся таблицы.\n",
    "\n",
    "2) Провели анализ выбросов.\n",
    "\n",
    "3) Исследовали компании, которые были проданы за ноль или за один доллар, и при этом известно, что у них был ненулевой общий объём финансирования. Рассчитали аналитически верхнюю и нижнюю границу выбросов для столбца funding_total и указали, каким процентилям границы соответствуют и пришли к выводу, что замена верхней границы на значение, рассчитанное по процентилям (91-й процентиль), обоснована, так как это позволяет сохранить основную массу данных и исключить только аномально высокие значения. Нижняя граница, рассчитанная по IQR, не применима в данном случае, и её можно заменить на минимальное значение (3750) или 1-й процентиль, если это имеет смысл в контексте задачи (отрицательные значения финансирования невозможны). Таким образом, замена границ выбросов на значения, рассчитанные по процентилям, является корректной для верхней границы, но требует пересмотра для нижней границы.\n",
    "\n",
    "4) Изучили цены стартапов по категориям и пришли к выводу, что категории стартапов с наибольшими ценами и значительным разбросом цен могут быть наиболее привлекательными для крупных инвесторов, которые готовы к высоким рискам ради потенциально больших доходов. Среди категорий стартапов можно выделить категории стартапов, характеризующиеся наибольшими типичными ценами и наибольшим разбросом цен за стартап. Так сгруппировав данные по категориям мы отсортировали их по средней цене (от наибольшей к наименьшей), а также по стандартному отклонению (показывает разброс значений относительно среднего) мы получили следующую информацию:\n",
    "  - Наибольшее значение средней цены у категории enterprise, а наименьшее — у other.\n",
    "  - Категория enterprise также имеет наибольшее стандартное отклонение, что говорит о большом разбросе цен в этой категории.\n",
    "\n",
    "Таким образом можно сделать вывод, что наиболее привлекательная категория для инвесторов - enterprise.\n",
    "\n",
    "\n",
    "5) Выяснили сколько раундов продержится стартап перед покупкой:\n",
    " - Приобретенные стартапы чаще всего не привлекали финансирование или привлекали его минимально.\n",
    " - Закрытые стартапы в среднем привлекали немного больше финансирования, чем приобретенные, но этого было недостаточно для успеха.\n",
    " - Стартапы, вышедшие на IPO, привлекали больше раундов финансирования, что может быть связано с их успешным развитием.\n",
    " - Действующие стартапы также привлекают несколько раундов финансирования, что может быть необходимо для их текущей деятельности.\n",
    "\n"
   ]
  },
  {
   "cell_type": "markdown",
   "metadata": {},
   "source": [
    "Представленные данные позволяют ответить на вопросы заказчика, но требуют уточнения более четких критериев."
   ]
  }
 ],
 "metadata": {
  "ExecuteTimeLog": [
   {
    "duration": 1292,
    "start_time": "2025-01-28T06:40:26.692Z"
   },
   {
    "duration": 2490,
    "start_time": "2025-01-28T06:44:33.772Z"
   },
   {
    "duration": 13,
    "start_time": "2025-01-28T06:46:33.194Z"
   },
   {
    "duration": 14,
    "start_time": "2025-01-28T06:46:59.728Z"
   },
   {
    "duration": 8,
    "start_time": "2025-01-28T06:47:13.054Z"
   },
   {
    "duration": 12,
    "start_time": "2025-01-28T06:47:15.036Z"
   },
   {
    "duration": 9,
    "start_time": "2025-01-28T06:47:50.019Z"
   },
   {
    "duration": 12,
    "start_time": "2025-01-28T06:48:31.953Z"
   },
   {
    "duration": 27,
    "start_time": "2025-01-28T06:49:04.905Z"
   },
   {
    "duration": 105,
    "start_time": "2025-01-28T06:49:25.731Z"
   },
   {
    "duration": 1361,
    "start_time": "2025-01-28T06:54:29.616Z"
   },
   {
    "duration": 2761,
    "start_time": "2025-01-28T06:54:30.980Z"
   },
   {
    "duration": 25,
    "start_time": "2025-01-28T06:54:33.743Z"
   },
   {
    "duration": 16,
    "start_time": "2025-01-28T06:54:33.771Z"
   },
   {
    "duration": 28,
    "start_time": "2025-01-28T06:54:33.789Z"
   },
   {
    "duration": 144,
    "start_time": "2025-01-28T06:54:33.819Z"
   },
   {
    "duration": 8,
    "start_time": "2025-01-28T06:54:33.965Z"
   },
   {
    "duration": 38,
    "start_time": "2025-01-28T06:54:33.975Z"
   },
   {
    "duration": 8,
    "start_time": "2025-01-28T06:54:34.015Z"
   },
   {
    "duration": 39,
    "start_time": "2025-01-28T06:54:34.025Z"
   },
   {
    "duration": 14,
    "start_time": "2025-01-28T06:54:34.066Z"
   },
   {
    "duration": 13,
    "start_time": "2025-01-28T06:54:34.082Z"
   },
   {
    "duration": 33,
    "start_time": "2025-01-28T06:54:34.097Z"
   },
   {
    "duration": 19,
    "start_time": "2025-01-28T06:54:34.131Z"
   },
   {
    "duration": 13,
    "start_time": "2025-01-28T06:54:34.151Z"
   },
   {
    "duration": 57,
    "start_time": "2025-01-28T06:54:34.165Z"
   },
   {
    "duration": 3,
    "start_time": "2025-01-28T06:57:27.245Z"
   },
   {
    "duration": 114,
    "start_time": "2025-01-28T07:31:16.782Z"
   },
   {
    "duration": 105,
    "start_time": "2025-01-28T07:31:40.361Z"
   },
   {
    "duration": 16,
    "start_time": "2025-01-28T07:34:59.327Z"
   },
   {
    "duration": 17,
    "start_time": "2025-01-28T07:35:14.733Z"
   },
   {
    "duration": 16,
    "start_time": "2025-01-28T07:35:19.250Z"
   },
   {
    "duration": 20,
    "start_time": "2025-01-28T07:35:45.990Z"
   },
   {
    "duration": 6,
    "start_time": "2025-01-28T07:38:11.809Z"
   },
   {
    "duration": 18,
    "start_time": "2025-01-28T07:38:52.055Z"
   },
   {
    "duration": 8,
    "start_time": "2025-01-28T07:39:50.503Z"
   },
   {
    "duration": 7,
    "start_time": "2025-01-28T07:44:53.750Z"
   },
   {
    "duration": 6,
    "start_time": "2025-01-28T07:45:22.869Z"
   },
   {
    "duration": 116,
    "start_time": "2025-01-28T07:45:42.868Z"
   },
   {
    "duration": 7,
    "start_time": "2025-01-28T07:46:21.704Z"
   },
   {
    "duration": 108,
    "start_time": "2025-01-28T07:46:30.902Z"
   },
   {
    "duration": 7,
    "start_time": "2025-01-28T07:48:21.190Z"
   },
   {
    "duration": 10,
    "start_time": "2025-01-28T07:49:02.650Z"
   },
   {
    "duration": 7,
    "start_time": "2025-01-28T07:49:32.771Z"
   },
   {
    "duration": 1243,
    "start_time": "2025-01-28T07:50:48.563Z"
   },
   {
    "duration": 8,
    "start_time": "2025-01-28T07:51:07.453Z"
   },
   {
    "duration": 7,
    "start_time": "2025-01-28T07:51:43.858Z"
   },
   {
    "duration": 13,
    "start_time": "2025-01-28T07:52:04.882Z"
   },
   {
    "duration": 13,
    "start_time": "2025-01-28T07:52:27.470Z"
   },
   {
    "duration": 12,
    "start_time": "2025-01-28T07:52:36.455Z"
   },
   {
    "duration": 6,
    "start_time": "2025-01-28T07:52:52.306Z"
   },
   {
    "duration": 7,
    "start_time": "2025-01-28T07:53:09.109Z"
   },
   {
    "duration": 7,
    "start_time": "2025-01-28T07:53:49.755Z"
   },
   {
    "duration": 4,
    "start_time": "2025-01-28T08:03:39.647Z"
   },
   {
    "duration": 8,
    "start_time": "2025-01-28T08:26:49.993Z"
   },
   {
    "duration": 14,
    "start_time": "2025-01-28T08:27:02.776Z"
   },
   {
    "duration": 12,
    "start_time": "2025-01-28T08:27:13.848Z"
   },
   {
    "duration": 17,
    "start_time": "2025-01-28T08:27:21.646Z"
   },
   {
    "duration": 1318,
    "start_time": "2025-01-28T08:58:41.249Z"
   },
   {
    "duration": 2874,
    "start_time": "2025-01-28T08:58:42.569Z"
   },
   {
    "duration": 18,
    "start_time": "2025-01-28T08:58:45.445Z"
   },
   {
    "duration": 23,
    "start_time": "2025-01-28T08:58:45.465Z"
   },
   {
    "duration": 55,
    "start_time": "2025-01-28T08:58:45.490Z"
   },
   {
    "duration": 141,
    "start_time": "2025-01-28T08:58:45.546Z"
   },
   {
    "duration": 8,
    "start_time": "2025-01-28T08:58:45.689Z"
   },
   {
    "duration": 34,
    "start_time": "2025-01-28T08:58:45.699Z"
   },
   {
    "duration": 8,
    "start_time": "2025-01-28T08:58:45.735Z"
   },
   {
    "duration": 22,
    "start_time": "2025-01-28T08:58:45.761Z"
   },
   {
    "duration": 11,
    "start_time": "2025-01-28T08:58:45.785Z"
   },
   {
    "duration": 14,
    "start_time": "2025-01-28T08:58:45.797Z"
   },
   {
    "duration": 7,
    "start_time": "2025-01-28T08:58:45.813Z"
   },
   {
    "duration": 42,
    "start_time": "2025-01-28T08:58:45.822Z"
   },
   {
    "duration": 10,
    "start_time": "2025-01-28T08:58:45.866Z"
   },
   {
    "duration": 54,
    "start_time": "2025-01-28T08:58:45.878Z"
   },
   {
    "duration": 8,
    "start_time": "2025-01-28T09:13:52.042Z"
   },
   {
    "duration": 12,
    "start_time": "2025-01-28T09:14:10.676Z"
   },
   {
    "duration": 50,
    "start_time": "2025-01-28T09:26:00.225Z"
   },
   {
    "duration": 2040,
    "start_time": "2025-01-28T09:26:08.909Z"
   },
   {
    "duration": 0,
    "start_time": "2025-01-28T09:26:10.953Z"
   },
   {
    "duration": 0,
    "start_time": "2025-01-28T09:26:10.955Z"
   },
   {
    "duration": 0,
    "start_time": "2025-01-28T09:26:10.956Z"
   },
   {
    "duration": 0,
    "start_time": "2025-01-28T09:26:10.958Z"
   },
   {
    "duration": 0,
    "start_time": "2025-01-28T09:26:10.960Z"
   },
   {
    "duration": 0,
    "start_time": "2025-01-28T09:26:10.971Z"
   },
   {
    "duration": 0,
    "start_time": "2025-01-28T09:26:10.972Z"
   },
   {
    "duration": 0,
    "start_time": "2025-01-28T09:26:10.973Z"
   },
   {
    "duration": 0,
    "start_time": "2025-01-28T09:26:10.975Z"
   },
   {
    "duration": 0,
    "start_time": "2025-01-28T09:26:10.977Z"
   },
   {
    "duration": 0,
    "start_time": "2025-01-28T09:26:10.978Z"
   },
   {
    "duration": 0,
    "start_time": "2025-01-28T09:26:10.980Z"
   },
   {
    "duration": 0,
    "start_time": "2025-01-28T09:26:10.981Z"
   },
   {
    "duration": 0,
    "start_time": "2025-01-28T09:26:10.983Z"
   },
   {
    "duration": 0,
    "start_time": "2025-01-28T09:26:10.991Z"
   },
   {
    "duration": 0,
    "start_time": "2025-01-28T09:26:10.993Z"
   },
   {
    "duration": 0,
    "start_time": "2025-01-28T09:26:10.994Z"
   },
   {
    "duration": 10,
    "start_time": "2025-01-28T09:26:24.207Z"
   },
   {
    "duration": 9,
    "start_time": "2025-01-28T09:27:01.232Z"
   },
   {
    "duration": 2518,
    "start_time": "2025-01-28T09:27:04.535Z"
   },
   {
    "duration": 17,
    "start_time": "2025-01-28T09:27:07.055Z"
   },
   {
    "duration": 13,
    "start_time": "2025-01-28T09:27:07.265Z"
   },
   {
    "duration": 1361,
    "start_time": "2025-01-28T11:08:54.868Z"
   },
   {
    "duration": 0,
    "start_time": "2025-01-28T11:08:56.231Z"
   },
   {
    "duration": 0,
    "start_time": "2025-01-28T11:08:56.232Z"
   },
   {
    "duration": 0,
    "start_time": "2025-01-28T11:08:56.233Z"
   },
   {
    "duration": 0,
    "start_time": "2025-01-28T11:08:56.234Z"
   },
   {
    "duration": 0,
    "start_time": "2025-01-28T11:08:56.235Z"
   },
   {
    "duration": 0,
    "start_time": "2025-01-28T11:08:56.235Z"
   },
   {
    "duration": 0,
    "start_time": "2025-01-28T11:08:56.236Z"
   },
   {
    "duration": 0,
    "start_time": "2025-01-28T11:08:56.237Z"
   },
   {
    "duration": 0,
    "start_time": "2025-01-28T11:08:56.238Z"
   },
   {
    "duration": 0,
    "start_time": "2025-01-28T11:08:56.239Z"
   },
   {
    "duration": 0,
    "start_time": "2025-01-28T11:08:56.240Z"
   },
   {
    "duration": 0,
    "start_time": "2025-01-28T11:08:56.241Z"
   },
   {
    "duration": 0,
    "start_time": "2025-01-28T11:08:56.242Z"
   },
   {
    "duration": 0,
    "start_time": "2025-01-28T11:08:56.243Z"
   },
   {
    "duration": 0,
    "start_time": "2025-01-28T11:08:56.243Z"
   },
   {
    "duration": 0,
    "start_time": "2025-01-28T11:08:56.244Z"
   },
   {
    "duration": 0,
    "start_time": "2025-01-28T11:08:56.245Z"
   },
   {
    "duration": 8,
    "start_time": "2025-01-28T11:09:15.535Z"
   },
   {
    "duration": 2781,
    "start_time": "2025-01-28T11:09:17.416Z"
   },
   {
    "duration": 19,
    "start_time": "2025-01-28T11:09:20.199Z"
   },
   {
    "duration": 11,
    "start_time": "2025-01-28T11:09:20.219Z"
   },
   {
    "duration": 22,
    "start_time": "2025-01-28T11:09:20.458Z"
   },
   {
    "duration": 90,
    "start_time": "2025-01-28T11:09:24.227Z"
   },
   {
    "duration": 7,
    "start_time": "2025-01-28T11:09:27.320Z"
   },
   {
    "duration": 22,
    "start_time": "2025-01-28T11:09:27.767Z"
   },
   {
    "duration": 7,
    "start_time": "2025-01-28T11:09:30.106Z"
   },
   {
    "duration": 18,
    "start_time": "2025-01-28T11:09:30.511Z"
   },
   {
    "duration": 9,
    "start_time": "2025-01-28T11:09:31.319Z"
   },
   {
    "duration": 11,
    "start_time": "2025-01-28T11:09:31.728Z"
   },
   {
    "duration": 7,
    "start_time": "2025-01-28T11:09:32.690Z"
   },
   {
    "duration": 10,
    "start_time": "2025-01-28T11:09:33.089Z"
   },
   {
    "duration": 8,
    "start_time": "2025-01-28T11:09:33.923Z"
   },
   {
    "duration": 36,
    "start_time": "2025-01-28T11:09:34.305Z"
   },
   {
    "duration": 6,
    "start_time": "2025-01-28T11:09:35.868Z"
   },
   {
    "duration": 10,
    "start_time": "2025-01-28T11:09:36.879Z"
   },
   {
    "duration": 8,
    "start_time": "2025-01-28T11:09:56.001Z"
   },
   {
    "duration": 10,
    "start_time": "2025-01-28T11:10:04.168Z"
   },
   {
    "duration": 5,
    "start_time": "2025-01-28T11:10:25.473Z"
   },
   {
    "duration": 1079,
    "start_time": "2025-01-28T11:10:47.486Z"
   },
   {
    "duration": 12,
    "start_time": "2025-01-28T11:11:13.521Z"
   },
   {
    "duration": 1257,
    "start_time": "2025-01-28T11:11:27.327Z"
   },
   {
    "duration": 3375,
    "start_time": "2025-01-28T11:13:09.990Z"
   },
   {
    "duration": 3,
    "start_time": "2025-01-28T11:18:41.091Z"
   },
   {
    "duration": 18,
    "start_time": "2025-01-28T11:19:07.864Z"
   },
   {
    "duration": 9,
    "start_time": "2025-01-28T11:19:21.081Z"
   },
   {
    "duration": 9,
    "start_time": "2025-01-28T11:21:50.824Z"
   },
   {
    "duration": 3648,
    "start_time": "2025-01-28T11:22:55.953Z"
   },
   {
    "duration": 2506,
    "start_time": "2025-01-28T11:22:59.603Z"
   },
   {
    "duration": 12,
    "start_time": "2025-01-28T11:23:02.111Z"
   },
   {
    "duration": 19,
    "start_time": "2025-01-28T11:23:02.125Z"
   },
   {
    "duration": 24,
    "start_time": "2025-01-28T11:23:02.145Z"
   },
   {
    "duration": 154,
    "start_time": "2025-01-28T11:23:02.171Z"
   },
   {
    "duration": 7,
    "start_time": "2025-01-28T11:23:02.327Z"
   },
   {
    "duration": 52,
    "start_time": "2025-01-28T11:23:02.335Z"
   },
   {
    "duration": 9,
    "start_time": "2025-01-28T11:23:02.389Z"
   },
   {
    "duration": 20,
    "start_time": "2025-01-28T11:23:02.401Z"
   },
   {
    "duration": 23,
    "start_time": "2025-01-28T11:23:02.422Z"
   },
   {
    "duration": 18,
    "start_time": "2025-01-28T11:23:02.447Z"
   },
   {
    "duration": 6,
    "start_time": "2025-01-28T11:23:02.467Z"
   },
   {
    "duration": 20,
    "start_time": "2025-01-28T11:23:02.475Z"
   },
   {
    "duration": 9,
    "start_time": "2025-01-28T11:23:02.496Z"
   },
   {
    "duration": 59,
    "start_time": "2025-01-28T11:23:02.506Z"
   },
   {
    "duration": 5,
    "start_time": "2025-01-28T11:23:02.566Z"
   },
   {
    "duration": 17,
    "start_time": "2025-01-28T11:23:02.572Z"
   },
   {
    "duration": 8,
    "start_time": "2025-01-28T11:24:21.525Z"
   },
   {
    "duration": 5,
    "start_time": "2025-01-28T11:24:32.623Z"
   },
   {
    "duration": 43441,
    "start_time": "2025-01-28T12:47:46.662Z"
   },
   {
    "duration": 0,
    "start_time": "2025-01-28T12:48:30.105Z"
   },
   {
    "duration": 0,
    "start_time": "2025-01-28T12:48:30.106Z"
   },
   {
    "duration": 0,
    "start_time": "2025-01-28T12:48:30.108Z"
   },
   {
    "duration": 0,
    "start_time": "2025-01-28T12:48:30.109Z"
   },
   {
    "duration": 0,
    "start_time": "2025-01-28T12:48:30.110Z"
   },
   {
    "duration": 0,
    "start_time": "2025-01-28T12:48:30.117Z"
   },
   {
    "duration": 0,
    "start_time": "2025-01-28T12:48:30.118Z"
   },
   {
    "duration": 0,
    "start_time": "2025-01-28T12:48:30.119Z"
   },
   {
    "duration": 0,
    "start_time": "2025-01-28T12:48:30.120Z"
   },
   {
    "duration": 0,
    "start_time": "2025-01-28T12:48:30.121Z"
   },
   {
    "duration": 0,
    "start_time": "2025-01-28T12:48:30.122Z"
   },
   {
    "duration": 0,
    "start_time": "2025-01-28T12:48:30.123Z"
   },
   {
    "duration": 0,
    "start_time": "2025-01-28T12:48:30.124Z"
   },
   {
    "duration": 0,
    "start_time": "2025-01-28T12:48:30.125Z"
   },
   {
    "duration": 0,
    "start_time": "2025-01-28T12:48:30.127Z"
   },
   {
    "duration": 1,
    "start_time": "2025-01-28T12:48:30.127Z"
   },
   {
    "duration": 0,
    "start_time": "2025-01-28T12:48:30.129Z"
   },
   {
    "duration": 4580,
    "start_time": "2025-01-28T12:49:59.298Z"
   },
   {
    "duration": 1982,
    "start_time": "2025-01-28T12:50:03.880Z"
   },
   {
    "duration": 12,
    "start_time": "2025-01-28T12:50:05.864Z"
   },
   {
    "duration": 14,
    "start_time": "2025-01-28T12:50:05.878Z"
   },
   {
    "duration": 39,
    "start_time": "2025-01-28T12:50:05.893Z"
   },
   {
    "duration": 113,
    "start_time": "2025-01-28T12:50:05.934Z"
   },
   {
    "duration": 8,
    "start_time": "2025-01-28T12:50:06.049Z"
   },
   {
    "duration": 72,
    "start_time": "2025-01-28T12:50:06.058Z"
   },
   {
    "duration": 42,
    "start_time": "2025-01-28T12:50:06.132Z"
   },
   {
    "duration": 30,
    "start_time": "2025-01-28T12:50:06.177Z"
   },
   {
    "duration": 12,
    "start_time": "2025-01-28T12:50:06.208Z"
   },
   {
    "duration": 26,
    "start_time": "2025-01-28T12:50:06.221Z"
   },
   {
    "duration": 9,
    "start_time": "2025-01-28T12:50:06.249Z"
   },
   {
    "duration": 13,
    "start_time": "2025-01-28T12:50:06.259Z"
   },
   {
    "duration": 8,
    "start_time": "2025-01-28T12:50:06.274Z"
   },
   {
    "duration": 53,
    "start_time": "2025-01-28T12:50:06.283Z"
   },
   {
    "duration": 5,
    "start_time": "2025-01-28T12:50:06.337Z"
   },
   {
    "duration": 58,
    "start_time": "2025-01-28T12:50:06.343Z"
   },
   {
    "duration": 105,
    "start_time": "2025-01-28T12:51:14.831Z"
   },
   {
    "duration": 1567,
    "start_time": "2025-01-28T13:10:15.544Z"
   },
   {
    "duration": 161,
    "start_time": "2025-01-28T13:11:11.833Z"
   },
   {
    "duration": 83,
    "start_time": "2025-01-28T13:11:25.390Z"
   },
   {
    "duration": 4,
    "start_time": "2025-01-28T13:11:41.854Z"
   },
   {
    "duration": 3873,
    "start_time": "2025-01-28T13:11:46.543Z"
   },
   {
    "duration": 2463,
    "start_time": "2025-01-28T13:11:50.419Z"
   },
   {
    "duration": 12,
    "start_time": "2025-01-28T13:11:52.884Z"
   },
   {
    "duration": 27,
    "start_time": "2025-01-28T13:11:52.898Z"
   },
   {
    "duration": 25,
    "start_time": "2025-01-28T13:11:52.926Z"
   },
   {
    "duration": 122,
    "start_time": "2025-01-28T13:11:52.953Z"
   },
   {
    "duration": 8,
    "start_time": "2025-01-28T13:11:53.077Z"
   },
   {
    "duration": 38,
    "start_time": "2025-01-28T13:11:53.087Z"
   },
   {
    "duration": 18,
    "start_time": "2025-01-28T13:11:53.127Z"
   },
   {
    "duration": 28,
    "start_time": "2025-01-28T13:11:53.148Z"
   },
   {
    "duration": 67,
    "start_time": "2025-01-28T13:11:53.178Z"
   },
   {
    "duration": 25,
    "start_time": "2025-01-28T13:11:53.247Z"
   },
   {
    "duration": 7,
    "start_time": "2025-01-28T13:11:53.273Z"
   },
   {
    "duration": 9,
    "start_time": "2025-01-28T13:11:53.281Z"
   },
   {
    "duration": 8,
    "start_time": "2025-01-28T13:11:53.292Z"
   },
   {
    "duration": 104,
    "start_time": "2025-01-28T13:11:53.301Z"
   },
   {
    "duration": 4,
    "start_time": "2025-01-28T13:11:53.407Z"
   },
   {
    "duration": 152,
    "start_time": "2025-01-28T13:11:53.413Z"
   },
   {
    "duration": 91,
    "start_time": "2025-01-28T13:11:53.567Z"
   },
   {
    "duration": 4,
    "start_time": "2025-01-28T13:12:58.837Z"
   },
   {
    "duration": 56,
    "start_time": "2025-01-28T13:13:00.363Z"
   },
   {
    "duration": 3873,
    "start_time": "2025-01-28T13:13:04.556Z"
   },
   {
    "duration": 2415,
    "start_time": "2025-01-28T13:13:08.431Z"
   },
   {
    "duration": 13,
    "start_time": "2025-01-28T13:13:10.848Z"
   },
   {
    "duration": 58,
    "start_time": "2025-01-28T13:13:10.863Z"
   },
   {
    "duration": 43,
    "start_time": "2025-01-28T13:13:10.923Z"
   },
   {
    "duration": 111,
    "start_time": "2025-01-28T13:13:10.967Z"
   },
   {
    "duration": 8,
    "start_time": "2025-01-28T13:13:11.080Z"
   },
   {
    "duration": 44,
    "start_time": "2025-01-28T13:13:11.089Z"
   },
   {
    "duration": 11,
    "start_time": "2025-01-28T13:13:11.134Z"
   },
   {
    "duration": 94,
    "start_time": "2025-01-28T13:13:11.147Z"
   },
   {
    "duration": 29,
    "start_time": "2025-01-28T13:13:11.242Z"
   },
   {
    "duration": 41,
    "start_time": "2025-01-28T13:13:11.273Z"
   },
   {
    "duration": 66,
    "start_time": "2025-01-28T13:13:11.315Z"
   },
   {
    "duration": 13,
    "start_time": "2025-01-28T13:13:11.382Z"
   },
   {
    "duration": 10,
    "start_time": "2025-01-28T13:13:11.396Z"
   },
   {
    "duration": 56,
    "start_time": "2025-01-28T13:13:11.407Z"
   },
   {
    "duration": 4,
    "start_time": "2025-01-28T13:13:11.465Z"
   },
   {
    "duration": 257,
    "start_time": "2025-01-28T13:13:11.470Z"
   },
   {
    "duration": 88,
    "start_time": "2025-01-28T13:13:11.729Z"
   },
   {
    "duration": 170,
    "start_time": "2025-01-28T13:16:29.740Z"
   },
   {
    "duration": 17,
    "start_time": "2025-01-28T13:16:43.308Z"
   },
   {
    "duration": 15,
    "start_time": "2025-01-28T13:16:52.848Z"
   },
   {
    "duration": 235,
    "start_time": "2025-01-28T13:35:10.581Z"
   },
   {
    "duration": 4811,
    "start_time": "2025-01-29T06:26:14.748Z"
   },
   {
    "duration": 2385,
    "start_time": "2025-01-29T06:26:19.561Z"
   },
   {
    "duration": 13,
    "start_time": "2025-01-29T06:26:21.948Z"
   },
   {
    "duration": 13,
    "start_time": "2025-01-29T06:26:21.962Z"
   },
   {
    "duration": 45,
    "start_time": "2025-01-29T06:26:21.976Z"
   },
   {
    "duration": 117,
    "start_time": "2025-01-29T06:26:22.023Z"
   },
   {
    "duration": 9,
    "start_time": "2025-01-29T06:26:22.142Z"
   },
   {
    "duration": 29,
    "start_time": "2025-01-29T06:26:22.153Z"
   },
   {
    "duration": 31,
    "start_time": "2025-01-29T06:26:22.183Z"
   },
   {
    "duration": 20,
    "start_time": "2025-01-29T06:26:22.217Z"
   },
   {
    "duration": 10,
    "start_time": "2025-01-29T06:26:22.239Z"
   },
   {
    "duration": 12,
    "start_time": "2025-01-29T06:26:22.251Z"
   },
   {
    "duration": 6,
    "start_time": "2025-01-29T06:26:22.265Z"
   },
   {
    "duration": 45,
    "start_time": "2025-01-29T06:26:22.273Z"
   },
   {
    "duration": 11,
    "start_time": "2025-01-29T06:26:22.320Z"
   },
   {
    "duration": 42,
    "start_time": "2025-01-29T06:26:22.332Z"
   },
   {
    "duration": 4,
    "start_time": "2025-01-29T06:26:22.375Z"
   },
   {
    "duration": 200,
    "start_time": "2025-01-29T06:26:22.381Z"
   },
   {
    "duration": 217,
    "start_time": "2025-01-29T06:26:22.583Z"
   },
   {
    "duration": 156,
    "start_time": "2025-01-29T06:58:07.122Z"
   },
   {
    "duration": 57,
    "start_time": "2025-01-29T07:01:03.373Z"
   },
   {
    "duration": 49,
    "start_time": "2025-01-29T08:55:15.005Z"
   },
   {
    "duration": 4784,
    "start_time": "2025-01-29T08:55:44.764Z"
   },
   {
    "duration": 2139,
    "start_time": "2025-01-29T08:55:49.551Z"
   },
   {
    "duration": 22,
    "start_time": "2025-01-29T08:55:51.692Z"
   },
   {
    "duration": 13,
    "start_time": "2025-01-29T08:55:51.716Z"
   },
   {
    "duration": 26,
    "start_time": "2025-01-29T08:55:51.730Z"
   },
   {
    "duration": 122,
    "start_time": "2025-01-29T08:55:51.758Z"
   },
   {
    "duration": 8,
    "start_time": "2025-01-29T08:55:51.882Z"
   },
   {
    "duration": 38,
    "start_time": "2025-01-29T08:55:51.891Z"
   },
   {
    "duration": 8,
    "start_time": "2025-01-29T08:55:51.931Z"
   },
   {
    "duration": 21,
    "start_time": "2025-01-29T08:55:51.943Z"
   },
   {
    "duration": 11,
    "start_time": "2025-01-29T08:55:51.966Z"
   },
   {
    "duration": 48,
    "start_time": "2025-01-29T08:55:51.979Z"
   },
   {
    "duration": 16,
    "start_time": "2025-01-29T08:55:52.028Z"
   },
   {
    "duration": 16,
    "start_time": "2025-01-29T08:55:52.046Z"
   },
   {
    "duration": 8,
    "start_time": "2025-01-29T08:55:52.064Z"
   },
   {
    "duration": 49,
    "start_time": "2025-01-29T08:55:52.073Z"
   },
   {
    "duration": 3,
    "start_time": "2025-01-29T08:55:52.124Z"
   },
   {
    "duration": 170,
    "start_time": "2025-01-29T08:55:52.129Z"
   },
   {
    "duration": 218,
    "start_time": "2025-01-29T08:55:52.301Z"
   },
   {
    "duration": 96,
    "start_time": "2025-01-29T08:55:52.520Z"
   },
   {
    "duration": 16,
    "start_time": "2025-01-29T09:04:04.198Z"
   },
   {
    "duration": 21,
    "start_time": "2025-01-29T09:04:25.039Z"
   },
   {
    "duration": 206,
    "start_time": "2025-01-29T09:05:54.495Z"
   },
   {
    "duration": 23,
    "start_time": "2025-01-29T09:08:13.004Z"
   },
   {
    "duration": 222,
    "start_time": "2025-01-29T09:08:14.149Z"
   },
   {
    "duration": 198,
    "start_time": "2025-01-29T09:23:11.867Z"
   },
   {
    "duration": 26,
    "start_time": "2025-01-29T09:41:19.188Z"
   },
   {
    "duration": 5381,
    "start_time": "2025-01-30T06:56:55.627Z"
   },
   {
    "duration": 2493,
    "start_time": "2025-01-30T06:57:01.011Z"
   },
   {
    "duration": 15,
    "start_time": "2025-01-30T06:57:03.506Z"
   },
   {
    "duration": 16,
    "start_time": "2025-01-30T06:57:03.524Z"
   },
   {
    "duration": 50,
    "start_time": "2025-01-30T06:57:03.542Z"
   },
   {
    "duration": 124,
    "start_time": "2025-01-30T06:57:03.594Z"
   },
   {
    "duration": 9,
    "start_time": "2025-01-30T06:57:03.720Z"
   },
   {
    "duration": 34,
    "start_time": "2025-01-30T06:57:03.731Z"
   },
   {
    "duration": 8,
    "start_time": "2025-01-30T06:57:03.773Z"
   },
   {
    "duration": 43,
    "start_time": "2025-01-30T06:57:03.785Z"
   },
   {
    "duration": 16,
    "start_time": "2025-01-30T06:57:03.830Z"
   },
   {
    "duration": 39,
    "start_time": "2025-01-30T06:57:03.849Z"
   },
   {
    "duration": 58,
    "start_time": "2025-01-30T06:57:03.890Z"
   },
   {
    "duration": 29,
    "start_time": "2025-01-30T06:57:03.950Z"
   },
   {
    "duration": 11,
    "start_time": "2025-01-30T06:57:03.981Z"
   },
   {
    "duration": 54,
    "start_time": "2025-01-30T06:57:03.993Z"
   },
   {
    "duration": 5,
    "start_time": "2025-01-30T06:57:04.049Z"
   },
   {
    "duration": 191,
    "start_time": "2025-01-30T06:57:04.055Z"
   },
   {
    "duration": 128,
    "start_time": "2025-01-30T06:57:04.248Z"
   },
   {
    "duration": 0,
    "start_time": "2025-01-30T06:57:04.378Z"
   },
   {
    "duration": 15,
    "start_time": "2025-01-30T06:57:35.543Z"
   },
   {
    "duration": 35,
    "start_time": "2025-01-30T06:58:55.216Z"
   },
   {
    "duration": 25,
    "start_time": "2025-01-30T06:59:01.998Z"
   },
   {
    "duration": 14,
    "start_time": "2025-01-30T06:59:16.156Z"
   },
   {
    "duration": 104,
    "start_time": "2025-01-30T07:11:11.967Z"
   },
   {
    "duration": 4060,
    "start_time": "2025-01-30T07:11:21.145Z"
   },
   {
    "duration": 2253,
    "start_time": "2025-01-30T07:11:25.207Z"
   },
   {
    "duration": 19,
    "start_time": "2025-01-30T07:11:27.462Z"
   },
   {
    "duration": 15,
    "start_time": "2025-01-30T07:11:27.483Z"
   },
   {
    "duration": 25,
    "start_time": "2025-01-30T07:11:27.500Z"
   },
   {
    "duration": 128,
    "start_time": "2025-01-30T07:11:27.527Z"
   },
   {
    "duration": 16,
    "start_time": "2025-01-30T07:11:27.657Z"
   },
   {
    "duration": 30,
    "start_time": "2025-01-30T07:11:27.675Z"
   },
   {
    "duration": 8,
    "start_time": "2025-01-30T07:11:27.707Z"
   },
   {
    "duration": 22,
    "start_time": "2025-01-30T07:11:27.718Z"
   },
   {
    "duration": 37,
    "start_time": "2025-01-30T07:11:27.741Z"
   },
   {
    "duration": 15,
    "start_time": "2025-01-30T07:11:27.780Z"
   },
   {
    "duration": 8,
    "start_time": "2025-01-30T07:11:27.797Z"
   },
   {
    "duration": 12,
    "start_time": "2025-01-30T07:11:27.807Z"
   },
   {
    "duration": 9,
    "start_time": "2025-01-30T07:11:27.821Z"
   },
   {
    "duration": 80,
    "start_time": "2025-01-30T07:11:27.832Z"
   },
   {
    "duration": 5,
    "start_time": "2025-01-30T07:11:27.914Z"
   },
   {
    "duration": 200,
    "start_time": "2025-01-30T07:11:27.920Z"
   },
   {
    "duration": 103,
    "start_time": "2025-01-30T07:11:28.122Z"
   },
   {
    "duration": 28,
    "start_time": "2025-01-30T07:11:28.227Z"
   },
   {
    "duration": 255,
    "start_time": "2025-01-30T07:11:28.257Z"
   },
   {
    "duration": 47,
    "start_time": "2025-01-30T07:12:20.405Z"
   },
   {
    "duration": 225,
    "start_time": "2025-01-30T07:22:02.836Z"
   },
   {
    "duration": 37,
    "start_time": "2025-01-30T08:04:03.307Z"
   },
   {
    "duration": 37,
    "start_time": "2025-01-30T08:05:24.966Z"
   },
   {
    "duration": 54,
    "start_time": "2025-01-30T08:06:12.753Z"
   },
   {
    "duration": 231,
    "start_time": "2025-01-30T08:06:13.544Z"
   },
   {
    "duration": 33,
    "start_time": "2025-01-30T08:06:21.451Z"
   },
   {
    "duration": 71,
    "start_time": "2025-01-30T08:07:47.030Z"
   },
   {
    "duration": 88,
    "start_time": "2025-01-30T08:08:05.489Z"
   },
   {
    "duration": 5033,
    "start_time": "2025-01-30T11:16:50.218Z"
   },
   {
    "duration": 2085,
    "start_time": "2025-01-30T11:16:55.253Z"
   },
   {
    "duration": 19,
    "start_time": "2025-01-30T11:16:57.340Z"
   },
   {
    "duration": 13,
    "start_time": "2025-01-30T11:16:57.361Z"
   },
   {
    "duration": 32,
    "start_time": "2025-01-30T11:16:57.375Z"
   },
   {
    "duration": 114,
    "start_time": "2025-01-30T11:16:57.409Z"
   },
   {
    "duration": 8,
    "start_time": "2025-01-30T11:16:57.524Z"
   },
   {
    "duration": 36,
    "start_time": "2025-01-30T11:16:57.534Z"
   },
   {
    "duration": 8,
    "start_time": "2025-01-30T11:16:57.572Z"
   },
   {
    "duration": 20,
    "start_time": "2025-01-30T11:16:57.582Z"
   },
   {
    "duration": 12,
    "start_time": "2025-01-30T11:16:57.603Z"
   },
   {
    "duration": 16,
    "start_time": "2025-01-30T11:16:57.616Z"
   },
   {
    "duration": 7,
    "start_time": "2025-01-30T11:16:57.658Z"
   },
   {
    "duration": 22,
    "start_time": "2025-01-30T11:16:57.666Z"
   },
   {
    "duration": 8,
    "start_time": "2025-01-30T11:16:57.689Z"
   },
   {
    "duration": 43,
    "start_time": "2025-01-30T11:16:57.699Z"
   },
   {
    "duration": 14,
    "start_time": "2025-01-30T11:16:57.744Z"
   },
   {
    "duration": 174,
    "start_time": "2025-01-30T11:16:57.759Z"
   },
   {
    "duration": 71,
    "start_time": "2025-01-30T11:16:57.934Z"
   },
   {
    "duration": 210,
    "start_time": "2025-01-30T11:16:58.007Z"
   },
   {
    "duration": 42,
    "start_time": "2025-01-30T11:16:58.218Z"
   },
   {
    "duration": 6482,
    "start_time": "2025-01-31T06:36:58.418Z"
   },
   {
    "duration": 1990,
    "start_time": "2025-01-31T06:37:04.902Z"
   },
   {
    "duration": 13,
    "start_time": "2025-01-31T06:37:06.894Z"
   },
   {
    "duration": 24,
    "start_time": "2025-01-31T06:37:06.909Z"
   },
   {
    "duration": 49,
    "start_time": "2025-01-31T06:37:06.934Z"
   },
   {
    "duration": 117,
    "start_time": "2025-01-31T06:37:06.984Z"
   },
   {
    "duration": 8,
    "start_time": "2025-01-31T06:37:07.102Z"
   },
   {
    "duration": 87,
    "start_time": "2025-01-31T06:37:07.112Z"
   },
   {
    "duration": 12,
    "start_time": "2025-01-31T06:37:07.201Z"
   },
   {
    "duration": 34,
    "start_time": "2025-01-31T06:37:07.215Z"
   },
   {
    "duration": 11,
    "start_time": "2025-01-31T06:37:07.251Z"
   },
   {
    "duration": 39,
    "start_time": "2025-01-31T06:37:07.263Z"
   },
   {
    "duration": 20,
    "start_time": "2025-01-31T06:37:07.303Z"
   },
   {
    "duration": 15,
    "start_time": "2025-01-31T06:37:07.324Z"
   },
   {
    "duration": 16,
    "start_time": "2025-01-31T06:37:07.340Z"
   },
   {
    "duration": 41,
    "start_time": "2025-01-31T06:37:07.358Z"
   },
   {
    "duration": 4,
    "start_time": "2025-01-31T06:37:07.400Z"
   },
   {
    "duration": 193,
    "start_time": "2025-01-31T06:37:07.406Z"
   },
   {
    "duration": 67,
    "start_time": "2025-01-31T06:37:07.601Z"
   },
   {
    "duration": 235,
    "start_time": "2025-01-31T06:37:07.670Z"
   },
   {
    "duration": 37,
    "start_time": "2025-01-31T06:37:07.907Z"
   },
   {
    "duration": 90,
    "start_time": "2025-01-31T07:17:38.221Z"
   },
   {
    "duration": 110,
    "start_time": "2025-01-31T07:18:12.794Z"
   },
   {
    "duration": 90,
    "start_time": "2025-01-31T07:28:55.265Z"
   },
   {
    "duration": 103,
    "start_time": "2025-01-31T07:38:36.734Z"
   },
   {
    "duration": 86,
    "start_time": "2025-01-31T07:40:13.669Z"
   },
   {
    "duration": 89,
    "start_time": "2025-01-31T07:40:41.190Z"
   },
   {
    "duration": 33,
    "start_time": "2025-01-31T07:41:57.114Z"
   },
   {
    "duration": 40,
    "start_time": "2025-01-31T07:42:49.552Z"
   },
   {
    "duration": 135,
    "start_time": "2025-01-31T07:44:28.190Z"
   },
   {
    "duration": 34,
    "start_time": "2025-01-31T07:44:38.025Z"
   },
   {
    "duration": 114,
    "start_time": "2025-01-31T07:44:59.710Z"
   },
   {
    "duration": 60,
    "start_time": "2025-01-31T07:45:01.344Z"
   },
   {
    "duration": 57,
    "start_time": "2025-01-31T07:45:53.531Z"
   },
   {
    "duration": 9,
    "start_time": "2025-01-31T07:52:22.341Z"
   },
   {
    "duration": 35,
    "start_time": "2025-01-31T07:52:33.169Z"
   },
   {
    "duration": 37,
    "start_time": "2025-01-31T07:53:28.080Z"
   },
   {
    "duration": 95,
    "start_time": "2025-01-31T07:54:54.084Z"
   },
   {
    "duration": 88,
    "start_time": "2025-01-31T07:56:08.593Z"
   },
   {
    "duration": 114,
    "start_time": "2025-01-31T07:56:21.503Z"
   },
   {
    "duration": 102,
    "start_time": "2025-01-31T08:00:04.263Z"
   },
   {
    "duration": 113,
    "start_time": "2025-01-31T08:01:55.119Z"
   },
   {
    "duration": 39,
    "start_time": "2025-01-31T08:11:36.862Z"
   },
   {
    "duration": 38,
    "start_time": "2025-01-31T08:11:43.614Z"
   },
   {
    "duration": 92,
    "start_time": "2025-01-31T08:38:17.088Z"
   },
   {
    "duration": 20,
    "start_time": "2025-01-31T08:38:57.325Z"
   },
   {
    "duration": 132,
    "start_time": "2025-01-31T08:39:14.513Z"
   },
   {
    "duration": 13,
    "start_time": "2025-01-31T08:46:44.203Z"
   },
   {
    "duration": 36,
    "start_time": "2025-01-31T08:49:56.294Z"
   },
   {
    "duration": 127,
    "start_time": "2025-01-31T08:51:29.441Z"
   },
   {
    "duration": 69,
    "start_time": "2025-01-31T08:53:08.779Z"
   },
   {
    "duration": 55,
    "start_time": "2025-01-31T09:01:30.086Z"
   },
   {
    "duration": 190689,
    "start_time": "2025-01-31T09:03:38.748Z"
   },
   {
    "duration": 189282,
    "start_time": "2025-01-31T09:20:30.568Z"
   },
   {
    "duration": 13,
    "start_time": "2025-01-31T09:39:46.475Z"
   },
   {
    "duration": 17,
    "start_time": "2025-01-31T09:40:01.144Z"
   },
   {
    "duration": 16,
    "start_time": "2025-01-31T09:40:50.623Z"
   },
   {
    "duration": 16,
    "start_time": "2025-01-31T09:41:12.370Z"
   },
   {
    "duration": 49,
    "start_time": "2025-01-31T09:47:34.710Z"
   },
   {
    "duration": 49,
    "start_time": "2025-01-31T09:48:03.773Z"
   },
   {
    "duration": 100,
    "start_time": "2025-01-31T09:49:10.112Z"
   },
   {
    "duration": 45,
    "start_time": "2025-01-31T09:49:10.650Z"
   },
   {
    "duration": 3781,
    "start_time": "2025-01-31T09:55:49.460Z"
   },
   {
    "duration": 2148,
    "start_time": "2025-01-31T09:55:53.243Z"
   },
   {
    "duration": 13,
    "start_time": "2025-01-31T09:55:55.393Z"
   },
   {
    "duration": 28,
    "start_time": "2025-01-31T09:55:55.408Z"
   },
   {
    "duration": 37,
    "start_time": "2025-01-31T09:55:55.439Z"
   },
   {
    "duration": 103,
    "start_time": "2025-01-31T09:55:55.477Z"
   },
   {
    "duration": 8,
    "start_time": "2025-01-31T09:55:55.582Z"
   },
   {
    "duration": 41,
    "start_time": "2025-01-31T09:55:55.592Z"
   },
   {
    "duration": 9,
    "start_time": "2025-01-31T09:55:55.634Z"
   },
   {
    "duration": 22,
    "start_time": "2025-01-31T09:55:55.644Z"
   },
   {
    "duration": 11,
    "start_time": "2025-01-31T09:55:55.667Z"
   },
   {
    "duration": 13,
    "start_time": "2025-01-31T09:55:55.679Z"
   },
   {
    "duration": 7,
    "start_time": "2025-01-31T09:55:55.694Z"
   },
   {
    "duration": 11,
    "start_time": "2025-01-31T09:55:55.734Z"
   },
   {
    "duration": 11,
    "start_time": "2025-01-31T09:55:55.747Z"
   },
   {
    "duration": 44,
    "start_time": "2025-01-31T09:55:55.760Z"
   },
   {
    "duration": 27,
    "start_time": "2025-01-31T09:55:55.806Z"
   },
   {
    "duration": 198,
    "start_time": "2025-01-31T09:55:55.835Z"
   },
   {
    "duration": 65,
    "start_time": "2025-01-31T09:55:56.035Z"
   },
   {
    "duration": 235,
    "start_time": "2025-01-31T09:55:56.103Z"
   },
   {
    "duration": 27,
    "start_time": "2025-01-31T09:55:56.340Z"
   },
   {
    "duration": 117,
    "start_time": "2025-01-31T09:55:56.370Z"
   },
   {
    "duration": 57,
    "start_time": "2025-01-31T09:55:56.489Z"
   },
   {
    "duration": 14,
    "start_time": "2025-01-31T10:58:30.658Z"
   },
   {
    "duration": 135,
    "start_time": "2025-01-31T11:17:26.066Z"
   },
   {
    "duration": 27,
    "start_time": "2025-01-31T11:34:10.545Z"
   },
   {
    "duration": 8799,
    "start_time": "2025-01-31T11:35:20.778Z"
   },
   {
    "duration": 2265,
    "start_time": "2025-01-31T11:35:29.579Z"
   },
   {
    "duration": 13,
    "start_time": "2025-01-31T11:35:31.846Z"
   },
   {
    "duration": 13,
    "start_time": "2025-01-31T11:35:31.861Z"
   },
   {
    "duration": 25,
    "start_time": "2025-01-31T11:35:31.876Z"
   },
   {
    "duration": 146,
    "start_time": "2025-01-31T11:35:31.902Z"
   },
   {
    "duration": 8,
    "start_time": "2025-01-31T11:35:32.050Z"
   },
   {
    "duration": 32,
    "start_time": "2025-01-31T11:35:32.059Z"
   },
   {
    "duration": 73,
    "start_time": "2025-01-31T11:35:32.093Z"
   },
   {
    "duration": 20,
    "start_time": "2025-01-31T11:35:32.168Z"
   },
   {
    "duration": 12,
    "start_time": "2025-01-31T11:35:32.190Z"
   },
   {
    "duration": 44,
    "start_time": "2025-01-31T11:35:32.203Z"
   },
   {
    "duration": 6,
    "start_time": "2025-01-31T11:35:32.249Z"
   },
   {
    "duration": 32,
    "start_time": "2025-01-31T11:35:32.257Z"
   },
   {
    "duration": 30,
    "start_time": "2025-01-31T11:35:32.290Z"
   },
   {
    "duration": 64,
    "start_time": "2025-01-31T11:35:32.321Z"
   },
   {
    "duration": 4,
    "start_time": "2025-01-31T11:35:32.387Z"
   },
   {
    "duration": 194,
    "start_time": "2025-01-31T11:35:32.392Z"
   },
   {
    "duration": 73,
    "start_time": "2025-01-31T11:35:32.587Z"
   },
   {
    "duration": 248,
    "start_time": "2025-01-31T11:35:32.662Z"
   },
   {
    "duration": 47,
    "start_time": "2025-01-31T11:35:32.913Z"
   },
   {
    "duration": 104,
    "start_time": "2025-01-31T11:35:32.962Z"
   },
   {
    "duration": 79,
    "start_time": "2025-01-31T11:35:33.068Z"
   },
   {
    "duration": 33,
    "start_time": "2025-01-31T11:35:33.150Z"
   },
   {
    "duration": 16,
    "start_time": "2025-01-31T11:40:43.706Z"
   },
   {
    "duration": 5,
    "start_time": "2025-01-31T11:41:35.368Z"
   },
   {
    "duration": 9,
    "start_time": "2025-01-31T11:43:26.724Z"
   },
   {
    "duration": 5,
    "start_time": "2025-01-31T11:43:58.398Z"
   },
   {
    "duration": 44,
    "start_time": "2025-01-31T11:48:47.113Z"
   },
   {
    "duration": 2185,
    "start_time": "2025-01-31T11:52:56.326Z"
   },
   {
    "duration": 2169,
    "start_time": "2025-01-31T11:53:24.186Z"
   },
   {
    "duration": 8,
    "start_time": "2025-01-31T11:54:25.832Z"
   },
   {
    "duration": 116,
    "start_time": "2025-01-31T11:56:56.511Z"
   },
   {
    "duration": 9,
    "start_time": "2025-01-31T11:57:34.984Z"
   },
   {
    "duration": 4,
    "start_time": "2025-01-31T11:57:54.383Z"
   },
   {
    "duration": 4,
    "start_time": "2025-01-31T11:58:16.864Z"
   },
   {
    "duration": 4,
    "start_time": "2025-01-31T11:58:22.447Z"
   },
   {
    "duration": 10,
    "start_time": "2025-01-31T12:00:52.348Z"
   },
   {
    "duration": 4,
    "start_time": "2025-01-31T12:01:58.523Z"
   },
   {
    "duration": 9,
    "start_time": "2025-01-31T12:03:09.645Z"
   },
   {
    "duration": 6,
    "start_time": "2025-01-31T12:03:40.269Z"
   },
   {
    "duration": 8,
    "start_time": "2025-01-31T12:04:09.684Z"
   },
   {
    "duration": 18,
    "start_time": "2025-01-31T12:04:23.327Z"
   },
   {
    "duration": 6,
    "start_time": "2025-01-31T12:04:56.794Z"
   },
   {
    "duration": 12,
    "start_time": "2025-01-31T12:10:56.942Z"
   },
   {
    "duration": 17,
    "start_time": "2025-01-31T12:11:44.629Z"
   },
   {
    "duration": 5,
    "start_time": "2025-01-31T12:20:23.916Z"
   },
   {
    "duration": 4,
    "start_time": "2025-01-31T12:20:43.459Z"
   },
   {
    "duration": 6,
    "start_time": "2025-01-31T12:20:49.568Z"
   },
   {
    "duration": 7,
    "start_time": "2025-01-31T12:22:59.490Z"
   },
   {
    "duration": 7,
    "start_time": "2025-01-31T12:24:18.028Z"
   },
   {
    "duration": 8579,
    "start_time": "2025-01-31T12:25:09.125Z"
   },
   {
    "duration": 2297,
    "start_time": "2025-01-31T12:25:17.706Z"
   },
   {
    "duration": 14,
    "start_time": "2025-01-31T12:25:20.005Z"
   },
   {
    "duration": 18,
    "start_time": "2025-01-31T12:25:20.032Z"
   },
   {
    "duration": 28,
    "start_time": "2025-01-31T12:25:20.052Z"
   },
   {
    "duration": 131,
    "start_time": "2025-01-31T12:25:20.082Z"
   },
   {
    "duration": 8,
    "start_time": "2025-01-31T12:25:20.215Z"
   },
   {
    "duration": 35,
    "start_time": "2025-01-31T12:25:20.241Z"
   },
   {
    "duration": 67,
    "start_time": "2025-01-31T12:25:20.277Z"
   },
   {
    "duration": 68,
    "start_time": "2025-01-31T12:25:20.347Z"
   },
   {
    "duration": 27,
    "start_time": "2025-01-31T12:25:20.417Z"
   },
   {
    "duration": 15,
    "start_time": "2025-01-31T12:25:20.446Z"
   },
   {
    "duration": 8,
    "start_time": "2025-01-31T12:25:20.463Z"
   },
   {
    "duration": 31,
    "start_time": "2025-01-31T12:25:20.473Z"
   },
   {
    "duration": 17,
    "start_time": "2025-01-31T12:25:20.506Z"
   },
   {
    "duration": 68,
    "start_time": "2025-01-31T12:25:20.525Z"
   },
   {
    "duration": 4,
    "start_time": "2025-01-31T12:25:20.595Z"
   },
   {
    "duration": 243,
    "start_time": "2025-01-31T12:25:20.601Z"
   },
   {
    "duration": 59,
    "start_time": "2025-01-31T12:25:20.846Z"
   },
   {
    "duration": 240,
    "start_time": "2025-01-31T12:25:20.907Z"
   },
   {
    "duration": 29,
    "start_time": "2025-01-31T12:25:21.149Z"
   },
   {
    "duration": 133,
    "start_time": "2025-01-31T12:25:21.180Z"
   },
   {
    "duration": 101,
    "start_time": "2025-01-31T12:25:21.315Z"
   },
   {
    "duration": 4106,
    "start_time": "2025-01-31T12:25:21.417Z"
   },
   {
    "duration": 14,
    "start_time": "2025-01-31T12:25:25.536Z"
   },
   {
    "duration": 14,
    "start_time": "2025-01-31T12:25:25.552Z"
   },
   {
    "duration": 8,
    "start_time": "2025-01-31T12:25:25.567Z"
   },
   {
    "duration": 119,
    "start_time": "2025-01-31T13:06:25.375Z"
   },
   {
    "duration": 10946,
    "start_time": "2025-01-31T13:06:45.731Z"
   },
   {
    "duration": 2613,
    "start_time": "2025-01-31T13:06:56.679Z"
   },
   {
    "duration": 14,
    "start_time": "2025-01-31T13:06:59.293Z"
   },
   {
    "duration": 15,
    "start_time": "2025-01-31T13:06:59.310Z"
   },
   {
    "duration": 37,
    "start_time": "2025-01-31T13:06:59.327Z"
   },
   {
    "duration": 110,
    "start_time": "2025-01-31T13:06:59.365Z"
   },
   {
    "duration": 8,
    "start_time": "2025-01-31T13:06:59.477Z"
   },
   {
    "duration": 26,
    "start_time": "2025-01-31T13:06:59.486Z"
   },
   {
    "duration": 29,
    "start_time": "2025-01-31T13:06:59.514Z"
   },
   {
    "duration": 21,
    "start_time": "2025-01-31T13:06:59.550Z"
   },
   {
    "duration": 11,
    "start_time": "2025-01-31T13:06:59.573Z"
   },
   {
    "duration": 30,
    "start_time": "2025-01-31T13:06:59.586Z"
   },
   {
    "duration": 28,
    "start_time": "2025-01-31T13:06:59.618Z"
   },
   {
    "duration": 12,
    "start_time": "2025-01-31T13:06:59.647Z"
   },
   {
    "duration": 8,
    "start_time": "2025-01-31T13:06:59.661Z"
   },
   {
    "duration": 46,
    "start_time": "2025-01-31T13:06:59.671Z"
   },
   {
    "duration": 25,
    "start_time": "2025-01-31T13:06:59.719Z"
   },
   {
    "duration": 173,
    "start_time": "2025-01-31T13:06:59.746Z"
   },
   {
    "duration": 72,
    "start_time": "2025-01-31T13:06:59.921Z"
   },
   {
    "duration": 224,
    "start_time": "2025-01-31T13:06:59.994Z"
   },
   {
    "duration": 45,
    "start_time": "2025-01-31T13:07:00.220Z"
   },
   {
    "duration": 141,
    "start_time": "2025-01-31T13:07:00.267Z"
   },
   {
    "duration": 53,
    "start_time": "2025-01-31T13:07:00.409Z"
   },
   {
    "duration": 2232,
    "start_time": "2025-01-31T13:07:00.464Z"
   },
   {
    "duration": 5,
    "start_time": "2025-01-31T13:07:02.698Z"
   },
   {
    "duration": 50,
    "start_time": "2025-01-31T13:07:02.705Z"
   },
   {
    "duration": 15,
    "start_time": "2025-01-31T13:07:02.757Z"
   },
   {
    "duration": 161,
    "start_time": "2025-01-31T13:29:53.845Z"
   },
   {
    "duration": 67,
    "start_time": "2025-01-31T13:31:33.204Z"
   },
   {
    "duration": 10218,
    "start_time": "2025-01-31T13:32:24.230Z"
   },
   {
    "duration": 3208,
    "start_time": "2025-01-31T13:32:34.451Z"
   },
   {
    "duration": 14,
    "start_time": "2025-01-31T13:32:37.661Z"
   },
   {
    "duration": 31,
    "start_time": "2025-01-31T13:32:37.676Z"
   },
   {
    "duration": 39,
    "start_time": "2025-01-31T13:32:37.709Z"
   },
   {
    "duration": 124,
    "start_time": "2025-01-31T13:32:37.752Z"
   },
   {
    "duration": 8,
    "start_time": "2025-01-31T13:32:37.878Z"
   },
   {
    "duration": 41,
    "start_time": "2025-01-31T13:32:37.888Z"
   },
   {
    "duration": 9,
    "start_time": "2025-01-31T13:32:37.930Z"
   },
   {
    "duration": 62,
    "start_time": "2025-01-31T13:32:37.942Z"
   },
   {
    "duration": 33,
    "start_time": "2025-01-31T13:32:38.006Z"
   },
   {
    "duration": 16,
    "start_time": "2025-01-31T13:32:38.041Z"
   },
   {
    "duration": 7,
    "start_time": "2025-01-31T13:32:38.059Z"
   },
   {
    "duration": 18,
    "start_time": "2025-01-31T13:32:38.067Z"
   },
   {
    "duration": 9,
    "start_time": "2025-01-31T13:32:38.087Z"
   },
   {
    "duration": 67,
    "start_time": "2025-01-31T13:32:38.098Z"
   },
   {
    "duration": 4,
    "start_time": "2025-01-31T13:32:38.167Z"
   },
   {
    "duration": 202,
    "start_time": "2025-01-31T13:32:38.172Z"
   },
   {
    "duration": 72,
    "start_time": "2025-01-31T13:32:38.376Z"
   },
   {
    "duration": 246,
    "start_time": "2025-01-31T13:32:38.450Z"
   },
   {
    "duration": 26,
    "start_time": "2025-01-31T13:32:38.697Z"
   },
   {
    "duration": 114,
    "start_time": "2025-01-31T13:32:38.732Z"
   },
   {
    "duration": 42,
    "start_time": "2025-01-31T13:32:38.848Z"
   },
   {
    "duration": 2158,
    "start_time": "2025-01-31T13:32:38.892Z"
   },
   {
    "duration": 6,
    "start_time": "2025-01-31T13:32:41.051Z"
   },
   {
    "duration": 21,
    "start_time": "2025-01-31T13:32:41.058Z"
   },
   {
    "duration": 5,
    "start_time": "2025-01-31T13:32:41.081Z"
   },
   {
    "duration": 51,
    "start_time": "2025-01-31T13:33:23.045Z"
   },
   {
    "duration": 9314,
    "start_time": "2025-01-31T13:33:42.194Z"
   },
   {
    "duration": 2193,
    "start_time": "2025-01-31T13:33:51.510Z"
   },
   {
    "duration": 13,
    "start_time": "2025-01-31T13:33:53.705Z"
   },
   {
    "duration": 13,
    "start_time": "2025-01-31T13:33:53.732Z"
   },
   {
    "duration": 34,
    "start_time": "2025-01-31T13:33:53.747Z"
   },
   {
    "duration": 125,
    "start_time": "2025-01-31T13:33:53.783Z"
   },
   {
    "duration": 8,
    "start_time": "2025-01-31T13:33:53.910Z"
   },
   {
    "duration": 37,
    "start_time": "2025-01-31T13:33:53.920Z"
   },
   {
    "duration": 109,
    "start_time": "2025-01-31T13:33:53.959Z"
   },
   {
    "duration": 24,
    "start_time": "2025-01-31T13:33:54.070Z"
   },
   {
    "duration": 12,
    "start_time": "2025-01-31T13:33:54.096Z"
   },
   {
    "duration": 13,
    "start_time": "2025-01-31T13:33:54.110Z"
   },
   {
    "duration": 8,
    "start_time": "2025-01-31T13:33:54.125Z"
   },
   {
    "duration": 20,
    "start_time": "2025-01-31T13:33:54.135Z"
   },
   {
    "duration": 10,
    "start_time": "2025-01-31T13:33:54.157Z"
   },
   {
    "duration": 52,
    "start_time": "2025-01-31T13:33:54.168Z"
   },
   {
    "duration": 13,
    "start_time": "2025-01-31T13:33:54.222Z"
   },
   {
    "duration": 198,
    "start_time": "2025-01-31T13:33:54.237Z"
   },
   {
    "duration": 62,
    "start_time": "2025-01-31T13:33:54.437Z"
   },
   {
    "duration": 249,
    "start_time": "2025-01-31T13:33:54.502Z"
   },
   {
    "duration": 28,
    "start_time": "2025-01-31T13:33:54.752Z"
   },
   {
    "duration": 120,
    "start_time": "2025-01-31T13:33:54.781Z"
   },
   {
    "duration": 56,
    "start_time": "2025-01-31T13:33:54.902Z"
   },
   {
    "duration": 2185,
    "start_time": "2025-01-31T13:33:54.959Z"
   },
   {
    "duration": 6,
    "start_time": "2025-01-31T13:33:57.145Z"
   },
   {
    "duration": 24,
    "start_time": "2025-01-31T13:33:57.153Z"
   },
   {
    "duration": 6,
    "start_time": "2025-01-31T13:33:57.178Z"
   },
   {
    "duration": 96,
    "start_time": "2025-01-31T13:33:57.187Z"
   },
   {
    "duration": 81,
    "start_time": "2025-01-31T13:34:41.159Z"
   },
   {
    "duration": 61,
    "start_time": "2025-01-31T13:38:03.402Z"
   },
   {
    "duration": 9934,
    "start_time": "2025-01-31T13:38:19.257Z"
   },
   {
    "duration": 2593,
    "start_time": "2025-01-31T13:38:29.193Z"
   },
   {
    "duration": 12,
    "start_time": "2025-01-31T13:38:31.788Z"
   },
   {
    "duration": 42,
    "start_time": "2025-01-31T13:38:31.802Z"
   },
   {
    "duration": 26,
    "start_time": "2025-01-31T13:38:31.846Z"
   },
   {
    "duration": 121,
    "start_time": "2025-01-31T13:38:31.875Z"
   },
   {
    "duration": 8,
    "start_time": "2025-01-31T13:38:31.998Z"
   },
   {
    "duration": 84,
    "start_time": "2025-01-31T13:38:32.008Z"
   },
   {
    "duration": 7,
    "start_time": "2025-01-31T13:38:32.094Z"
   },
   {
    "duration": 47,
    "start_time": "2025-01-31T13:38:32.103Z"
   },
   {
    "duration": 25,
    "start_time": "2025-01-31T13:38:32.151Z"
   },
   {
    "duration": 16,
    "start_time": "2025-01-31T13:38:32.178Z"
   },
   {
    "duration": 28,
    "start_time": "2025-01-31T13:38:32.196Z"
   },
   {
    "duration": 15,
    "start_time": "2025-01-31T13:38:32.225Z"
   },
   {
    "duration": 10,
    "start_time": "2025-01-31T13:38:32.241Z"
   },
   {
    "duration": 49,
    "start_time": "2025-01-31T13:38:32.253Z"
   },
   {
    "duration": 5,
    "start_time": "2025-01-31T13:38:32.303Z"
   },
   {
    "duration": 210,
    "start_time": "2025-01-31T13:38:32.309Z"
   },
   {
    "duration": 70,
    "start_time": "2025-01-31T13:38:32.520Z"
   },
   {
    "duration": 234,
    "start_time": "2025-01-31T13:38:32.591Z"
   },
   {
    "duration": 38,
    "start_time": "2025-01-31T13:38:32.827Z"
   },
   {
    "duration": 114,
    "start_time": "2025-01-31T13:38:32.867Z"
   },
   {
    "duration": 41,
    "start_time": "2025-01-31T13:38:32.983Z"
   },
   {
    "duration": 2146,
    "start_time": "2025-01-31T13:38:33.025Z"
   },
   {
    "duration": 6,
    "start_time": "2025-01-31T13:38:35.173Z"
   },
   {
    "duration": 26,
    "start_time": "2025-01-31T13:38:35.180Z"
   },
   {
    "duration": 10,
    "start_time": "2025-01-31T13:38:35.208Z"
   },
   {
    "duration": 89,
    "start_time": "2025-01-31T13:38:35.221Z"
   },
   {
    "duration": 57,
    "start_time": "2025-01-31T13:39:33.111Z"
   },
   {
    "duration": 13755,
    "start_time": "2025-01-31T13:39:46.081Z"
   },
   {
    "duration": 2040,
    "start_time": "2025-01-31T13:39:59.845Z"
   },
   {
    "duration": 13,
    "start_time": "2025-01-31T13:40:01.887Z"
   },
   {
    "duration": 41,
    "start_time": "2025-01-31T13:40:01.903Z"
   },
   {
    "duration": 42,
    "start_time": "2025-01-31T13:40:01.946Z"
   },
   {
    "duration": 189,
    "start_time": "2025-01-31T13:40:01.990Z"
   },
   {
    "duration": 7,
    "start_time": "2025-01-31T13:40:02.181Z"
   },
   {
    "duration": 55,
    "start_time": "2025-01-31T13:40:02.190Z"
   },
   {
    "duration": 18,
    "start_time": "2025-01-31T13:40:02.247Z"
   },
   {
    "duration": 21,
    "start_time": "2025-01-31T13:40:02.268Z"
   },
   {
    "duration": 77,
    "start_time": "2025-01-31T13:40:02.291Z"
   },
   {
    "duration": 43,
    "start_time": "2025-01-31T13:40:02.370Z"
   },
   {
    "duration": 36,
    "start_time": "2025-01-31T13:40:02.415Z"
   },
   {
    "duration": 43,
    "start_time": "2025-01-31T13:40:02.452Z"
   },
   {
    "duration": 54,
    "start_time": "2025-01-31T13:40:02.497Z"
   },
   {
    "duration": 132,
    "start_time": "2025-01-31T13:40:02.552Z"
   },
   {
    "duration": 31,
    "start_time": "2025-01-31T13:40:02.685Z"
   },
   {
    "duration": 186,
    "start_time": "2025-01-31T13:40:02.717Z"
   },
   {
    "duration": 73,
    "start_time": "2025-01-31T13:40:02.905Z"
   },
   {
    "duration": 239,
    "start_time": "2025-01-31T13:40:02.979Z"
   },
   {
    "duration": 37,
    "start_time": "2025-01-31T13:40:03.219Z"
   },
   {
    "duration": 104,
    "start_time": "2025-01-31T13:40:03.258Z"
   },
   {
    "duration": 43,
    "start_time": "2025-01-31T13:40:03.364Z"
   },
   {
    "duration": 2110,
    "start_time": "2025-01-31T13:40:03.408Z"
   },
   {
    "duration": 21,
    "start_time": "2025-01-31T13:40:05.519Z"
   },
   {
    "duration": 16,
    "start_time": "2025-01-31T13:40:05.545Z"
   },
   {
    "duration": 17,
    "start_time": "2025-01-31T13:40:05.563Z"
   },
   {
    "duration": 117,
    "start_time": "2025-01-31T13:40:05.584Z"
   },
   {
    "duration": 60,
    "start_time": "2025-01-31T13:41:42.902Z"
   },
   {
    "duration": 9932,
    "start_time": "2025-01-31T13:43:26.815Z"
   },
   {
    "duration": 2118,
    "start_time": "2025-01-31T13:43:36.750Z"
   },
   {
    "duration": 13,
    "start_time": "2025-01-31T13:43:38.869Z"
   },
   {
    "duration": 13,
    "start_time": "2025-01-31T13:43:38.884Z"
   },
   {
    "duration": 47,
    "start_time": "2025-01-31T13:43:38.898Z"
   },
   {
    "duration": 109,
    "start_time": "2025-01-31T13:43:38.947Z"
   },
   {
    "duration": 8,
    "start_time": "2025-01-31T13:43:39.058Z"
   },
   {
    "duration": 26,
    "start_time": "2025-01-31T13:43:39.068Z"
   },
   {
    "duration": 7,
    "start_time": "2025-01-31T13:43:39.096Z"
   },
   {
    "duration": 44,
    "start_time": "2025-01-31T13:43:39.107Z"
   },
   {
    "duration": 9,
    "start_time": "2025-01-31T13:43:39.153Z"
   },
   {
    "duration": 13,
    "start_time": "2025-01-31T13:43:39.164Z"
   },
   {
    "duration": 7,
    "start_time": "2025-01-31T13:43:39.178Z"
   },
   {
    "duration": 20,
    "start_time": "2025-01-31T13:43:39.186Z"
   },
   {
    "duration": 36,
    "start_time": "2025-01-31T13:43:39.208Z"
   },
   {
    "duration": 41,
    "start_time": "2025-01-31T13:43:39.246Z"
   },
   {
    "duration": 10,
    "start_time": "2025-01-31T13:43:39.289Z"
   },
   {
    "duration": 199,
    "start_time": "2025-01-31T13:43:39.300Z"
   },
   {
    "duration": 72,
    "start_time": "2025-01-31T13:43:39.501Z"
   },
   {
    "duration": 247,
    "start_time": "2025-01-31T13:43:39.575Z"
   },
   {
    "duration": 37,
    "start_time": "2025-01-31T13:43:39.824Z"
   },
   {
    "duration": 107,
    "start_time": "2025-01-31T13:43:39.863Z"
   },
   {
    "duration": 44,
    "start_time": "2025-01-31T13:43:39.972Z"
   },
   {
    "duration": 2191,
    "start_time": "2025-01-31T13:43:40.017Z"
   },
   {
    "duration": 6,
    "start_time": "2025-01-31T13:43:42.210Z"
   },
   {
    "duration": 35,
    "start_time": "2025-01-31T13:43:42.218Z"
   },
   {
    "duration": 7,
    "start_time": "2025-01-31T13:43:42.254Z"
   },
   {
    "duration": 98,
    "start_time": "2025-01-31T13:43:42.264Z"
   },
   {
    "duration": 87,
    "start_time": "2025-01-31T13:44:20.580Z"
   },
   {
    "duration": 78,
    "start_time": "2025-01-31T13:44:33.372Z"
   },
   {
    "duration": 58,
    "start_time": "2025-01-31T13:46:29.872Z"
   },
   {
    "duration": 19799,
    "start_time": "2025-01-31T13:46:54.192Z"
   },
   {
    "duration": 2224,
    "start_time": "2025-01-31T13:47:13.994Z"
   },
   {
    "duration": 30,
    "start_time": "2025-01-31T13:47:16.219Z"
   },
   {
    "duration": 12,
    "start_time": "2025-01-31T13:47:16.252Z"
   },
   {
    "duration": 26,
    "start_time": "2025-01-31T13:47:16.266Z"
   },
   {
    "duration": 128,
    "start_time": "2025-01-31T13:47:16.293Z"
   },
   {
    "duration": 24,
    "start_time": "2025-01-31T13:47:16.422Z"
   },
   {
    "duration": 37,
    "start_time": "2025-01-31T13:47:16.448Z"
   },
   {
    "duration": 14,
    "start_time": "2025-01-31T13:47:16.486Z"
   },
   {
    "duration": 23,
    "start_time": "2025-01-31T13:47:16.504Z"
   },
   {
    "duration": 21,
    "start_time": "2025-01-31T13:47:16.529Z"
   },
   {
    "duration": 18,
    "start_time": "2025-01-31T13:47:16.551Z"
   },
   {
    "duration": 8,
    "start_time": "2025-01-31T13:47:16.570Z"
   },
   {
    "duration": 113,
    "start_time": "2025-01-31T13:47:16.579Z"
   },
   {
    "duration": 22,
    "start_time": "2025-01-31T13:47:16.694Z"
   },
   {
    "duration": 69,
    "start_time": "2025-01-31T13:47:16.718Z"
   },
   {
    "duration": 4,
    "start_time": "2025-01-31T13:47:16.789Z"
   },
   {
    "duration": 210,
    "start_time": "2025-01-31T13:47:16.794Z"
   },
   {
    "duration": 61,
    "start_time": "2025-01-31T13:47:17.006Z"
   },
   {
    "duration": 241,
    "start_time": "2025-01-31T13:47:17.069Z"
   },
   {
    "duration": 42,
    "start_time": "2025-01-31T13:47:17.312Z"
   },
   {
    "duration": 112,
    "start_time": "2025-01-31T13:47:17.356Z"
   },
   {
    "duration": 47,
    "start_time": "2025-01-31T13:47:17.469Z"
   },
   {
    "duration": 2236,
    "start_time": "2025-01-31T13:47:17.517Z"
   },
   {
    "duration": 6,
    "start_time": "2025-01-31T13:47:19.755Z"
   },
   {
    "duration": 19,
    "start_time": "2025-01-31T13:47:19.763Z"
   },
   {
    "duration": 16,
    "start_time": "2025-01-31T13:47:19.783Z"
   },
   {
    "duration": 93,
    "start_time": "2025-01-31T13:47:19.802Z"
   },
   {
    "duration": 50,
    "start_time": "2025-01-31T13:48:05.774Z"
   },
   {
    "duration": 15106,
    "start_time": "2025-01-31T13:48:20.745Z"
   },
   {
    "duration": 2490,
    "start_time": "2025-01-31T13:48:35.854Z"
   },
   {
    "duration": 14,
    "start_time": "2025-01-31T13:48:38.346Z"
   },
   {
    "duration": 13,
    "start_time": "2025-01-31T13:48:38.362Z"
   },
   {
    "duration": 44,
    "start_time": "2025-01-31T13:48:38.377Z"
   },
   {
    "duration": 123,
    "start_time": "2025-01-31T13:48:38.422Z"
   },
   {
    "duration": 9,
    "start_time": "2025-01-31T13:48:38.547Z"
   },
   {
    "duration": 26,
    "start_time": "2025-01-31T13:48:38.558Z"
   },
   {
    "duration": 8,
    "start_time": "2025-01-31T13:48:38.586Z"
   },
   {
    "duration": 58,
    "start_time": "2025-01-31T13:48:38.595Z"
   },
   {
    "duration": 9,
    "start_time": "2025-01-31T13:48:38.655Z"
   },
   {
    "duration": 30,
    "start_time": "2025-01-31T13:48:38.666Z"
   },
   {
    "duration": 7,
    "start_time": "2025-01-31T13:48:38.698Z"
   },
   {
    "duration": 12,
    "start_time": "2025-01-31T13:48:38.707Z"
   },
   {
    "duration": 9,
    "start_time": "2025-01-31T13:48:38.720Z"
   },
   {
    "duration": 43,
    "start_time": "2025-01-31T13:48:38.741Z"
   },
   {
    "duration": 4,
    "start_time": "2025-01-31T13:48:38.785Z"
   },
   {
    "duration": 206,
    "start_time": "2025-01-31T13:48:38.791Z"
   },
   {
    "duration": 66,
    "start_time": "2025-01-31T13:48:38.999Z"
   },
   {
    "duration": 226,
    "start_time": "2025-01-31T13:48:39.067Z"
   },
   {
    "duration": 45,
    "start_time": "2025-01-31T13:48:39.295Z"
   },
   {
    "duration": 112,
    "start_time": "2025-01-31T13:48:39.341Z"
   },
   {
    "duration": 44,
    "start_time": "2025-01-31T13:48:39.455Z"
   },
   {
    "duration": 2125,
    "start_time": "2025-01-31T13:48:39.500Z"
   },
   {
    "duration": 19,
    "start_time": "2025-01-31T13:48:41.626Z"
   },
   {
    "duration": 13,
    "start_time": "2025-01-31T13:48:41.649Z"
   },
   {
    "duration": 5,
    "start_time": "2025-01-31T13:48:41.663Z"
   },
   {
    "duration": 101,
    "start_time": "2025-01-31T13:48:41.669Z"
   },
   {
    "duration": 50,
    "start_time": "2025-01-31T13:57:15.563Z"
   },
   {
    "duration": 9931,
    "start_time": "2025-01-31T13:57:26.467Z"
   },
   {
    "duration": 2336,
    "start_time": "2025-01-31T13:57:36.400Z"
   },
   {
    "duration": 14,
    "start_time": "2025-01-31T13:57:38.741Z"
   },
   {
    "duration": 13,
    "start_time": "2025-01-31T13:57:38.757Z"
   },
   {
    "duration": 28,
    "start_time": "2025-01-31T13:57:38.772Z"
   },
   {
    "duration": 120,
    "start_time": "2025-01-31T13:57:38.802Z"
   },
   {
    "duration": 16,
    "start_time": "2025-01-31T13:57:38.924Z"
   },
   {
    "duration": 36,
    "start_time": "2025-01-31T13:57:38.942Z"
   },
   {
    "duration": 8,
    "start_time": "2025-01-31T13:57:38.980Z"
   },
   {
    "duration": 54,
    "start_time": "2025-01-31T13:57:38.991Z"
   },
   {
    "duration": 10,
    "start_time": "2025-01-31T13:57:39.047Z"
   },
   {
    "duration": 13,
    "start_time": "2025-01-31T13:57:39.059Z"
   },
   {
    "duration": 7,
    "start_time": "2025-01-31T13:57:39.073Z"
   },
   {
    "duration": 14,
    "start_time": "2025-01-31T13:57:39.082Z"
   },
   {
    "duration": 9,
    "start_time": "2025-01-31T13:57:39.097Z"
   },
   {
    "duration": 75,
    "start_time": "2025-01-31T13:57:39.108Z"
   },
   {
    "duration": 5,
    "start_time": "2025-01-31T13:57:39.184Z"
   },
   {
    "duration": 201,
    "start_time": "2025-01-31T13:57:39.190Z"
   },
   {
    "duration": 64,
    "start_time": "2025-01-31T13:57:39.392Z"
   },
   {
    "duration": 230,
    "start_time": "2025-01-31T13:57:39.458Z"
   },
   {
    "duration": 26,
    "start_time": "2025-01-31T13:57:39.690Z"
   },
   {
    "duration": 129,
    "start_time": "2025-01-31T13:57:39.717Z"
   },
   {
    "duration": 42,
    "start_time": "2025-01-31T13:57:39.848Z"
   },
   {
    "duration": 2182,
    "start_time": "2025-01-31T13:57:39.892Z"
   },
   {
    "duration": 6,
    "start_time": "2025-01-31T13:57:42.076Z"
   },
   {
    "duration": 55,
    "start_time": "2025-01-31T13:57:42.083Z"
   },
   {
    "duration": 10,
    "start_time": "2025-01-31T13:57:42.140Z"
   },
   {
    "duration": 91,
    "start_time": "2025-01-31T13:57:42.153Z"
   },
   {
    "duration": 84,
    "start_time": "2025-01-31T13:57:42.246Z"
   },
   {
    "duration": 42,
    "start_time": "2025-01-31T13:58:06.945Z"
   },
   {
    "duration": 17,
    "start_time": "2025-01-31T13:58:18.636Z"
   },
   {
    "duration": 5480,
    "start_time": "2025-01-31T14:03:08.798Z"
   },
   {
    "duration": 2305,
    "start_time": "2025-01-31T14:03:14.281Z"
   },
   {
    "duration": 13,
    "start_time": "2025-01-31T14:03:16.588Z"
   },
   {
    "duration": 13,
    "start_time": "2025-01-31T14:03:16.603Z"
   },
   {
    "duration": 41,
    "start_time": "2025-01-31T14:03:16.617Z"
   },
   {
    "duration": 114,
    "start_time": "2025-01-31T14:03:16.660Z"
   },
   {
    "duration": 8,
    "start_time": "2025-01-31T14:03:16.775Z"
   },
   {
    "duration": 25,
    "start_time": "2025-01-31T14:03:16.785Z"
   },
   {
    "duration": 36,
    "start_time": "2025-01-31T14:03:16.812Z"
   },
   {
    "duration": 20,
    "start_time": "2025-01-31T14:03:16.851Z"
   },
   {
    "duration": 9,
    "start_time": "2025-01-31T14:03:16.873Z"
   },
   {
    "duration": 17,
    "start_time": "2025-01-31T14:03:16.884Z"
   },
   {
    "duration": 7,
    "start_time": "2025-01-31T14:03:16.903Z"
   },
   {
    "duration": 36,
    "start_time": "2025-01-31T14:03:16.911Z"
   },
   {
    "duration": 21,
    "start_time": "2025-01-31T14:03:16.949Z"
   },
   {
    "duration": 50,
    "start_time": "2025-01-31T14:03:16.972Z"
   },
   {
    "duration": 4,
    "start_time": "2025-01-31T14:03:17.024Z"
   },
   {
    "duration": 180,
    "start_time": "2025-01-31T14:03:17.032Z"
   },
   {
    "duration": 69,
    "start_time": "2025-01-31T14:03:17.214Z"
   },
   {
    "duration": 234,
    "start_time": "2025-01-31T14:03:17.285Z"
   },
   {
    "duration": 47,
    "start_time": "2025-01-31T14:03:17.521Z"
   },
   {
    "duration": 123,
    "start_time": "2025-01-31T14:03:17.571Z"
   },
   {
    "duration": 66,
    "start_time": "2025-01-31T14:03:17.696Z"
   },
   {
    "duration": 2184,
    "start_time": "2025-01-31T14:03:17.764Z"
   },
   {
    "duration": 6,
    "start_time": "2025-01-31T14:03:19.949Z"
   },
   {
    "duration": 15,
    "start_time": "2025-01-31T14:03:19.956Z"
   },
   {
    "duration": 5,
    "start_time": "2025-01-31T14:03:19.972Z"
   },
   {
    "duration": 105,
    "start_time": "2025-01-31T14:03:19.980Z"
   },
   {
    "duration": 8746,
    "start_time": "2025-01-31T14:05:41.518Z"
   },
   {
    "duration": 2214,
    "start_time": "2025-01-31T14:05:50.266Z"
   },
   {
    "duration": 14,
    "start_time": "2025-01-31T14:05:52.481Z"
   },
   {
    "duration": 13,
    "start_time": "2025-01-31T14:05:52.497Z"
   },
   {
    "duration": 35,
    "start_time": "2025-01-31T14:05:52.511Z"
   },
   {
    "duration": 113,
    "start_time": "2025-01-31T14:05:52.549Z"
   },
   {
    "duration": 8,
    "start_time": "2025-01-31T14:05:52.664Z"
   },
   {
    "duration": 58,
    "start_time": "2025-01-31T14:05:52.673Z"
   },
   {
    "duration": 20,
    "start_time": "2025-01-31T14:05:52.732Z"
   },
   {
    "duration": 20,
    "start_time": "2025-01-31T14:05:52.755Z"
   },
   {
    "duration": 36,
    "start_time": "2025-01-31T14:05:52.777Z"
   },
   {
    "duration": 16,
    "start_time": "2025-01-31T14:05:52.815Z"
   },
   {
    "duration": 18,
    "start_time": "2025-01-31T14:05:52.832Z"
   },
   {
    "duration": 25,
    "start_time": "2025-01-31T14:05:52.851Z"
   },
   {
    "duration": 12,
    "start_time": "2025-01-31T14:05:52.877Z"
   },
   {
    "duration": 49,
    "start_time": "2025-01-31T14:05:52.891Z"
   },
   {
    "duration": 5,
    "start_time": "2025-01-31T14:05:52.945Z"
   },
   {
    "duration": 209,
    "start_time": "2025-01-31T14:05:52.952Z"
   },
   {
    "duration": 60,
    "start_time": "2025-01-31T14:05:53.163Z"
   },
   {
    "duration": 226,
    "start_time": "2025-01-31T14:05:53.225Z"
   },
   {
    "duration": 26,
    "start_time": "2025-01-31T14:05:53.452Z"
   },
   {
    "duration": 106,
    "start_time": "2025-01-31T14:05:53.479Z"
   },
   {
    "duration": 45,
    "start_time": "2025-01-31T14:05:53.587Z"
   },
   {
    "duration": 2385,
    "start_time": "2025-01-31T14:05:53.636Z"
   },
   {
    "duration": 7,
    "start_time": "2025-01-31T14:05:56.040Z"
   },
   {
    "duration": 14,
    "start_time": "2025-01-31T14:05:56.049Z"
   },
   {
    "duration": 5,
    "start_time": "2025-01-31T14:05:56.065Z"
   },
   {
    "duration": 102,
    "start_time": "2025-01-31T14:05:56.073Z"
   },
   {
    "duration": 5042,
    "start_time": "2025-02-03T07:12:11.875Z"
   },
   {
    "duration": 2674,
    "start_time": "2025-02-03T07:12:16.919Z"
   },
   {
    "duration": 15,
    "start_time": "2025-02-03T07:12:19.594Z"
   },
   {
    "duration": 12,
    "start_time": "2025-02-03T07:12:19.611Z"
   },
   {
    "duration": 24,
    "start_time": "2025-02-03T07:12:19.625Z"
   },
   {
    "duration": 124,
    "start_time": "2025-02-03T07:12:19.650Z"
   },
   {
    "duration": 8,
    "start_time": "2025-02-03T07:12:19.775Z"
   },
   {
    "duration": 32,
    "start_time": "2025-02-03T07:12:19.784Z"
   },
   {
    "duration": 6,
    "start_time": "2025-02-03T07:12:19.818Z"
   },
   {
    "duration": 20,
    "start_time": "2025-02-03T07:12:19.827Z"
   },
   {
    "duration": 11,
    "start_time": "2025-02-03T07:12:19.849Z"
   },
   {
    "duration": 40,
    "start_time": "2025-02-03T07:12:19.862Z"
   },
   {
    "duration": 9,
    "start_time": "2025-02-03T07:12:19.904Z"
   },
   {
    "duration": 9,
    "start_time": "2025-02-03T07:12:19.915Z"
   },
   {
    "duration": 10,
    "start_time": "2025-02-03T07:12:19.926Z"
   },
   {
    "duration": 66,
    "start_time": "2025-02-03T07:12:19.938Z"
   },
   {
    "duration": 4,
    "start_time": "2025-02-03T07:12:20.006Z"
   },
   {
    "duration": 189,
    "start_time": "2025-02-03T07:12:20.012Z"
   },
   {
    "duration": 63,
    "start_time": "2025-02-03T07:12:20.203Z"
   },
   {
    "duration": 227,
    "start_time": "2025-02-03T07:12:20.267Z"
   },
   {
    "duration": 38,
    "start_time": "2025-02-03T07:12:20.500Z"
   },
   {
    "duration": 102,
    "start_time": "2025-02-03T07:12:20.541Z"
   },
   {
    "duration": 40,
    "start_time": "2025-02-03T07:12:20.644Z"
   },
   {
    "duration": 2041,
    "start_time": "2025-02-03T07:12:20.685Z"
   },
   {
    "duration": 5,
    "start_time": "2025-02-03T07:12:22.728Z"
   },
   {
    "duration": 24,
    "start_time": "2025-02-03T07:12:22.735Z"
   },
   {
    "duration": 5,
    "start_time": "2025-02-03T07:12:22.761Z"
   },
   {
    "duration": 83,
    "start_time": "2025-02-03T07:12:22.769Z"
   },
   {
    "duration": 128,
    "start_time": "2025-02-03T07:56:25.860Z"
   },
   {
    "duration": 3601,
    "start_time": "2025-02-03T07:56:29.425Z"
   },
   {
    "duration": 2100,
    "start_time": "2025-02-03T07:56:33.028Z"
   },
   {
    "duration": 13,
    "start_time": "2025-02-03T07:56:35.129Z"
   },
   {
    "duration": 13,
    "start_time": "2025-02-03T07:56:35.144Z"
   },
   {
    "duration": 47,
    "start_time": "2025-02-03T07:56:35.158Z"
   },
   {
    "duration": 121,
    "start_time": "2025-02-03T07:56:35.207Z"
   },
   {
    "duration": 9,
    "start_time": "2025-02-03T07:56:35.329Z"
   },
   {
    "duration": 116,
    "start_time": "2025-02-03T07:56:35.340Z"
   },
   {
    "duration": 79,
    "start_time": "2025-02-03T07:56:35.459Z"
   },
   {
    "duration": 31,
    "start_time": "2025-02-03T07:56:35.541Z"
   },
   {
    "duration": 38,
    "start_time": "2025-02-03T07:56:35.574Z"
   },
   {
    "duration": 53,
    "start_time": "2025-02-03T07:56:35.614Z"
   },
   {
    "duration": 24,
    "start_time": "2025-02-03T07:56:35.669Z"
   },
   {
    "duration": 37,
    "start_time": "2025-02-03T07:56:35.694Z"
   },
   {
    "duration": 25,
    "start_time": "2025-02-03T07:56:35.733Z"
   },
   {
    "duration": 63,
    "start_time": "2025-02-03T07:56:35.760Z"
   },
   {
    "duration": 4,
    "start_time": "2025-02-03T07:56:35.825Z"
   },
   {
    "duration": 189,
    "start_time": "2025-02-03T07:56:35.831Z"
   },
   {
    "duration": 61,
    "start_time": "2025-02-03T07:56:36.022Z"
   },
   {
    "duration": 210,
    "start_time": "2025-02-03T07:56:36.085Z"
   },
   {
    "duration": 25,
    "start_time": "2025-02-03T07:56:36.300Z"
   },
   {
    "duration": 235,
    "start_time": "2025-02-03T07:56:36.327Z"
   },
   {
    "duration": 94,
    "start_time": "2025-02-03T07:56:36.564Z"
   },
   {
    "duration": 3368,
    "start_time": "2025-02-03T07:56:36.660Z"
   },
   {
    "duration": 6,
    "start_time": "2025-02-03T07:56:40.030Z"
   },
   {
    "duration": 28,
    "start_time": "2025-02-03T07:56:40.038Z"
   },
   {
    "duration": 9,
    "start_time": "2025-02-03T07:56:40.068Z"
   },
   {
    "duration": 77,
    "start_time": "2025-02-03T07:56:40.079Z"
   },
   {
    "duration": 5,
    "start_time": "2025-02-03T08:06:28.519Z"
   },
   {
    "duration": 5,
    "start_time": "2025-02-03T08:06:40.430Z"
   },
   {
    "duration": 29,
    "start_time": "2025-02-03T08:06:57.289Z"
   },
   {
    "duration": 19,
    "start_time": "2025-02-03T08:07:21.968Z"
   },
   {
    "duration": 121,
    "start_time": "2025-02-03T08:23:14.989Z"
   },
   {
    "duration": 67,
    "start_time": "2025-02-03T08:23:25.681Z"
   },
   {
    "duration": 69,
    "start_time": "2025-02-03T08:24:45.236Z"
   },
   {
    "duration": 77,
    "start_time": "2025-02-03T08:24:53.618Z"
   },
   {
    "duration": 88,
    "start_time": "2025-02-03T08:26:36.497Z"
   },
   {
    "duration": 110,
    "start_time": "2025-02-03T08:27:45.764Z"
   },
   {
    "duration": 3545,
    "start_time": "2025-02-03T08:28:17.136Z"
   },
   {
    "duration": 2370,
    "start_time": "2025-02-03T08:28:20.683Z"
   },
   {
    "duration": 13,
    "start_time": "2025-02-03T08:28:23.054Z"
   },
   {
    "duration": 12,
    "start_time": "2025-02-03T08:28:23.069Z"
   },
   {
    "duration": 35,
    "start_time": "2025-02-03T08:28:23.083Z"
   },
   {
    "duration": 120,
    "start_time": "2025-02-03T08:28:23.120Z"
   },
   {
    "duration": 8,
    "start_time": "2025-02-03T08:28:23.242Z"
   },
   {
    "duration": 24,
    "start_time": "2025-02-03T08:28:23.251Z"
   },
   {
    "duration": 23,
    "start_time": "2025-02-03T08:28:23.276Z"
   },
   {
    "duration": 21,
    "start_time": "2025-02-03T08:28:23.302Z"
   },
   {
    "duration": 10,
    "start_time": "2025-02-03T08:28:23.325Z"
   },
   {
    "duration": 26,
    "start_time": "2025-02-03T08:28:23.336Z"
   },
   {
    "duration": 6,
    "start_time": "2025-02-03T08:28:23.363Z"
   },
   {
    "duration": 119,
    "start_time": "2025-02-03T08:28:23.370Z"
   },
   {
    "duration": 23,
    "start_time": "2025-02-03T08:28:23.491Z"
   },
   {
    "duration": 43,
    "start_time": "2025-02-03T08:28:23.516Z"
   },
   {
    "duration": 3,
    "start_time": "2025-02-03T08:28:23.561Z"
   },
   {
    "duration": 220,
    "start_time": "2025-02-03T08:28:23.566Z"
   },
   {
    "duration": 72,
    "start_time": "2025-02-03T08:28:23.787Z"
   },
   {
    "duration": 214,
    "start_time": "2025-02-03T08:28:23.861Z"
   },
   {
    "duration": 35,
    "start_time": "2025-02-03T08:28:24.076Z"
   },
   {
    "duration": 118,
    "start_time": "2025-02-03T08:28:24.113Z"
   },
   {
    "duration": 102,
    "start_time": "2025-02-03T08:28:24.233Z"
   },
   {
    "duration": 3429,
    "start_time": "2025-02-03T08:28:24.336Z"
   },
   {
    "duration": 5,
    "start_time": "2025-02-03T08:28:27.766Z"
   },
   {
    "duration": 28,
    "start_time": "2025-02-03T08:28:27.772Z"
   },
   {
    "duration": 7,
    "start_time": "2025-02-03T08:28:27.801Z"
   },
   {
    "duration": 105,
    "start_time": "2025-02-03T08:28:27.811Z"
   },
   {
    "duration": 66,
    "start_time": "2025-02-03T08:28:27.918Z"
   },
   {
    "duration": 17,
    "start_time": "2025-02-03T08:28:27.986Z"
   },
   {
    "duration": 32,
    "start_time": "2025-02-03T08:28:28.004Z"
   },
   {
    "duration": 19,
    "start_time": "2025-02-03T08:28:28.038Z"
   },
   {
    "duration": 62,
    "start_time": "2025-02-03T08:28:43.088Z"
   },
   {
    "duration": 72,
    "start_time": "2025-02-03T08:29:14.224Z"
   },
   {
    "duration": 110,
    "start_time": "2025-02-03T08:29:23.611Z"
   },
   {
    "duration": 3621,
    "start_time": "2025-02-03T08:29:40.892Z"
   },
   {
    "duration": 2845,
    "start_time": "2025-02-03T08:29:44.515Z"
   },
   {
    "duration": 13,
    "start_time": "2025-02-03T08:29:47.362Z"
   },
   {
    "duration": 153,
    "start_time": "2025-02-03T08:29:47.376Z"
   },
   {
    "duration": 27,
    "start_time": "2025-02-03T08:29:47.532Z"
   },
   {
    "duration": 99,
    "start_time": "2025-02-03T08:29:47.561Z"
   },
   {
    "duration": 8,
    "start_time": "2025-02-03T08:29:47.661Z"
   },
   {
    "duration": 48,
    "start_time": "2025-02-03T08:29:47.671Z"
   },
   {
    "duration": 7,
    "start_time": "2025-02-03T08:29:47.721Z"
   },
   {
    "duration": 20,
    "start_time": "2025-02-03T08:29:47.730Z"
   },
   {
    "duration": 8,
    "start_time": "2025-02-03T08:29:47.752Z"
   },
   {
    "duration": 46,
    "start_time": "2025-02-03T08:29:47.762Z"
   },
   {
    "duration": 7,
    "start_time": "2025-02-03T08:29:47.810Z"
   },
   {
    "duration": 11,
    "start_time": "2025-02-03T08:29:47.819Z"
   },
   {
    "duration": 8,
    "start_time": "2025-02-03T08:29:47.832Z"
   },
   {
    "duration": 75,
    "start_time": "2025-02-03T08:29:47.842Z"
   },
   {
    "duration": 4,
    "start_time": "2025-02-03T08:29:47.919Z"
   },
   {
    "duration": 199,
    "start_time": "2025-02-03T08:29:47.924Z"
   },
   {
    "duration": 60,
    "start_time": "2025-02-03T08:29:48.125Z"
   },
   {
    "duration": 277,
    "start_time": "2025-02-03T08:29:48.186Z"
   },
   {
    "duration": 60,
    "start_time": "2025-02-03T08:29:48.465Z"
   },
   {
    "duration": 167,
    "start_time": "2025-02-03T08:29:48.527Z"
   },
   {
    "duration": 112,
    "start_time": "2025-02-03T08:29:48.696Z"
   },
   {
    "duration": 3537,
    "start_time": "2025-02-03T08:29:48.809Z"
   },
   {
    "duration": 6,
    "start_time": "2025-02-03T08:29:52.348Z"
   },
   {
    "duration": 45,
    "start_time": "2025-02-03T08:29:52.356Z"
   },
   {
    "duration": 101,
    "start_time": "2025-02-03T08:29:52.402Z"
   },
   {
    "duration": 210,
    "start_time": "2025-02-03T08:29:52.506Z"
   },
   {
    "duration": 105,
    "start_time": "2025-02-03T08:29:52.718Z"
   },
   {
    "duration": 5,
    "start_time": "2025-02-03T08:29:52.825Z"
   },
   {
    "duration": 38,
    "start_time": "2025-02-03T08:29:52.831Z"
   },
   {
    "duration": 34,
    "start_time": "2025-02-03T08:29:52.871Z"
   },
   {
    "duration": 21,
    "start_time": "2025-02-03T08:32:23.205Z"
   },
   {
    "duration": 9,
    "start_time": "2025-02-03T08:32:41.205Z"
   },
   {
    "duration": 3705,
    "start_time": "2025-02-03T08:32:51.621Z"
   },
   {
    "duration": 2220,
    "start_time": "2025-02-03T08:32:55.328Z"
   },
   {
    "duration": 13,
    "start_time": "2025-02-03T08:32:57.549Z"
   },
   {
    "duration": 16,
    "start_time": "2025-02-03T08:32:57.563Z"
   },
   {
    "duration": 97,
    "start_time": "2025-02-03T08:32:57.581Z"
   },
   {
    "duration": 111,
    "start_time": "2025-02-03T08:32:57.680Z"
   },
   {
    "duration": 9,
    "start_time": "2025-02-03T08:32:57.792Z"
   },
   {
    "duration": 26,
    "start_time": "2025-02-03T08:32:57.803Z"
   },
   {
    "duration": 8,
    "start_time": "2025-02-03T08:32:57.831Z"
   },
   {
    "duration": 26,
    "start_time": "2025-02-03T08:32:57.842Z"
   },
   {
    "duration": 32,
    "start_time": "2025-02-03T08:32:57.869Z"
   },
   {
    "duration": 14,
    "start_time": "2025-02-03T08:32:57.902Z"
   },
   {
    "duration": 16,
    "start_time": "2025-02-03T08:32:57.918Z"
   },
   {
    "duration": 22,
    "start_time": "2025-02-03T08:32:57.936Z"
   },
   {
    "duration": 10,
    "start_time": "2025-02-03T08:32:57.960Z"
   },
   {
    "duration": 57,
    "start_time": "2025-02-03T08:32:57.971Z"
   },
   {
    "duration": 4,
    "start_time": "2025-02-03T08:32:58.029Z"
   },
   {
    "duration": 185,
    "start_time": "2025-02-03T08:32:58.035Z"
   },
   {
    "duration": 63,
    "start_time": "2025-02-03T08:32:58.222Z"
   },
   {
    "duration": 219,
    "start_time": "2025-02-03T08:32:58.287Z"
   },
   {
    "duration": 25,
    "start_time": "2025-02-03T08:32:58.508Z"
   },
   {
    "duration": 160,
    "start_time": "2025-02-03T08:32:58.534Z"
   },
   {
    "duration": 99,
    "start_time": "2025-02-03T08:32:58.695Z"
   },
   {
    "duration": 3429,
    "start_time": "2025-02-03T08:32:58.801Z"
   },
   {
    "duration": 6,
    "start_time": "2025-02-03T08:33:02.233Z"
   },
   {
    "duration": 14,
    "start_time": "2025-02-03T08:33:02.241Z"
   },
   {
    "duration": 7,
    "start_time": "2025-02-03T08:33:02.256Z"
   },
   {
    "duration": 262,
    "start_time": "2025-02-03T08:33:02.266Z"
   },
   {
    "duration": 83,
    "start_time": "2025-02-03T08:33:02.530Z"
   },
   {
    "duration": 92,
    "start_time": "2025-02-03T08:33:02.614Z"
   },
   {
    "duration": 161,
    "start_time": "2025-02-03T08:33:02.708Z"
   },
   {
    "duration": 53,
    "start_time": "2025-02-03T08:33:02.871Z"
   },
   {
    "duration": 25,
    "start_time": "2025-02-03T08:53:15.373Z"
   },
   {
    "duration": 81,
    "start_time": "2025-02-03T08:53:28.290Z"
   },
   {
    "duration": 30,
    "start_time": "2025-02-03T09:04:31.863Z"
   },
   {
    "duration": 98,
    "start_time": "2025-02-03T09:04:45.511Z"
   },
   {
    "duration": 3753,
    "start_time": "2025-02-03T09:10:59.239Z"
   },
   {
    "duration": 1904,
    "start_time": "2025-02-03T09:11:02.995Z"
   },
   {
    "duration": 14,
    "start_time": "2025-02-03T09:11:04.901Z"
   },
   {
    "duration": 71,
    "start_time": "2025-02-03T09:11:04.916Z"
   },
   {
    "duration": 44,
    "start_time": "2025-02-03T09:11:04.989Z"
   },
   {
    "duration": 101,
    "start_time": "2025-02-03T09:11:05.035Z"
   },
   {
    "duration": 8,
    "start_time": "2025-02-03T09:11:05.138Z"
   },
   {
    "duration": 26,
    "start_time": "2025-02-03T09:11:05.148Z"
   },
   {
    "duration": 25,
    "start_time": "2025-02-03T09:11:05.176Z"
   },
   {
    "duration": 23,
    "start_time": "2025-02-03T09:11:05.203Z"
   },
   {
    "duration": 35,
    "start_time": "2025-02-03T09:11:05.227Z"
   },
   {
    "duration": 48,
    "start_time": "2025-02-03T09:11:05.264Z"
   },
   {
    "duration": 26,
    "start_time": "2025-02-03T09:11:05.314Z"
   },
   {
    "duration": 57,
    "start_time": "2025-02-03T09:11:05.341Z"
   },
   {
    "duration": 26,
    "start_time": "2025-02-03T09:11:05.400Z"
   },
   {
    "duration": 69,
    "start_time": "2025-02-03T09:11:05.428Z"
   },
   {
    "duration": 4,
    "start_time": "2025-02-03T09:11:05.499Z"
   },
   {
    "duration": 322,
    "start_time": "2025-02-03T09:11:05.505Z"
   },
   {
    "duration": 105,
    "start_time": "2025-02-03T09:11:05.829Z"
   },
   {
    "duration": 216,
    "start_time": "2025-02-03T09:11:05.936Z"
   },
   {
    "duration": 27,
    "start_time": "2025-02-03T09:11:06.155Z"
   },
   {
    "duration": 118,
    "start_time": "2025-02-03T09:11:06.199Z"
   },
   {
    "duration": 101,
    "start_time": "2025-02-03T09:11:06.319Z"
   },
   {
    "duration": 3543,
    "start_time": "2025-02-03T09:11:06.421Z"
   },
   {
    "duration": 5,
    "start_time": "2025-02-03T09:11:09.966Z"
   },
   {
    "duration": 31,
    "start_time": "2025-02-03T09:11:09.973Z"
   },
   {
    "duration": 8,
    "start_time": "2025-02-03T09:11:10.006Z"
   },
   {
    "duration": 240,
    "start_time": "2025-02-03T09:11:10.017Z"
   },
   {
    "duration": 78,
    "start_time": "2025-02-03T09:11:10.258Z"
   },
   {
    "duration": 6,
    "start_time": "2025-02-03T09:11:10.337Z"
   },
   {
    "duration": 46,
    "start_time": "2025-02-03T09:11:10.344Z"
   },
   {
    "duration": 25,
    "start_time": "2025-02-03T09:11:10.391Z"
   },
   {
    "duration": 86,
    "start_time": "2025-02-03T09:11:10.418Z"
   },
   {
    "duration": 31,
    "start_time": "2025-02-03T09:11:10.506Z"
   },
   {
    "duration": 225,
    "start_time": "2025-02-03T09:11:10.539Z"
   },
   {
    "duration": 25,
    "start_time": "2025-02-03T09:11:40.367Z"
   },
   {
    "duration": 63,
    "start_time": "2025-02-03T11:01:23.245Z"
   },
   {
    "duration": 61,
    "start_time": "2025-02-03T11:02:24.254Z"
   },
   {
    "duration": 16,
    "start_time": "2025-02-03T11:03:47.546Z"
   },
   {
    "duration": 530,
    "start_time": "2025-02-03T11:29:32.764Z"
   },
   {
    "duration": 253,
    "start_time": "2025-02-03T11:30:01.377Z"
   },
   {
    "duration": 255,
    "start_time": "2025-02-03T11:30:36.273Z"
   },
   {
    "duration": 268,
    "start_time": "2025-02-03T11:32:25.124Z"
   },
   {
    "duration": 5,
    "start_time": "2025-02-03T11:33:26.381Z"
   },
   {
    "duration": 64,
    "start_time": "2025-02-03T11:35:27.471Z"
   },
   {
    "duration": 17,
    "start_time": "2025-02-03T11:51:22.626Z"
   },
   {
    "duration": 28,
    "start_time": "2025-02-03T11:51:46.808Z"
   },
   {
    "duration": 3659,
    "start_time": "2025-02-03T12:40:55.459Z"
   },
   {
    "duration": 1989,
    "start_time": "2025-02-03T12:40:59.120Z"
   },
   {
    "duration": 13,
    "start_time": "2025-02-03T12:41:01.111Z"
   },
   {
    "duration": 12,
    "start_time": "2025-02-03T12:41:01.126Z"
   },
   {
    "duration": 42,
    "start_time": "2025-02-03T12:41:01.140Z"
   },
   {
    "duration": 246,
    "start_time": "2025-02-03T12:41:01.184Z"
   },
   {
    "duration": 7,
    "start_time": "2025-02-03T12:41:01.432Z"
   },
   {
    "duration": 111,
    "start_time": "2025-02-03T12:41:01.441Z"
   },
   {
    "duration": 66,
    "start_time": "2025-02-03T12:41:01.554Z"
   },
   {
    "duration": 53,
    "start_time": "2025-02-03T12:41:01.623Z"
   },
   {
    "duration": 46,
    "start_time": "2025-02-03T12:41:01.677Z"
   },
   {
    "duration": 31,
    "start_time": "2025-02-03T12:41:01.724Z"
   },
   {
    "duration": 7,
    "start_time": "2025-02-03T12:41:01.756Z"
   },
   {
    "duration": 30,
    "start_time": "2025-02-03T12:41:01.764Z"
   },
   {
    "duration": 31,
    "start_time": "2025-02-03T12:41:01.796Z"
   },
   {
    "duration": 62,
    "start_time": "2025-02-03T12:41:01.828Z"
   },
   {
    "duration": 4,
    "start_time": "2025-02-03T12:41:01.892Z"
   },
   {
    "duration": 188,
    "start_time": "2025-02-03T12:41:01.897Z"
   },
   {
    "duration": 63,
    "start_time": "2025-02-03T12:41:02.087Z"
   },
   {
    "duration": 228,
    "start_time": "2025-02-03T12:41:02.152Z"
   },
   {
    "duration": 32,
    "start_time": "2025-02-03T12:41:02.381Z"
   },
   {
    "duration": 134,
    "start_time": "2025-02-03T12:41:02.414Z"
   },
   {
    "duration": 109,
    "start_time": "2025-02-03T12:41:02.550Z"
   },
   {
    "duration": 3582,
    "start_time": "2025-02-03T12:41:02.661Z"
   },
   {
    "duration": 5,
    "start_time": "2025-02-03T12:41:06.245Z"
   },
   {
    "duration": 108,
    "start_time": "2025-02-03T12:41:06.251Z"
   },
   {
    "duration": 17,
    "start_time": "2025-02-03T12:41:06.361Z"
   },
   {
    "duration": 270,
    "start_time": "2025-02-03T12:41:06.381Z"
   },
   {
    "duration": 79,
    "start_time": "2025-02-03T12:41:06.653Z"
   },
   {
    "duration": 4,
    "start_time": "2025-02-03T12:41:06.734Z"
   },
   {
    "duration": 45,
    "start_time": "2025-02-03T12:41:06.739Z"
   },
   {
    "duration": 20,
    "start_time": "2025-02-03T12:41:06.785Z"
   },
   {
    "duration": 99,
    "start_time": "2025-02-03T12:41:06.807Z"
   },
   {
    "duration": 30,
    "start_time": "2025-02-03T12:41:06.907Z"
   },
   {
    "duration": 82,
    "start_time": "2025-02-03T12:41:06.939Z"
   },
   {
    "duration": 23,
    "start_time": "2025-02-03T12:41:07.022Z"
   },
   {
    "duration": 73,
    "start_time": "2025-02-03T12:41:07.046Z"
   },
   {
    "duration": 63,
    "start_time": "2025-02-03T12:41:07.121Z"
   },
   {
    "duration": 29,
    "start_time": "2025-02-03T12:41:07.186Z"
   },
   {
    "duration": 24,
    "start_time": "2025-02-03T12:41:07.216Z"
   },
   {
    "duration": 15,
    "start_time": "2025-02-03T12:41:07.241Z"
   },
   {
    "duration": 367,
    "start_time": "2025-02-03T12:41:07.258Z"
   },
   {
    "duration": 273,
    "start_time": "2025-02-03T12:41:07.627Z"
   },
   {
    "duration": 4,
    "start_time": "2025-02-03T12:41:07.902Z"
   },
   {
    "duration": 77,
    "start_time": "2025-02-03T12:41:07.908Z"
   },
   {
    "duration": 4980,
    "start_time": "2025-02-04T07:19:16.969Z"
   },
   {
    "duration": 2109,
    "start_time": "2025-02-04T07:19:21.952Z"
   },
   {
    "duration": 12,
    "start_time": "2025-02-04T07:19:24.063Z"
   },
   {
    "duration": 68,
    "start_time": "2025-02-04T07:19:24.076Z"
   },
   {
    "duration": 24,
    "start_time": "2025-02-04T07:19:24.145Z"
   },
   {
    "duration": 104,
    "start_time": "2025-02-04T07:19:24.170Z"
   },
   {
    "duration": 7,
    "start_time": "2025-02-04T07:19:24.275Z"
   },
   {
    "duration": 23,
    "start_time": "2025-02-04T07:19:24.283Z"
   },
   {
    "duration": 7,
    "start_time": "2025-02-04T07:19:24.308Z"
   },
   {
    "duration": 38,
    "start_time": "2025-02-04T07:19:24.317Z"
   },
   {
    "duration": 9,
    "start_time": "2025-02-04T07:19:24.356Z"
   },
   {
    "duration": 11,
    "start_time": "2025-02-04T07:19:24.366Z"
   },
   {
    "duration": 6,
    "start_time": "2025-02-04T07:19:24.378Z"
   },
   {
    "duration": 8,
    "start_time": "2025-02-04T07:19:24.385Z"
   },
   {
    "duration": 22,
    "start_time": "2025-02-04T07:19:24.394Z"
   },
   {
    "duration": 59,
    "start_time": "2025-02-04T07:19:24.417Z"
   },
   {
    "duration": 4,
    "start_time": "2025-02-04T07:19:24.478Z"
   },
   {
    "duration": 165,
    "start_time": "2025-02-04T07:19:24.483Z"
   },
   {
    "duration": 58,
    "start_time": "2025-02-04T07:19:24.650Z"
   },
   {
    "duration": 208,
    "start_time": "2025-02-04T07:19:24.710Z"
   },
   {
    "duration": 30,
    "start_time": "2025-02-04T07:19:24.919Z"
   },
   {
    "duration": 120,
    "start_time": "2025-02-04T07:19:24.950Z"
   },
   {
    "duration": 100,
    "start_time": "2025-02-04T07:19:25.072Z"
   },
   {
    "duration": 3258,
    "start_time": "2025-02-04T07:19:25.174Z"
   },
   {
    "duration": 5,
    "start_time": "2025-02-04T07:19:28.433Z"
   },
   {
    "duration": 20,
    "start_time": "2025-02-04T07:19:28.448Z"
   },
   {
    "duration": 8,
    "start_time": "2025-02-04T07:19:28.469Z"
   },
   {
    "duration": 224,
    "start_time": "2025-02-04T07:19:28.480Z"
   },
   {
    "duration": 77,
    "start_time": "2025-02-04T07:19:28.705Z"
   },
   {
    "duration": 5,
    "start_time": "2025-02-04T07:19:28.783Z"
   },
   {
    "duration": 30,
    "start_time": "2025-02-04T07:19:28.790Z"
   },
   {
    "duration": 33,
    "start_time": "2025-02-04T07:19:28.821Z"
   },
   {
    "duration": 80,
    "start_time": "2025-02-04T07:19:28.856Z"
   },
   {
    "duration": 31,
    "start_time": "2025-02-04T07:19:28.949Z"
   },
   {
    "duration": 81,
    "start_time": "2025-02-04T07:19:28.982Z"
   },
   {
    "duration": 20,
    "start_time": "2025-02-04T07:19:29.064Z"
   },
   {
    "duration": 69,
    "start_time": "2025-02-04T07:19:29.086Z"
   },
   {
    "duration": 58,
    "start_time": "2025-02-04T07:19:29.157Z"
   },
   {
    "duration": 32,
    "start_time": "2025-02-04T07:19:29.217Z"
   },
   {
    "duration": 18,
    "start_time": "2025-02-04T07:19:29.250Z"
   },
   {
    "duration": 33,
    "start_time": "2025-02-04T07:19:29.269Z"
   },
   {
    "duration": 370,
    "start_time": "2025-02-04T07:19:29.303Z"
   },
   {
    "duration": 267,
    "start_time": "2025-02-04T07:19:29.674Z"
   },
   {
    "duration": 4,
    "start_time": "2025-02-04T07:19:29.948Z"
   },
   {
    "duration": 78,
    "start_time": "2025-02-04T07:19:29.954Z"
   },
   {
    "duration": 76,
    "start_time": "2025-02-04T07:26:52.406Z"
   },
   {
    "duration": 58,
    "start_time": "2025-02-04T07:27:07.396Z"
   },
   {
    "duration": 115,
    "start_time": "2025-02-04T07:27:26.969Z"
   },
   {
    "duration": 3461,
    "start_time": "2025-02-04T07:27:50.873Z"
   },
   {
    "duration": 4023,
    "start_time": "2025-02-04T07:27:54.336Z"
   },
   {
    "duration": 11,
    "start_time": "2025-02-04T07:27:58.361Z"
   },
   {
    "duration": 17,
    "start_time": "2025-02-04T07:27:58.374Z"
   },
   {
    "duration": 27,
    "start_time": "2025-02-04T07:27:58.393Z"
   },
   {
    "duration": 105,
    "start_time": "2025-02-04T07:27:58.422Z"
   },
   {
    "duration": 7,
    "start_time": "2025-02-04T07:27:58.528Z"
   },
   {
    "duration": 33,
    "start_time": "2025-02-04T07:27:58.536Z"
   },
   {
    "duration": 7,
    "start_time": "2025-02-04T07:27:58.571Z"
   },
   {
    "duration": 21,
    "start_time": "2025-02-04T07:27:58.581Z"
   },
   {
    "duration": 39,
    "start_time": "2025-02-04T07:27:58.603Z"
   },
   {
    "duration": 16,
    "start_time": "2025-02-04T07:27:58.644Z"
   },
   {
    "duration": 19,
    "start_time": "2025-02-04T07:27:58.662Z"
   },
   {
    "duration": 10,
    "start_time": "2025-02-04T07:27:58.683Z"
   },
   {
    "duration": 8,
    "start_time": "2025-02-04T07:27:58.695Z"
   },
   {
    "duration": 44,
    "start_time": "2025-02-04T07:27:58.704Z"
   },
   {
    "duration": 3,
    "start_time": "2025-02-04T07:27:58.750Z"
   },
   {
    "duration": 177,
    "start_time": "2025-02-04T07:27:58.755Z"
   },
   {
    "duration": 70,
    "start_time": "2025-02-04T07:27:58.934Z"
   },
   {
    "duration": 198,
    "start_time": "2025-02-04T07:27:59.005Z"
   },
   {
    "duration": 24,
    "start_time": "2025-02-04T07:27:59.205Z"
   },
   {
    "duration": 129,
    "start_time": "2025-02-04T07:27:59.230Z"
   },
   {
    "duration": 97,
    "start_time": "2025-02-04T07:27:59.361Z"
   },
   {
    "duration": 3242,
    "start_time": "2025-02-04T07:27:59.459Z"
   },
   {
    "duration": 6,
    "start_time": "2025-02-04T07:28:02.702Z"
   },
   {
    "duration": 43,
    "start_time": "2025-02-04T07:28:02.710Z"
   },
   {
    "duration": 33,
    "start_time": "2025-02-04T07:28:02.754Z"
   },
   {
    "duration": 243,
    "start_time": "2025-02-04T07:28:02.791Z"
   },
   {
    "duration": 70,
    "start_time": "2025-02-04T07:28:03.036Z"
   },
   {
    "duration": 6,
    "start_time": "2025-02-04T07:28:03.108Z"
   },
   {
    "duration": 50,
    "start_time": "2025-02-04T07:28:03.115Z"
   },
   {
    "duration": 20,
    "start_time": "2025-02-04T07:28:03.167Z"
   },
   {
    "duration": 90,
    "start_time": "2025-02-04T07:28:03.188Z"
   },
   {
    "duration": 31,
    "start_time": "2025-02-04T07:28:03.280Z"
   },
   {
    "duration": 80,
    "start_time": "2025-02-04T07:28:03.313Z"
   },
   {
    "duration": 19,
    "start_time": "2025-02-04T07:28:03.395Z"
   },
   {
    "duration": 71,
    "start_time": "2025-02-04T07:28:03.416Z"
   },
   {
    "duration": 70,
    "start_time": "2025-02-04T07:28:03.489Z"
   },
   {
    "duration": 16,
    "start_time": "2025-02-04T07:28:03.560Z"
   },
   {
    "duration": 22,
    "start_time": "2025-02-04T07:28:03.578Z"
   },
   {
    "duration": 28,
    "start_time": "2025-02-04T07:28:03.602Z"
   },
   {
    "duration": 277,
    "start_time": "2025-02-04T07:28:03.632Z"
   },
   {
    "duration": 272,
    "start_time": "2025-02-04T07:28:03.911Z"
   },
   {
    "duration": 4,
    "start_time": "2025-02-04T07:28:04.185Z"
   },
   {
    "duration": 93,
    "start_time": "2025-02-04T07:28:04.191Z"
   },
   {
    "duration": 135,
    "start_time": "2025-02-04T07:28:04.285Z"
   },
   {
    "duration": 103,
    "start_time": "2025-02-04T07:30:34.179Z"
   },
   {
    "duration": 14,
    "start_time": "2025-02-04T07:31:14.679Z"
   },
   {
    "duration": 12,
    "start_time": "2025-02-04T07:31:42.105Z"
   },
   {
    "duration": 90,
    "start_time": "2025-02-04T07:32:57.550Z"
   },
   {
    "duration": 40,
    "start_time": "2025-02-04T07:33:17.811Z"
   },
   {
    "duration": 40,
    "start_time": "2025-02-04T07:33:52.558Z"
   },
   {
    "duration": 35,
    "start_time": "2025-02-04T07:35:09.843Z"
   },
   {
    "duration": 31,
    "start_time": "2025-02-04T07:36:28.618Z"
   },
   {
    "duration": 220,
    "start_time": "2025-02-04T07:37:51.348Z"
   },
   {
    "duration": 4,
    "start_time": "2025-02-04T07:38:07.732Z"
   },
   {
    "duration": 43,
    "start_time": "2025-02-04T07:38:36.029Z"
   },
   {
    "duration": 3601,
    "start_time": "2025-02-04T07:38:40.016Z"
   },
   {
    "duration": 2704,
    "start_time": "2025-02-04T07:38:43.619Z"
   },
   {
    "duration": 12,
    "start_time": "2025-02-04T07:38:46.324Z"
   },
   {
    "duration": 12,
    "start_time": "2025-02-04T07:38:46.347Z"
   },
   {
    "duration": 22,
    "start_time": "2025-02-04T07:38:46.360Z"
   },
   {
    "duration": 104,
    "start_time": "2025-02-04T07:38:46.384Z"
   },
   {
    "duration": 8,
    "start_time": "2025-02-04T07:38:46.489Z"
   },
   {
    "duration": 30,
    "start_time": "2025-02-04T07:38:46.498Z"
   },
   {
    "duration": 20,
    "start_time": "2025-02-04T07:38:46.529Z"
   },
   {
    "duration": 18,
    "start_time": "2025-02-04T07:38:46.551Z"
   },
   {
    "duration": 20,
    "start_time": "2025-02-04T07:38:46.570Z"
   },
   {
    "duration": 28,
    "start_time": "2025-02-04T07:38:46.591Z"
   },
   {
    "duration": 11,
    "start_time": "2025-02-04T07:38:46.620Z"
   },
   {
    "duration": 36,
    "start_time": "2025-02-04T07:38:46.633Z"
   },
   {
    "duration": 7,
    "start_time": "2025-02-04T07:38:46.671Z"
   },
   {
    "duration": 36,
    "start_time": "2025-02-04T07:38:46.679Z"
   },
   {
    "duration": 3,
    "start_time": "2025-02-04T07:38:46.717Z"
   },
   {
    "duration": 170,
    "start_time": "2025-02-04T07:38:46.722Z"
   },
   {
    "duration": 65,
    "start_time": "2025-02-04T07:38:46.894Z"
   },
   {
    "duration": 193,
    "start_time": "2025-02-04T07:38:46.960Z"
   },
   {
    "duration": 23,
    "start_time": "2025-02-04T07:38:47.154Z"
   },
   {
    "duration": 122,
    "start_time": "2025-02-04T07:38:47.179Z"
   },
   {
    "duration": 96,
    "start_time": "2025-02-04T07:38:47.302Z"
   },
   {
    "duration": 3140,
    "start_time": "2025-02-04T07:38:47.400Z"
   },
   {
    "duration": 8,
    "start_time": "2025-02-04T07:38:50.542Z"
   },
   {
    "duration": 11,
    "start_time": "2025-02-04T07:38:50.552Z"
   },
   {
    "duration": 7,
    "start_time": "2025-02-04T07:38:50.564Z"
   },
   {
    "duration": 234,
    "start_time": "2025-02-04T07:38:50.574Z"
   },
   {
    "duration": 73,
    "start_time": "2025-02-04T07:38:50.810Z"
   },
   {
    "duration": 5,
    "start_time": "2025-02-04T07:38:50.884Z"
   },
   {
    "duration": 32,
    "start_time": "2025-02-04T07:38:50.890Z"
   },
   {
    "duration": 27,
    "start_time": "2025-02-04T07:38:50.923Z"
   },
   {
    "duration": 77,
    "start_time": "2025-02-04T07:38:50.952Z"
   },
   {
    "duration": 37,
    "start_time": "2025-02-04T07:38:51.031Z"
   },
   {
    "duration": 79,
    "start_time": "2025-02-04T07:38:51.070Z"
   },
   {
    "duration": 20,
    "start_time": "2025-02-04T07:38:51.150Z"
   },
   {
    "duration": 57,
    "start_time": "2025-02-04T07:38:51.171Z"
   },
   {
    "duration": 73,
    "start_time": "2025-02-04T07:38:51.230Z"
   },
   {
    "duration": 15,
    "start_time": "2025-02-04T07:38:51.305Z"
   },
   {
    "duration": 32,
    "start_time": "2025-02-04T07:38:51.322Z"
   },
   {
    "duration": 14,
    "start_time": "2025-02-04T07:38:51.356Z"
   },
   {
    "duration": 269,
    "start_time": "2025-02-04T07:38:51.372Z"
   },
   {
    "duration": 276,
    "start_time": "2025-02-04T07:38:51.642Z"
   },
   {
    "duration": 4,
    "start_time": "2025-02-04T07:38:51.920Z"
   },
   {
    "duration": 57,
    "start_time": "2025-02-04T07:38:51.925Z"
   },
   {
    "duration": 135,
    "start_time": "2025-02-04T07:44:06.097Z"
   },
   {
    "duration": 76,
    "start_time": "2025-02-04T07:44:17.103Z"
   },
   {
    "duration": 10,
    "start_time": "2025-02-04T07:44:43.143Z"
   },
   {
    "duration": 12,
    "start_time": "2025-02-04T07:44:57.434Z"
   },
   {
    "duration": 4773,
    "start_time": "2025-02-04T08:11:13.493Z"
   },
   {
    "duration": 5066,
    "start_time": "2025-02-04T08:11:18.270Z"
   },
   {
    "duration": 22,
    "start_time": "2025-02-04T08:11:23.338Z"
   },
   {
    "duration": 37,
    "start_time": "2025-02-04T08:11:23.363Z"
   },
   {
    "duration": 38,
    "start_time": "2025-02-04T08:11:23.402Z"
   },
   {
    "duration": 99,
    "start_time": "2025-02-04T08:11:23.442Z"
   },
   {
    "duration": 17,
    "start_time": "2025-02-04T08:11:23.543Z"
   },
   {
    "duration": 31,
    "start_time": "2025-02-04T08:11:23.561Z"
   },
   {
    "duration": 10,
    "start_time": "2025-02-04T08:11:23.594Z"
   },
   {
    "duration": 37,
    "start_time": "2025-02-04T08:11:23.607Z"
   },
   {
    "duration": 11,
    "start_time": "2025-02-04T08:11:23.646Z"
   },
   {
    "duration": 15,
    "start_time": "2025-02-04T08:11:23.658Z"
   },
   {
    "duration": 12,
    "start_time": "2025-02-04T08:11:23.674Z"
   },
   {
    "duration": 15,
    "start_time": "2025-02-04T08:11:23.688Z"
   },
   {
    "duration": 9,
    "start_time": "2025-02-04T08:11:23.705Z"
   },
   {
    "duration": 71,
    "start_time": "2025-02-04T08:11:23.716Z"
   },
   {
    "duration": 4,
    "start_time": "2025-02-04T08:11:23.789Z"
   },
   {
    "duration": 187,
    "start_time": "2025-02-04T08:11:23.795Z"
   },
   {
    "duration": 173,
    "start_time": "2025-02-04T08:11:44.723Z"
   },
   {
    "duration": 112,
    "start_time": "2025-02-04T08:19:44.826Z"
   },
   {
    "duration": 10,
    "start_time": "2025-02-04T08:19:53.465Z"
   },
   {
    "duration": 10,
    "start_time": "2025-02-04T08:19:56.441Z"
   },
   {
    "duration": 119,
    "start_time": "2025-02-04T08:19:58.890Z"
   },
   {
    "duration": 88,
    "start_time": "2025-02-04T08:19:59.664Z"
   },
   {
    "duration": 3560,
    "start_time": "2025-02-04T08:20:00.488Z"
   },
   {
    "duration": 8,
    "start_time": "2025-02-04T08:20:04.050Z"
   },
   {
    "duration": 13,
    "start_time": "2025-02-04T08:20:06.825Z"
   },
   {
    "duration": 2678,
    "start_time": "2025-02-04T08:26:46.006Z"
   },
   {
    "duration": 3550,
    "start_time": "2025-02-04T08:26:48.687Z"
   },
   {
    "duration": 18,
    "start_time": "2025-02-04T08:26:52.239Z"
   },
   {
    "duration": 32,
    "start_time": "2025-02-04T08:26:52.259Z"
   },
   {
    "duration": 33,
    "start_time": "2025-02-04T08:26:52.292Z"
   },
   {
    "duration": 107,
    "start_time": "2025-02-04T08:26:52.327Z"
   },
   {
    "duration": 8,
    "start_time": "2025-02-04T08:26:52.436Z"
   },
   {
    "duration": 51,
    "start_time": "2025-02-04T08:26:52.446Z"
   },
   {
    "duration": 9,
    "start_time": "2025-02-04T08:26:52.499Z"
   },
   {
    "duration": 41,
    "start_time": "2025-02-04T08:26:52.510Z"
   },
   {
    "duration": 40,
    "start_time": "2025-02-04T08:26:52.552Z"
   },
   {
    "duration": 15,
    "start_time": "2025-02-04T08:26:52.594Z"
   },
   {
    "duration": 66,
    "start_time": "2025-02-04T08:26:52.611Z"
   },
   {
    "duration": 14,
    "start_time": "2025-02-04T08:26:52.680Z"
   },
   {
    "duration": 12,
    "start_time": "2025-02-04T08:26:52.696Z"
   },
   {
    "duration": 53,
    "start_time": "2025-02-04T08:26:52.710Z"
   },
   {
    "duration": 59,
    "start_time": "2025-02-04T08:26:52.765Z"
   },
   {
    "duration": 242,
    "start_time": "2025-02-04T08:26:52.826Z"
   },
   {
    "duration": 64,
    "start_time": "2025-02-04T08:26:53.070Z"
   },
   {
    "duration": 264,
    "start_time": "2025-02-04T08:26:53.136Z"
   },
   {
    "duration": 26,
    "start_time": "2025-02-04T08:26:53.402Z"
   },
   {
    "duration": 169,
    "start_time": "2025-02-04T08:26:53.429Z"
   },
   {
    "duration": 99,
    "start_time": "2025-02-04T08:26:53.600Z"
   },
   {
    "duration": 3674,
    "start_time": "2025-02-04T08:26:53.701Z"
   },
   {
    "duration": 8,
    "start_time": "2025-02-04T08:26:57.378Z"
   },
   {
    "duration": 16,
    "start_time": "2025-02-04T08:26:57.388Z"
   },
   {
    "duration": 8,
    "start_time": "2025-02-04T08:26:57.406Z"
   },
   {
    "duration": 292,
    "start_time": "2025-02-04T08:26:57.417Z"
   },
   {
    "duration": 81,
    "start_time": "2025-02-04T08:26:57.710Z"
   },
   {
    "duration": 6,
    "start_time": "2025-02-04T08:26:57.793Z"
   },
   {
    "duration": 55,
    "start_time": "2025-02-04T08:26:57.801Z"
   },
   {
    "duration": 23,
    "start_time": "2025-02-04T08:26:57.857Z"
   },
   {
    "duration": 104,
    "start_time": "2025-02-04T08:26:57.881Z"
   },
   {
    "duration": 30,
    "start_time": "2025-02-04T08:26:57.987Z"
   },
   {
    "duration": 86,
    "start_time": "2025-02-04T08:26:58.019Z"
   },
   {
    "duration": 24,
    "start_time": "2025-02-04T08:26:58.106Z"
   },
   {
    "duration": 81,
    "start_time": "2025-02-04T08:26:58.132Z"
   },
   {
    "duration": 71,
    "start_time": "2025-02-04T08:26:58.214Z"
   },
   {
    "duration": 17,
    "start_time": "2025-02-04T08:26:58.287Z"
   },
   {
    "duration": 20,
    "start_time": "2025-02-04T08:26:58.306Z"
   },
   {
    "duration": 41,
    "start_time": "2025-02-04T08:26:58.328Z"
   },
   {
    "duration": 305,
    "start_time": "2025-02-04T08:26:58.371Z"
   },
   {
    "duration": 323,
    "start_time": "2025-02-04T08:26:58.678Z"
   },
   {
    "duration": 5,
    "start_time": "2025-02-04T08:26:59.002Z"
   },
   {
    "duration": 102,
    "start_time": "2025-02-04T08:26:59.008Z"
   },
   {
    "duration": 32,
    "start_time": "2025-02-04T10:32:56.672Z"
   },
   {
    "duration": 3580,
    "start_time": "2025-02-04T10:33:02.744Z"
   },
   {
    "duration": 3886,
    "start_time": "2025-02-04T10:33:06.325Z"
   },
   {
    "duration": 12,
    "start_time": "2025-02-04T10:33:10.213Z"
   },
   {
    "duration": 62,
    "start_time": "2025-02-04T10:33:10.227Z"
   },
   {
    "duration": 25,
    "start_time": "2025-02-04T10:33:10.290Z"
   },
   {
    "duration": 130,
    "start_time": "2025-02-04T10:33:10.316Z"
   },
   {
    "duration": 7,
    "start_time": "2025-02-04T10:33:10.448Z"
   },
   {
    "duration": 28,
    "start_time": "2025-02-04T10:33:10.457Z"
   },
   {
    "duration": 25,
    "start_time": "2025-02-04T10:33:10.487Z"
   },
   {
    "duration": 28,
    "start_time": "2025-02-04T10:33:10.514Z"
   },
   {
    "duration": 9,
    "start_time": "2025-02-04T10:33:10.544Z"
   },
   {
    "duration": 28,
    "start_time": "2025-02-04T10:33:10.554Z"
   },
   {
    "duration": 6,
    "start_time": "2025-02-04T10:33:10.584Z"
   },
   {
    "duration": 12,
    "start_time": "2025-02-04T10:33:10.592Z"
   },
   {
    "duration": 9,
    "start_time": "2025-02-04T10:33:10.606Z"
   },
   {
    "duration": 69,
    "start_time": "2025-02-04T10:33:10.617Z"
   },
   {
    "duration": 23,
    "start_time": "2025-02-04T10:33:10.688Z"
   },
   {
    "duration": 3,
    "start_time": "2025-02-04T10:33:10.713Z"
   },
   {
    "duration": 185,
    "start_time": "2025-02-04T10:33:10.718Z"
   },
   {
    "duration": 45,
    "start_time": "2025-02-04T10:33:10.904Z"
   },
   {
    "duration": 200,
    "start_time": "2025-02-04T10:33:10.951Z"
   },
   {
    "duration": 27,
    "start_time": "2025-02-04T10:33:11.152Z"
   },
   {
    "duration": 184,
    "start_time": "2025-02-04T10:33:11.180Z"
   },
   {
    "duration": 102,
    "start_time": "2025-02-04T10:33:11.365Z"
   },
   {
    "duration": 3287,
    "start_time": "2025-02-04T10:33:11.468Z"
   },
   {
    "duration": 6,
    "start_time": "2025-02-04T10:33:14.756Z"
   },
   {
    "duration": 94,
    "start_time": "2025-02-04T10:33:14.764Z"
   },
   {
    "duration": 21,
    "start_time": "2025-02-04T10:33:14.861Z"
   },
   {
    "duration": 211,
    "start_time": "2025-02-04T10:33:14.884Z"
   },
   {
    "duration": 66,
    "start_time": "2025-02-04T10:33:15.097Z"
   },
   {
    "duration": 82,
    "start_time": "2025-02-04T10:33:15.164Z"
   },
   {
    "duration": 165,
    "start_time": "2025-02-04T10:33:15.248Z"
   },
   {
    "duration": 97,
    "start_time": "2025-02-04T10:33:15.415Z"
   },
   {
    "duration": 90,
    "start_time": "2025-02-04T10:33:15.513Z"
   },
   {
    "duration": 34,
    "start_time": "2025-02-04T10:33:15.606Z"
   },
   {
    "duration": 83,
    "start_time": "2025-02-04T10:33:15.642Z"
   },
   {
    "duration": 20,
    "start_time": "2025-02-04T10:33:15.726Z"
   },
   {
    "duration": 58,
    "start_time": "2025-02-04T10:33:15.748Z"
   },
   {
    "duration": 71,
    "start_time": "2025-02-04T10:33:15.807Z"
   },
   {
    "duration": 17,
    "start_time": "2025-02-04T10:33:15.879Z"
   },
   {
    "duration": 16,
    "start_time": "2025-02-04T10:33:15.898Z"
   },
   {
    "duration": 34,
    "start_time": "2025-02-04T10:33:15.916Z"
   },
   {
    "duration": 306,
    "start_time": "2025-02-04T10:33:15.952Z"
   },
   {
    "duration": 279,
    "start_time": "2025-02-04T10:33:16.259Z"
   },
   {
    "duration": 9,
    "start_time": "2025-02-04T10:33:16.539Z"
   },
   {
    "duration": 106,
    "start_time": "2025-02-04T10:33:16.550Z"
   },
   {
    "duration": 477,
    "start_time": "2025-02-04T11:06:28.253Z"
   },
   {
    "duration": 492,
    "start_time": "2025-02-04T11:06:37.537Z"
   },
   {
    "duration": 12,
    "start_time": "2025-02-04T11:17:52.344Z"
   },
   {
    "duration": 7730,
    "start_time": "2025-02-04T11:47:53.953Z"
   },
   {
    "duration": 118,
    "start_time": "2025-02-04T11:49:13.473Z"
   },
   {
    "duration": 146,
    "start_time": "2025-02-04T11:49:50.326Z"
   },
   {
    "duration": 122,
    "start_time": "2025-02-04T11:52:32.803Z"
   },
   {
    "duration": 215,
    "start_time": "2025-02-04T11:53:56.093Z"
   },
   {
    "duration": 125,
    "start_time": "2025-02-04T11:54:40.863Z"
   },
   {
    "duration": 136,
    "start_time": "2025-02-04T11:54:52.374Z"
   },
   {
    "duration": 3763,
    "start_time": "2025-02-04T12:09:41.732Z"
   },
   {
    "duration": 3250,
    "start_time": "2025-02-04T12:09:45.497Z"
   },
   {
    "duration": 12,
    "start_time": "2025-02-04T12:09:48.749Z"
   },
   {
    "duration": 29,
    "start_time": "2025-02-04T12:09:48.762Z"
   },
   {
    "duration": 21,
    "start_time": "2025-02-04T12:09:48.793Z"
   },
   {
    "duration": 97,
    "start_time": "2025-02-04T12:09:48.816Z"
   },
   {
    "duration": 8,
    "start_time": "2025-02-04T12:09:48.915Z"
   },
   {
    "duration": 38,
    "start_time": "2025-02-04T12:09:48.925Z"
   },
   {
    "duration": 7,
    "start_time": "2025-02-04T12:09:48.965Z"
   },
   {
    "duration": 24,
    "start_time": "2025-02-04T12:09:48.974Z"
   },
   {
    "duration": 10,
    "start_time": "2025-02-04T12:09:48.999Z"
   },
   {
    "duration": 38,
    "start_time": "2025-02-04T12:09:49.010Z"
   },
   {
    "duration": 9,
    "start_time": "2025-02-04T12:09:49.050Z"
   },
   {
    "duration": 12,
    "start_time": "2025-02-04T12:09:49.061Z"
   },
   {
    "duration": 8,
    "start_time": "2025-02-04T12:09:49.075Z"
   },
   {
    "duration": 44,
    "start_time": "2025-02-04T12:09:49.085Z"
   },
   {
    "duration": 25,
    "start_time": "2025-02-04T12:09:49.147Z"
   },
   {
    "duration": 51,
    "start_time": "2025-02-04T12:09:49.174Z"
   },
   {
    "duration": 168,
    "start_time": "2025-02-04T12:09:49.227Z"
   },
   {
    "duration": 38,
    "start_time": "2025-02-04T12:09:49.397Z"
   },
   {
    "duration": 204,
    "start_time": "2025-02-04T12:09:49.437Z"
   },
   {
    "duration": 29,
    "start_time": "2025-02-04T12:09:49.643Z"
   },
   {
    "duration": 218,
    "start_time": "2025-02-04T12:09:49.674Z"
   },
   {
    "duration": 91,
    "start_time": "2025-02-04T12:09:49.894Z"
   },
   {
    "duration": 3191,
    "start_time": "2025-02-04T12:09:49.986Z"
   },
   {
    "duration": 5,
    "start_time": "2025-02-04T12:09:53.178Z"
   },
   {
    "duration": 63,
    "start_time": "2025-02-04T12:09:53.185Z"
   },
   {
    "duration": 26,
    "start_time": "2025-02-04T12:09:53.252Z"
   },
   {
    "duration": 209,
    "start_time": "2025-02-04T12:09:53.280Z"
   },
   {
    "duration": 2455,
    "start_time": "2025-02-04T12:09:53.490Z"
   },
   {
    "duration": 194,
    "start_time": "2025-02-04T12:09:55.947Z"
   },
   {
    "duration": 150,
    "start_time": "2025-02-04T12:09:56.142Z"
   },
   {
    "duration": 146,
    "start_time": "2025-02-04T12:09:56.294Z"
   },
   {
    "duration": 91,
    "start_time": "2025-02-04T12:09:56.442Z"
   },
   {
    "duration": 41,
    "start_time": "2025-02-04T12:09:56.535Z"
   },
   {
    "duration": 81,
    "start_time": "2025-02-04T12:09:56.577Z"
   },
   {
    "duration": 21,
    "start_time": "2025-02-04T12:09:56.660Z"
   },
   {
    "duration": 130,
    "start_time": "2025-02-04T12:09:56.683Z"
   },
   {
    "duration": 57,
    "start_time": "2025-02-04T12:09:56.815Z"
   },
   {
    "duration": 16,
    "start_time": "2025-02-04T12:09:56.873Z"
   },
   {
    "duration": 17,
    "start_time": "2025-02-04T12:09:56.890Z"
   },
   {
    "duration": 15,
    "start_time": "2025-02-04T12:09:56.908Z"
   },
   {
    "duration": 284,
    "start_time": "2025-02-04T12:09:56.925Z"
   },
   {
    "duration": 283,
    "start_time": "2025-02-04T12:09:57.211Z"
   },
   {
    "duration": 4,
    "start_time": "2025-02-04T12:09:57.496Z"
   },
   {
    "duration": 111,
    "start_time": "2025-02-04T12:09:57.501Z"
   },
   {
    "duration": 65,
    "start_time": "2025-02-05T06:48:57.620Z"
   },
   {
    "duration": 4866,
    "start_time": "2025-02-05T06:49:06.611Z"
   },
   {
    "duration": 2281,
    "start_time": "2025-02-05T06:49:11.480Z"
   },
   {
    "duration": 15,
    "start_time": "2025-02-05T06:49:13.763Z"
   },
   {
    "duration": 15,
    "start_time": "2025-02-05T06:49:13.780Z"
   },
   {
    "duration": 51,
    "start_time": "2025-02-05T06:49:13.797Z"
   },
   {
    "duration": 150,
    "start_time": "2025-02-05T06:49:13.860Z"
   },
   {
    "duration": 8,
    "start_time": "2025-02-05T06:49:14.011Z"
   },
   {
    "duration": 44,
    "start_time": "2025-02-05T06:49:14.021Z"
   },
   {
    "duration": 10,
    "start_time": "2025-02-05T06:49:14.068Z"
   },
   {
    "duration": 19,
    "start_time": "2025-02-05T06:49:14.082Z"
   },
   {
    "duration": 11,
    "start_time": "2025-02-05T06:49:14.102Z"
   },
   {
    "duration": 13,
    "start_time": "2025-02-05T06:49:14.115Z"
   },
   {
    "duration": 37,
    "start_time": "2025-02-05T06:49:14.129Z"
   },
   {
    "duration": 13,
    "start_time": "2025-02-05T06:49:14.167Z"
   },
   {
    "duration": 9,
    "start_time": "2025-02-05T06:49:14.181Z"
   },
   {
    "duration": 40,
    "start_time": "2025-02-05T06:49:14.191Z"
   },
   {
    "duration": 46,
    "start_time": "2025-02-05T06:49:14.233Z"
   },
   {
    "duration": 4,
    "start_time": "2025-02-05T06:49:14.281Z"
   },
   {
    "duration": 202,
    "start_time": "2025-02-05T06:49:14.287Z"
   },
   {
    "duration": 40,
    "start_time": "2025-02-05T06:49:14.490Z"
   },
   {
    "duration": 229,
    "start_time": "2025-02-05T06:49:14.532Z"
   },
   {
    "duration": 29,
    "start_time": "2025-02-05T06:49:14.762Z"
   },
   {
    "duration": 139,
    "start_time": "2025-02-05T06:49:14.793Z"
   },
   {
    "duration": 110,
    "start_time": "2025-02-05T06:49:14.934Z"
   },
   {
    "duration": 3679,
    "start_time": "2025-02-05T06:49:15.046Z"
   },
   {
    "duration": 5,
    "start_time": "2025-02-05T06:49:18.727Z"
   },
   {
    "duration": 34,
    "start_time": "2025-02-05T06:49:18.734Z"
   },
   {
    "duration": 7,
    "start_time": "2025-02-05T06:49:18.771Z"
   },
   {
    "duration": 248,
    "start_time": "2025-02-05T06:49:18.780Z"
   },
   {
    "duration": 8408,
    "start_time": "2025-02-05T06:49:19.029Z"
   },
   {
    "duration": 172,
    "start_time": "2025-02-05T06:49:27.439Z"
   },
   {
    "duration": 163,
    "start_time": "2025-02-05T06:49:27.613Z"
   },
   {
    "duration": 171,
    "start_time": "2025-02-05T06:49:27.778Z"
   },
   {
    "duration": 101,
    "start_time": "2025-02-05T06:49:27.951Z"
   },
   {
    "duration": 31,
    "start_time": "2025-02-05T06:49:28.061Z"
   },
   {
    "duration": 86,
    "start_time": "2025-02-05T06:49:28.093Z"
   },
   {
    "duration": 25,
    "start_time": "2025-02-05T06:49:28.180Z"
   },
   {
    "duration": 85,
    "start_time": "2025-02-05T06:49:28.206Z"
   },
   {
    "duration": 76,
    "start_time": "2025-02-05T06:49:28.293Z"
   },
   {
    "duration": 18,
    "start_time": "2025-02-05T06:49:28.372Z"
   },
   {
    "duration": 19,
    "start_time": "2025-02-05T06:49:28.391Z"
   },
   {
    "duration": 17,
    "start_time": "2025-02-05T06:49:28.411Z"
   },
   {
    "duration": 307,
    "start_time": "2025-02-05T06:49:28.429Z"
   },
   {
    "duration": 287,
    "start_time": "2025-02-05T06:49:28.738Z"
   },
   {
    "duration": 4,
    "start_time": "2025-02-05T06:49:29.027Z"
   },
   {
    "duration": 105,
    "start_time": "2025-02-05T06:49:29.033Z"
   },
   {
    "duration": 34,
    "start_time": "2025-02-05T06:49:29.139Z"
   },
   {
    "duration": 37,
    "start_time": "2025-02-05T06:49:50.763Z"
   },
   {
    "duration": 27,
    "start_time": "2025-02-05T06:51:15.734Z"
   },
   {
    "duration": 162,
    "start_time": "2025-02-05T06:54:23.270Z"
   },
   {
    "duration": 249,
    "start_time": "2025-02-05T06:55:04.209Z"
   },
   {
    "duration": 154,
    "start_time": "2025-02-05T06:55:57.242Z"
   },
   {
    "duration": 31,
    "start_time": "2025-02-05T06:56:19.124Z"
   },
   {
    "duration": 26,
    "start_time": "2025-02-05T07:01:08.874Z"
   },
   {
    "duration": 239,
    "start_time": "2025-02-05T07:01:42.164Z"
   },
   {
    "duration": 111,
    "start_time": "2025-02-05T07:02:06.077Z"
   },
   {
    "duration": 118,
    "start_time": "2025-02-05T07:05:22.915Z"
   },
   {
    "duration": 92,
    "start_time": "2025-02-05T07:05:31.831Z"
   },
   {
    "duration": 91,
    "start_time": "2025-02-05T07:06:37.556Z"
   },
   {
    "duration": 45,
    "start_time": "2025-02-05T07:07:15.930Z"
   },
   {
    "duration": 3820,
    "start_time": "2025-02-05T07:09:44.979Z"
   },
   {
    "duration": 1940,
    "start_time": "2025-02-05T07:09:48.801Z"
   },
   {
    "duration": 19,
    "start_time": "2025-02-05T07:09:50.743Z"
   },
   {
    "duration": 26,
    "start_time": "2025-02-05T07:09:50.764Z"
   },
   {
    "duration": 84,
    "start_time": "2025-02-05T07:09:50.792Z"
   },
   {
    "duration": 141,
    "start_time": "2025-02-05T07:09:50.878Z"
   },
   {
    "duration": 9,
    "start_time": "2025-02-05T07:09:51.021Z"
   },
   {
    "duration": 71,
    "start_time": "2025-02-05T07:09:51.031Z"
   },
   {
    "duration": 49,
    "start_time": "2025-02-05T07:09:51.104Z"
   },
   {
    "duration": 41,
    "start_time": "2025-02-05T07:09:51.156Z"
   },
   {
    "duration": 47,
    "start_time": "2025-02-05T07:09:51.199Z"
   },
   {
    "duration": 21,
    "start_time": "2025-02-05T07:09:51.247Z"
   },
   {
    "duration": 28,
    "start_time": "2025-02-05T07:09:51.270Z"
   },
   {
    "duration": 50,
    "start_time": "2025-02-05T07:09:51.300Z"
   },
   {
    "duration": 35,
    "start_time": "2025-02-05T07:09:51.352Z"
   },
   {
    "duration": 59,
    "start_time": "2025-02-05T07:09:51.388Z"
   },
   {
    "duration": 23,
    "start_time": "2025-02-05T07:09:51.449Z"
   },
   {
    "duration": 5,
    "start_time": "2025-02-05T07:09:51.473Z"
   },
   {
    "duration": 199,
    "start_time": "2025-02-05T07:09:51.479Z"
   },
   {
    "duration": 46,
    "start_time": "2025-02-05T07:09:51.681Z"
   },
   {
    "duration": 235,
    "start_time": "2025-02-05T07:09:51.729Z"
   },
   {
    "duration": 27,
    "start_time": "2025-02-05T07:09:51.966Z"
   },
   {
    "duration": 139,
    "start_time": "2025-02-05T07:09:51.995Z"
   },
   {
    "duration": 92,
    "start_time": "2025-02-05T07:09:52.137Z"
   },
   {
    "duration": 3643,
    "start_time": "2025-02-05T07:09:52.231Z"
   },
   {
    "duration": 7,
    "start_time": "2025-02-05T07:09:55.876Z"
   },
   {
    "duration": 28,
    "start_time": "2025-02-05T07:09:55.884Z"
   },
   {
    "duration": 12,
    "start_time": "2025-02-05T07:09:55.917Z"
   },
   {
    "duration": 257,
    "start_time": "2025-02-05T07:09:55.931Z"
   },
   {
    "duration": 2471,
    "start_time": "2025-02-05T07:09:56.191Z"
   },
   {
    "duration": 172,
    "start_time": "2025-02-05T07:09:58.664Z"
   },
   {
    "duration": 170,
    "start_time": "2025-02-05T07:09:58.838Z"
   },
   {
    "duration": 172,
    "start_time": "2025-02-05T07:09:59.009Z"
   },
   {
    "duration": 101,
    "start_time": "2025-02-05T07:09:59.183Z"
   },
   {
    "duration": 32,
    "start_time": "2025-02-05T07:09:59.286Z"
   },
   {
    "duration": 92,
    "start_time": "2025-02-05T07:09:59.320Z"
   },
   {
    "duration": 23,
    "start_time": "2025-02-05T07:09:59.414Z"
   },
   {
    "duration": 75,
    "start_time": "2025-02-05T07:09:59.438Z"
   },
   {
    "duration": 76,
    "start_time": "2025-02-05T07:09:59.515Z"
   },
   {
    "duration": 17,
    "start_time": "2025-02-05T07:09:59.593Z"
   },
   {
    "duration": 68,
    "start_time": "2025-02-05T07:09:59.612Z"
   },
   {
    "duration": 18,
    "start_time": "2025-02-05T07:09:59.681Z"
   },
   {
    "duration": 296,
    "start_time": "2025-02-05T07:09:59.700Z"
   },
   {
    "duration": 289,
    "start_time": "2025-02-05T07:09:59.998Z"
   },
   {
    "duration": 4,
    "start_time": "2025-02-05T07:10:00.289Z"
   },
   {
    "duration": 119,
    "start_time": "2025-02-05T07:10:00.294Z"
   },
   {
    "duration": 59,
    "start_time": "2025-02-05T07:10:00.415Z"
   },
   {
    "duration": 41,
    "start_time": "2025-02-05T07:10:59.783Z"
   },
   {
    "duration": 228,
    "start_time": "2025-02-05T07:29:40.362Z"
   },
   {
    "duration": 397,
    "start_time": "2025-02-05T07:31:55.238Z"
   },
   {
    "duration": 296,
    "start_time": "2025-02-05T07:32:06.351Z"
   },
   {
    "duration": 10,
    "start_time": "2025-02-05T07:32:39.465Z"
   },
   {
    "duration": 201,
    "start_time": "2025-02-05T07:37:48.901Z"
   },
   {
    "duration": 57,
    "start_time": "2025-02-05T07:53:22.294Z"
   },
   {
    "duration": 114,
    "start_time": "2025-02-05T07:53:56.076Z"
   },
   {
    "duration": 61,
    "start_time": "2025-02-05T07:54:09.680Z"
   },
   {
    "duration": 4,
    "start_time": "2025-02-05T07:54:23.437Z"
   },
   {
    "duration": 3,
    "start_time": "2025-02-05T07:56:19.157Z"
   },
   {
    "duration": 11,
    "start_time": "2025-02-05T07:56:20.047Z"
   },
   {
    "duration": 3,
    "start_time": "2025-02-05T07:57:46.929Z"
   },
   {
    "duration": 14,
    "start_time": "2025-02-05T07:57:53.891Z"
   },
   {
    "duration": 209,
    "start_time": "2025-02-05T07:57:54.428Z"
   },
   {
    "duration": 13,
    "start_time": "2025-02-05T08:01:43.629Z"
   },
   {
    "duration": 26,
    "start_time": "2025-02-05T08:02:05.029Z"
   },
   {
    "duration": 14,
    "start_time": "2025-02-05T08:02:36.333Z"
   },
   {
    "duration": 3852,
    "start_time": "2025-02-05T08:03:00.687Z"
   },
   {
    "duration": 2767,
    "start_time": "2025-02-05T08:03:04.541Z"
   },
   {
    "duration": 14,
    "start_time": "2025-02-05T08:03:07.309Z"
   },
   {
    "duration": 12,
    "start_time": "2025-02-05T08:03:07.325Z"
   },
   {
    "duration": 43,
    "start_time": "2025-02-05T08:03:07.339Z"
   },
   {
    "duration": 109,
    "start_time": "2025-02-05T08:03:07.384Z"
   },
   {
    "duration": 7,
    "start_time": "2025-02-05T08:03:07.495Z"
   },
   {
    "duration": 31,
    "start_time": "2025-02-05T08:03:07.503Z"
   },
   {
    "duration": 17,
    "start_time": "2025-02-05T08:03:07.535Z"
   },
   {
    "duration": 20,
    "start_time": "2025-02-05T08:03:07.560Z"
   },
   {
    "duration": 25,
    "start_time": "2025-02-05T08:03:07.582Z"
   },
   {
    "duration": 14,
    "start_time": "2025-02-05T08:03:07.609Z"
   },
   {
    "duration": 6,
    "start_time": "2025-02-05T08:03:07.624Z"
   },
   {
    "duration": 19,
    "start_time": "2025-02-05T08:03:07.632Z"
   },
   {
    "duration": 9,
    "start_time": "2025-02-05T08:03:07.660Z"
   },
   {
    "duration": 50,
    "start_time": "2025-02-05T08:03:07.670Z"
   },
   {
    "duration": 23,
    "start_time": "2025-02-05T08:03:07.721Z"
   },
   {
    "duration": 4,
    "start_time": "2025-02-05T08:03:07.760Z"
   },
   {
    "duration": 184,
    "start_time": "2025-02-05T08:03:07.766Z"
   },
   {
    "duration": 47,
    "start_time": "2025-02-05T08:03:07.952Z"
   },
   {
    "duration": 227,
    "start_time": "2025-02-05T08:03:08.001Z"
   },
   {
    "duration": 40,
    "start_time": "2025-02-05T08:03:08.230Z"
   },
   {
    "duration": 129,
    "start_time": "2025-02-05T08:03:08.272Z"
   },
   {
    "duration": 102,
    "start_time": "2025-02-05T08:03:08.403Z"
   },
   {
    "duration": 3682,
    "start_time": "2025-02-05T08:03:08.507Z"
   },
   {
    "duration": 6,
    "start_time": "2025-02-05T08:03:12.190Z"
   },
   {
    "duration": 13,
    "start_time": "2025-02-05T08:03:12.197Z"
   },
   {
    "duration": 6,
    "start_time": "2025-02-05T08:03:12.214Z"
   },
   {
    "duration": 262,
    "start_time": "2025-02-05T08:03:12.221Z"
   },
   {
    "duration": 2761,
    "start_time": "2025-02-05T08:03:12.485Z"
   },
   {
    "duration": 177,
    "start_time": "2025-02-05T08:03:15.248Z"
   },
   {
    "duration": 165,
    "start_time": "2025-02-05T08:03:15.427Z"
   },
   {
    "duration": 158,
    "start_time": "2025-02-05T08:03:15.594Z"
   },
   {
    "duration": 112,
    "start_time": "2025-02-05T08:03:15.754Z"
   },
   {
    "duration": 33,
    "start_time": "2025-02-05T08:03:15.868Z"
   },
   {
    "duration": 102,
    "start_time": "2025-02-05T08:03:15.903Z"
   },
   {
    "duration": 22,
    "start_time": "2025-02-05T08:03:16.007Z"
   },
   {
    "duration": 78,
    "start_time": "2025-02-05T08:03:16.030Z"
   },
   {
    "duration": 70,
    "start_time": "2025-02-05T08:03:16.109Z"
   },
   {
    "duration": 17,
    "start_time": "2025-02-05T08:03:16.181Z"
   },
   {
    "duration": 22,
    "start_time": "2025-02-05T08:03:16.199Z"
   },
   {
    "duration": 15,
    "start_time": "2025-02-05T08:03:16.223Z"
   },
   {
    "duration": 287,
    "start_time": "2025-02-05T08:03:16.240Z"
   },
   {
    "duration": 266,
    "start_time": "2025-02-05T08:03:16.529Z"
   },
   {
    "duration": 5,
    "start_time": "2025-02-05T08:03:16.797Z"
   },
   {
    "duration": 153,
    "start_time": "2025-02-05T08:03:16.803Z"
   },
   {
    "duration": 39,
    "start_time": "2025-02-05T08:03:16.957Z"
   },
   {
    "duration": 3,
    "start_time": "2025-02-05T08:03:16.998Z"
   },
   {
    "duration": 16,
    "start_time": "2025-02-05T08:03:17.002Z"
   },
   {
    "duration": 13,
    "start_time": "2025-02-05T08:03:17.020Z"
   },
   {
    "duration": 226,
    "start_time": "2025-02-05T08:03:17.034Z"
   },
   {
    "duration": 10,
    "start_time": "2025-02-05T08:24:23.112Z"
   },
   {
    "duration": 3869,
    "start_time": "2025-02-05T08:24:27.347Z"
   },
   {
    "duration": 2007,
    "start_time": "2025-02-05T08:24:31.219Z"
   },
   {
    "duration": 15,
    "start_time": "2025-02-05T08:24:33.228Z"
   },
   {
    "duration": 26,
    "start_time": "2025-02-05T08:24:33.245Z"
   },
   {
    "duration": 46,
    "start_time": "2025-02-05T08:24:33.273Z"
   },
   {
    "duration": 112,
    "start_time": "2025-02-05T08:24:33.320Z"
   },
   {
    "duration": 8,
    "start_time": "2025-02-05T08:24:33.433Z"
   },
   {
    "duration": 40,
    "start_time": "2025-02-05T08:24:33.443Z"
   },
   {
    "duration": 9,
    "start_time": "2025-02-05T08:24:33.485Z"
   },
   {
    "duration": 30,
    "start_time": "2025-02-05T08:24:33.497Z"
   },
   {
    "duration": 12,
    "start_time": "2025-02-05T08:24:33.530Z"
   },
   {
    "duration": 37,
    "start_time": "2025-02-05T08:24:33.544Z"
   },
   {
    "duration": 7,
    "start_time": "2025-02-05T08:24:33.584Z"
   },
   {
    "duration": 27,
    "start_time": "2025-02-05T08:24:33.592Z"
   },
   {
    "duration": 9,
    "start_time": "2025-02-05T08:24:33.621Z"
   },
   {
    "duration": 78,
    "start_time": "2025-02-05T08:24:33.633Z"
   },
   {
    "duration": 54,
    "start_time": "2025-02-05T08:24:33.713Z"
   },
   {
    "duration": 5,
    "start_time": "2025-02-05T08:24:33.769Z"
   },
   {
    "duration": 220,
    "start_time": "2025-02-05T08:24:33.776Z"
   },
   {
    "duration": 44,
    "start_time": "2025-02-05T08:24:33.997Z"
   },
   {
    "duration": 261,
    "start_time": "2025-02-05T08:24:34.043Z"
   },
   {
    "duration": 29,
    "start_time": "2025-02-05T08:24:34.305Z"
   },
   {
    "duration": 136,
    "start_time": "2025-02-05T08:24:34.335Z"
   },
   {
    "duration": 100,
    "start_time": "2025-02-05T08:24:34.473Z"
   },
   {
    "duration": 3543,
    "start_time": "2025-02-05T08:24:34.575Z"
   },
   {
    "duration": 5,
    "start_time": "2025-02-05T08:24:38.120Z"
   },
   {
    "duration": 19,
    "start_time": "2025-02-05T08:24:38.126Z"
   },
   {
    "duration": 8,
    "start_time": "2025-02-05T08:24:38.161Z"
   },
   {
    "duration": 247,
    "start_time": "2025-02-05T08:24:38.171Z"
   },
   {
    "duration": 2489,
    "start_time": "2025-02-05T08:24:38.421Z"
   },
   {
    "duration": 171,
    "start_time": "2025-02-05T08:24:40.913Z"
   },
   {
    "duration": 161,
    "start_time": "2025-02-05T08:24:41.085Z"
   },
   {
    "duration": 167,
    "start_time": "2025-02-05T08:24:41.248Z"
   },
   {
    "duration": 100,
    "start_time": "2025-02-05T08:24:41.417Z"
   },
   {
    "duration": 42,
    "start_time": "2025-02-05T08:24:41.519Z"
   },
   {
    "duration": 77,
    "start_time": "2025-02-05T08:24:41.562Z"
   },
   {
    "duration": 39,
    "start_time": "2025-02-05T08:24:41.641Z"
   },
   {
    "duration": 80,
    "start_time": "2025-02-05T08:24:41.682Z"
   },
   {
    "duration": 66,
    "start_time": "2025-02-05T08:24:41.764Z"
   },
   {
    "duration": 29,
    "start_time": "2025-02-05T08:24:41.833Z"
   },
   {
    "duration": 19,
    "start_time": "2025-02-05T08:24:41.864Z"
   },
   {
    "duration": 16,
    "start_time": "2025-02-05T08:24:41.885Z"
   },
   {
    "duration": 296,
    "start_time": "2025-02-05T08:24:41.903Z"
   },
   {
    "duration": 285,
    "start_time": "2025-02-05T08:24:42.200Z"
   },
   {
    "duration": 5,
    "start_time": "2025-02-05T08:24:42.487Z"
   },
   {
    "duration": 109,
    "start_time": "2025-02-05T08:24:42.494Z"
   },
   {
    "duration": 41,
    "start_time": "2025-02-05T08:24:42.605Z"
   },
   {
    "duration": 43,
    "start_time": "2025-02-05T08:24:42.648Z"
   },
   {
    "duration": 10,
    "start_time": "2025-02-05T08:24:42.693Z"
   },
   {
    "duration": 213,
    "start_time": "2025-02-05T08:24:42.705Z"
   },
   {
    "duration": 10,
    "start_time": "2025-02-05T08:56:41.237Z"
   },
   {
    "duration": 122,
    "start_time": "2025-02-05T08:59:15.976Z"
   },
   {
    "duration": 53,
    "start_time": "2025-02-05T08:59:30.801Z"
   },
   {
    "duration": 59,
    "start_time": "2025-02-05T09:00:03.161Z"
   },
   {
    "duration": 54,
    "start_time": "2025-02-05T09:00:13.801Z"
   },
   {
    "duration": 135,
    "start_time": "2025-02-05T09:02:28.232Z"
   },
   {
    "duration": 143,
    "start_time": "2025-02-05T09:03:30.548Z"
   },
   {
    "duration": 247,
    "start_time": "2025-02-05T09:03:37.562Z"
   },
   {
    "duration": 136,
    "start_time": "2025-02-05T09:03:52.473Z"
   },
   {
    "duration": 63,
    "start_time": "2025-02-05T09:11:13.421Z"
   },
   {
    "duration": 59,
    "start_time": "2025-02-05T09:11:57.152Z"
   },
   {
    "duration": 57,
    "start_time": "2025-02-05T09:13:32.016Z"
   },
   {
    "duration": 17,
    "start_time": "2025-02-05T09:15:13.038Z"
   },
   {
    "duration": 11,
    "start_time": "2025-02-05T09:15:39.925Z"
   },
   {
    "duration": 29,
    "start_time": "2025-02-05T09:17:36.010Z"
   },
   {
    "duration": 53,
    "start_time": "2025-02-05T09:17:54.883Z"
   },
   {
    "duration": 3708,
    "start_time": "2025-02-05T09:20:55.321Z"
   },
   {
    "duration": 2124,
    "start_time": "2025-02-05T09:20:59.032Z"
   },
   {
    "duration": 13,
    "start_time": "2025-02-05T09:21:01.160Z"
   },
   {
    "duration": 41,
    "start_time": "2025-02-05T09:21:01.176Z"
   },
   {
    "duration": 34,
    "start_time": "2025-02-05T09:21:01.218Z"
   },
   {
    "duration": 118,
    "start_time": "2025-02-05T09:21:01.253Z"
   },
   {
    "duration": 8,
    "start_time": "2025-02-05T09:21:01.373Z"
   },
   {
    "duration": 72,
    "start_time": "2025-02-05T09:21:01.382Z"
   },
   {
    "duration": 8,
    "start_time": "2025-02-05T09:21:01.456Z"
   },
   {
    "duration": 42,
    "start_time": "2025-02-05T09:21:01.466Z"
   },
   {
    "duration": 16,
    "start_time": "2025-02-05T09:21:01.510Z"
   },
   {
    "duration": 28,
    "start_time": "2025-02-05T09:21:01.528Z"
   },
   {
    "duration": 34,
    "start_time": "2025-02-05T09:21:01.558Z"
   },
   {
    "duration": 36,
    "start_time": "2025-02-05T09:21:01.594Z"
   },
   {
    "duration": 27,
    "start_time": "2025-02-05T09:21:01.631Z"
   },
   {
    "duration": 58,
    "start_time": "2025-02-05T09:21:01.660Z"
   },
   {
    "duration": 46,
    "start_time": "2025-02-05T09:21:01.720Z"
   },
   {
    "duration": 4,
    "start_time": "2025-02-05T09:21:01.768Z"
   },
   {
    "duration": 219,
    "start_time": "2025-02-05T09:21:01.773Z"
   },
   {
    "duration": 42,
    "start_time": "2025-02-05T09:21:01.994Z"
   },
   {
    "duration": 226,
    "start_time": "2025-02-05T09:21:02.038Z"
   },
   {
    "duration": 28,
    "start_time": "2025-02-05T09:21:02.265Z"
   },
   {
    "duration": 134,
    "start_time": "2025-02-05T09:21:02.295Z"
   },
   {
    "duration": 102,
    "start_time": "2025-02-05T09:21:02.430Z"
   },
   {
    "duration": 3574,
    "start_time": "2025-02-05T09:21:02.533Z"
   },
   {
    "duration": 5,
    "start_time": "2025-02-05T09:21:06.109Z"
   },
   {
    "duration": 15,
    "start_time": "2025-02-05T09:21:06.115Z"
   },
   {
    "duration": 6,
    "start_time": "2025-02-05T09:21:06.134Z"
   },
   {
    "duration": 257,
    "start_time": "2025-02-05T09:21:06.161Z"
   },
   {
    "duration": 2472,
    "start_time": "2025-02-05T09:21:06.419Z"
   },
   {
    "duration": 172,
    "start_time": "2025-02-05T09:21:08.893Z"
   },
   {
    "duration": 163,
    "start_time": "2025-02-05T09:21:09.067Z"
   },
   {
    "duration": 169,
    "start_time": "2025-02-05T09:21:09.231Z"
   },
   {
    "duration": 100,
    "start_time": "2025-02-05T09:21:09.402Z"
   },
   {
    "duration": 33,
    "start_time": "2025-02-05T09:21:09.504Z"
   },
   {
    "duration": 88,
    "start_time": "2025-02-05T09:21:09.538Z"
   },
   {
    "duration": 24,
    "start_time": "2025-02-05T09:21:09.627Z"
   },
   {
    "duration": 63,
    "start_time": "2025-02-05T09:21:09.660Z"
   },
   {
    "duration": 77,
    "start_time": "2025-02-05T09:21:09.725Z"
   },
   {
    "duration": 18,
    "start_time": "2025-02-05T09:21:09.803Z"
   },
   {
    "duration": 19,
    "start_time": "2025-02-05T09:21:09.822Z"
   },
   {
    "duration": 16,
    "start_time": "2025-02-05T09:21:09.862Z"
   },
   {
    "duration": 294,
    "start_time": "2025-02-05T09:21:09.879Z"
   },
   {
    "duration": 300,
    "start_time": "2025-02-05T09:21:10.175Z"
   },
   {
    "duration": 4,
    "start_time": "2025-02-05T09:21:10.478Z"
   },
   {
    "duration": 112,
    "start_time": "2025-02-05T09:21:10.484Z"
   },
   {
    "duration": 42,
    "start_time": "2025-02-05T09:21:10.598Z"
   },
   {
    "duration": 8,
    "start_time": "2025-02-05T09:21:10.642Z"
   },
   {
    "duration": 21,
    "start_time": "2025-02-05T09:21:10.662Z"
   },
   {
    "duration": 229,
    "start_time": "2025-02-05T09:21:10.685Z"
   },
   {
    "duration": 10,
    "start_time": "2025-02-05T09:21:10.916Z"
   },
   {
    "duration": 72,
    "start_time": "2025-02-05T09:21:10.927Z"
   },
   {
    "duration": 1093,
    "start_time": "2025-02-05T09:25:35.410Z"
   },
   {
    "duration": 34,
    "start_time": "2025-02-05T09:25:47.120Z"
   },
   {
    "duration": 8,
    "start_time": "2025-02-05T09:32:28.980Z"
   },
   {
    "duration": 4,
    "start_time": "2025-02-05T09:33:24.815Z"
   },
   {
    "duration": 4,
    "start_time": "2025-02-05T09:33:47.094Z"
   },
   {
    "duration": 4,
    "start_time": "2025-02-05T09:34:49.651Z"
   },
   {
    "duration": 8,
    "start_time": "2025-02-05T09:36:25.155Z"
   },
   {
    "duration": 3,
    "start_time": "2025-02-05T09:36:25.717Z"
   },
   {
    "duration": 8,
    "start_time": "2025-02-05T09:36:37.977Z"
   },
   {
    "duration": 4,
    "start_time": "2025-02-05T09:36:38.714Z"
   },
   {
    "duration": 8,
    "start_time": "2025-02-05T09:36:50.254Z"
   },
   {
    "duration": 4,
    "start_time": "2025-02-05T09:36:50.746Z"
   },
   {
    "duration": 8,
    "start_time": "2025-02-05T09:37:20.626Z"
   },
   {
    "duration": 11,
    "start_time": "2025-02-05T09:42:55.819Z"
   },
   {
    "duration": 9,
    "start_time": "2025-02-05T09:43:32.038Z"
   },
   {
    "duration": 171,
    "start_time": "2025-02-05T09:44:17.553Z"
   },
   {
    "duration": 187,
    "start_time": "2025-02-05T09:47:46.446Z"
   },
   {
    "duration": 274,
    "start_time": "2025-02-05T09:48:36.599Z"
   },
   {
    "duration": 186,
    "start_time": "2025-02-05T09:48:54.174Z"
   },
   {
    "duration": 5,
    "start_time": "2025-02-05T09:52:51.992Z"
   },
   {
    "duration": 8,
    "start_time": "2025-02-05T10:00:33.403Z"
   },
   {
    "duration": 4,
    "start_time": "2025-02-05T10:00:41.446Z"
   },
   {
    "duration": 9,
    "start_time": "2025-02-05T10:02:43.248Z"
   },
   {
    "duration": 5,
    "start_time": "2025-02-05T10:02:43.786Z"
   },
   {
    "duration": 4055,
    "start_time": "2025-02-05T10:02:47.478Z"
   },
   {
    "duration": 1971,
    "start_time": "2025-02-05T10:02:51.536Z"
   },
   {
    "duration": 14,
    "start_time": "2025-02-05T10:02:53.509Z"
   },
   {
    "duration": 20,
    "start_time": "2025-02-05T10:02:53.525Z"
   },
   {
    "duration": 36,
    "start_time": "2025-02-05T10:02:53.547Z"
   },
   {
    "duration": 131,
    "start_time": "2025-02-05T10:02:53.585Z"
   },
   {
    "duration": 9,
    "start_time": "2025-02-05T10:02:53.718Z"
   },
   {
    "duration": 43,
    "start_time": "2025-02-05T10:02:53.729Z"
   },
   {
    "duration": 8,
    "start_time": "2025-02-05T10:02:53.774Z"
   },
   {
    "duration": 36,
    "start_time": "2025-02-05T10:02:53.784Z"
   },
   {
    "duration": 10,
    "start_time": "2025-02-05T10:02:53.822Z"
   },
   {
    "duration": 20,
    "start_time": "2025-02-05T10:02:53.833Z"
   },
   {
    "duration": 12,
    "start_time": "2025-02-05T10:02:53.855Z"
   },
   {
    "duration": 14,
    "start_time": "2025-02-05T10:02:53.868Z"
   },
   {
    "duration": 13,
    "start_time": "2025-02-05T10:02:53.885Z"
   },
   {
    "duration": 80,
    "start_time": "2025-02-05T10:02:53.900Z"
   },
   {
    "duration": 44,
    "start_time": "2025-02-05T10:02:53.982Z"
   },
   {
    "duration": 5,
    "start_time": "2025-02-05T10:02:54.028Z"
   },
   {
    "duration": 205,
    "start_time": "2025-02-05T10:02:54.034Z"
   },
   {
    "duration": 51,
    "start_time": "2025-02-05T10:02:54.241Z"
   },
   {
    "duration": 223,
    "start_time": "2025-02-05T10:02:54.294Z"
   },
   {
    "duration": 27,
    "start_time": "2025-02-05T10:02:54.519Z"
   },
   {
    "duration": 112,
    "start_time": "2025-02-05T10:02:54.561Z"
   },
   {
    "duration": 101,
    "start_time": "2025-02-05T10:02:54.675Z"
   },
   {
    "duration": 3784,
    "start_time": "2025-02-05T10:02:54.778Z"
   },
   {
    "duration": 5,
    "start_time": "2025-02-05T10:02:58.563Z"
   },
   {
    "duration": 16,
    "start_time": "2025-02-05T10:02:58.570Z"
   },
   {
    "duration": 8,
    "start_time": "2025-02-05T10:02:58.589Z"
   },
   {
    "duration": 263,
    "start_time": "2025-02-05T10:02:58.599Z"
   },
   {
    "duration": 2549,
    "start_time": "2025-02-05T10:02:58.863Z"
   },
   {
    "duration": 171,
    "start_time": "2025-02-05T10:03:01.415Z"
   },
   {
    "duration": 191,
    "start_time": "2025-02-05T10:03:01.588Z"
   },
   {
    "duration": 174,
    "start_time": "2025-02-05T10:03:01.781Z"
   },
   {
    "duration": 104,
    "start_time": "2025-02-05T10:03:01.961Z"
   },
   {
    "duration": 34,
    "start_time": "2025-02-05T10:03:02.068Z"
   },
   {
    "duration": 90,
    "start_time": "2025-02-05T10:03:02.104Z"
   },
   {
    "duration": 24,
    "start_time": "2025-02-05T10:03:02.196Z"
   },
   {
    "duration": 80,
    "start_time": "2025-02-05T10:03:02.222Z"
   },
   {
    "duration": 71,
    "start_time": "2025-02-05T10:03:02.303Z"
   },
   {
    "duration": 16,
    "start_time": "2025-02-05T10:03:02.376Z"
   },
   {
    "duration": 55,
    "start_time": "2025-02-05T10:03:02.394Z"
   },
   {
    "duration": 40,
    "start_time": "2025-02-05T10:03:02.451Z"
   },
   {
    "duration": 401,
    "start_time": "2025-02-05T10:03:02.493Z"
   },
   {
    "duration": 300,
    "start_time": "2025-02-05T10:03:02.896Z"
   },
   {
    "duration": 4,
    "start_time": "2025-02-05T10:03:03.198Z"
   },
   {
    "duration": 111,
    "start_time": "2025-02-05T10:03:03.204Z"
   },
   {
    "duration": 45,
    "start_time": "2025-02-05T10:03:03.317Z"
   },
   {
    "duration": 3,
    "start_time": "2025-02-05T10:03:03.364Z"
   },
   {
    "duration": 16,
    "start_time": "2025-02-05T10:03:03.368Z"
   },
   {
    "duration": 229,
    "start_time": "2025-02-05T10:03:03.386Z"
   },
   {
    "duration": 10,
    "start_time": "2025-02-05T10:03:03.617Z"
   },
   {
    "duration": 94,
    "start_time": "2025-02-05T10:03:03.629Z"
   },
   {
    "duration": 45,
    "start_time": "2025-02-05T10:03:03.725Z"
   },
   {
    "duration": 9,
    "start_time": "2025-02-05T10:03:03.771Z"
   },
   {
    "duration": 220,
    "start_time": "2025-02-05T10:03:03.781Z"
   },
   {
    "duration": 8,
    "start_time": "2025-02-05T10:03:04.003Z"
   },
   {
    "duration": 5,
    "start_time": "2025-02-05T10:03:04.013Z"
   },
   {
    "duration": 206,
    "start_time": "2025-02-05T10:03:04.020Z"
   },
   {
    "duration": 120,
    "start_time": "2025-02-05T10:03:50.785Z"
   },
   {
    "duration": 10,
    "start_time": "2025-02-05T10:03:57.096Z"
   },
   {
    "duration": 1546,
    "start_time": "2025-02-05T10:09:20.100Z"
   },
   {
    "duration": 219,
    "start_time": "2025-02-05T10:10:26.106Z"
   },
   {
    "duration": 11,
    "start_time": "2025-02-05T10:48:10.575Z"
   },
   {
    "duration": 10,
    "start_time": "2025-02-05T10:49:13.498Z"
   },
   {
    "duration": 9,
    "start_time": "2025-02-05T10:49:30.158Z"
   },
   {
    "duration": 9,
    "start_time": "2025-02-05T10:49:42.955Z"
   },
   {
    "duration": 9,
    "start_time": "2025-02-05T10:49:53.765Z"
   },
   {
    "duration": 8,
    "start_time": "2025-02-05T10:51:29.960Z"
   },
   {
    "duration": 8,
    "start_time": "2025-02-05T10:51:35.040Z"
   },
   {
    "duration": 7,
    "start_time": "2025-02-05T10:51:47.278Z"
   },
   {
    "duration": 9,
    "start_time": "2025-02-05T10:51:51.512Z"
   },
   {
    "duration": 10,
    "start_time": "2025-02-05T11:01:25.450Z"
   },
   {
    "duration": 8,
    "start_time": "2025-02-05T11:01:35.778Z"
   },
   {
    "duration": 8,
    "start_time": "2025-02-05T11:01:47.848Z"
   },
   {
    "duration": 5,
    "start_time": "2025-02-05T11:04:06.639Z"
   },
   {
    "duration": 10,
    "start_time": "2025-02-05T11:04:07.156Z"
   },
   {
    "duration": 3885,
    "start_time": "2025-02-05T11:04:11.198Z"
   },
   {
    "duration": 2280,
    "start_time": "2025-02-05T11:04:15.086Z"
   },
   {
    "duration": 14,
    "start_time": "2025-02-05T11:04:17.368Z"
   },
   {
    "duration": 14,
    "start_time": "2025-02-05T11:04:17.385Z"
   },
   {
    "duration": 25,
    "start_time": "2025-02-05T11:04:17.401Z"
   },
   {
    "duration": 139,
    "start_time": "2025-02-05T11:04:17.427Z"
   },
   {
    "duration": 8,
    "start_time": "2025-02-05T11:04:17.568Z"
   },
   {
    "duration": 25,
    "start_time": "2025-02-05T11:04:17.578Z"
   },
   {
    "duration": 7,
    "start_time": "2025-02-05T11:04:17.604Z"
   },
   {
    "duration": 50,
    "start_time": "2025-02-05T11:04:17.614Z"
   },
   {
    "duration": 10,
    "start_time": "2025-02-05T11:04:17.666Z"
   },
   {
    "duration": 19,
    "start_time": "2025-02-05T11:04:17.677Z"
   },
   {
    "duration": 8,
    "start_time": "2025-02-05T11:04:17.697Z"
   },
   {
    "duration": 20,
    "start_time": "2025-02-05T11:04:17.706Z"
   },
   {
    "duration": 12,
    "start_time": "2025-02-05T11:04:17.728Z"
   },
   {
    "duration": 57,
    "start_time": "2025-02-05T11:04:17.741Z"
   },
   {
    "duration": 23,
    "start_time": "2025-02-05T11:04:17.800Z"
   },
   {
    "duration": 20,
    "start_time": "2025-02-05T11:04:17.825Z"
   },
   {
    "duration": 191,
    "start_time": "2025-02-05T11:04:17.847Z"
   },
   {
    "duration": 47,
    "start_time": "2025-02-05T11:04:18.040Z"
   },
   {
    "duration": 241,
    "start_time": "2025-02-05T11:04:18.089Z"
   },
   {
    "duration": 36,
    "start_time": "2025-02-05T11:04:18.332Z"
   },
   {
    "duration": 134,
    "start_time": "2025-02-05T11:04:18.370Z"
   },
   {
    "duration": 103,
    "start_time": "2025-02-05T11:04:18.506Z"
   },
   {
    "duration": 3616,
    "start_time": "2025-02-05T11:04:18.610Z"
   },
   {
    "duration": 5,
    "start_time": "2025-02-05T11:04:22.228Z"
   },
   {
    "duration": 28,
    "start_time": "2025-02-05T11:04:22.234Z"
   },
   {
    "duration": 7,
    "start_time": "2025-02-05T11:04:22.265Z"
   },
   {
    "duration": 245,
    "start_time": "2025-02-05T11:04:22.274Z"
   },
   {
    "duration": 2611,
    "start_time": "2025-02-05T11:04:22.520Z"
   },
   {
    "duration": 174,
    "start_time": "2025-02-05T11:04:25.133Z"
   },
   {
    "duration": 169,
    "start_time": "2025-02-05T11:04:25.309Z"
   },
   {
    "duration": 168,
    "start_time": "2025-02-05T11:04:25.480Z"
   },
   {
    "duration": 98,
    "start_time": "2025-02-05T11:04:25.650Z"
   },
   {
    "duration": 33,
    "start_time": "2025-02-05T11:04:25.761Z"
   },
   {
    "duration": 108,
    "start_time": "2025-02-05T11:04:25.796Z"
   },
   {
    "duration": 23,
    "start_time": "2025-02-05T11:04:25.906Z"
   },
   {
    "duration": 80,
    "start_time": "2025-02-05T11:04:25.931Z"
   },
   {
    "duration": 81,
    "start_time": "2025-02-05T11:04:26.013Z"
   },
   {
    "duration": 18,
    "start_time": "2025-02-05T11:04:26.096Z"
   },
   {
    "duration": 46,
    "start_time": "2025-02-05T11:04:26.116Z"
   },
   {
    "duration": 16,
    "start_time": "2025-02-05T11:04:26.164Z"
   },
   {
    "duration": 294,
    "start_time": "2025-02-05T11:04:26.181Z"
   },
   {
    "duration": 292,
    "start_time": "2025-02-05T11:04:26.477Z"
   },
   {
    "duration": 5,
    "start_time": "2025-02-05T11:04:26.771Z"
   },
   {
    "duration": 103,
    "start_time": "2025-02-05T11:04:26.777Z"
   },
   {
    "duration": 41,
    "start_time": "2025-02-05T11:04:26.882Z"
   },
   {
    "duration": 3,
    "start_time": "2025-02-05T11:04:26.925Z"
   },
   {
    "duration": 45,
    "start_time": "2025-02-05T11:04:26.929Z"
   },
   {
    "duration": 220,
    "start_time": "2025-02-05T11:04:26.976Z"
   },
   {
    "duration": 9,
    "start_time": "2025-02-05T11:04:27.197Z"
   },
   {
    "duration": 63,
    "start_time": "2025-02-05T11:04:27.208Z"
   },
   {
    "duration": 36,
    "start_time": "2025-02-05T11:04:27.273Z"
   },
   {
    "duration": 9,
    "start_time": "2025-02-05T11:04:27.310Z"
   },
   {
    "duration": 200,
    "start_time": "2025-02-05T11:04:27.320Z"
   },
   {
    "duration": 8,
    "start_time": "2025-02-05T11:04:27.522Z"
   },
   {
    "duration": 7,
    "start_time": "2025-02-05T11:04:27.532Z"
   },
   {
    "duration": 25,
    "start_time": "2025-02-05T11:04:27.541Z"
   },
   {
    "duration": 3882,
    "start_time": "2025-02-05T11:19:16.828Z"
   },
   {
    "duration": 2392,
    "start_time": "2025-02-05T11:19:20.712Z"
   },
   {
    "duration": 15,
    "start_time": "2025-02-05T11:19:23.106Z"
   },
   {
    "duration": 14,
    "start_time": "2025-02-05T11:19:23.124Z"
   },
   {
    "duration": 77,
    "start_time": "2025-02-05T11:19:23.140Z"
   },
   {
    "duration": 108,
    "start_time": "2025-02-05T11:19:23.219Z"
   },
   {
    "duration": 9,
    "start_time": "2025-02-05T11:19:23.329Z"
   },
   {
    "duration": 38,
    "start_time": "2025-02-05T11:19:23.340Z"
   },
   {
    "duration": 19,
    "start_time": "2025-02-05T11:19:23.380Z"
   },
   {
    "duration": 23,
    "start_time": "2025-02-05T11:19:23.402Z"
   },
   {
    "duration": 12,
    "start_time": "2025-02-05T11:19:23.427Z"
   },
   {
    "duration": 32,
    "start_time": "2025-02-05T11:19:23.440Z"
   },
   {
    "duration": 9,
    "start_time": "2025-02-05T11:19:23.473Z"
   },
   {
    "duration": 15,
    "start_time": "2025-02-05T11:19:23.484Z"
   },
   {
    "duration": 22,
    "start_time": "2025-02-05T11:19:23.501Z"
   },
   {
    "duration": 62,
    "start_time": "2025-02-05T11:19:23.525Z"
   },
   {
    "duration": 25,
    "start_time": "2025-02-05T11:19:23.589Z"
   },
   {
    "duration": 5,
    "start_time": "2025-02-05T11:19:23.616Z"
   },
   {
    "duration": 202,
    "start_time": "2025-02-05T11:19:23.623Z"
   },
   {
    "duration": 51,
    "start_time": "2025-02-05T11:19:23.827Z"
   },
   {
    "duration": 249,
    "start_time": "2025-02-05T11:19:23.881Z"
   },
   {
    "duration": 42,
    "start_time": "2025-02-05T11:19:24.132Z"
   },
   {
    "duration": 135,
    "start_time": "2025-02-05T11:19:24.175Z"
   },
   {
    "duration": 103,
    "start_time": "2025-02-05T11:19:24.312Z"
   },
   {
    "duration": 3661,
    "start_time": "2025-02-05T11:19:24.417Z"
   },
   {
    "duration": 7,
    "start_time": "2025-02-05T11:19:28.079Z"
   },
   {
    "duration": 17,
    "start_time": "2025-02-05T11:19:28.088Z"
   },
   {
    "duration": 7,
    "start_time": "2025-02-05T11:19:28.108Z"
   },
   {
    "duration": 268,
    "start_time": "2025-02-05T11:19:28.117Z"
   },
   {
    "duration": 2516,
    "start_time": "2025-02-05T11:19:28.387Z"
   },
   {
    "duration": 175,
    "start_time": "2025-02-05T11:19:30.905Z"
   },
   {
    "duration": 174,
    "start_time": "2025-02-05T11:19:31.081Z"
   },
   {
    "duration": 171,
    "start_time": "2025-02-05T11:19:31.260Z"
   },
   {
    "duration": 105,
    "start_time": "2025-02-05T11:19:31.433Z"
   },
   {
    "duration": 44,
    "start_time": "2025-02-05T11:19:31.540Z"
   },
   {
    "duration": 112,
    "start_time": "2025-02-05T11:19:31.586Z"
   },
   {
    "duration": 30,
    "start_time": "2025-02-05T11:19:31.700Z"
   },
   {
    "duration": 78,
    "start_time": "2025-02-05T11:19:31.731Z"
   },
   {
    "duration": 80,
    "start_time": "2025-02-05T11:19:31.811Z"
   },
   {
    "duration": 20,
    "start_time": "2025-02-05T11:19:31.892Z"
   },
   {
    "duration": 35,
    "start_time": "2025-02-05T11:19:31.914Z"
   },
   {
    "duration": 21,
    "start_time": "2025-02-05T11:19:31.951Z"
   },
   {
    "duration": 318,
    "start_time": "2025-02-05T11:19:31.974Z"
   },
   {
    "duration": 313,
    "start_time": "2025-02-05T11:19:32.294Z"
   },
   {
    "duration": 4,
    "start_time": "2025-02-05T11:19:32.609Z"
   },
   {
    "duration": 139,
    "start_time": "2025-02-05T11:19:32.615Z"
   },
   {
    "duration": 43,
    "start_time": "2025-02-05T11:19:32.756Z"
   },
   {
    "duration": 3,
    "start_time": "2025-02-05T11:19:32.801Z"
   },
   {
    "duration": 17,
    "start_time": "2025-02-05T11:19:32.805Z"
   },
   {
    "duration": 239,
    "start_time": "2025-02-05T11:19:32.824Z"
   },
   {
    "duration": 9,
    "start_time": "2025-02-05T11:19:33.065Z"
   },
   {
    "duration": 104,
    "start_time": "2025-02-05T11:19:33.076Z"
   },
   {
    "duration": 56,
    "start_time": "2025-02-05T11:19:33.182Z"
   },
   {
    "duration": 9,
    "start_time": "2025-02-05T11:19:33.240Z"
   },
   {
    "duration": 200,
    "start_time": "2025-02-05T11:19:33.250Z"
   },
   {
    "duration": 10,
    "start_time": "2025-02-05T11:19:33.452Z"
   },
   {
    "duration": 41,
    "start_time": "2025-02-05T11:19:33.464Z"
   },
   {
    "duration": 28,
    "start_time": "2025-02-05T11:19:33.507Z"
   },
   {
    "duration": 8,
    "start_time": "2025-02-05T11:26:57.943Z"
   },
   {
    "duration": 16,
    "start_time": "2025-02-05T11:48:17.202Z"
   },
   {
    "duration": 18,
    "start_time": "2025-02-05T11:48:32.107Z"
   },
   {
    "duration": 18,
    "start_time": "2025-02-05T11:49:12.509Z"
   },
   {
    "duration": 19,
    "start_time": "2025-02-05T11:49:51.867Z"
   },
   {
    "duration": 17,
    "start_time": "2025-02-05T11:51:59.473Z"
   },
   {
    "duration": 10,
    "start_time": "2025-02-05T11:52:00.089Z"
   },
   {
    "duration": 10,
    "start_time": "2025-02-05T11:52:54.096Z"
   },
   {
    "duration": 4230,
    "start_time": "2025-02-05T11:53:00.025Z"
   },
   {
    "duration": 2576,
    "start_time": "2025-02-05T11:53:04.257Z"
   },
   {
    "duration": 20,
    "start_time": "2025-02-05T11:53:06.835Z"
   },
   {
    "duration": 18,
    "start_time": "2025-02-05T11:53:06.860Z"
   },
   {
    "duration": 30,
    "start_time": "2025-02-05T11:53:06.880Z"
   },
   {
    "duration": 141,
    "start_time": "2025-02-05T11:53:06.912Z"
   },
   {
    "duration": 15,
    "start_time": "2025-02-05T11:53:07.055Z"
   },
   {
    "duration": 52,
    "start_time": "2025-02-05T11:53:07.073Z"
   },
   {
    "duration": 21,
    "start_time": "2025-02-05T11:53:07.127Z"
   },
   {
    "duration": 36,
    "start_time": "2025-02-05T11:53:07.152Z"
   },
   {
    "duration": 12,
    "start_time": "2025-02-05T11:53:07.189Z"
   },
   {
    "duration": 20,
    "start_time": "2025-02-05T11:53:07.203Z"
   },
   {
    "duration": 71,
    "start_time": "2025-02-05T11:53:07.225Z"
   },
   {
    "duration": 11,
    "start_time": "2025-02-05T11:53:07.298Z"
   },
   {
    "duration": 10,
    "start_time": "2025-02-05T11:53:07.311Z"
   },
   {
    "duration": 53,
    "start_time": "2025-02-05T11:53:07.323Z"
   },
   {
    "duration": 45,
    "start_time": "2025-02-05T11:53:07.378Z"
   },
   {
    "duration": 4,
    "start_time": "2025-02-05T11:53:07.425Z"
   },
   {
    "duration": 260,
    "start_time": "2025-02-05T11:53:07.432Z"
   },
   {
    "duration": 47,
    "start_time": "2025-02-05T11:53:07.694Z"
   },
   {
    "duration": 294,
    "start_time": "2025-02-05T11:53:07.742Z"
   },
   {
    "duration": 44,
    "start_time": "2025-02-05T11:53:08.038Z"
   },
   {
    "duration": 144,
    "start_time": "2025-02-05T11:53:08.084Z"
   },
   {
    "duration": 114,
    "start_time": "2025-02-05T11:53:08.230Z"
   },
   {
    "duration": 3995,
    "start_time": "2025-02-05T11:53:08.346Z"
   },
   {
    "duration": 6,
    "start_time": "2025-02-05T11:53:12.342Z"
   },
   {
    "duration": 17,
    "start_time": "2025-02-05T11:53:12.349Z"
   },
   {
    "duration": 10,
    "start_time": "2025-02-05T11:53:12.370Z"
   },
   {
    "duration": 388,
    "start_time": "2025-02-05T11:53:12.382Z"
   },
   {
    "duration": 2753,
    "start_time": "2025-02-05T11:53:12.772Z"
   },
   {
    "duration": 173,
    "start_time": "2025-02-05T11:53:15.527Z"
   },
   {
    "duration": 178,
    "start_time": "2025-02-05T11:53:15.702Z"
   },
   {
    "duration": 166,
    "start_time": "2025-02-05T11:53:15.883Z"
   },
   {
    "duration": 99,
    "start_time": "2025-02-05T11:53:16.051Z"
   },
   {
    "duration": 43,
    "start_time": "2025-02-05T11:53:16.151Z"
   },
   {
    "duration": 87,
    "start_time": "2025-02-05T11:53:16.196Z"
   },
   {
    "duration": 24,
    "start_time": "2025-02-05T11:53:16.285Z"
   },
   {
    "duration": 88,
    "start_time": "2025-02-05T11:53:16.311Z"
   },
   {
    "duration": 77,
    "start_time": "2025-02-05T11:53:16.402Z"
   },
   {
    "duration": 18,
    "start_time": "2025-02-05T11:53:16.481Z"
   },
   {
    "duration": 25,
    "start_time": "2025-02-05T11:53:16.501Z"
   },
   {
    "duration": 35,
    "start_time": "2025-02-05T11:53:16.527Z"
   },
   {
    "duration": 319,
    "start_time": "2025-02-05T11:53:16.565Z"
   },
   {
    "duration": 282,
    "start_time": "2025-02-05T11:53:16.885Z"
   },
   {
    "duration": 6,
    "start_time": "2025-02-05T11:53:17.169Z"
   },
   {
    "duration": 105,
    "start_time": "2025-02-05T11:53:17.177Z"
   },
   {
    "duration": 41,
    "start_time": "2025-02-05T11:53:17.284Z"
   },
   {
    "duration": 3,
    "start_time": "2025-02-05T11:53:17.327Z"
   },
   {
    "duration": 32,
    "start_time": "2025-02-05T11:53:17.332Z"
   },
   {
    "duration": 249,
    "start_time": "2025-02-05T11:53:17.368Z"
   },
   {
    "duration": 9,
    "start_time": "2025-02-05T11:53:17.619Z"
   },
   {
    "duration": 84,
    "start_time": "2025-02-05T11:53:17.629Z"
   },
   {
    "duration": 48,
    "start_time": "2025-02-05T11:53:17.714Z"
   },
   {
    "duration": 12,
    "start_time": "2025-02-05T11:53:17.765Z"
   },
   {
    "duration": 221,
    "start_time": "2025-02-05T11:53:17.779Z"
   },
   {
    "duration": 6,
    "start_time": "2025-02-05T11:53:18.002Z"
   },
   {
    "duration": 15,
    "start_time": "2025-02-05T11:53:18.010Z"
   },
   {
    "duration": 26,
    "start_time": "2025-02-05T11:53:18.027Z"
   },
   {
    "duration": 32,
    "start_time": "2025-02-05T11:53:18.055Z"
   },
   {
    "duration": 13,
    "start_time": "2025-02-05T11:53:18.089Z"
   },
   {
    "duration": 30,
    "start_time": "2025-02-05T11:53:18.104Z"
   },
   {
    "duration": 170,
    "start_time": "2025-02-05T12:00:58.612Z"
   },
   {
    "duration": 312,
    "start_time": "2025-02-05T12:01:31.639Z"
   },
   {
    "duration": 199,
    "start_time": "2025-02-05T12:05:15.676Z"
   },
   {
    "duration": 370,
    "start_time": "2025-02-05T12:05:42.578Z"
   },
   {
    "duration": 364,
    "start_time": "2025-02-05T12:06:18.284Z"
   },
   {
    "duration": 1728,
    "start_time": "2025-02-05T12:08:41.064Z"
   },
   {
    "duration": 11,
    "start_time": "2025-02-05T12:09:00.516Z"
   },
   {
    "duration": 10,
    "start_time": "2025-02-05T12:11:20.233Z"
   },
   {
    "duration": 371,
    "start_time": "2025-02-05T12:11:23.191Z"
   },
   {
    "duration": 3934,
    "start_time": "2025-02-05T12:11:56.560Z"
   },
   {
    "duration": 2238,
    "start_time": "2025-02-05T12:12:00.498Z"
   },
   {
    "duration": 13,
    "start_time": "2025-02-05T12:12:02.738Z"
   },
   {
    "duration": 15,
    "start_time": "2025-02-05T12:12:02.760Z"
   },
   {
    "duration": 54,
    "start_time": "2025-02-05T12:12:02.776Z"
   },
   {
    "duration": 118,
    "start_time": "2025-02-05T12:12:02.832Z"
   },
   {
    "duration": 13,
    "start_time": "2025-02-05T12:12:02.952Z"
   },
   {
    "duration": 40,
    "start_time": "2025-02-05T12:12:02.966Z"
   },
   {
    "duration": 45,
    "start_time": "2025-02-05T12:12:03.007Z"
   },
   {
    "duration": 34,
    "start_time": "2025-02-05T12:12:03.055Z"
   },
   {
    "duration": 30,
    "start_time": "2025-02-05T12:12:03.091Z"
   },
   {
    "duration": 25,
    "start_time": "2025-02-05T12:12:03.123Z"
   },
   {
    "duration": 20,
    "start_time": "2025-02-05T12:12:03.150Z"
   },
   {
    "duration": 21,
    "start_time": "2025-02-05T12:12:03.172Z"
   },
   {
    "duration": 37,
    "start_time": "2025-02-05T12:12:03.195Z"
   },
   {
    "duration": 78,
    "start_time": "2025-02-05T12:12:03.234Z"
   },
   {
    "duration": 48,
    "start_time": "2025-02-05T12:12:03.314Z"
   },
   {
    "duration": 3,
    "start_time": "2025-02-05T12:12:03.364Z"
   },
   {
    "duration": 260,
    "start_time": "2025-02-05T12:12:03.369Z"
   },
   {
    "duration": 49,
    "start_time": "2025-02-05T12:12:03.631Z"
   },
   {
    "duration": 260,
    "start_time": "2025-02-05T12:12:03.681Z"
   },
   {
    "duration": 37,
    "start_time": "2025-02-05T12:12:03.943Z"
   },
   {
    "duration": 128,
    "start_time": "2025-02-05T12:12:03.983Z"
   },
   {
    "duration": 103,
    "start_time": "2025-02-05T12:12:04.113Z"
   },
   {
    "duration": 3663,
    "start_time": "2025-02-05T12:12:04.218Z"
   },
   {
    "duration": 7,
    "start_time": "2025-02-05T12:12:07.883Z"
   },
   {
    "duration": 15,
    "start_time": "2025-02-05T12:12:07.892Z"
   },
   {
    "duration": 8,
    "start_time": "2025-02-05T12:12:07.913Z"
   },
   {
    "duration": 288,
    "start_time": "2025-02-05T12:12:07.923Z"
   },
   {
    "duration": 2674,
    "start_time": "2025-02-05T12:12:08.214Z"
   },
   {
    "duration": 171,
    "start_time": "2025-02-05T12:12:10.891Z"
   },
   {
    "duration": 165,
    "start_time": "2025-02-05T12:12:11.064Z"
   },
   {
    "duration": 180,
    "start_time": "2025-02-05T12:12:11.231Z"
   },
   {
    "duration": 97,
    "start_time": "2025-02-05T12:12:11.413Z"
   },
   {
    "duration": 32,
    "start_time": "2025-02-05T12:12:11.512Z"
   },
   {
    "duration": 91,
    "start_time": "2025-02-05T12:12:11.546Z"
   },
   {
    "duration": 49,
    "start_time": "2025-02-05T12:12:11.639Z"
   },
   {
    "duration": 84,
    "start_time": "2025-02-05T12:12:11.690Z"
   },
   {
    "duration": 70,
    "start_time": "2025-02-05T12:12:11.776Z"
   },
   {
    "duration": 19,
    "start_time": "2025-02-05T12:12:11.862Z"
   },
   {
    "duration": 19,
    "start_time": "2025-02-05T12:12:11.883Z"
   },
   {
    "duration": 16,
    "start_time": "2025-02-05T12:12:11.904Z"
   },
   {
    "duration": 314,
    "start_time": "2025-02-05T12:12:11.922Z"
   },
   {
    "duration": 283,
    "start_time": "2025-02-05T12:12:12.237Z"
   },
   {
    "duration": 4,
    "start_time": "2025-02-05T12:12:12.522Z"
   },
   {
    "duration": 106,
    "start_time": "2025-02-05T12:12:12.528Z"
   },
   {
    "duration": 49,
    "start_time": "2025-02-05T12:12:12.636Z"
   },
   {
    "duration": 3,
    "start_time": "2025-02-05T12:12:12.686Z"
   },
   {
    "duration": 11,
    "start_time": "2025-02-05T12:12:12.691Z"
   },
   {
    "duration": 238,
    "start_time": "2025-02-05T12:12:12.703Z"
   },
   {
    "duration": 19,
    "start_time": "2025-02-05T12:12:12.942Z"
   },
   {
    "duration": 63,
    "start_time": "2025-02-05T12:12:12.963Z"
   },
   {
    "duration": 55,
    "start_time": "2025-02-05T12:12:13.027Z"
   },
   {
    "duration": 7,
    "start_time": "2025-02-05T12:12:13.084Z"
   },
   {
    "duration": 203,
    "start_time": "2025-02-05T12:12:13.093Z"
   },
   {
    "duration": 6,
    "start_time": "2025-02-05T12:12:13.298Z"
   },
   {
    "duration": 27,
    "start_time": "2025-02-05T12:12:13.306Z"
   },
   {
    "duration": 11,
    "start_time": "2025-02-05T12:12:13.335Z"
   },
   {
    "duration": 14,
    "start_time": "2025-02-05T12:12:13.348Z"
   },
   {
    "duration": 10,
    "start_time": "2025-02-05T12:12:13.363Z"
   },
   {
    "duration": 485,
    "start_time": "2025-02-05T12:12:13.374Z"
   },
   {
    "duration": 19,
    "start_time": "2025-02-05T12:12:13.862Z"
   },
   {
    "duration": 7,
    "start_time": "2025-02-05T12:29:37.053Z"
   },
   {
    "duration": 6,
    "start_time": "2025-02-05T12:30:01.699Z"
   },
   {
    "duration": 10,
    "start_time": "2025-02-05T12:31:36.404Z"
   },
   {
    "duration": 13,
    "start_time": "2025-02-05T12:31:54.065Z"
   },
   {
    "duration": 13,
    "start_time": "2025-02-05T12:32:11.157Z"
   },
   {
    "duration": 11,
    "start_time": "2025-02-05T12:32:18.287Z"
   },
   {
    "duration": 11,
    "start_time": "2025-02-05T12:32:32.013Z"
   },
   {
    "duration": 10,
    "start_time": "2025-02-05T12:32:39.785Z"
   },
   {
    "duration": 11,
    "start_time": "2025-02-05T12:33:13.854Z"
   },
   {
    "duration": 14,
    "start_time": "2025-02-05T12:33:24.275Z"
   },
   {
    "duration": 11,
    "start_time": "2025-02-05T12:33:35.623Z"
   },
   {
    "duration": 10,
    "start_time": "2025-02-05T12:33:45.452Z"
   },
   {
    "duration": 11,
    "start_time": "2025-02-05T12:34:01.076Z"
   },
   {
    "duration": 10,
    "start_time": "2025-02-05T12:34:08.427Z"
   },
   {
    "duration": 10,
    "start_time": "2025-02-05T12:34:13.985Z"
   },
   {
    "duration": 9,
    "start_time": "2025-02-05T12:34:20.316Z"
   },
   {
    "duration": 354,
    "start_time": "2025-02-05T12:50:34.520Z"
   },
   {
    "duration": 345,
    "start_time": "2025-02-05T12:50:45.311Z"
   },
   {
    "duration": 197,
    "start_time": "2025-02-05T12:50:58.831Z"
   },
   {
    "duration": 4030,
    "start_time": "2025-02-05T12:51:05.132Z"
   },
   {
    "duration": 1848,
    "start_time": "2025-02-05T12:51:09.165Z"
   },
   {
    "duration": 13,
    "start_time": "2025-02-05T12:51:11.015Z"
   },
   {
    "duration": 13,
    "start_time": "2025-02-05T12:51:11.030Z"
   },
   {
    "duration": 27,
    "start_time": "2025-02-05T12:51:11.061Z"
   },
   {
    "duration": 128,
    "start_time": "2025-02-05T12:51:11.089Z"
   },
   {
    "duration": 9,
    "start_time": "2025-02-05T12:51:11.219Z"
   },
   {
    "duration": 41,
    "start_time": "2025-02-05T12:51:11.229Z"
   },
   {
    "duration": 11,
    "start_time": "2025-02-05T12:51:11.272Z"
   },
   {
    "duration": 23,
    "start_time": "2025-02-05T12:51:11.287Z"
   },
   {
    "duration": 11,
    "start_time": "2025-02-05T12:51:11.312Z"
   },
   {
    "duration": 48,
    "start_time": "2025-02-05T12:51:11.325Z"
   },
   {
    "duration": 10,
    "start_time": "2025-02-05T12:51:11.376Z"
   },
   {
    "duration": 34,
    "start_time": "2025-02-05T12:51:11.387Z"
   },
   {
    "duration": 9,
    "start_time": "2025-02-05T12:51:11.422Z"
   },
   {
    "duration": 43,
    "start_time": "2025-02-05T12:51:11.433Z"
   },
   {
    "duration": 47,
    "start_time": "2025-02-05T12:51:11.478Z"
   },
   {
    "duration": 4,
    "start_time": "2025-02-05T12:51:11.526Z"
   },
   {
    "duration": 210,
    "start_time": "2025-02-05T12:51:11.532Z"
   },
   {
    "duration": 54,
    "start_time": "2025-02-05T12:51:11.744Z"
   },
   {
    "duration": 230,
    "start_time": "2025-02-05T12:51:11.799Z"
   },
   {
    "duration": 38,
    "start_time": "2025-02-05T12:51:12.030Z"
   },
   {
    "duration": 144,
    "start_time": "2025-02-05T12:51:12.070Z"
   },
   {
    "duration": 106,
    "start_time": "2025-02-05T12:51:12.215Z"
   },
   {
    "duration": 4134,
    "start_time": "2025-02-05T12:51:12.323Z"
   },
   {
    "duration": 8,
    "start_time": "2025-02-05T12:51:16.462Z"
   },
   {
    "duration": 20,
    "start_time": "2025-02-05T12:51:16.473Z"
   },
   {
    "duration": 8,
    "start_time": "2025-02-05T12:51:16.497Z"
   },
   {
    "duration": 268,
    "start_time": "2025-02-05T12:51:16.507Z"
   },
   {
    "duration": 2755,
    "start_time": "2025-02-05T12:51:16.778Z"
   },
   {
    "duration": 182,
    "start_time": "2025-02-05T12:51:19.535Z"
   },
   {
    "duration": 180,
    "start_time": "2025-02-05T12:51:19.719Z"
   },
   {
    "duration": 167,
    "start_time": "2025-02-05T12:51:19.901Z"
   },
   {
    "duration": 111,
    "start_time": "2025-02-05T12:51:20.070Z"
   },
   {
    "duration": 41,
    "start_time": "2025-02-05T12:51:20.183Z"
   },
   {
    "duration": 120,
    "start_time": "2025-02-05T12:51:20.226Z"
   },
   {
    "duration": 26,
    "start_time": "2025-02-05T12:51:20.348Z"
   },
   {
    "duration": 67,
    "start_time": "2025-02-05T12:51:20.377Z"
   },
   {
    "duration": 74,
    "start_time": "2025-02-05T12:51:20.462Z"
   },
   {
    "duration": 33,
    "start_time": "2025-02-05T12:51:20.538Z"
   },
   {
    "duration": 22,
    "start_time": "2025-02-05T12:51:20.573Z"
   },
   {
    "duration": 18,
    "start_time": "2025-02-05T12:51:20.597Z"
   },
   {
    "duration": 322,
    "start_time": "2025-02-05T12:51:20.616Z"
   },
   {
    "duration": 310,
    "start_time": "2025-02-05T12:51:20.939Z"
   },
   {
    "duration": 13,
    "start_time": "2025-02-05T12:51:21.251Z"
   },
   {
    "duration": 132,
    "start_time": "2025-02-05T12:51:21.266Z"
   },
   {
    "duration": 44,
    "start_time": "2025-02-05T12:51:21.400Z"
   },
   {
    "duration": 16,
    "start_time": "2025-02-05T12:51:21.446Z"
   },
   {
    "duration": 46,
    "start_time": "2025-02-05T12:51:21.464Z"
   },
   {
    "duration": 268,
    "start_time": "2025-02-05T12:51:21.512Z"
   },
   {
    "duration": 10,
    "start_time": "2025-02-05T12:51:21.781Z"
   },
   {
    "duration": 88,
    "start_time": "2025-02-05T12:51:21.793Z"
   },
   {
    "duration": 36,
    "start_time": "2025-02-05T12:51:21.884Z"
   },
   {
    "duration": 7,
    "start_time": "2025-02-05T12:51:21.922Z"
   },
   {
    "duration": 218,
    "start_time": "2025-02-05T12:51:21.931Z"
   },
   {
    "duration": 12,
    "start_time": "2025-02-05T12:51:22.151Z"
   },
   {
    "duration": 43,
    "start_time": "2025-02-05T12:51:22.165Z"
   },
   {
    "duration": 31,
    "start_time": "2025-02-05T12:51:22.210Z"
   },
   {
    "duration": 32,
    "start_time": "2025-02-05T12:51:22.243Z"
   },
   {
    "duration": 32,
    "start_time": "2025-02-05T12:51:22.277Z"
   },
   {
    "duration": 502,
    "start_time": "2025-02-05T12:51:22.310Z"
   },
   {
    "duration": 6,
    "start_time": "2025-02-05T12:51:22.813Z"
   },
   {
    "duration": 32,
    "start_time": "2025-02-05T12:51:22.821Z"
   },
   {
    "duration": 38,
    "start_time": "2025-02-05T12:51:22.854Z"
   },
   {
    "duration": 67,
    "start_time": "2025-02-05T12:51:22.893Z"
   },
   {
    "duration": 8,
    "start_time": "2025-02-05T13:20:16.731Z"
   },
   {
    "duration": 8,
    "start_time": "2025-02-05T13:20:39.074Z"
   },
   {
    "duration": 6,
    "start_time": "2025-02-05T13:21:59.825Z"
   },
   {
    "duration": 8,
    "start_time": "2025-02-05T13:22:00.390Z"
   },
   {
    "duration": 4,
    "start_time": "2025-02-05T13:22:54.261Z"
   },
   {
    "duration": 8,
    "start_time": "2025-02-05T13:22:54.751Z"
   },
   {
    "duration": 15,
    "start_time": "2025-02-05T13:23:40.210Z"
   },
   {
    "duration": 166,
    "start_time": "2025-02-05T13:25:41.023Z"
   },
   {
    "duration": 4688,
    "start_time": "2025-02-06T06:32:37.613Z"
   },
   {
    "duration": 2176,
    "start_time": "2025-02-06T06:32:42.303Z"
   },
   {
    "duration": 12,
    "start_time": "2025-02-06T06:32:44.480Z"
   },
   {
    "duration": 39,
    "start_time": "2025-02-06T06:32:44.494Z"
   },
   {
    "duration": 22,
    "start_time": "2025-02-06T06:32:44.535Z"
   },
   {
    "duration": 113,
    "start_time": "2025-02-06T06:32:44.559Z"
   },
   {
    "duration": 8,
    "start_time": "2025-02-06T06:32:44.674Z"
   },
   {
    "duration": 29,
    "start_time": "2025-02-06T06:32:44.684Z"
   },
   {
    "duration": 12,
    "start_time": "2025-02-06T06:32:44.715Z"
   },
   {
    "duration": 42,
    "start_time": "2025-02-06T06:32:44.730Z"
   },
   {
    "duration": 30,
    "start_time": "2025-02-06T06:32:44.774Z"
   },
   {
    "duration": 25,
    "start_time": "2025-02-06T06:32:44.806Z"
   },
   {
    "duration": 26,
    "start_time": "2025-02-06T06:32:44.832Z"
   },
   {
    "duration": 33,
    "start_time": "2025-02-06T06:32:44.859Z"
   },
   {
    "duration": 9,
    "start_time": "2025-02-06T06:32:44.893Z"
   },
   {
    "duration": 44,
    "start_time": "2025-02-06T06:32:44.903Z"
   },
   {
    "duration": 42,
    "start_time": "2025-02-06T06:32:44.949Z"
   },
   {
    "duration": 22,
    "start_time": "2025-02-06T06:32:44.993Z"
   },
   {
    "duration": 212,
    "start_time": "2025-02-06T06:32:45.017Z"
   },
   {
    "duration": 43,
    "start_time": "2025-02-06T06:32:45.231Z"
   },
   {
    "duration": 201,
    "start_time": "2025-02-06T06:32:45.275Z"
   },
   {
    "duration": 26,
    "start_time": "2025-02-06T06:32:45.478Z"
   },
   {
    "duration": 163,
    "start_time": "2025-02-06T06:32:45.506Z"
   },
   {
    "duration": 92,
    "start_time": "2025-02-06T06:32:45.671Z"
   },
   {
    "duration": 3209,
    "start_time": "2025-02-06T06:32:45.765Z"
   },
   {
    "duration": 5,
    "start_time": "2025-02-06T06:32:48.976Z"
   },
   {
    "duration": 17,
    "start_time": "2025-02-06T06:32:48.983Z"
   },
   {
    "duration": 10,
    "start_time": "2025-02-06T06:32:49.003Z"
   },
   {
    "duration": 226,
    "start_time": "2025-02-06T06:32:49.015Z"
   },
   {
    "duration": 7839,
    "start_time": "2025-02-06T06:32:49.243Z"
   },
   {
    "duration": 150,
    "start_time": "2025-02-06T06:32:57.084Z"
   },
   {
    "duration": 149,
    "start_time": "2025-02-06T06:32:57.235Z"
   },
   {
    "duration": 162,
    "start_time": "2025-02-06T06:32:57.385Z"
   },
   {
    "duration": 88,
    "start_time": "2025-02-06T06:32:57.549Z"
   },
   {
    "duration": 39,
    "start_time": "2025-02-06T06:32:57.639Z"
   },
   {
    "duration": 75,
    "start_time": "2025-02-06T06:32:57.680Z"
   },
   {
    "duration": 22,
    "start_time": "2025-02-06T06:32:57.757Z"
   },
   {
    "duration": 57,
    "start_time": "2025-02-06T06:32:57.780Z"
   },
   {
    "duration": 60,
    "start_time": "2025-02-06T06:32:57.855Z"
   },
   {
    "duration": 18,
    "start_time": "2025-02-06T06:32:57.916Z"
   },
   {
    "duration": 17,
    "start_time": "2025-02-06T06:32:57.956Z"
   },
   {
    "duration": 16,
    "start_time": "2025-02-06T06:32:57.975Z"
   },
   {
    "duration": 287,
    "start_time": "2025-02-06T06:32:57.992Z"
   },
   {
    "duration": 266,
    "start_time": "2025-02-06T06:32:58.281Z"
   },
   {
    "duration": 4,
    "start_time": "2025-02-06T06:32:58.554Z"
   },
   {
    "duration": 97,
    "start_time": "2025-02-06T06:32:58.559Z"
   },
   {
    "duration": 37,
    "start_time": "2025-02-06T06:32:58.657Z"
   },
   {
    "duration": 3,
    "start_time": "2025-02-06T06:32:58.695Z"
   },
   {
    "duration": 33,
    "start_time": "2025-02-06T06:32:58.699Z"
   },
   {
    "duration": 202,
    "start_time": "2025-02-06T06:32:58.733Z"
   },
   {
    "duration": 8,
    "start_time": "2025-02-06T06:32:58.936Z"
   },
   {
    "duration": 77,
    "start_time": "2025-02-06T06:32:58.945Z"
   },
   {
    "duration": 33,
    "start_time": "2025-02-06T06:32:59.023Z"
   },
   {
    "duration": 7,
    "start_time": "2025-02-06T06:32:59.058Z"
   },
   {
    "duration": 168,
    "start_time": "2025-02-06T06:32:59.066Z"
   },
   {
    "duration": 5,
    "start_time": "2025-02-06T06:32:59.236Z"
   },
   {
    "duration": 61,
    "start_time": "2025-02-06T06:32:59.243Z"
   },
   {
    "duration": 36,
    "start_time": "2025-02-06T06:32:59.306Z"
   },
   {
    "duration": 17,
    "start_time": "2025-02-06T06:32:59.344Z"
   },
   {
    "duration": 45,
    "start_time": "2025-02-06T06:32:59.362Z"
   },
   {
    "duration": 420,
    "start_time": "2025-02-06T06:32:59.408Z"
   },
   {
    "duration": 6,
    "start_time": "2025-02-06T06:32:59.830Z"
   },
   {
    "duration": 19,
    "start_time": "2025-02-06T06:32:59.837Z"
   },
   {
    "duration": 34,
    "start_time": "2025-02-06T06:32:59.858Z"
   },
   {
    "duration": 53,
    "start_time": "2025-02-06T06:32:59.893Z"
   },
   {
    "duration": 13,
    "start_time": "2025-02-06T06:32:59.947Z"
   },
   {
    "duration": 23,
    "start_time": "2025-02-06T06:32:59.961Z"
   },
   {
    "duration": 32,
    "start_time": "2025-02-06T06:32:59.986Z"
   },
   {
    "duration": 8,
    "start_time": "2025-02-06T06:52:09.111Z"
   },
   {
    "duration": 10,
    "start_time": "2025-02-06T06:52:09.791Z"
   },
   {
    "duration": 5,
    "start_time": "2025-02-06T06:52:20.160Z"
   },
   {
    "duration": 8,
    "start_time": "2025-02-06T06:52:20.568Z"
   },
   {
    "duration": 3688,
    "start_time": "2025-02-06T06:53:57.256Z"
   },
   {
    "duration": 1921,
    "start_time": "2025-02-06T06:54:00.946Z"
   },
   {
    "duration": 13,
    "start_time": "2025-02-06T06:54:02.868Z"
   },
   {
    "duration": 50,
    "start_time": "2025-02-06T06:54:02.882Z"
   },
   {
    "duration": 35,
    "start_time": "2025-02-06T06:54:02.934Z"
   },
   {
    "duration": 108,
    "start_time": "2025-02-06T06:54:02.970Z"
   },
   {
    "duration": 8,
    "start_time": "2025-02-06T06:54:03.080Z"
   },
   {
    "duration": 77,
    "start_time": "2025-02-06T06:54:03.089Z"
   },
   {
    "duration": 84,
    "start_time": "2025-02-06T06:54:03.168Z"
   },
   {
    "duration": 94,
    "start_time": "2025-02-06T06:54:03.255Z"
   },
   {
    "duration": 36,
    "start_time": "2025-02-06T06:54:03.351Z"
   },
   {
    "duration": 129,
    "start_time": "2025-02-06T06:54:03.389Z"
   },
   {
    "duration": 8,
    "start_time": "2025-02-06T06:54:03.520Z"
   },
   {
    "duration": 71,
    "start_time": "2025-02-06T06:54:03.530Z"
   },
   {
    "duration": 68,
    "start_time": "2025-02-06T06:54:03.602Z"
   },
   {
    "duration": 40,
    "start_time": "2025-02-06T06:54:03.671Z"
   },
   {
    "duration": 39,
    "start_time": "2025-02-06T06:54:03.712Z"
   },
   {
    "duration": 27,
    "start_time": "2025-02-06T06:54:03.752Z"
   },
   {
    "duration": 195,
    "start_time": "2025-02-06T06:54:03.781Z"
   },
   {
    "duration": 40,
    "start_time": "2025-02-06T06:54:03.977Z"
   },
   {
    "duration": 223,
    "start_time": "2025-02-06T06:54:04.019Z"
   },
   {
    "duration": 36,
    "start_time": "2025-02-06T06:54:04.244Z"
   },
   {
    "duration": 134,
    "start_time": "2025-02-06T06:54:04.281Z"
   },
   {
    "duration": 102,
    "start_time": "2025-02-06T06:54:04.417Z"
   },
   {
    "duration": 3463,
    "start_time": "2025-02-06T06:54:04.520Z"
   },
   {
    "duration": 5,
    "start_time": "2025-02-06T06:54:07.985Z"
   },
   {
    "duration": 30,
    "start_time": "2025-02-06T06:54:07.992Z"
   },
   {
    "duration": 7,
    "start_time": "2025-02-06T06:54:08.026Z"
   },
   {
    "duration": 240,
    "start_time": "2025-02-06T06:54:08.035Z"
   },
   {
    "duration": 2451,
    "start_time": "2025-02-06T06:54:08.277Z"
   },
   {
    "duration": 171,
    "start_time": "2025-02-06T06:54:10.730Z"
   },
   {
    "duration": 170,
    "start_time": "2025-02-06T06:54:10.903Z"
   },
   {
    "duration": 158,
    "start_time": "2025-02-06T06:54:11.074Z"
   },
   {
    "duration": 93,
    "start_time": "2025-02-06T06:54:11.233Z"
   },
   {
    "duration": 44,
    "start_time": "2025-02-06T06:54:11.328Z"
   },
   {
    "duration": 89,
    "start_time": "2025-02-06T06:54:11.374Z"
   },
   {
    "duration": 21,
    "start_time": "2025-02-06T06:54:11.465Z"
   },
   {
    "duration": 77,
    "start_time": "2025-02-06T06:54:11.487Z"
   },
   {
    "duration": 57,
    "start_time": "2025-02-06T06:54:11.566Z"
   },
   {
    "duration": 79,
    "start_time": "2025-02-06T06:54:11.625Z"
   },
   {
    "duration": 17,
    "start_time": "2025-02-06T06:54:11.705Z"
   },
   {
    "duration": 15,
    "start_time": "2025-02-06T06:54:11.724Z"
   },
   {
    "duration": 269,
    "start_time": "2025-02-06T06:54:11.740Z"
   },
   {
    "duration": 290,
    "start_time": "2025-02-06T06:54:12.011Z"
   },
   {
    "duration": 4,
    "start_time": "2025-02-06T06:54:12.303Z"
   },
   {
    "duration": 105,
    "start_time": "2025-02-06T06:54:12.308Z"
   },
   {
    "duration": 45,
    "start_time": "2025-02-06T06:54:12.414Z"
   },
   {
    "duration": 2,
    "start_time": "2025-02-06T06:54:12.461Z"
   },
   {
    "duration": 12,
    "start_time": "2025-02-06T06:54:12.464Z"
   },
   {
    "duration": 215,
    "start_time": "2025-02-06T06:54:12.478Z"
   },
   {
    "duration": 9,
    "start_time": "2025-02-06T06:54:12.695Z"
   },
   {
    "duration": 84,
    "start_time": "2025-02-06T06:54:12.706Z"
   },
   {
    "duration": 32,
    "start_time": "2025-02-06T06:54:12.792Z"
   },
   {
    "duration": 30,
    "start_time": "2025-02-06T06:54:12.826Z"
   },
   {
    "duration": 183,
    "start_time": "2025-02-06T06:54:12.858Z"
   },
   {
    "duration": 13,
    "start_time": "2025-02-06T06:54:13.042Z"
   },
   {
    "duration": 27,
    "start_time": "2025-02-06T06:54:13.057Z"
   },
   {
    "duration": 9,
    "start_time": "2025-02-06T06:54:13.086Z"
   },
   {
    "duration": 48,
    "start_time": "2025-02-06T06:54:13.097Z"
   },
   {
    "duration": 11,
    "start_time": "2025-02-06T06:54:13.147Z"
   },
   {
    "duration": 428,
    "start_time": "2025-02-06T06:54:13.160Z"
   },
   {
    "duration": 17,
    "start_time": "2025-02-06T06:54:13.591Z"
   },
   {
    "duration": 51,
    "start_time": "2025-02-06T06:54:13.610Z"
   },
   {
    "duration": 20,
    "start_time": "2025-02-06T06:54:13.663Z"
   },
   {
    "duration": 11,
    "start_time": "2025-02-06T06:54:13.685Z"
   },
   {
    "duration": 6,
    "start_time": "2025-02-06T06:54:13.697Z"
   },
   {
    "duration": 16,
    "start_time": "2025-02-06T06:54:13.705Z"
   },
   {
    "duration": 44,
    "start_time": "2025-02-06T06:54:13.723Z"
   },
   {
    "duration": 7,
    "start_time": "2025-02-06T07:03:18.853Z"
   },
   {
    "duration": 9,
    "start_time": "2025-02-06T07:03:20.920Z"
   },
   {
    "duration": 15,
    "start_time": "2025-02-06T07:03:45.102Z"
   },
   {
    "duration": 11,
    "start_time": "2025-02-06T07:43:19.830Z"
   },
   {
    "duration": 316,
    "start_time": "2025-02-06T07:44:29.141Z"
   },
   {
    "duration": 6,
    "start_time": "2025-02-06T07:45:39.925Z"
   },
   {
    "duration": 7,
    "start_time": "2025-02-06T07:46:00.929Z"
   },
   {
    "duration": 201,
    "start_time": "2025-02-06T07:48:02.905Z"
   },
   {
    "duration": 14,
    "start_time": "2025-02-06T07:49:42.091Z"
   },
   {
    "duration": 10,
    "start_time": "2025-02-06T07:50:01.700Z"
   },
   {
    "duration": 213,
    "start_time": "2025-02-06T07:51:53.904Z"
   },
   {
    "duration": 231,
    "start_time": "2025-02-06T07:53:17.261Z"
   },
   {
    "duration": 653,
    "start_time": "2025-02-06T07:56:02.163Z"
   },
   {
    "duration": 568,
    "start_time": "2025-02-06T07:56:38.704Z"
   },
   {
    "duration": 19,
    "start_time": "2025-02-06T07:58:05.744Z"
   },
   {
    "duration": 295,
    "start_time": "2025-02-06T07:58:39.283Z"
   },
   {
    "duration": 431,
    "start_time": "2025-02-06T07:59:04.593Z"
   },
   {
    "duration": 326,
    "start_time": "2025-02-06T08:00:46.251Z"
   },
   {
    "duration": 335,
    "start_time": "2025-02-06T08:00:55.284Z"
   },
   {
    "duration": 604,
    "start_time": "2025-02-06T08:01:32.542Z"
   },
   {
    "duration": 580,
    "start_time": "2025-02-06T08:04:40.552Z"
   },
   {
    "duration": 35,
    "start_time": "2025-02-06T08:06:28.651Z"
   },
   {
    "duration": 4304,
    "start_time": "2025-02-06T08:10:00.966Z"
   },
   {
    "duration": 2793,
    "start_time": "2025-02-06T08:10:05.273Z"
   },
   {
    "duration": 14,
    "start_time": "2025-02-06T08:10:08.068Z"
   },
   {
    "duration": 29,
    "start_time": "2025-02-06T08:10:08.085Z"
   },
   {
    "duration": 40,
    "start_time": "2025-02-06T08:10:08.116Z"
   },
   {
    "duration": 128,
    "start_time": "2025-02-06T08:10:08.158Z"
   },
   {
    "duration": 8,
    "start_time": "2025-02-06T08:10:08.288Z"
   },
   {
    "duration": 46,
    "start_time": "2025-02-06T08:10:08.298Z"
   },
   {
    "duration": 13,
    "start_time": "2025-02-06T08:10:08.346Z"
   },
   {
    "duration": 26,
    "start_time": "2025-02-06T08:10:08.362Z"
   },
   {
    "duration": 32,
    "start_time": "2025-02-06T08:10:08.390Z"
   },
   {
    "duration": 27,
    "start_time": "2025-02-06T08:10:08.424Z"
   },
   {
    "duration": 17,
    "start_time": "2025-02-06T08:10:08.453Z"
   },
   {
    "duration": 15,
    "start_time": "2025-02-06T08:10:08.471Z"
   },
   {
    "duration": 9,
    "start_time": "2025-02-06T08:10:08.487Z"
   },
   {
    "duration": 47,
    "start_time": "2025-02-06T08:10:08.498Z"
   },
   {
    "duration": 29,
    "start_time": "2025-02-06T08:10:08.546Z"
   },
   {
    "duration": 5,
    "start_time": "2025-02-06T08:10:08.576Z"
   },
   {
    "duration": 206,
    "start_time": "2025-02-06T08:10:08.582Z"
   },
   {
    "duration": 46,
    "start_time": "2025-02-06T08:10:08.790Z"
   },
   {
    "duration": 256,
    "start_time": "2025-02-06T08:10:08.838Z"
   },
   {
    "duration": 29,
    "start_time": "2025-02-06T08:10:09.096Z"
   },
   {
    "duration": 157,
    "start_time": "2025-02-06T08:10:09.127Z"
   },
   {
    "duration": 114,
    "start_time": "2025-02-06T08:10:09.286Z"
   },
   {
    "duration": 3880,
    "start_time": "2025-02-06T08:10:09.402Z"
   },
   {
    "duration": 8,
    "start_time": "2025-02-06T08:10:13.284Z"
   },
   {
    "duration": 19,
    "start_time": "2025-02-06T08:10:13.294Z"
   },
   {
    "duration": 36,
    "start_time": "2025-02-06T08:10:13.319Z"
   },
   {
    "duration": 260,
    "start_time": "2025-02-06T08:10:13.357Z"
   },
   {
    "duration": 2846,
    "start_time": "2025-02-06T08:10:13.619Z"
   },
   {
    "duration": 188,
    "start_time": "2025-02-06T08:10:16.468Z"
   },
   {
    "duration": 185,
    "start_time": "2025-02-06T08:10:16.659Z"
   },
   {
    "duration": 185,
    "start_time": "2025-02-06T08:10:16.847Z"
   },
   {
    "duration": 106,
    "start_time": "2025-02-06T08:10:17.034Z"
   },
   {
    "duration": 43,
    "start_time": "2025-02-06T08:10:17.142Z"
   },
   {
    "duration": 93,
    "start_time": "2025-02-06T08:10:17.187Z"
   },
   {
    "duration": 25,
    "start_time": "2025-02-06T08:10:17.282Z"
   },
   {
    "duration": 83,
    "start_time": "2025-02-06T08:10:17.308Z"
   },
   {
    "duration": 91,
    "start_time": "2025-02-06T08:10:17.393Z"
   },
   {
    "duration": 27,
    "start_time": "2025-02-06T08:10:17.486Z"
   },
   {
    "duration": 42,
    "start_time": "2025-02-06T08:10:17.515Z"
   },
   {
    "duration": 17,
    "start_time": "2025-02-06T08:10:17.559Z"
   },
   {
    "duration": 324,
    "start_time": "2025-02-06T08:10:17.578Z"
   },
   {
    "duration": 312,
    "start_time": "2025-02-06T08:10:17.904Z"
   },
   {
    "duration": 5,
    "start_time": "2025-02-06T08:10:18.218Z"
   },
   {
    "duration": 128,
    "start_time": "2025-02-06T08:10:18.224Z"
   },
   {
    "duration": 44,
    "start_time": "2025-02-06T08:10:18.354Z"
   },
   {
    "duration": 3,
    "start_time": "2025-02-06T08:10:18.400Z"
   },
   {
    "duration": 23,
    "start_time": "2025-02-06T08:10:18.404Z"
   },
   {
    "duration": 255,
    "start_time": "2025-02-06T08:10:18.429Z"
   },
   {
    "duration": 11,
    "start_time": "2025-02-06T08:10:18.687Z"
   },
   {
    "duration": 82,
    "start_time": "2025-02-06T08:10:18.700Z"
   },
   {
    "duration": 40,
    "start_time": "2025-02-06T08:10:18.785Z"
   },
   {
    "duration": 30,
    "start_time": "2025-02-06T08:10:18.827Z"
   },
   {
    "duration": 208,
    "start_time": "2025-02-06T08:10:18.860Z"
   },
   {
    "duration": 6,
    "start_time": "2025-02-06T08:10:19.070Z"
   },
   {
    "duration": 9,
    "start_time": "2025-02-06T08:10:19.078Z"
   },
   {
    "duration": 16,
    "start_time": "2025-02-06T08:10:19.089Z"
   },
   {
    "duration": 23,
    "start_time": "2025-02-06T08:10:19.107Z"
   },
   {
    "duration": 25,
    "start_time": "2025-02-06T08:10:19.131Z"
   },
   {
    "duration": 496,
    "start_time": "2025-02-06T08:10:19.158Z"
   },
   {
    "duration": 18,
    "start_time": "2025-02-06T08:10:19.656Z"
   },
   {
    "duration": 7,
    "start_time": "2025-02-06T08:10:19.675Z"
   },
   {
    "duration": 15,
    "start_time": "2025-02-06T08:10:19.684Z"
   },
   {
    "duration": 16,
    "start_time": "2025-02-06T08:10:19.700Z"
   },
   {
    "duration": 9,
    "start_time": "2025-02-06T08:10:19.718Z"
   },
   {
    "duration": 8,
    "start_time": "2025-02-06T08:10:19.756Z"
   },
   {
    "duration": 18,
    "start_time": "2025-02-06T08:10:19.766Z"
   },
   {
    "duration": 745,
    "start_time": "2025-02-06T08:10:19.785Z"
   },
   {
    "duration": 34,
    "start_time": "2025-02-06T08:10:20.532Z"
   },
   {
    "duration": 364,
    "start_time": "2025-02-06T08:10:20.568Z"
   },
   {
    "duration": 311,
    "start_time": "2025-02-06T08:17:38.897Z"
   },
   {
    "duration": 594,
    "start_time": "2025-02-06T08:18:03.852Z"
   },
   {
    "duration": 3996,
    "start_time": "2025-02-06T09:47:18.686Z"
   },
   {
    "duration": 2253,
    "start_time": "2025-02-06T09:47:22.686Z"
   },
   {
    "duration": 16,
    "start_time": "2025-02-06T09:47:24.940Z"
   },
   {
    "duration": 26,
    "start_time": "2025-02-06T09:47:24.958Z"
   },
   {
    "duration": 29,
    "start_time": "2025-02-06T09:47:24.986Z"
   },
   {
    "duration": 118,
    "start_time": "2025-02-06T09:47:25.016Z"
   },
   {
    "duration": 9,
    "start_time": "2025-02-06T09:47:25.136Z"
   },
   {
    "duration": 34,
    "start_time": "2025-02-06T09:47:25.147Z"
   },
   {
    "duration": 30,
    "start_time": "2025-02-06T09:47:25.182Z"
   },
   {
    "duration": 35,
    "start_time": "2025-02-06T09:47:25.214Z"
   },
   {
    "duration": 28,
    "start_time": "2025-02-06T09:47:25.252Z"
   },
   {
    "duration": 16,
    "start_time": "2025-02-06T09:47:25.282Z"
   },
   {
    "duration": 14,
    "start_time": "2025-02-06T09:47:25.300Z"
   },
   {
    "duration": 34,
    "start_time": "2025-02-06T09:47:25.317Z"
   },
   {
    "duration": 11,
    "start_time": "2025-02-06T09:47:25.353Z"
   },
   {
    "duration": 63,
    "start_time": "2025-02-06T09:47:25.366Z"
   },
   {
    "duration": 25,
    "start_time": "2025-02-06T09:47:25.431Z"
   },
   {
    "duration": 6,
    "start_time": "2025-02-06T09:47:25.458Z"
   },
   {
    "duration": 191,
    "start_time": "2025-02-06T09:47:25.466Z"
   },
   {
    "duration": 44,
    "start_time": "2025-02-06T09:47:25.659Z"
   },
   {
    "duration": 233,
    "start_time": "2025-02-06T09:47:25.705Z"
   },
   {
    "duration": 37,
    "start_time": "2025-02-06T09:47:25.940Z"
   },
   {
    "duration": 147,
    "start_time": "2025-02-06T09:47:25.979Z"
   },
   {
    "duration": 108,
    "start_time": "2025-02-06T09:47:26.128Z"
   },
   {
    "duration": 3711,
    "start_time": "2025-02-06T09:47:26.238Z"
   },
   {
    "duration": 6,
    "start_time": "2025-02-06T09:47:29.955Z"
   },
   {
    "duration": 14,
    "start_time": "2025-02-06T09:47:29.963Z"
   },
   {
    "duration": 8,
    "start_time": "2025-02-06T09:47:29.981Z"
   },
   {
    "duration": 261,
    "start_time": "2025-02-06T09:47:29.991Z"
   },
   {
    "duration": 2743,
    "start_time": "2025-02-06T09:47:30.255Z"
   },
   {
    "duration": 184,
    "start_time": "2025-02-06T09:47:33.000Z"
   },
   {
    "duration": 177,
    "start_time": "2025-02-06T09:47:33.186Z"
   },
   {
    "duration": 177,
    "start_time": "2025-02-06T09:47:33.365Z"
   },
   {
    "duration": 96,
    "start_time": "2025-02-06T09:47:33.544Z"
   },
   {
    "duration": 36,
    "start_time": "2025-02-06T09:47:33.656Z"
   },
   {
    "duration": 87,
    "start_time": "2025-02-06T09:47:33.694Z"
   },
   {
    "duration": 25,
    "start_time": "2025-02-06T09:47:33.783Z"
   },
   {
    "duration": 85,
    "start_time": "2025-02-06T09:47:33.809Z"
   },
   {
    "duration": 76,
    "start_time": "2025-02-06T09:47:33.896Z"
   },
   {
    "duration": 19,
    "start_time": "2025-02-06T09:47:33.974Z"
   },
   {
    "duration": 21,
    "start_time": "2025-02-06T09:47:33.995Z"
   },
   {
    "duration": 38,
    "start_time": "2025-02-06T09:47:34.018Z"
   },
   {
    "duration": 317,
    "start_time": "2025-02-06T09:47:34.058Z"
   },
   {
    "duration": 320,
    "start_time": "2025-02-06T09:47:34.377Z"
   },
   {
    "duration": 7,
    "start_time": "2025-02-06T09:47:34.699Z"
   },
   {
    "duration": 121,
    "start_time": "2025-02-06T09:47:34.708Z"
   },
   {
    "duration": 52,
    "start_time": "2025-02-06T09:47:34.831Z"
   },
   {
    "duration": 2,
    "start_time": "2025-02-06T09:47:34.885Z"
   },
   {
    "duration": 35,
    "start_time": "2025-02-06T09:47:34.889Z"
   },
   {
    "duration": 258,
    "start_time": "2025-02-06T09:47:34.926Z"
   },
   {
    "duration": 9,
    "start_time": "2025-02-06T09:47:35.186Z"
   },
   {
    "duration": 93,
    "start_time": "2025-02-06T09:47:35.197Z"
   },
   {
    "duration": 38,
    "start_time": "2025-02-06T09:47:35.292Z"
   },
   {
    "duration": 25,
    "start_time": "2025-02-06T09:47:35.331Z"
   },
   {
    "duration": 203,
    "start_time": "2025-02-06T09:47:35.359Z"
   },
   {
    "duration": 7,
    "start_time": "2025-02-06T09:47:35.564Z"
   },
   {
    "duration": 42,
    "start_time": "2025-02-06T09:47:35.572Z"
   },
   {
    "duration": 10,
    "start_time": "2025-02-06T09:47:35.615Z"
   },
   {
    "duration": 15,
    "start_time": "2025-02-06T09:47:35.626Z"
   },
   {
    "duration": 32,
    "start_time": "2025-02-06T09:47:35.642Z"
   },
   {
    "duration": 473,
    "start_time": "2025-02-06T09:47:35.675Z"
   },
   {
    "duration": 19,
    "start_time": "2025-02-06T09:47:36.150Z"
   },
   {
    "duration": 8,
    "start_time": "2025-02-06T09:47:36.171Z"
   },
   {
    "duration": 51,
    "start_time": "2025-02-06T09:47:36.181Z"
   },
   {
    "duration": 16,
    "start_time": "2025-02-06T09:47:36.234Z"
   },
   {
    "duration": 6,
    "start_time": "2025-02-06T09:47:36.252Z"
   },
   {
    "duration": 30,
    "start_time": "2025-02-06T09:47:36.260Z"
   },
   {
    "duration": 44,
    "start_time": "2025-02-06T09:47:36.292Z"
   },
   {
    "duration": 597,
    "start_time": "2025-02-06T09:47:36.338Z"
   },
   {
    "duration": 27,
    "start_time": "2025-02-06T09:47:36.937Z"
   },
   {
    "duration": 353,
    "start_time": "2025-02-06T09:47:36.966Z"
   },
   {
    "duration": 5390,
    "start_time": "2025-02-07T07:03:03.546Z"
   },
   {
    "duration": 2347,
    "start_time": "2025-02-07T07:03:08.938Z"
   },
   {
    "duration": 14,
    "start_time": "2025-02-07T07:03:11.287Z"
   },
   {
    "duration": 20,
    "start_time": "2025-02-07T07:03:11.304Z"
   },
   {
    "duration": 58,
    "start_time": "2025-02-07T07:03:11.326Z"
   },
   {
    "duration": 121,
    "start_time": "2025-02-07T07:03:11.387Z"
   },
   {
    "duration": 12,
    "start_time": "2025-02-07T07:03:11.510Z"
   },
   {
    "duration": 57,
    "start_time": "2025-02-07T07:03:11.524Z"
   },
   {
    "duration": 15,
    "start_time": "2025-02-07T07:03:11.583Z"
   },
   {
    "duration": 20,
    "start_time": "2025-02-07T07:03:11.601Z"
   },
   {
    "duration": 31,
    "start_time": "2025-02-07T07:03:11.624Z"
   },
   {
    "duration": 22,
    "start_time": "2025-02-07T07:03:11.657Z"
   },
   {
    "duration": 10,
    "start_time": "2025-02-07T07:03:11.681Z"
   },
   {
    "duration": 31,
    "start_time": "2025-02-07T07:03:11.693Z"
   },
   {
    "duration": 10,
    "start_time": "2025-02-07T07:03:11.725Z"
   },
   {
    "duration": 68,
    "start_time": "2025-02-07T07:03:11.737Z"
   },
   {
    "duration": 23,
    "start_time": "2025-02-07T07:03:11.807Z"
   },
   {
    "duration": 6,
    "start_time": "2025-02-07T07:03:11.831Z"
   },
   {
    "duration": 190,
    "start_time": "2025-02-07T07:03:11.839Z"
   },
   {
    "duration": 53,
    "start_time": "2025-02-07T07:03:12.031Z"
   },
   {
    "duration": 234,
    "start_time": "2025-02-07T07:03:12.085Z"
   },
   {
    "duration": 42,
    "start_time": "2025-02-07T07:03:12.321Z"
   },
   {
    "duration": 137,
    "start_time": "2025-02-07T07:03:12.365Z"
   },
   {
    "duration": 110,
    "start_time": "2025-02-07T07:03:12.504Z"
   },
   {
    "duration": 3796,
    "start_time": "2025-02-07T07:03:12.616Z"
   },
   {
    "duration": 5,
    "start_time": "2025-02-07T07:03:16.414Z"
   },
   {
    "duration": 19,
    "start_time": "2025-02-07T07:03:16.421Z"
   },
   {
    "duration": 9,
    "start_time": "2025-02-07T07:03:16.460Z"
   },
   {
    "duration": 278,
    "start_time": "2025-02-07T07:03:16.470Z"
   },
   {
    "duration": 8642,
    "start_time": "2025-02-07T07:03:16.754Z"
   },
   {
    "duration": 178,
    "start_time": "2025-02-07T07:03:25.398Z"
   },
   {
    "duration": 167,
    "start_time": "2025-02-07T07:03:25.579Z"
   },
   {
    "duration": 170,
    "start_time": "2025-02-07T07:03:25.748Z"
   },
   {
    "duration": 102,
    "start_time": "2025-02-07T07:03:25.920Z"
   },
   {
    "duration": 43,
    "start_time": "2025-02-07T07:03:26.024Z"
   },
   {
    "duration": 89,
    "start_time": "2025-02-07T07:03:26.069Z"
   },
   {
    "duration": 23,
    "start_time": "2025-02-07T07:03:26.160Z"
   },
   {
    "duration": 91,
    "start_time": "2025-02-07T07:03:26.185Z"
   },
   {
    "duration": 77,
    "start_time": "2025-02-07T07:03:26.278Z"
   },
   {
    "duration": 18,
    "start_time": "2025-02-07T07:03:26.357Z"
   },
   {
    "duration": 19,
    "start_time": "2025-02-07T07:03:26.376Z"
   },
   {
    "duration": 17,
    "start_time": "2025-02-07T07:03:26.397Z"
   },
   {
    "duration": 322,
    "start_time": "2025-02-07T07:03:26.415Z"
   },
   {
    "duration": 304,
    "start_time": "2025-02-07T07:03:26.739Z"
   },
   {
    "duration": 5,
    "start_time": "2025-02-07T07:03:27.044Z"
   },
   {
    "duration": 101,
    "start_time": "2025-02-07T07:03:27.056Z"
   },
   {
    "duration": 40,
    "start_time": "2025-02-07T07:03:27.159Z"
   },
   {
    "duration": 3,
    "start_time": "2025-02-07T07:03:27.201Z"
   },
   {
    "duration": 11,
    "start_time": "2025-02-07T07:03:27.206Z"
   },
   {
    "duration": 251,
    "start_time": "2025-02-07T07:03:27.219Z"
   },
   {
    "duration": 14,
    "start_time": "2025-02-07T07:03:27.473Z"
   },
   {
    "duration": 87,
    "start_time": "2025-02-07T07:03:27.490Z"
   },
   {
    "duration": 36,
    "start_time": "2025-02-07T07:03:27.579Z"
   },
   {
    "duration": 9,
    "start_time": "2025-02-07T07:03:27.616Z"
   },
   {
    "duration": 210,
    "start_time": "2025-02-07T07:03:27.627Z"
   },
   {
    "duration": 18,
    "start_time": "2025-02-07T07:03:27.839Z"
   },
   {
    "duration": 13,
    "start_time": "2025-02-07T07:03:27.858Z"
   },
   {
    "duration": 9,
    "start_time": "2025-02-07T07:03:27.873Z"
   },
   {
    "duration": 9,
    "start_time": "2025-02-07T07:03:27.883Z"
   },
   {
    "duration": 10,
    "start_time": "2025-02-07T07:03:27.893Z"
   },
   {
    "duration": 500,
    "start_time": "2025-02-07T07:03:27.905Z"
   },
   {
    "duration": 18,
    "start_time": "2025-02-07T07:03:28.407Z"
   },
   {
    "duration": 6,
    "start_time": "2025-02-07T07:03:28.427Z"
   },
   {
    "duration": 22,
    "start_time": "2025-02-07T07:03:28.435Z"
   },
   {
    "duration": 21,
    "start_time": "2025-02-07T07:03:28.459Z"
   },
   {
    "duration": 6,
    "start_time": "2025-02-07T07:03:28.482Z"
   },
   {
    "duration": 16,
    "start_time": "2025-02-07T07:03:28.489Z"
   },
   {
    "duration": 14,
    "start_time": "2025-02-07T07:03:28.506Z"
   },
   {
    "duration": 595,
    "start_time": "2025-02-07T07:03:28.522Z"
   },
   {
    "duration": 20,
    "start_time": "2025-02-07T07:03:29.119Z"
   },
   {
    "duration": 341,
    "start_time": "2025-02-07T07:03:29.141Z"
   },
   {
    "duration": 13,
    "start_time": "2025-02-07T07:10:05.513Z"
   },
   {
    "duration": 67,
    "start_time": "2025-02-07T07:11:22.249Z"
   },
   {
    "duration": 65,
    "start_time": "2025-02-07T07:11:34.049Z"
   },
   {
    "duration": 61,
    "start_time": "2025-02-07T07:11:39.862Z"
   },
   {
    "duration": 11,
    "start_time": "2025-02-07T07:11:56.446Z"
   },
   {
    "duration": 11,
    "start_time": "2025-02-07T07:12:32.047Z"
   },
   {
    "duration": 33,
    "start_time": "2025-02-07T07:13:44.237Z"
   },
   {
    "duration": 275,
    "start_time": "2025-02-07T07:14:49.968Z"
   },
   {
    "duration": 117,
    "start_time": "2025-02-07T07:18:50.061Z"
   },
   {
    "duration": 7,
    "start_time": "2025-02-07T07:19:21.782Z"
   },
   {
    "duration": 8,
    "start_time": "2025-02-07T07:19:35.326Z"
   },
   {
    "duration": 6,
    "start_time": "2025-02-07T07:19:57.958Z"
   },
   {
    "duration": 7,
    "start_time": "2025-02-07T07:20:12.930Z"
   },
   {
    "duration": 11,
    "start_time": "2025-02-07T07:20:46.037Z"
   },
   {
    "duration": 12,
    "start_time": "2025-02-07T07:21:03.916Z"
   },
   {
    "duration": 11,
    "start_time": "2025-02-07T07:21:34.511Z"
   },
   {
    "duration": 4083,
    "start_time": "2025-02-07T07:22:44.953Z"
   },
   {
    "duration": 2216,
    "start_time": "2025-02-07T07:22:49.039Z"
   },
   {
    "duration": 14,
    "start_time": "2025-02-07T07:22:51.257Z"
   },
   {
    "duration": 44,
    "start_time": "2025-02-07T07:22:51.273Z"
   },
   {
    "duration": 47,
    "start_time": "2025-02-07T07:22:51.319Z"
   },
   {
    "duration": 162,
    "start_time": "2025-02-07T07:22:51.368Z"
   },
   {
    "duration": 10,
    "start_time": "2025-02-07T07:22:51.532Z"
   },
   {
    "duration": 30,
    "start_time": "2025-02-07T07:22:51.556Z"
   },
   {
    "duration": 18,
    "start_time": "2025-02-07T07:22:51.588Z"
   },
   {
    "duration": 22,
    "start_time": "2025-02-07T07:22:51.609Z"
   },
   {
    "duration": 23,
    "start_time": "2025-02-07T07:22:51.633Z"
   },
   {
    "duration": 14,
    "start_time": "2025-02-07T07:22:51.658Z"
   },
   {
    "duration": 8,
    "start_time": "2025-02-07T07:22:51.674Z"
   },
   {
    "duration": 34,
    "start_time": "2025-02-07T07:22:51.684Z"
   },
   {
    "duration": 25,
    "start_time": "2025-02-07T07:22:51.720Z"
   },
   {
    "duration": 65,
    "start_time": "2025-02-07T07:22:51.747Z"
   },
   {
    "duration": 23,
    "start_time": "2025-02-07T07:22:51.814Z"
   },
   {
    "duration": 5,
    "start_time": "2025-02-07T07:22:51.839Z"
   },
   {
    "duration": 186,
    "start_time": "2025-02-07T07:22:51.846Z"
   },
   {
    "duration": 56,
    "start_time": "2025-02-07T07:22:52.035Z"
   },
   {
    "duration": 233,
    "start_time": "2025-02-07T07:22:52.093Z"
   },
   {
    "duration": 39,
    "start_time": "2025-02-07T07:22:52.328Z"
   },
   {
    "duration": 142,
    "start_time": "2025-02-07T07:22:52.368Z"
   },
   {
    "duration": 106,
    "start_time": "2025-02-07T07:22:52.511Z"
   },
   {
    "duration": 3711,
    "start_time": "2025-02-07T07:22:52.619Z"
   },
   {
    "duration": 6,
    "start_time": "2025-02-07T07:22:56.332Z"
   },
   {
    "duration": 20,
    "start_time": "2025-02-07T07:22:56.356Z"
   },
   {
    "duration": 12,
    "start_time": "2025-02-07T07:22:56.380Z"
   },
   {
    "duration": 244,
    "start_time": "2025-02-07T07:22:56.394Z"
   },
   {
    "duration": 2853,
    "start_time": "2025-02-07T07:22:56.640Z"
   },
   {
    "duration": 176,
    "start_time": "2025-02-07T07:22:59.495Z"
   },
   {
    "duration": 175,
    "start_time": "2025-02-07T07:22:59.673Z"
   },
   {
    "duration": 159,
    "start_time": "2025-02-07T07:22:59.854Z"
   },
   {
    "duration": 104,
    "start_time": "2025-02-07T07:23:00.015Z"
   },
   {
    "duration": 41,
    "start_time": "2025-02-07T07:23:00.120Z"
   },
   {
    "duration": 98,
    "start_time": "2025-02-07T07:23:00.163Z"
   },
   {
    "duration": 24,
    "start_time": "2025-02-07T07:23:00.262Z"
   },
   {
    "duration": 96,
    "start_time": "2025-02-07T07:23:00.288Z"
   },
   {
    "duration": 75,
    "start_time": "2025-02-07T07:23:00.385Z"
   },
   {
    "duration": 54,
    "start_time": "2025-02-07T07:23:00.462Z"
   },
   {
    "duration": 51,
    "start_time": "2025-02-07T07:23:00.518Z"
   },
   {
    "duration": 65,
    "start_time": "2025-02-07T07:23:00.571Z"
   },
   {
    "duration": 356,
    "start_time": "2025-02-07T07:23:00.638Z"
   },
   {
    "duration": 294,
    "start_time": "2025-02-07T07:23:00.996Z"
   },
   {
    "duration": 5,
    "start_time": "2025-02-07T07:23:01.292Z"
   },
   {
    "duration": 110,
    "start_time": "2025-02-07T07:23:01.298Z"
   },
   {
    "duration": 51,
    "start_time": "2025-02-07T07:23:01.410Z"
   },
   {
    "duration": 48,
    "start_time": "2025-02-07T07:23:01.463Z"
   },
   {
    "duration": 67,
    "start_time": "2025-02-07T07:23:01.512Z"
   },
   {
    "duration": 242,
    "start_time": "2025-02-07T07:23:01.580Z"
   },
   {
    "duration": 10,
    "start_time": "2025-02-07T07:23:01.823Z"
   },
   {
    "duration": 254,
    "start_time": "2025-02-07T07:23:01.834Z"
   },
   {
    "duration": 11,
    "start_time": "2025-02-07T07:23:02.090Z"
   },
   {
    "duration": 31,
    "start_time": "2025-02-07T07:23:02.102Z"
   },
   {
    "duration": 47,
    "start_time": "2025-02-07T07:23:02.135Z"
   },
   {
    "duration": 9,
    "start_time": "2025-02-07T07:23:02.184Z"
   },
   {
    "duration": 212,
    "start_time": "2025-02-07T07:23:02.195Z"
   },
   {
    "duration": 7,
    "start_time": "2025-02-07T07:23:02.408Z"
   },
   {
    "duration": 29,
    "start_time": "2025-02-07T07:23:02.416Z"
   },
   {
    "duration": 20,
    "start_time": "2025-02-07T07:23:02.446Z"
   },
   {
    "duration": 21,
    "start_time": "2025-02-07T07:23:02.468Z"
   },
   {
    "duration": 35,
    "start_time": "2025-02-07T07:23:02.491Z"
   },
   {
    "duration": 483,
    "start_time": "2025-02-07T07:23:02.528Z"
   },
   {
    "duration": 17,
    "start_time": "2025-02-07T07:23:03.013Z"
   },
   {
    "duration": 24,
    "start_time": "2025-02-07T07:23:03.031Z"
   },
   {
    "duration": 6,
    "start_time": "2025-02-07T07:23:03.057Z"
   },
   {
    "duration": 57,
    "start_time": "2025-02-07T07:23:03.064Z"
   },
   {
    "duration": 34,
    "start_time": "2025-02-07T07:23:03.123Z"
   },
   {
    "duration": 24,
    "start_time": "2025-02-07T07:23:03.159Z"
   },
   {
    "duration": 28,
    "start_time": "2025-02-07T07:23:03.186Z"
   },
   {
    "duration": 590,
    "start_time": "2025-02-07T07:23:03.216Z"
   },
   {
    "duration": 21,
    "start_time": "2025-02-07T07:23:03.807Z"
   },
   {
    "duration": 341,
    "start_time": "2025-02-07T07:23:03.829Z"
   },
   {
    "duration": 16,
    "start_time": "2025-02-07T07:32:19.805Z"
   },
   {
    "duration": 3999,
    "start_time": "2025-02-07T07:33:35.477Z"
   },
   {
    "duration": 2254,
    "start_time": "2025-02-07T07:33:39.479Z"
   },
   {
    "duration": 22,
    "start_time": "2025-02-07T07:33:41.735Z"
   },
   {
    "duration": 13,
    "start_time": "2025-02-07T07:33:41.759Z"
   },
   {
    "duration": 33,
    "start_time": "2025-02-07T07:33:41.773Z"
   },
   {
    "duration": 111,
    "start_time": "2025-02-07T07:33:41.808Z"
   },
   {
    "duration": 8,
    "start_time": "2025-02-07T07:33:41.921Z"
   },
   {
    "duration": 38,
    "start_time": "2025-02-07T07:33:41.930Z"
   },
   {
    "duration": 11,
    "start_time": "2025-02-07T07:33:41.970Z"
   },
   {
    "duration": 26,
    "start_time": "2025-02-07T07:33:41.984Z"
   },
   {
    "duration": 15,
    "start_time": "2025-02-07T07:33:42.012Z"
   },
   {
    "duration": 27,
    "start_time": "2025-02-07T07:33:42.029Z"
   },
   {
    "duration": 15,
    "start_time": "2025-02-07T07:33:42.058Z"
   },
   {
    "duration": 17,
    "start_time": "2025-02-07T07:33:42.075Z"
   },
   {
    "duration": 9,
    "start_time": "2025-02-07T07:33:42.094Z"
   },
   {
    "duration": 93,
    "start_time": "2025-02-07T07:33:42.105Z"
   },
   {
    "duration": 24,
    "start_time": "2025-02-07T07:33:42.200Z"
   },
   {
    "duration": 7,
    "start_time": "2025-02-07T07:33:42.225Z"
   },
   {
    "duration": 184,
    "start_time": "2025-02-07T07:33:42.233Z"
   },
   {
    "duration": 45,
    "start_time": "2025-02-07T07:33:42.418Z"
   },
   {
    "duration": 224,
    "start_time": "2025-02-07T07:33:42.465Z"
   },
   {
    "duration": 29,
    "start_time": "2025-02-07T07:33:42.691Z"
   },
   {
    "duration": 153,
    "start_time": "2025-02-07T07:33:42.721Z"
   },
   {
    "duration": 103,
    "start_time": "2025-02-07T07:33:42.876Z"
   },
   {
    "duration": 3668,
    "start_time": "2025-02-07T07:33:42.981Z"
   },
   {
    "duration": 7,
    "start_time": "2025-02-07T07:33:46.654Z"
   },
   {
    "duration": 67,
    "start_time": "2025-02-07T07:33:46.663Z"
   },
   {
    "duration": 35,
    "start_time": "2025-02-07T07:33:46.736Z"
   },
   {
    "duration": 262,
    "start_time": "2025-02-07T07:33:46.774Z"
   },
   {
    "duration": 2696,
    "start_time": "2025-02-07T07:33:47.038Z"
   },
   {
    "duration": 176,
    "start_time": "2025-02-07T07:33:49.736Z"
   },
   {
    "duration": 169,
    "start_time": "2025-02-07T07:33:49.913Z"
   },
   {
    "duration": 172,
    "start_time": "2025-02-07T07:33:50.083Z"
   },
   {
    "duration": 110,
    "start_time": "2025-02-07T07:33:50.257Z"
   },
   {
    "duration": 34,
    "start_time": "2025-02-07T07:33:50.368Z"
   },
   {
    "duration": 86,
    "start_time": "2025-02-07T07:33:50.404Z"
   },
   {
    "duration": 25,
    "start_time": "2025-02-07T07:33:50.491Z"
   },
   {
    "duration": 83,
    "start_time": "2025-02-07T07:33:50.518Z"
   },
   {
    "duration": 74,
    "start_time": "2025-02-07T07:33:50.603Z"
   },
   {
    "duration": 18,
    "start_time": "2025-02-07T07:33:50.679Z"
   },
   {
    "duration": 19,
    "start_time": "2025-02-07T07:33:50.699Z"
   },
   {
    "duration": 43,
    "start_time": "2025-02-07T07:33:50.719Z"
   },
   {
    "duration": 293,
    "start_time": "2025-02-07T07:33:50.764Z"
   },
   {
    "duration": 299,
    "start_time": "2025-02-07T07:33:51.058Z"
   },
   {
    "duration": 5,
    "start_time": "2025-02-07T07:33:51.358Z"
   },
   {
    "duration": 106,
    "start_time": "2025-02-07T07:33:51.364Z"
   },
   {
    "duration": 40,
    "start_time": "2025-02-07T07:33:51.471Z"
   },
   {
    "duration": 3,
    "start_time": "2025-02-07T07:33:51.513Z"
   },
   {
    "duration": 33,
    "start_time": "2025-02-07T07:33:51.517Z"
   },
   {
    "duration": 226,
    "start_time": "2025-02-07T07:33:51.551Z"
   },
   {
    "duration": 9,
    "start_time": "2025-02-07T07:33:51.779Z"
   },
   {
    "duration": 71,
    "start_time": "2025-02-07T07:33:51.790Z"
   },
   {
    "duration": 11,
    "start_time": "2025-02-07T07:33:51.862Z"
   },
   {
    "duration": 22,
    "start_time": "2025-02-07T07:33:51.875Z"
   },
   {
    "duration": 26,
    "start_time": "2025-02-07T07:33:51.900Z"
   },
   {
    "duration": 40,
    "start_time": "2025-02-07T07:33:51.928Z"
   },
   {
    "duration": 8,
    "start_time": "2025-02-07T07:33:51.969Z"
   },
   {
    "duration": 201,
    "start_time": "2025-02-07T07:33:51.979Z"
   },
   {
    "duration": 7,
    "start_time": "2025-02-07T07:33:52.181Z"
   },
   {
    "duration": 28,
    "start_time": "2025-02-07T07:33:52.189Z"
   },
   {
    "duration": 43,
    "start_time": "2025-02-07T07:33:52.219Z"
   },
   {
    "duration": 23,
    "start_time": "2025-02-07T07:33:52.264Z"
   },
   {
    "duration": 52,
    "start_time": "2025-02-07T07:33:52.289Z"
   },
   {
    "duration": 488,
    "start_time": "2025-02-07T07:33:52.342Z"
   },
   {
    "duration": 25,
    "start_time": "2025-02-07T07:33:52.832Z"
   },
   {
    "duration": 15,
    "start_time": "2025-02-07T07:33:52.859Z"
   },
   {
    "duration": 10,
    "start_time": "2025-02-07T07:33:52.876Z"
   },
   {
    "duration": 21,
    "start_time": "2025-02-07T07:33:52.887Z"
   },
   {
    "duration": 27,
    "start_time": "2025-02-07T07:33:52.910Z"
   },
   {
    "duration": 16,
    "start_time": "2025-02-07T07:33:52.939Z"
   },
   {
    "duration": 16,
    "start_time": "2025-02-07T07:33:52.958Z"
   },
   {
    "duration": 628,
    "start_time": "2025-02-07T07:33:52.976Z"
   },
   {
    "duration": 22,
    "start_time": "2025-02-07T07:33:53.606Z"
   },
   {
    "duration": 357,
    "start_time": "2025-02-07T07:33:53.631Z"
   },
   {
    "duration": 17,
    "start_time": "2025-02-07T07:34:31.935Z"
   },
   {
    "duration": 16,
    "start_time": "2025-02-07T07:40:07.299Z"
   },
   {
    "duration": 16,
    "start_time": "2025-02-07T07:40:28.324Z"
   },
   {
    "duration": 10,
    "start_time": "2025-02-07T07:42:39.296Z"
   },
   {
    "duration": 13,
    "start_time": "2025-02-07T07:42:48.773Z"
   },
   {
    "duration": 14,
    "start_time": "2025-02-07T07:43:12.908Z"
   },
   {
    "duration": 12,
    "start_time": "2025-02-07T07:46:20.578Z"
   },
   {
    "duration": 14,
    "start_time": "2025-02-07T07:46:32.172Z"
   },
   {
    "duration": 11,
    "start_time": "2025-02-07T07:51:39.297Z"
   },
   {
    "duration": 11,
    "start_time": "2025-02-07T07:51:50.212Z"
   },
   {
    "duration": 4006,
    "start_time": "2025-02-07T07:51:54.055Z"
   },
   {
    "duration": 2229,
    "start_time": "2025-02-07T07:51:58.063Z"
   },
   {
    "duration": 15,
    "start_time": "2025-02-07T07:52:00.294Z"
   },
   {
    "duration": 51,
    "start_time": "2025-02-07T07:52:00.312Z"
   },
   {
    "duration": 70,
    "start_time": "2025-02-07T07:52:00.366Z"
   },
   {
    "duration": 131,
    "start_time": "2025-02-07T07:52:00.437Z"
   },
   {
    "duration": 8,
    "start_time": "2025-02-07T07:52:00.570Z"
   },
   {
    "duration": 66,
    "start_time": "2025-02-07T07:52:00.580Z"
   },
   {
    "duration": 7,
    "start_time": "2025-02-07T07:52:00.648Z"
   },
   {
    "duration": 30,
    "start_time": "2025-02-07T07:52:00.658Z"
   },
   {
    "duration": 19,
    "start_time": "2025-02-07T07:52:00.690Z"
   },
   {
    "duration": 32,
    "start_time": "2025-02-07T07:52:00.711Z"
   },
   {
    "duration": 6,
    "start_time": "2025-02-07T07:52:00.745Z"
   },
   {
    "duration": 11,
    "start_time": "2025-02-07T07:52:00.753Z"
   },
   {
    "duration": 15,
    "start_time": "2025-02-07T07:52:00.766Z"
   },
   {
    "duration": 64,
    "start_time": "2025-02-07T07:52:00.782Z"
   },
   {
    "duration": 42,
    "start_time": "2025-02-07T07:52:00.848Z"
   },
   {
    "duration": 4,
    "start_time": "2025-02-07T07:52:00.892Z"
   },
   {
    "duration": 182,
    "start_time": "2025-02-07T07:52:00.897Z"
   },
   {
    "duration": 42,
    "start_time": "2025-02-07T07:52:01.081Z"
   },
   {
    "duration": 233,
    "start_time": "2025-02-07T07:52:01.125Z"
   },
   {
    "duration": 30,
    "start_time": "2025-02-07T07:52:01.361Z"
   },
   {
    "duration": 141,
    "start_time": "2025-02-07T07:52:01.393Z"
   },
   {
    "duration": 103,
    "start_time": "2025-02-07T07:52:01.536Z"
   },
   {
    "duration": 3751,
    "start_time": "2025-02-07T07:52:01.641Z"
   },
   {
    "duration": 7,
    "start_time": "2025-02-07T07:52:05.394Z"
   },
   {
    "duration": 28,
    "start_time": "2025-02-07T07:52:05.403Z"
   },
   {
    "duration": 22,
    "start_time": "2025-02-07T07:52:05.436Z"
   },
   {
    "duration": 266,
    "start_time": "2025-02-07T07:52:05.460Z"
   },
   {
    "duration": 2639,
    "start_time": "2025-02-07T07:52:05.728Z"
   },
   {
    "duration": 169,
    "start_time": "2025-02-07T07:52:08.369Z"
   },
   {
    "duration": 170,
    "start_time": "2025-02-07T07:52:08.540Z"
   },
   {
    "duration": 170,
    "start_time": "2025-02-07T07:52:08.712Z"
   },
   {
    "duration": 106,
    "start_time": "2025-02-07T07:52:08.883Z"
   },
   {
    "duration": 34,
    "start_time": "2025-02-07T07:52:08.991Z"
   },
   {
    "duration": 85,
    "start_time": "2025-02-07T07:52:09.027Z"
   },
   {
    "duration": 24,
    "start_time": "2025-02-07T07:52:09.114Z"
   },
   {
    "duration": 69,
    "start_time": "2025-02-07T07:52:09.154Z"
   },
   {
    "duration": 74,
    "start_time": "2025-02-07T07:52:09.225Z"
   },
   {
    "duration": 19,
    "start_time": "2025-02-07T07:52:09.301Z"
   },
   {
    "duration": 39,
    "start_time": "2025-02-07T07:52:09.321Z"
   },
   {
    "duration": 18,
    "start_time": "2025-02-07T07:52:09.362Z"
   },
   {
    "duration": 309,
    "start_time": "2025-02-07T07:52:09.381Z"
   },
   {
    "duration": 302,
    "start_time": "2025-02-07T07:52:09.692Z"
   },
   {
    "duration": 4,
    "start_time": "2025-02-07T07:52:09.996Z"
   },
   {
    "duration": 124,
    "start_time": "2025-02-07T07:52:10.002Z"
   },
   {
    "duration": 54,
    "start_time": "2025-02-07T07:52:10.128Z"
   },
   {
    "duration": 3,
    "start_time": "2025-02-07T07:52:10.184Z"
   },
   {
    "duration": 53,
    "start_time": "2025-02-07T07:52:10.189Z"
   },
   {
    "duration": 397,
    "start_time": "2025-02-07T07:52:10.244Z"
   },
   {
    "duration": 126,
    "start_time": "2025-02-07T07:52:10.644Z"
   },
   {
    "duration": 95,
    "start_time": "2025-02-07T07:52:10.772Z"
   },
   {
    "duration": 11,
    "start_time": "2025-02-07T07:52:10.869Z"
   },
   {
    "duration": 16,
    "start_time": "2025-02-07T07:52:10.882Z"
   },
   {
    "duration": 65,
    "start_time": "2025-02-07T07:52:10.900Z"
   },
   {
    "duration": 8,
    "start_time": "2025-02-07T07:52:10.968Z"
   },
   {
    "duration": 203,
    "start_time": "2025-02-07T07:52:10.977Z"
   },
   {
    "duration": 6,
    "start_time": "2025-02-07T07:52:11.182Z"
   },
   {
    "duration": 19,
    "start_time": "2025-02-07T07:52:11.190Z"
   },
   {
    "duration": 68,
    "start_time": "2025-02-07T07:52:11.211Z"
   },
   {
    "duration": 155,
    "start_time": "2025-02-07T07:52:11.282Z"
   },
   {
    "duration": 26,
    "start_time": "2025-02-07T07:52:11.439Z"
   },
   {
    "duration": 578,
    "start_time": "2025-02-07T07:52:11.467Z"
   },
   {
    "duration": 23,
    "start_time": "2025-02-07T07:52:12.048Z"
   },
   {
    "duration": 6,
    "start_time": "2025-02-07T07:52:12.073Z"
   },
   {
    "duration": 6,
    "start_time": "2025-02-07T07:52:12.081Z"
   },
   {
    "duration": 11,
    "start_time": "2025-02-07T07:52:12.088Z"
   },
   {
    "duration": 6,
    "start_time": "2025-02-07T07:52:12.100Z"
   },
   {
    "duration": 16,
    "start_time": "2025-02-07T07:52:12.108Z"
   },
   {
    "duration": 40,
    "start_time": "2025-02-07T07:52:12.126Z"
   },
   {
    "duration": 651,
    "start_time": "2025-02-07T07:52:12.167Z"
   },
   {
    "duration": 20,
    "start_time": "2025-02-07T07:52:12.820Z"
   },
   {
    "duration": 336,
    "start_time": "2025-02-07T07:52:12.841Z"
   },
   {
    "duration": 14,
    "start_time": "2025-02-07T07:52:46.293Z"
   },
   {
    "duration": 3985,
    "start_time": "2025-02-07T07:52:52.454Z"
   },
   {
    "duration": 2203,
    "start_time": "2025-02-07T07:52:56.441Z"
   },
   {
    "duration": 18,
    "start_time": "2025-02-07T07:52:58.646Z"
   },
   {
    "duration": 13,
    "start_time": "2025-02-07T07:52:58.666Z"
   },
   {
    "duration": 28,
    "start_time": "2025-02-07T07:52:58.680Z"
   },
   {
    "duration": 128,
    "start_time": "2025-02-07T07:52:58.710Z"
   },
   {
    "duration": 9,
    "start_time": "2025-02-07T07:52:58.839Z"
   },
   {
    "duration": 35,
    "start_time": "2025-02-07T07:52:58.856Z"
   },
   {
    "duration": 8,
    "start_time": "2025-02-07T07:52:58.893Z"
   },
   {
    "duration": 21,
    "start_time": "2025-02-07T07:52:58.903Z"
   },
   {
    "duration": 10,
    "start_time": "2025-02-07T07:52:58.925Z"
   },
   {
    "duration": 18,
    "start_time": "2025-02-07T07:52:58.956Z"
   },
   {
    "duration": 12,
    "start_time": "2025-02-07T07:52:58.976Z"
   },
   {
    "duration": 12,
    "start_time": "2025-02-07T07:52:58.989Z"
   },
   {
    "duration": 19,
    "start_time": "2025-02-07T07:52:59.003Z"
   },
   {
    "duration": 60,
    "start_time": "2025-02-07T07:52:59.023Z"
   },
   {
    "duration": 23,
    "start_time": "2025-02-07T07:52:59.085Z"
   },
   {
    "duration": 4,
    "start_time": "2025-02-07T07:52:59.110Z"
   },
   {
    "duration": 188,
    "start_time": "2025-02-07T07:52:59.116Z"
   },
   {
    "duration": 50,
    "start_time": "2025-02-07T07:52:59.306Z"
   },
   {
    "duration": 231,
    "start_time": "2025-02-07T07:52:59.358Z"
   },
   {
    "duration": 29,
    "start_time": "2025-02-07T07:52:59.591Z"
   },
   {
    "duration": 151,
    "start_time": "2025-02-07T07:52:59.622Z"
   },
   {
    "duration": 103,
    "start_time": "2025-02-07T07:52:59.775Z"
   },
   {
    "duration": 3714,
    "start_time": "2025-02-07T07:52:59.881Z"
   },
   {
    "duration": 7,
    "start_time": "2025-02-07T07:53:03.597Z"
   },
   {
    "duration": 40,
    "start_time": "2025-02-07T07:53:03.606Z"
   },
   {
    "duration": 11,
    "start_time": "2025-02-07T07:53:03.651Z"
   },
   {
    "duration": 273,
    "start_time": "2025-02-07T07:53:03.664Z"
   },
   {
    "duration": 2602,
    "start_time": "2025-02-07T07:53:03.939Z"
   },
   {
    "duration": 186,
    "start_time": "2025-02-07T07:53:06.543Z"
   },
   {
    "duration": 178,
    "start_time": "2025-02-07T07:53:06.731Z"
   },
   {
    "duration": 170,
    "start_time": "2025-02-07T07:53:06.911Z"
   },
   {
    "duration": 100,
    "start_time": "2025-02-07T07:53:07.083Z"
   },
   {
    "duration": 32,
    "start_time": "2025-02-07T07:53:07.185Z"
   },
   {
    "duration": 143,
    "start_time": "2025-02-07T07:53:07.219Z"
   },
   {
    "duration": 25,
    "start_time": "2025-02-07T07:53:07.363Z"
   },
   {
    "duration": 87,
    "start_time": "2025-02-07T07:53:07.390Z"
   },
   {
    "duration": 91,
    "start_time": "2025-02-07T07:53:07.480Z"
   },
   {
    "duration": 19,
    "start_time": "2025-02-07T07:53:07.573Z"
   },
   {
    "duration": 20,
    "start_time": "2025-02-07T07:53:07.594Z"
   },
   {
    "duration": 35,
    "start_time": "2025-02-07T07:53:07.616Z"
   },
   {
    "duration": 294,
    "start_time": "2025-02-07T07:53:07.655Z"
   },
   {
    "duration": 288,
    "start_time": "2025-02-07T07:53:07.954Z"
   },
   {
    "duration": 14,
    "start_time": "2025-02-07T07:53:08.244Z"
   },
   {
    "duration": 171,
    "start_time": "2025-02-07T07:53:08.259Z"
   },
   {
    "duration": 56,
    "start_time": "2025-02-07T07:53:08.431Z"
   },
   {
    "duration": 3,
    "start_time": "2025-02-07T07:53:08.489Z"
   },
   {
    "duration": 21,
    "start_time": "2025-02-07T07:53:08.493Z"
   },
   {
    "duration": 276,
    "start_time": "2025-02-07T07:53:08.515Z"
   },
   {
    "duration": 10,
    "start_time": "2025-02-07T07:53:08.793Z"
   },
   {
    "duration": 75,
    "start_time": "2025-02-07T07:53:08.805Z"
   },
   {
    "duration": 11,
    "start_time": "2025-02-07T07:53:08.882Z"
   },
   {
    "duration": 16,
    "start_time": "2025-02-07T07:53:08.895Z"
   },
   {
    "duration": 62,
    "start_time": "2025-02-07T07:53:08.913Z"
   },
   {
    "duration": 9,
    "start_time": "2025-02-07T07:53:08.978Z"
   },
   {
    "duration": 212,
    "start_time": "2025-02-07T07:53:08.989Z"
   },
   {
    "duration": 6,
    "start_time": "2025-02-07T07:53:09.203Z"
   },
   {
    "duration": 10,
    "start_time": "2025-02-07T07:53:09.211Z"
   },
   {
    "duration": 10,
    "start_time": "2025-02-07T07:53:09.223Z"
   },
   {
    "duration": 9,
    "start_time": "2025-02-07T07:53:09.256Z"
   },
   {
    "duration": 11,
    "start_time": "2025-02-07T07:53:09.267Z"
   },
   {
    "duration": 490,
    "start_time": "2025-02-07T07:53:09.280Z"
   },
   {
    "duration": 20,
    "start_time": "2025-02-07T07:53:09.772Z"
   },
   {
    "duration": 16,
    "start_time": "2025-02-07T07:53:09.794Z"
   },
   {
    "duration": 20,
    "start_time": "2025-02-07T07:53:09.812Z"
   },
   {
    "duration": 24,
    "start_time": "2025-02-07T07:53:09.834Z"
   },
   {
    "duration": 8,
    "start_time": "2025-02-07T07:53:09.860Z"
   },
   {
    "duration": 16,
    "start_time": "2025-02-07T07:53:09.870Z"
   },
   {
    "duration": 22,
    "start_time": "2025-02-07T07:53:09.888Z"
   },
   {
    "duration": 600,
    "start_time": "2025-02-07T07:53:09.913Z"
   },
   {
    "duration": 21,
    "start_time": "2025-02-07T07:53:10.515Z"
   },
   {
    "duration": 347,
    "start_time": "2025-02-07T07:53:10.538Z"
   },
   {
    "duration": 11,
    "start_time": "2025-02-07T07:55:11.860Z"
   },
   {
    "duration": 10,
    "start_time": "2025-02-07T07:55:24.809Z"
   },
   {
    "duration": 4023,
    "start_time": "2025-02-07T07:56:20.338Z"
   },
   {
    "duration": 2191,
    "start_time": "2025-02-07T07:56:24.364Z"
   },
   {
    "duration": 15,
    "start_time": "2025-02-07T07:56:26.556Z"
   },
   {
    "duration": 13,
    "start_time": "2025-02-07T07:56:26.573Z"
   },
   {
    "duration": 28,
    "start_time": "2025-02-07T07:56:26.588Z"
   },
   {
    "duration": 126,
    "start_time": "2025-02-07T07:56:26.617Z"
   },
   {
    "duration": 17,
    "start_time": "2025-02-07T07:56:26.745Z"
   },
   {
    "duration": 53,
    "start_time": "2025-02-07T07:56:26.764Z"
   },
   {
    "duration": 10,
    "start_time": "2025-02-07T07:56:26.819Z"
   },
   {
    "duration": 26,
    "start_time": "2025-02-07T07:56:26.832Z"
   },
   {
    "duration": 20,
    "start_time": "2025-02-07T07:56:26.860Z"
   },
   {
    "duration": 15,
    "start_time": "2025-02-07T07:56:26.881Z"
   },
   {
    "duration": 8,
    "start_time": "2025-02-07T07:56:26.897Z"
   },
   {
    "duration": 10,
    "start_time": "2025-02-07T07:56:26.906Z"
   },
   {
    "duration": 9,
    "start_time": "2025-02-07T07:56:26.918Z"
   },
   {
    "duration": 43,
    "start_time": "2025-02-07T07:56:26.956Z"
   },
   {
    "duration": 62,
    "start_time": "2025-02-07T07:56:27.001Z"
   },
   {
    "duration": 6,
    "start_time": "2025-02-07T07:56:27.065Z"
   },
   {
    "duration": 200,
    "start_time": "2025-02-07T07:56:27.073Z"
   },
   {
    "duration": 46,
    "start_time": "2025-02-07T07:56:27.275Z"
   },
   {
    "duration": 274,
    "start_time": "2025-02-07T07:56:27.323Z"
   },
   {
    "duration": 31,
    "start_time": "2025-02-07T07:56:27.599Z"
   },
   {
    "duration": 141,
    "start_time": "2025-02-07T07:56:27.632Z"
   },
   {
    "duration": 106,
    "start_time": "2025-02-07T07:56:27.775Z"
   },
   {
    "duration": 3780,
    "start_time": "2025-02-07T07:56:27.882Z"
   },
   {
    "duration": 6,
    "start_time": "2025-02-07T07:56:31.664Z"
   },
   {
    "duration": 54,
    "start_time": "2025-02-07T07:56:31.672Z"
   },
   {
    "duration": 7,
    "start_time": "2025-02-07T07:56:31.731Z"
   },
   {
    "duration": 243,
    "start_time": "2025-02-07T07:56:31.740Z"
   },
   {
    "duration": 2671,
    "start_time": "2025-02-07T07:56:31.985Z"
   },
   {
    "duration": 204,
    "start_time": "2025-02-07T07:56:34.659Z"
   },
   {
    "duration": 174,
    "start_time": "2025-02-07T07:56:34.865Z"
   },
   {
    "duration": 180,
    "start_time": "2025-02-07T07:56:35.041Z"
   },
   {
    "duration": 106,
    "start_time": "2025-02-07T07:56:35.223Z"
   },
   {
    "duration": 41,
    "start_time": "2025-02-07T07:56:35.331Z"
   },
   {
    "duration": 101,
    "start_time": "2025-02-07T07:56:35.373Z"
   },
   {
    "duration": 24,
    "start_time": "2025-02-07T07:56:35.476Z"
   },
   {
    "duration": 110,
    "start_time": "2025-02-07T07:56:35.502Z"
   },
   {
    "duration": 72,
    "start_time": "2025-02-07T07:56:35.614Z"
   },
   {
    "duration": 19,
    "start_time": "2025-02-07T07:56:35.688Z"
   },
   {
    "duration": 23,
    "start_time": "2025-02-07T07:56:35.708Z"
   },
   {
    "duration": 34,
    "start_time": "2025-02-07T07:56:35.733Z"
   },
   {
    "duration": 324,
    "start_time": "2025-02-07T07:56:35.769Z"
   },
   {
    "duration": 317,
    "start_time": "2025-02-07T07:56:36.095Z"
   },
   {
    "duration": 5,
    "start_time": "2025-02-07T07:56:36.413Z"
   },
   {
    "duration": 176,
    "start_time": "2025-02-07T07:56:36.420Z"
   },
   {
    "duration": 44,
    "start_time": "2025-02-07T07:56:36.598Z"
   },
   {
    "duration": 3,
    "start_time": "2025-02-07T07:56:36.656Z"
   },
   {
    "duration": 22,
    "start_time": "2025-02-07T07:56:36.661Z"
   },
   {
    "duration": 244,
    "start_time": "2025-02-07T07:56:36.685Z"
   },
   {
    "duration": 10,
    "start_time": "2025-02-07T07:56:36.931Z"
   },
   {
    "duration": 68,
    "start_time": "2025-02-07T07:56:36.943Z"
   },
   {
    "duration": 11,
    "start_time": "2025-02-07T07:56:37.013Z"
   },
   {
    "duration": 34,
    "start_time": "2025-02-07T07:56:37.025Z"
   },
   {
    "duration": 15,
    "start_time": "2025-02-07T07:56:37.061Z"
   },
   {
    "duration": 59,
    "start_time": "2025-02-07T07:56:37.077Z"
   },
   {
    "duration": 9,
    "start_time": "2025-02-07T07:56:37.138Z"
   },
   {
    "duration": 236,
    "start_time": "2025-02-07T07:56:37.148Z"
   },
   {
    "duration": 7,
    "start_time": "2025-02-07T07:56:37.386Z"
   },
   {
    "duration": 12,
    "start_time": "2025-02-07T07:56:37.395Z"
   },
   {
    "duration": 26,
    "start_time": "2025-02-07T07:56:37.409Z"
   },
   {
    "duration": 21,
    "start_time": "2025-02-07T07:56:37.436Z"
   },
   {
    "duration": 23,
    "start_time": "2025-02-07T07:56:37.460Z"
   },
   {
    "duration": 501,
    "start_time": "2025-02-07T07:56:37.486Z"
   },
   {
    "duration": 18,
    "start_time": "2025-02-07T07:56:37.989Z"
   },
   {
    "duration": 7,
    "start_time": "2025-02-07T07:56:38.009Z"
   },
   {
    "duration": 15,
    "start_time": "2025-02-07T07:56:38.018Z"
   },
   {
    "duration": 28,
    "start_time": "2025-02-07T07:56:38.035Z"
   },
   {
    "duration": 28,
    "start_time": "2025-02-07T07:56:38.067Z"
   },
   {
    "duration": 19,
    "start_time": "2025-02-07T07:56:38.096Z"
   },
   {
    "duration": 15,
    "start_time": "2025-02-07T07:56:38.117Z"
   },
   {
    "duration": 592,
    "start_time": "2025-02-07T07:56:38.133Z"
   },
   {
    "duration": 34,
    "start_time": "2025-02-07T07:56:38.727Z"
   },
   {
    "duration": 336,
    "start_time": "2025-02-07T07:56:38.762Z"
   },
   {
    "duration": 4133,
    "start_time": "2025-02-07T08:01:13.270Z"
   },
   {
    "duration": 2225,
    "start_time": "2025-02-07T08:01:17.406Z"
   },
   {
    "duration": 24,
    "start_time": "2025-02-07T08:01:19.634Z"
   },
   {
    "duration": 18,
    "start_time": "2025-02-07T08:01:19.661Z"
   },
   {
    "duration": 39,
    "start_time": "2025-02-07T08:01:19.681Z"
   },
   {
    "duration": 119,
    "start_time": "2025-02-07T08:01:19.722Z"
   },
   {
    "duration": 14,
    "start_time": "2025-02-07T08:01:19.844Z"
   },
   {
    "duration": 30,
    "start_time": "2025-02-07T08:01:19.860Z"
   },
   {
    "duration": 13,
    "start_time": "2025-02-07T08:01:19.892Z"
   },
   {
    "duration": 21,
    "start_time": "2025-02-07T08:01:19.908Z"
   },
   {
    "duration": 31,
    "start_time": "2025-02-07T08:01:19.931Z"
   },
   {
    "duration": 20,
    "start_time": "2025-02-07T08:01:19.964Z"
   },
   {
    "duration": 30,
    "start_time": "2025-02-07T08:01:19.986Z"
   },
   {
    "duration": 43,
    "start_time": "2025-02-07T08:01:20.018Z"
   },
   {
    "duration": 32,
    "start_time": "2025-02-07T08:01:20.063Z"
   },
   {
    "duration": 58,
    "start_time": "2025-02-07T08:01:20.097Z"
   },
   {
    "duration": 45,
    "start_time": "2025-02-07T08:01:20.157Z"
   },
   {
    "duration": 4,
    "start_time": "2025-02-07T08:01:20.205Z"
   },
   {
    "duration": 214,
    "start_time": "2025-02-07T08:01:20.211Z"
   },
   {
    "duration": 56,
    "start_time": "2025-02-07T08:01:20.427Z"
   },
   {
    "duration": 242,
    "start_time": "2025-02-07T08:01:20.485Z"
   },
   {
    "duration": 43,
    "start_time": "2025-02-07T08:01:20.728Z"
   },
   {
    "duration": 151,
    "start_time": "2025-02-07T08:01:20.773Z"
   },
   {
    "duration": 110,
    "start_time": "2025-02-07T08:01:20.926Z"
   },
   {
    "duration": 4156,
    "start_time": "2025-02-07T08:01:21.038Z"
   },
   {
    "duration": 7,
    "start_time": "2025-02-07T08:01:25.195Z"
   },
   {
    "duration": 20,
    "start_time": "2025-02-07T08:01:25.203Z"
   },
   {
    "duration": 18,
    "start_time": "2025-02-07T08:01:25.227Z"
   },
   {
    "duration": 258,
    "start_time": "2025-02-07T08:01:25.256Z"
   },
   {
    "duration": 2796,
    "start_time": "2025-02-07T08:01:25.515Z"
   },
   {
    "duration": 190,
    "start_time": "2025-02-07T08:01:28.314Z"
   },
   {
    "duration": 180,
    "start_time": "2025-02-07T08:01:28.507Z"
   },
   {
    "duration": 171,
    "start_time": "2025-02-07T08:01:28.689Z"
   },
   {
    "duration": 111,
    "start_time": "2025-02-07T08:01:28.862Z"
   },
   {
    "duration": 35,
    "start_time": "2025-02-07T08:01:28.975Z"
   },
   {
    "duration": 91,
    "start_time": "2025-02-07T08:01:29.012Z"
   },
   {
    "duration": 25,
    "start_time": "2025-02-07T08:01:29.105Z"
   },
   {
    "duration": 83,
    "start_time": "2025-02-07T08:01:29.132Z"
   },
   {
    "duration": 74,
    "start_time": "2025-02-07T08:01:29.217Z"
   },
   {
    "duration": 19,
    "start_time": "2025-02-07T08:01:29.293Z"
   },
   {
    "duration": 21,
    "start_time": "2025-02-07T08:01:29.314Z"
   },
   {
    "duration": 18,
    "start_time": "2025-02-07T08:01:29.356Z"
   },
   {
    "duration": 333,
    "start_time": "2025-02-07T08:01:29.375Z"
   },
   {
    "duration": 345,
    "start_time": "2025-02-07T08:01:29.710Z"
   },
   {
    "duration": 6,
    "start_time": "2025-02-07T08:01:30.056Z"
   },
   {
    "duration": 164,
    "start_time": "2025-02-07T08:01:30.064Z"
   },
   {
    "duration": 59,
    "start_time": "2025-02-07T08:01:30.231Z"
   },
   {
    "duration": 3,
    "start_time": "2025-02-07T08:01:30.293Z"
   },
   {
    "duration": 62,
    "start_time": "2025-02-07T08:01:30.299Z"
   },
   {
    "duration": 268,
    "start_time": "2025-02-07T08:01:30.364Z"
   },
   {
    "duration": 10,
    "start_time": "2025-02-07T08:01:30.635Z"
   },
   {
    "duration": 91,
    "start_time": "2025-02-07T08:01:30.656Z"
   },
   {
    "duration": 12,
    "start_time": "2025-02-07T08:01:30.749Z"
   },
   {
    "duration": 12,
    "start_time": "2025-02-07T08:01:30.763Z"
   },
   {
    "duration": 26,
    "start_time": "2025-02-07T08:01:30.776Z"
   },
   {
    "duration": 55,
    "start_time": "2025-02-07T08:01:30.804Z"
   },
   {
    "duration": 9,
    "start_time": "2025-02-07T08:01:30.861Z"
   },
   {
    "duration": 244,
    "start_time": "2025-02-07T08:01:30.872Z"
   },
   {
    "duration": 6,
    "start_time": "2025-02-07T08:01:31.118Z"
   },
   {
    "duration": 11,
    "start_time": "2025-02-07T08:01:31.126Z"
   },
   {
    "duration": 21,
    "start_time": "2025-02-07T08:01:31.139Z"
   },
   {
    "duration": 42,
    "start_time": "2025-02-07T08:01:31.162Z"
   },
   {
    "duration": 28,
    "start_time": "2025-02-07T08:01:31.205Z"
   },
   {
    "duration": 485,
    "start_time": "2025-02-07T08:01:31.235Z"
   },
   {
    "duration": 33,
    "start_time": "2025-02-07T08:01:31.722Z"
   },
   {
    "duration": 7,
    "start_time": "2025-02-07T08:01:31.757Z"
   },
   {
    "duration": 57,
    "start_time": "2025-02-07T08:01:31.766Z"
   },
   {
    "duration": 20,
    "start_time": "2025-02-07T08:01:31.825Z"
   },
   {
    "duration": 12,
    "start_time": "2025-02-07T08:01:31.847Z"
   },
   {
    "duration": 46,
    "start_time": "2025-02-07T08:01:31.861Z"
   },
   {
    "duration": 22,
    "start_time": "2025-02-07T08:01:31.909Z"
   },
   {
    "duration": 606,
    "start_time": "2025-02-07T08:01:31.933Z"
   },
   {
    "duration": 27,
    "start_time": "2025-02-07T08:01:32.541Z"
   },
   {
    "duration": 354,
    "start_time": "2025-02-07T08:01:32.570Z"
   },
   {
    "duration": 8,
    "start_time": "2025-02-07T08:24:40.452Z"
   },
   {
    "duration": 9,
    "start_time": "2025-02-07T08:42:14.661Z"
   },
   {
    "duration": 11,
    "start_time": "2025-02-07T08:42:34.144Z"
   },
   {
    "duration": 9,
    "start_time": "2025-02-07T08:42:41.671Z"
   },
   {
    "duration": 8,
    "start_time": "2025-02-07T08:42:47.684Z"
   },
   {
    "duration": 117,
    "start_time": "2025-02-07T08:46:52.531Z"
   },
   {
    "duration": 8,
    "start_time": "2025-02-07T08:47:07.032Z"
   },
   {
    "duration": 9,
    "start_time": "2025-02-07T08:47:22.309Z"
   },
   {
    "duration": 14,
    "start_time": "2025-02-07T08:47:40.073Z"
   },
   {
    "duration": 4283,
    "start_time": "2025-02-07T08:47:55.427Z"
   },
   {
    "duration": 2163,
    "start_time": "2025-02-07T08:47:59.712Z"
   },
   {
    "duration": 16,
    "start_time": "2025-02-07T08:48:01.877Z"
   },
   {
    "duration": 30,
    "start_time": "2025-02-07T08:48:01.895Z"
   },
   {
    "duration": 53,
    "start_time": "2025-02-07T08:48:01.927Z"
   },
   {
    "duration": 112,
    "start_time": "2025-02-07T08:48:01.982Z"
   },
   {
    "duration": 9,
    "start_time": "2025-02-07T08:48:02.096Z"
   },
   {
    "duration": 32,
    "start_time": "2025-02-07T08:48:02.106Z"
   },
   {
    "duration": 17,
    "start_time": "2025-02-07T08:48:02.140Z"
   },
   {
    "duration": 38,
    "start_time": "2025-02-07T08:48:02.159Z"
   },
   {
    "duration": 28,
    "start_time": "2025-02-07T08:48:02.199Z"
   },
   {
    "duration": 33,
    "start_time": "2025-02-07T08:48:02.229Z"
   },
   {
    "duration": 31,
    "start_time": "2025-02-07T08:48:02.264Z"
   },
   {
    "duration": 41,
    "start_time": "2025-02-07T08:48:02.297Z"
   },
   {
    "duration": 43,
    "start_time": "2025-02-07T08:48:02.340Z"
   },
   {
    "duration": 75,
    "start_time": "2025-02-07T08:48:02.385Z"
   },
   {
    "duration": 47,
    "start_time": "2025-02-07T08:48:02.461Z"
   },
   {
    "duration": 4,
    "start_time": "2025-02-07T08:48:02.510Z"
   },
   {
    "duration": 202,
    "start_time": "2025-02-07T08:48:02.516Z"
   },
   {
    "duration": 54,
    "start_time": "2025-02-07T08:48:02.720Z"
   },
   {
    "duration": 277,
    "start_time": "2025-02-07T08:48:02.775Z"
   },
   {
    "duration": 31,
    "start_time": "2025-02-07T08:48:03.055Z"
   },
   {
    "duration": 147,
    "start_time": "2025-02-07T08:48:03.088Z"
   },
   {
    "duration": 109,
    "start_time": "2025-02-07T08:48:03.237Z"
   },
   {
    "duration": 3764,
    "start_time": "2025-02-07T08:48:03.348Z"
   },
   {
    "duration": 5,
    "start_time": "2025-02-07T08:48:07.114Z"
   },
   {
    "duration": 19,
    "start_time": "2025-02-07T08:48:07.121Z"
   },
   {
    "duration": 8,
    "start_time": "2025-02-07T08:48:07.157Z"
   },
   {
    "duration": 262,
    "start_time": "2025-02-07T08:48:07.166Z"
   },
   {
    "duration": 2690,
    "start_time": "2025-02-07T08:48:07.430Z"
   },
   {
    "duration": 178,
    "start_time": "2025-02-07T08:48:10.122Z"
   },
   {
    "duration": 174,
    "start_time": "2025-02-07T08:48:10.301Z"
   },
   {
    "duration": 166,
    "start_time": "2025-02-07T08:48:10.477Z"
   },
   {
    "duration": 110,
    "start_time": "2025-02-07T08:48:10.645Z"
   },
   {
    "duration": 36,
    "start_time": "2025-02-07T08:48:10.757Z"
   },
   {
    "duration": 108,
    "start_time": "2025-02-07T08:48:10.795Z"
   },
   {
    "duration": 24,
    "start_time": "2025-02-07T08:48:10.905Z"
   },
   {
    "duration": 78,
    "start_time": "2025-02-07T08:48:10.930Z"
   },
   {
    "duration": 75,
    "start_time": "2025-02-07T08:48:11.010Z"
   },
   {
    "duration": 18,
    "start_time": "2025-02-07T08:48:11.087Z"
   },
   {
    "duration": 41,
    "start_time": "2025-02-07T08:48:11.106Z"
   },
   {
    "duration": 33,
    "start_time": "2025-02-07T08:48:11.148Z"
   },
   {
    "duration": 313,
    "start_time": "2025-02-07T08:48:11.183Z"
   },
   {
    "duration": 311,
    "start_time": "2025-02-07T08:48:11.497Z"
   },
   {
    "duration": 4,
    "start_time": "2025-02-07T08:48:11.809Z"
   },
   {
    "duration": 115,
    "start_time": "2025-02-07T08:48:11.815Z"
   },
   {
    "duration": 51,
    "start_time": "2025-02-07T08:48:11.931Z"
   },
   {
    "duration": 3,
    "start_time": "2025-02-07T08:48:11.983Z"
   },
   {
    "duration": 24,
    "start_time": "2025-02-07T08:48:11.988Z"
   },
   {
    "duration": 216,
    "start_time": "2025-02-07T08:48:12.014Z"
   },
   {
    "duration": 9,
    "start_time": "2025-02-07T08:48:12.232Z"
   },
   {
    "duration": 68,
    "start_time": "2025-02-07T08:48:12.243Z"
   },
   {
    "duration": 10,
    "start_time": "2025-02-07T08:48:12.313Z"
   },
   {
    "duration": 31,
    "start_time": "2025-02-07T08:48:12.325Z"
   },
   {
    "duration": 15,
    "start_time": "2025-02-07T08:48:12.358Z"
   },
   {
    "duration": 39,
    "start_time": "2025-02-07T08:48:12.377Z"
   },
   {
    "duration": 37,
    "start_time": "2025-02-07T08:48:12.419Z"
   },
   {
    "duration": 196,
    "start_time": "2025-02-07T08:48:12.459Z"
   },
   {
    "duration": 8,
    "start_time": "2025-02-07T08:48:12.657Z"
   },
   {
    "duration": 11,
    "start_time": "2025-02-07T08:48:12.667Z"
   },
   {
    "duration": 12,
    "start_time": "2025-02-07T08:48:12.680Z"
   },
   {
    "duration": 11,
    "start_time": "2025-02-07T08:48:12.694Z"
   },
   {
    "duration": 148,
    "start_time": "2025-02-07T08:48:12.707Z"
   },
   {
    "duration": 0,
    "start_time": "2025-02-07T08:48:12.857Z"
   },
   {
    "duration": 0,
    "start_time": "2025-02-07T08:48:12.858Z"
   },
   {
    "duration": 0,
    "start_time": "2025-02-07T08:48:12.859Z"
   },
   {
    "duration": 0,
    "start_time": "2025-02-07T08:48:12.860Z"
   },
   {
    "duration": 0,
    "start_time": "2025-02-07T08:48:12.861Z"
   },
   {
    "duration": 0,
    "start_time": "2025-02-07T08:48:12.862Z"
   },
   {
    "duration": 0,
    "start_time": "2025-02-07T08:48:12.864Z"
   },
   {
    "duration": 0,
    "start_time": "2025-02-07T08:48:12.865Z"
   },
   {
    "duration": 0,
    "start_time": "2025-02-07T08:48:12.866Z"
   },
   {
    "duration": 0,
    "start_time": "2025-02-07T08:48:12.867Z"
   },
   {
    "duration": 0,
    "start_time": "2025-02-07T08:48:12.868Z"
   },
   {
    "duration": 0,
    "start_time": "2025-02-07T08:48:12.870Z"
   },
   {
    "duration": 13,
    "start_time": "2025-02-07T08:48:24.796Z"
   },
   {
    "duration": 8,
    "start_time": "2025-02-07T08:50:18.192Z"
   },
   {
    "duration": 12,
    "start_time": "2025-02-07T08:50:43.313Z"
   },
   {
    "duration": 13,
    "start_time": "2025-02-07T08:51:08.605Z"
   },
   {
    "duration": 12,
    "start_time": "2025-02-07T08:51:31.286Z"
   },
   {
    "duration": 4314,
    "start_time": "2025-02-07T08:53:02.711Z"
   },
   {
    "duration": 2213,
    "start_time": "2025-02-07T08:53:07.027Z"
   },
   {
    "duration": 18,
    "start_time": "2025-02-07T08:53:09.242Z"
   },
   {
    "duration": 14,
    "start_time": "2025-02-07T08:53:09.262Z"
   },
   {
    "duration": 39,
    "start_time": "2025-02-07T08:53:09.277Z"
   },
   {
    "duration": 117,
    "start_time": "2025-02-07T08:53:09.318Z"
   },
   {
    "duration": 19,
    "start_time": "2025-02-07T08:53:09.437Z"
   },
   {
    "duration": 54,
    "start_time": "2025-02-07T08:53:09.458Z"
   },
   {
    "duration": 16,
    "start_time": "2025-02-07T08:53:09.514Z"
   },
   {
    "duration": 50,
    "start_time": "2025-02-07T08:53:09.533Z"
   },
   {
    "duration": 11,
    "start_time": "2025-02-07T08:53:09.585Z"
   },
   {
    "duration": 15,
    "start_time": "2025-02-07T08:53:09.598Z"
   },
   {
    "duration": 8,
    "start_time": "2025-02-07T08:53:09.615Z"
   },
   {
    "duration": 30,
    "start_time": "2025-02-07T08:53:09.625Z"
   },
   {
    "duration": 11,
    "start_time": "2025-02-07T08:53:09.657Z"
   },
   {
    "duration": 51,
    "start_time": "2025-02-07T08:53:09.669Z"
   },
   {
    "duration": 61,
    "start_time": "2025-02-07T08:53:09.722Z"
   },
   {
    "duration": 5,
    "start_time": "2025-02-07T08:53:09.784Z"
   },
   {
    "duration": 191,
    "start_time": "2025-02-07T08:53:09.791Z"
   },
   {
    "duration": 45,
    "start_time": "2025-02-07T08:53:09.983Z"
   },
   {
    "duration": 245,
    "start_time": "2025-02-07T08:53:10.030Z"
   },
   {
    "duration": 28,
    "start_time": "2025-02-07T08:53:10.277Z"
   },
   {
    "duration": 150,
    "start_time": "2025-02-07T08:53:10.307Z"
   },
   {
    "duration": 111,
    "start_time": "2025-02-07T08:53:10.459Z"
   },
   {
    "duration": 3724,
    "start_time": "2025-02-07T08:53:10.571Z"
   },
   {
    "duration": 6,
    "start_time": "2025-02-07T08:53:14.296Z"
   },
   {
    "duration": 15,
    "start_time": "2025-02-07T08:53:14.304Z"
   },
   {
    "duration": 7,
    "start_time": "2025-02-07T08:53:14.323Z"
   },
   {
    "duration": 275,
    "start_time": "2025-02-07T08:53:14.331Z"
   },
   {
    "duration": 2709,
    "start_time": "2025-02-07T08:53:14.607Z"
   },
   {
    "duration": 218,
    "start_time": "2025-02-07T08:53:17.319Z"
   },
   {
    "duration": 172,
    "start_time": "2025-02-07T08:53:17.539Z"
   },
   {
    "duration": 183,
    "start_time": "2025-02-07T08:53:17.713Z"
   },
   {
    "duration": 110,
    "start_time": "2025-02-07T08:53:17.898Z"
   },
   {
    "duration": 45,
    "start_time": "2025-02-07T08:53:18.010Z"
   },
   {
    "duration": 74,
    "start_time": "2025-02-07T08:53:18.057Z"
   },
   {
    "duration": 36,
    "start_time": "2025-02-07T08:53:18.133Z"
   },
   {
    "duration": 66,
    "start_time": "2025-02-07T08:53:18.171Z"
   },
   {
    "duration": 78,
    "start_time": "2025-02-07T08:53:18.239Z"
   },
   {
    "duration": 19,
    "start_time": "2025-02-07T08:53:18.319Z"
   },
   {
    "duration": 21,
    "start_time": "2025-02-07T08:53:18.356Z"
   },
   {
    "duration": 25,
    "start_time": "2025-02-07T08:53:18.379Z"
   },
   {
    "duration": 319,
    "start_time": "2025-02-07T08:53:18.406Z"
   },
   {
    "duration": 317,
    "start_time": "2025-02-07T08:53:18.728Z"
   },
   {
    "duration": 9,
    "start_time": "2025-02-07T08:53:19.047Z"
   },
   {
    "duration": 108,
    "start_time": "2025-02-07T08:53:19.058Z"
   },
   {
    "duration": 43,
    "start_time": "2025-02-07T08:53:19.168Z"
   },
   {
    "duration": 3,
    "start_time": "2025-02-07T08:53:19.213Z"
   },
   {
    "duration": 23,
    "start_time": "2025-02-07T08:53:19.218Z"
   },
   {
    "duration": 228,
    "start_time": "2025-02-07T08:53:19.254Z"
   },
   {
    "duration": 9,
    "start_time": "2025-02-07T08:53:19.484Z"
   },
   {
    "duration": 77,
    "start_time": "2025-02-07T08:53:19.495Z"
   },
   {
    "duration": 11,
    "start_time": "2025-02-07T08:53:19.574Z"
   },
   {
    "duration": 13,
    "start_time": "2025-02-07T08:53:19.587Z"
   },
   {
    "duration": 14,
    "start_time": "2025-02-07T08:53:19.602Z"
   },
   {
    "duration": 57,
    "start_time": "2025-02-07T08:53:19.618Z"
   },
   {
    "duration": 7,
    "start_time": "2025-02-07T08:53:19.677Z"
   },
   {
    "duration": 209,
    "start_time": "2025-02-07T08:53:19.686Z"
   },
   {
    "duration": 7,
    "start_time": "2025-02-07T08:53:19.896Z"
   },
   {
    "duration": 14,
    "start_time": "2025-02-07T08:53:19.904Z"
   },
   {
    "duration": 13,
    "start_time": "2025-02-07T08:53:19.919Z"
   },
   {
    "duration": 22,
    "start_time": "2025-02-07T08:53:19.934Z"
   },
   {
    "duration": 10,
    "start_time": "2025-02-07T08:53:19.958Z"
   },
   {
    "duration": 489,
    "start_time": "2025-02-07T08:53:19.970Z"
   },
   {
    "duration": 18,
    "start_time": "2025-02-07T08:53:20.461Z"
   },
   {
    "duration": 15,
    "start_time": "2025-02-07T08:53:20.481Z"
   },
   {
    "duration": 19,
    "start_time": "2025-02-07T08:53:20.497Z"
   },
   {
    "duration": 26,
    "start_time": "2025-02-07T08:53:20.518Z"
   },
   {
    "duration": 22,
    "start_time": "2025-02-07T08:53:20.545Z"
   },
   {
    "duration": 31,
    "start_time": "2025-02-07T08:53:20.569Z"
   },
   {
    "duration": 31,
    "start_time": "2025-02-07T08:53:20.601Z"
   },
   {
    "duration": 595,
    "start_time": "2025-02-07T08:53:20.634Z"
   },
   {
    "duration": 30,
    "start_time": "2025-02-07T08:53:21.231Z"
   },
   {
    "duration": 342,
    "start_time": "2025-02-07T08:53:21.262Z"
   }
  ],
  "colab": {
   "provenance": []
  },
  "kernelspec": {
   "display_name": "Python 3 (ipykernel)",
   "language": "python",
   "name": "python3"
  },
  "language_info": {
   "codemirror_mode": {
    "name": "ipython",
    "version": 3
   },
   "file_extension": ".py",
   "mimetype": "text/x-python",
   "name": "python",
   "nbconvert_exporter": "python",
   "pygments_lexer": "ipython3",
   "version": "3.12.7"
  },
  "toc": {
   "base_numbering": 1,
   "nav_menu": {},
   "number_sections": true,
   "sideBar": true,
   "skip_h1_title": true,
   "title_cell": "Table of Contents",
   "title_sidebar": "Contents",
   "toc_cell": false,
   "toc_position": {},
   "toc_section_display": true,
   "toc_window_display": false
  }
 },
 "nbformat": 4,
 "nbformat_minor": 4
}
