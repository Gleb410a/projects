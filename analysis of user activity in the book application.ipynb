{
 "cells": [
  {
   "cell_type": "markdown",
   "id": "_E41Wr5fqnFT",
   "metadata": {
    "id": "_E41Wr5fqnFT"
   },
   "source": [
    "# Часть 1. Проверка гипотезы в Python и составление аналитической записки"
   ]
  },
  {
   "cell_type": "markdown",
   "id": "Z5_6nf-FrY7o",
   "metadata": {
    "id": "Z5_6nf-FrY7o"
   },
   "source": [
    "Предобработал данные в SQL, и теперь они готовы для проверки гипотезы в Python.\n",
    "\n",
    "Гипотеза: пользователи из Москвы проводят в среднем больше времени за чтением и прослушиванием книг в приложении, чем пользователи из Москвы. Попробуйте статистически это доказать, используя одностороннюю проверку гипотезы с двумя выборками:\n",
    "\n",
    "Нулевая гипотеза $H_0: \\mu_{\\text{СПб}} \\leq \\mu_{\\text{Москва}}$ <br> Среднее время активности пользователей в Санкт-Петербурге не больше, чем в Москве.\n",
    "\n",
    "Альтернативная гипотеза $H_1: \\mu_{\\text{СПб}} > \\mu_{\\text{Москва}}$ <br> Среднее время активности пользователей в Санкт-Петербурге больше, и это различие статистически значимо.\n",
    "\n",
    "По результатам анализа данных необходимо подготовить аналитическую записку, в которой описан:\n",
    "\n",
    "Выбранный тип t-теста и уровень статистической значимости.\n",
    "\n",
    "Результат теста, или p-value.\n",
    "\n",
    "Вывод на основе полученного p-value, то есть интерпретацию результатов.\n",
    "\n",
    "Одну или две возможные причины, объясняющие полученные результаты."
   ]
  },
  {
   "cell_type": "markdown",
   "id": "e06910dd",
   "metadata": {
    "id": "e06910dd"
   },
   "source": [
    "## Сравнительный анализ времени активности пользователей книжного приложения в Москве и Санкт-Петербурге: проверка гипотезы о различиях\n",
    "\n",
    "- Автор: Шишкин Глеб Андреевич\n",
    "- Дата: 15.04.2025"
   ]
  },
  {
   "cell_type": "markdown",
   "id": "4149134c",
   "metadata": {
    "id": "4149134c"
   },
   "source": [
    "## Цели и задачи проекта\n",
    "\n",
    "<font color='#000000'>Цель проекта:\n",
    " - Проверить гипотезу о том, что пользователи из Санкт-Петербурга проводят в среднем больше времени в книжном приложении, чем пользователи из Москвы, с использованием статистических методов.\n",
    "\n",
    "Задачи проекта:\n",
    "- Проверить данные на наличие дубликатов и аномалий.\n",
    "- Сравнить размеры групп пользователей из Москвы и Санкт-Петербурга.\n",
    "- Провести статистический анализ (двухвыборочный t-тест) для проверки гипотезы.\n",
    "- Интерпретировать результаты теста и сформулировать выводы.\n",
    "- Предложить возможные причины наблюдаемой разницы во времени активности.</font>"
   ]
  },
  {
   "cell_type": "markdown",
   "id": "728986ea",
   "metadata": {
    "id": "728986ea"
   },
   "source": [
    "## Описание данных\n",
    "\n",
    "\n",
    "Для первого задания проекта:   \n",
    "- `data1.csv` - данные пользователей из Москвы и Санкт-Петербурга.\n",
    "\n",
    "\n",
    "Для второго задания проекта:    \n",
    "- `data2.csv` — таблица участников тестов. Структура файла:\n",
    "    - `user_id` — идентификатор пользователя;\n",
    "    - `group` — группа пользователя;\n",
    "    - `ab_test` — название теста;\n",
    "    - `device` — устройство, с которого происходила регистрация.\n",
    "                            \n",
    "- `data3.zip` — архив с одним csv-файлом, в котором собраны события 2020 года. Структура файла:\n",
    "    - `user_id` — идентификатор пользователя;\n",
    "    - `event_dt` — дата и время события;\n",
    "    - `event_name` — тип события;\n",
    "    - `details` — дополнительные данные о событии.\n"
   ]
  },
  {
   "cell_type": "markdown",
   "id": "4fecaf95",
   "metadata": {
    "id": "4fecaf95"
   },
   "source": [
    "## Содержимое проекта\n",
    "\n",
    "- Формулировка гипотезы\n",
    "- Нулевая (H0: μ_СПб ≤ μ_Москва) vs. альтернативная (H1: μ_СПб > μ_Москва).\n",
    "- Предварительный анализ данных\n",
    "- Проверка уникальности ID пользователей.\n",
    "- Сравнение размеров групп (Москва vs. СПб).\n",
    "- Расчет среднего времени активности и стандартных отклонений.\n",
    "- Выбор статистического теста\n",
    "- Определение типа t-теста (независимый, односторонний).\n",
    "- Проверка однородности дисперсий (Levene’s test).\n",
    "- Проведение теста\n",
    "- Расчет t-статистики и p-value.\n",
    "- Интерпретация\n",
    "- Заключение и рекомендации\n",
    "- Вывод о значимости различий."
   ]
  },
  {
   "cell_type": "markdown",
   "id": "6f7d21d6",
   "metadata": {
    "id": "6f7d21d6"
   },
   "source": [
    "## 1. Загрузка данных и знакомство с ними\n",
    "\n",
    "Загрузите данные пользователей из Москвы и Санкт-Петербурга c их активностью (суммой часов чтения и прослушивания) из файла `data1.csv`."
   ]
  },
  {
   "cell_type": "code",
   "execution_count": 1,
   "id": "ce87c1db",
   "metadata": {
    "id": "ce87c1db"
   },
   "outputs": [],
   "source": [
    "# Импортируем библиотеки\n",
    "import pandas as pd\n",
    "import matplotlib.pyplot as plt\n",
    "import seaborn as sns\n",
    "import numpy as np\n",
    "from statsmodels.stats.power import NormalIndPower\n",
    "from math import ceil\n",
    "from scipy import stats\n",
    "from statsmodels.stats.proportion import proportions_ztest\n",
    "from scipy.stats import norm"
   ]
  },
  {
   "cell_type": "code",
   "execution_count": 2,
   "id": "05faf34b",
   "metadata": {
    "id": "05faf34b"
   },
   "outputs": [
    {
     "data": {
      "text/html": [
       "<div>\n",
       "<style scoped>\n",
       "    .dataframe tbody tr th:only-of-type {\n",
       "        vertical-align: middle;\n",
       "    }\n",
       "\n",
       "    .dataframe tbody tr th {\n",
       "        vertical-align: top;\n",
       "    }\n",
       "\n",
       "    .dataframe thead th {\n",
       "        text-align: right;\n",
       "    }\n",
       "</style>\n",
       "<table border=\"1\" class=\"dataframe\">\n",
       "  <thead>\n",
       "    <tr style=\"text-align: right;\">\n",
       "      <th></th>\n",
       "      <th>Unnamed: 0</th>\n",
       "      <th>city</th>\n",
       "      <th>puid</th>\n",
       "      <th>hours</th>\n",
       "    </tr>\n",
       "  </thead>\n",
       "  <tbody>\n",
       "    <tr>\n",
       "      <th>0</th>\n",
       "      <td>0</td>\n",
       "      <td>Москва</td>\n",
       "      <td>9668</td>\n",
       "      <td>26.167776</td>\n",
       "    </tr>\n",
       "    <tr>\n",
       "      <th>1</th>\n",
       "      <td>1</td>\n",
       "      <td>Москва</td>\n",
       "      <td>16598</td>\n",
       "      <td>82.111217</td>\n",
       "    </tr>\n",
       "    <tr>\n",
       "      <th>2</th>\n",
       "      <td>2</td>\n",
       "      <td>Москва</td>\n",
       "      <td>80401</td>\n",
       "      <td>4.656906</td>\n",
       "    </tr>\n",
       "    <tr>\n",
       "      <th>3</th>\n",
       "      <td>3</td>\n",
       "      <td>Москва</td>\n",
       "      <td>140205</td>\n",
       "      <td>1.840556</td>\n",
       "    </tr>\n",
       "    <tr>\n",
       "      <th>4</th>\n",
       "      <td>4</td>\n",
       "      <td>Москва</td>\n",
       "      <td>248755</td>\n",
       "      <td>151.326434</td>\n",
       "    </tr>\n",
       "  </tbody>\n",
       "</table>\n",
       "</div>"
      ],
      "text/plain": [
       "   Unnamed: 0    city    puid       hours\n",
       "0           0  Москва    9668   26.167776\n",
       "1           1  Москва   16598   82.111217\n",
       "2           2  Москва   80401    4.656906\n",
       "3           3  Москва  140205    1.840556\n",
       "4           4  Москва  248755  151.326434"
      ]
     },
     "metadata": {},
     "output_type": "display_data"
    }
   ],
   "source": [
    "user_activity = pd.read_csv('data1.csv')\n",
    "display(user_activity.head())"
   ]
  },
  {
   "cell_type": "code",
   "execution_count": 3,
   "id": "4e3c308f",
   "metadata": {},
   "outputs": [
    {
     "name": "stdout",
     "output_type": "stream",
     "text": [
      "<class 'pandas.core.frame.DataFrame'>\n",
      "RangeIndex: 8784 entries, 0 to 8783\n",
      "Data columns (total 4 columns):\n",
      " #   Column      Non-Null Count  Dtype  \n",
      "---  ------      --------------  -----  \n",
      " 0   Unnamed: 0  8784 non-null   int64  \n",
      " 1   city        8784 non-null   object \n",
      " 2   puid        8784 non-null   int64  \n",
      " 3   hours       8784 non-null   float64\n",
      "dtypes: float64(1), int64(2), object(1)\n",
      "memory usage: 274.6+ KB\n"
     ]
    },
    {
     "data": {
      "text/plain": [
       "None"
      ]
     },
     "metadata": {},
     "output_type": "display_data"
    }
   ],
   "source": [
    "display(user_activity.info())"
   ]
  },
  {
   "cell_type": "code",
   "execution_count": 4,
   "id": "f68a7419",
   "metadata": {
    "id": "f68a7419"
   },
   "outputs": [
    {
     "name": "stdout",
     "output_type": "stream",
     "text": [
      "Общее количество полных дубликатов: 0\n",
      "\n",
      "Количество дубликатов по puid: 244\n"
     ]
    }
   ],
   "source": [
    "# Проверка полных дубликатов\n",
    "total_duplicates = user_activity.duplicated().sum()\n",
    "print(f\"Общее количество полных дубликатов: {total_duplicates}\")\n",
    "\n",
    "# Проверка дубликатов по идентификатору пользователя\n",
    "duplicate_puids = user_activity['puid'].duplicated().sum()\n",
    "print(f\"\\nКоличество дубликатов по puid: {duplicate_puids}\")"
   ]
  },
  {
   "cell_type": "code",
   "execution_count": 5,
   "id": "f3c55266",
   "metadata": {},
   "outputs": [
    {
     "name": "stdout",
     "output_type": "stream",
     "text": [
      "\n",
      "Уникальных пользователей: 8540 из 8784 записей\n"
     ]
    }
   ],
   "source": [
    "# Проверка уникальности пользователей\n",
    "unique_users = user_activity['puid'].nunique()\n",
    "total_records = len(user_activity)\n",
    "print(f\"\\nУникальных пользователей: {unique_users} из {total_records} записей\")"
   ]
  },
  {
   "cell_type": "code",
   "execution_count": 6,
   "id": "03925119",
   "metadata": {
    "scrolled": true
   },
   "outputs": [
    {
     "name": "stdout",
     "output_type": "stream",
     "text": [
      "Результаты анализа дубликатов в столбце 'puid':\n",
      "Общее количество записей: 8784\n",
      "Количество дубликатов puid: 244\n",
      "Процент дубликатов: 2.78%\n"
     ]
    }
   ],
   "source": [
    "# Общее количество записей\n",
    "total_records = len(user_activity)\n",
    "\n",
    "# Количество дубликатов в puid\n",
    "duplicate_puids = user_activity['puid'].duplicated().sum()\n",
    "\n",
    "# Расчет процента\n",
    "duplicate_percentage = (duplicate_puids / total_records) * 100\n",
    "\n",
    "print(f\"Результаты анализа дубликатов в столбце 'puid':\")\n",
    "print(f\"Общее количество записей: {total_records}\")\n",
    "print(f\"Количество дубликатов puid: {duplicate_puids}\")\n",
    "print(f\"Процент дубликатов: {duplicate_percentage:.2f}%\")"
   ]
  },
  {
   "cell_type": "code",
   "execution_count": 7,
   "id": "dd660b2d",
   "metadata": {},
   "outputs": [
    {
     "name": "stdout",
     "output_type": "stream",
     "text": [
      "      Unnamed: 0             city      puid      hours\n",
      "35            35           Москва   2637041  10.317371\n",
      "6247        6247  Санкт-Петербург   2637041   3.883926\n",
      "134          134           Москва   9979490  32.415573\n",
      "6274        6274  Санкт-Петербург   9979490   1.302997\n",
      "145          145           Москва  10597984  42.931506\n",
      "6279        6279  Санкт-Петербург  10597984   9.041320\n",
      "150          150           Москва  10815097   9.086655\n",
      "6283        6283  Санкт-Петербург  10815097   0.323291\n",
      "187          187           Москва  13626259  21.104167\n",
      "6300        6300  Санкт-Петербург  13626259   1.648434\n"
     ]
    }
   ],
   "source": [
    "# Посмотрим примеры дублированных записей\n",
    "duplicates = user_activity[user_activity.duplicated(subset=['puid'], keep=False)]\n",
    "print(duplicates.sort_values('puid').head(10))"
   ]
  },
  {
   "cell_type": "code",
   "execution_count": 8,
   "id": "a7b9ed95",
   "metadata": {},
   "outputs": [
    {
     "data": {
      "text/html": [
       "<div>\n",
       "<style scoped>\n",
       "    .dataframe tbody tr th:only-of-type {\n",
       "        vertical-align: middle;\n",
       "    }\n",
       "\n",
       "    .dataframe tbody tr th {\n",
       "        vertical-align: top;\n",
       "    }\n",
       "\n",
       "    .dataframe thead th {\n",
       "        text-align: right;\n",
       "    }\n",
       "</style>\n",
       "<table border=\"1\" class=\"dataframe\">\n",
       "  <thead>\n",
       "    <tr style=\"text-align: right;\">\n",
       "      <th></th>\n",
       "      <th>Unnamed: 0</th>\n",
       "      <th>city</th>\n",
       "      <th>puid</th>\n",
       "      <th>hours</th>\n",
       "    </tr>\n",
       "  </thead>\n",
       "  <tbody>\n",
       "    <tr>\n",
       "      <th>35</th>\n",
       "      <td>35</td>\n",
       "      <td>Москва</td>\n",
       "      <td>2637041</td>\n",
       "      <td>10.317371</td>\n",
       "    </tr>\n",
       "    <tr>\n",
       "      <th>6247</th>\n",
       "      <td>6247</td>\n",
       "      <td>Санкт-Петербург</td>\n",
       "      <td>2637041</td>\n",
       "      <td>3.883926</td>\n",
       "    </tr>\n",
       "    <tr>\n",
       "      <th>134</th>\n",
       "      <td>134</td>\n",
       "      <td>Москва</td>\n",
       "      <td>9979490</td>\n",
       "      <td>32.415573</td>\n",
       "    </tr>\n",
       "    <tr>\n",
       "      <th>6274</th>\n",
       "      <td>6274</td>\n",
       "      <td>Санкт-Петербург</td>\n",
       "      <td>9979490</td>\n",
       "      <td>1.302997</td>\n",
       "    </tr>\n",
       "    <tr>\n",
       "      <th>145</th>\n",
       "      <td>145</td>\n",
       "      <td>Москва</td>\n",
       "      <td>10597984</td>\n",
       "      <td>42.931506</td>\n",
       "    </tr>\n",
       "    <tr>\n",
       "      <th>...</th>\n",
       "      <td>...</td>\n",
       "      <td>...</td>\n",
       "      <td>...</td>\n",
       "      <td>...</td>\n",
       "    </tr>\n",
       "    <tr>\n",
       "      <th>6195</th>\n",
       "      <td>6195</td>\n",
       "      <td>Москва</td>\n",
       "      <td>1130000020425037</td>\n",
       "      <td>0.310556</td>\n",
       "    </tr>\n",
       "    <tr>\n",
       "      <th>8775</th>\n",
       "      <td>8775</td>\n",
       "      <td>Санкт-Петербург</td>\n",
       "      <td>1130000023864516</td>\n",
       "      <td>14.384722</td>\n",
       "    </tr>\n",
       "    <tr>\n",
       "      <th>6202</th>\n",
       "      <td>6202</td>\n",
       "      <td>Москва</td>\n",
       "      <td>1130000023864516</td>\n",
       "      <td>142.830085</td>\n",
       "    </tr>\n",
       "    <tr>\n",
       "      <th>6210</th>\n",
       "      <td>6210</td>\n",
       "      <td>Москва</td>\n",
       "      <td>1130000028554332</td>\n",
       "      <td>11.277554</td>\n",
       "    </tr>\n",
       "    <tr>\n",
       "      <th>8779</th>\n",
       "      <td>8779</td>\n",
       "      <td>Санкт-Петербург</td>\n",
       "      <td>1130000028554332</td>\n",
       "      <td>4.107774</td>\n",
       "    </tr>\n",
       "  </tbody>\n",
       "</table>\n",
       "<p>488 rows × 4 columns</p>\n",
       "</div>"
      ],
      "text/plain": [
       "      Unnamed: 0             city              puid       hours\n",
       "35            35           Москва           2637041   10.317371\n",
       "6247        6247  Санкт-Петербург           2637041    3.883926\n",
       "134          134           Москва           9979490   32.415573\n",
       "6274        6274  Санкт-Петербург           9979490    1.302997\n",
       "145          145           Москва          10597984   42.931506\n",
       "...          ...              ...               ...         ...\n",
       "6195        6195           Москва  1130000020425037    0.310556\n",
       "8775        8775  Санкт-Петербург  1130000023864516   14.384722\n",
       "6202        6202           Москва  1130000023864516  142.830085\n",
       "6210        6210           Москва  1130000028554332   11.277554\n",
       "8779        8779  Санкт-Петербург  1130000028554332    4.107774\n",
       "\n",
       "[488 rows x 4 columns]"
      ]
     },
     "execution_count": 8,
     "metadata": {},
     "output_type": "execute_result"
    }
   ],
   "source": [
    "duplicate_stats = user_activity[user_activity['puid'].duplicated(keep=False)].sort_values('puid')\n",
    "duplicate_stats"
   ]
  },
  {
   "cell_type": "markdown",
   "id": "f5536a9e",
   "metadata": {},
   "source": [
    "Дублированные записи встречаются у одних и тех же пользоватлей для обоих городов. Данные могут попасть в обе выборки, а значит их лучше удалить."
   ]
  },
  {
   "cell_type": "code",
   "execution_count": 9,
   "id": "8e9c4b3e",
   "metadata": {},
   "outputs": [
    {
     "name": "stdout",
     "output_type": "stream",
     "text": [
      "Количество записей ДО удаления дубликатов: 8784\n",
      "Количество записей ПОСЛЕ удаления дубликатов: 8540\n",
      "Удалено записей: 244 (2.78%)\n",
      "\n",
      "Распределение по городам ПОСЛЕ очистки:\n",
      "Москва             6234\n",
      "Санкт-Петербург    2306\n",
      "Name: city, dtype: int64\n"
     ]
    }
   ],
   "source": [
    "# Записываем исходное количество записей\n",
    "initial_count = len(user_activity)\n",
    "print(f\"Количество записей ДО удаления дубликатов: {initial_count}\")\n",
    "\n",
    "# Удаляем дубликаты по puid, сохраняя первую встретившуюся запись\n",
    "clean_data = user_activity.drop_duplicates(subset=['puid'], keep='first')\n",
    "\n",
    "# Записываем новое количество записей\n",
    "cleaned_count = len(clean_data)\n",
    "removed_count = initial_count - cleaned_count\n",
    "removed_percentage = (removed_count / initial_count) * 100\n",
    "\n",
    "print(f\"Количество записей ПОСЛЕ удаления дубликатов: {cleaned_count}\")\n",
    "print(f\"Удалено записей: {removed_count} ({removed_percentage:.2f}%)\")\n",
    "\n",
    "# Дополнительная статистика по городам\n",
    "print(\"\\nРаспределение по городам ПОСЛЕ очистки:\")\n",
    "print(clean_data['city'].value_counts())"
   ]
  },
  {
   "cell_type": "code",
   "execution_count": 10,
   "id": "ab9a5495",
   "metadata": {},
   "outputs": [
    {
     "name": "stdout",
     "output_type": "stream",
     "text": [
      "Количество пользователей, встречающихся в обеих группах: 0\n"
     ]
    }
   ],
   "source": [
    "# Посмотрим количество пользователейЮ встречающихся в обеих группах\n",
    "msk_users = set(clean_data[clean_data['city'] == 'Москва']['puid'])\n",
    "spb_users = set(clean_data[clean_data['city'] == 'Санкт-Петербург']['puid'])\n",
    "\n",
    "common_users = msk_users & spb_users\n",
    "print(f\"Количество пользователей, встречающихся в обеих группах: {len(common_users)}\")"
   ]
  },
  {
   "cell_type": "code",
   "execution_count": 11,
   "id": "149223bf",
   "metadata": {},
   "outputs": [
    {
     "name": "stdout",
     "output_type": "stream",
     "text": [
      "Москва:\n",
      " count    6234.000000\n",
      "mean       10.881092\n",
      "std        36.851683\n",
      "min         0.000018\n",
      "25%         0.059903\n",
      "50%         0.924498\n",
      "75%         5.939972\n",
      "max       857.209373\n",
      "Name: hours, dtype: float64\n",
      "\n",
      "Санкт-Петербург:\n",
      " count    2306.000000\n",
      "mean       11.264433\n",
      "std        39.831755\n",
      "min         0.000025\n",
      "25%         0.060173\n",
      "50%         0.875355\n",
      "75%         6.138424\n",
      "max       978.764775\n",
      "Name: hours, dtype: float64\n"
     ]
    }
   ],
   "source": [
    "# Посмотрим описательную статистику активности\n",
    "msk = clean_data[clean_data['city']=='Москва']['hours']\n",
    "spb = clean_data[clean_data['city']=='Санкт-Петербург']['hours']\n",
    "\n",
    "print(\"Москва:\\n\", msk.describe())\n",
    "print(\"\\nСанкт-Петербург:\\n\", spb.describe())"
   ]
  },
  {
   "cell_type": "code",
   "execution_count": 12,
   "id": "7c700095",
   "metadata": {},
   "outputs": [
    {
     "data": {
      "image/png": "[encoded data removed]",
      "text/plain": [
       "<Figure size 864x432 with 1 Axes>"
      ]
     },
     "metadata": {
      "needs_background": "light"
     },
     "output_type": "display_data"
    }
   ],
   "source": [
    "# Построим гистограммы и используем логарифмирование (так как данные имеют сильный разброс)\n",
    "plt.figure(figsize=(12, 6))\n",
    "\n",
    "plt.hist(np.log1p(msk), bins=50, alpha=0.5, label='Москва')\n",
    "plt.hist(np.log1p(spb), bins=50, alpha=0.5, label='Санкт-Петербург')\n",
    "plt.xlabel('log(часы активности + 1)')\n",
    "plt.ylabel('Количество пользователей')\n",
    "plt.legend()\n",
    "plt.show()"
   ]
  },
  {
   "cell_type": "markdown",
   "id": "c473434f",
   "metadata": {},
   "source": [
    "Промежуточный вывод:\n",
    "- Дисбаланс размера групп (6234 vs 2306) может снижать мощность теста для выявления различий в меньшей группе.\n",
    "- Медианные значения ниже среднего (0.9 vs 11 часов) - признак сильной правосторонней асимметрии\n",
    "- Сильная асимметрия распределения (правосторонняя):\n",
    "   - 75% пользователей в обеих группах проводят <6 часов;\n",
    "   - Единичные выбросы (>100 часов) искажают средние значения, т.е. среднее время (10.88 и 11.26 часов) не отражает типичный опыт пользователей;\n",
    "   - Разброс данных (std) в СПб больше;\n",
    "- Максимальные значения аномально высоки (>800 часов)\n",
    "\n",
    "Таким образом дисбаланс групп снизил чувствительность теста к небольшим различиям. Асимметрия и выбросы сделали среднее время ненадёжным показателем, а большой разброс мешает выявить потенциально существующие различия."
   ]
  },
  {
   "cell_type": "markdown",
   "id": "956e82e2",
   "metadata": {
    "id": "956e82e2"
   },
   "source": [
    "## 2. Проверка гипотезы в Python\n",
    "\n",
    "Гипотеза звучит так: пользователи из Санкт-Петербурга проводят в среднем больше времени за чтением и прослушиванием книг в приложении, чем пользователи из Москвы. Попробуйте статистически это доказать, используя одностороннюю проверку гипотезы с двумя выборками:\n",
    "\n",
    "- Нулевая гипотеза H₀: Средняя активность пользователей в часах в двух группах (Москва и Санкт-Петербург) не различается.\n",
    "\n",
    "- Альтернативная гипотеза H₁: Средняя активность пользователей в Санкт-Петербурге больше, и это различие статистически значимо."
   ]
  },
  {
   "cell_type": "markdown",
   "id": "7594a581",
   "metadata": {
    "id": "67956690"
   },
   "source": [
    "Для проверки гипотезы о том, что пользователи из Санкт-Петербурга проводят больше времени в приложении, чем пользователи из Москвы, проведем односторонний t-тест для независимых выборок. "
   ]
  },
  {
   "cell_type": "code",
   "execution_count": 13,
   "id": "9e511457",
   "metadata": {},
   "outputs": [
    {
     "name": "stdout",
     "output_type": "stream",
     "text": [
      "Москва (n=6234): Медиана = 0.92 ч, Среднее = 10.88 ч\n",
      "СПб (n=2306): Медиана = 0.88 ч, Среднее = 11.26 ч\n"
     ]
    }
   ],
   "source": [
    "# Разделяем данные по городам после очистки от дубликатов\n",
    "moscow_hours = clean_data[clean_data['city'] == 'Москва']['hours']\n",
    "spb_hours = clean_data[clean_data['city'] == 'Санкт-Петербург']['hours']\n",
    "\n",
    "print(f\"Москва (n={len(moscow_hours)}): Медиана = {moscow_hours.median():.2f} ч, Среднее = {moscow_hours.mean():.2f} ч\")\n",
    "print(f\"СПб (n={len(spb_hours)}): Медиана = {spb_hours.median():.2f} ч, Среднее = {spb_hours.mean():.2f} ч\")"
   ]
  },
  {
   "cell_type": "code",
   "execution_count": 14,
   "id": "7a52bab4",
   "metadata": {},
   "outputs": [
    {
     "data": {
      "image/png": "[encoded data removed]",
      "text/plain": [
       "<Figure size 720x432 with 1 Axes>"
      ]
     },
     "metadata": {
      "needs_background": "light"
     },
     "output_type": "display_data"
    }
   ],
   "source": [
    "# Посмотрим на наличие выбросов\n",
    "plt.figure(figsize=(10, 6))\n",
    "plt.boxplot([moscow_hours, spb_hours], \n",
    "            labels=['Москва', 'Санкт-Петербург'],\n",
    "            vert=False,\n",
    "            patch_artist=True,\n",
    "            boxprops=dict(facecolor='lightblue'),\n",
    "            whiskerprops=dict(linestyle='--'))\n",
    "plt.title('Распределение времени активности с выбросами')\n",
    "plt.xlabel('Часы')\n",
    "plt.grid(axis='x', linestyle=':')\n",
    "plt.show()"
   ]
  },
  {
   "cell_type": "code",
   "execution_count": 15,
   "id": "6c3f0295",
   "metadata": {},
   "outputs": [
    {
     "name": "stdout",
     "output_type": "stream",
     "text": [
      "Выбросов в Москве: 900 (14.4%)\n",
      "Выбросов в СПб: 346 (15.0%)\n"
     ]
    }
   ],
   "source": [
    "# Посмотрим количество выбросов\n",
    "def count_outliers(data):\n",
    "    Q1 = data.quantile(0.25)\n",
    "    Q3 = data.quantile(0.75)\n",
    "    IQR = Q3 - Q1\n",
    "    lower_bound = Q1 - 1.5 * IQR\n",
    "    upper_bound = Q3 + 1.5 * IQR\n",
    "    return data[(data < lower_bound) | (data > upper_bound)].count()\n",
    "\n",
    "outliers_moscow = count_outliers(moscow_hours)\n",
    "outliers_spb = count_outliers(spb_hours)\n",
    "\n",
    "print(f\"Выбросов в Москве: {outliers_moscow} ({outliers_moscow/len(moscow_hours)*100:.1f}%)\")\n",
    "print(f\"Выбросов в СПб: {outliers_spb} ({outliers_spb/len(spb_hours)*100:.1f}%)\")"
   ]
  },
  {
   "cell_type": "code",
   "execution_count": 16,
   "id": "f216ae4a",
   "metadata": {},
   "outputs": [
    {
     "name": "stdout",
     "output_type": "stream",
     "text": [
      "Москва (выбросы): {'count': 900, 'min': 14.764141414141411, 'median': 36.053908535353536, 'max': 857.2093727777777}\n",
      "СПб (выбросы): {'count': 346, 'min': 15.272670555555557, 'median': 39.182158914141624, 'max': 978.7647747474748}\n"
     ]
    }
   ],
   "source": [
    "# Статистика по выбросам\n",
    "def outlier_stats(data):\n",
    "    Q1 = data.quantile(0.25)\n",
    "    Q3 = data.quantile(0.75)\n",
    "    IQR = Q3 - Q1\n",
    "    outliers = data[data > Q3 + 1.5*IQR]\n",
    "    return {\n",
    "        'count': len(outliers),\n",
    "        'min': outliers.min(),\n",
    "        'median': outliers.median(),\n",
    "        'max': outliers.max()\n",
    "    }\n",
    "\n",
    "print(\"Москва (выбросы):\", outlier_stats(moscow_hours))\n",
    "print(\"СПб (выбросы):\", outlier_stats(spb_hours))"
   ]
  },
  {
   "cell_type": "markdown",
   "id": "f2fe0b82",
   "metadata": {},
   "source": [
    "- В обеих группах есть пользователи с экстремально высоким временем активности (выбросы). Например:\n",
    "\n",
    "  - Москва: до 857 часов.\n",
    "  - СПб: до 978 часов.\n",
    "\n",
    "Эти выбросы могут исказить средние значения."
   ]
  },
  {
   "cell_type": "markdown",
   "id": "19c0bb08",
   "metadata": {},
   "source": [
    "Перед проведением теста удалим выбросы и убедимся, что:\n",
    "\n",
    " - Выборки независимы (уже обеспечено очисткой дубликатов)\n",
    " - Дисперсии равны (проверим тестом Левена)\n",
    " - Далее используем односторонний t-тест Уэлча (поскольку тестом Левена выявим неравенство дисперсий)"
   ]
  },
  {
   "cell_type": "code",
   "execution_count": 17,
   "id": "3e7c3674",
   "metadata": {},
   "outputs": [
    {
     "name": "stdout",
     "output_type": "stream",
     "text": [
      "Описательная статистика для типичных пользователей:\n",
      "Москва (n=5334): Медиана = 0.49 ч, Среднее = 2.06 ч\n",
      "СПб (n=1960): Медиана = 0.47 ч, Среднее = 2.03 ч\n"
     ]
    },
    {
     "data": {
      "image/png": "[encoded data removed]",
      "text/plain": [
       "<Figure size 720x432 with 1 Axes>"
      ]
     },
     "metadata": {
      "needs_background": "light"
     },
     "output_type": "display_data"
    },
    {
     "name": "stdout",
     "output_type": "stream",
     "text": [
      "\n",
      "Проверка равенства дисперсий (тест Левена): p-value = 0.7492\n",
      "\n",
      "Результаты t-теста Уэлча для типичных пользователей:\n",
      "t-статистика: -0.3666\n",
      "p-value: 0.6430\n",
      "\n",
      "Не отвергаем H₀ (p = 0.6430 >= 0.05).\n",
      "Нет значимых доказательств, что типичные пользователи из СПб проводят больше времени.\n"
     ]
    }
   ],
   "source": [
    "# Функция для определения выбросов по методу IQR\n",
    "def remove_outliers(data):\n",
    "    Q1 = data.quantile(0.25)\n",
    "    Q3 = data.quantile(0.75)\n",
    "    IQR = Q3 - Q1\n",
    "    lower_bound = Q1 - 1.5 * IQR\n",
    "    upper_bound = Q3 + 1.5 * IQR\n",
    "    return data[(data >= lower_bound) & (data <= upper_bound)]\n",
    "\n",
    "# Разделение данных по городам и удаление выбросов\n",
    "moscow_hours = clean_data[clean_data['city'] == 'Москва']['hours']\n",
    "spb_hours = clean_data[clean_data['city'] == 'Санкт-Петербург']['hours']\n",
    "\n",
    "moscow_typical = remove_outliers(moscow_hours)\n",
    "spb_typical = remove_outliers(spb_hours)\n",
    "\n",
    "# Описательная статистика после удаления выбросов\n",
    "print(\"Описательная статистика для типичных пользователей:\")\n",
    "print(f\"Москва (n={len(moscow_typical)}): Медиана = {moscow_typical.median():.2f} ч, Среднее = {moscow_typical.mean():.2f} ч\")\n",
    "print(f\"СПб (n={len(spb_typical)}): Медиана = {spb_typical.median():.2f} ч, Среднее = {spb_typical.mean():.2f} ч\")\n",
    "\n",
    "# Визуализация распределений\n",
    "plt.figure(figsize=(10, 6))\n",
    "plt.hist(moscow_typical, bins=30, alpha=0.5, label='Москва', color='blue', density=True)\n",
    "plt.hist(spb_typical, bins=30, alpha=0.5, label='СПб', color='orange', density=True)\n",
    "plt.title('Распределение времени активности (без выбросов)')\n",
    "plt.xlabel('Часы')\n",
    "plt.ylabel('Плотность вероятности')\n",
    "plt.legend()\n",
    "plt.show()\n",
    "\n",
    "# Проверка равенства дисперсий (тест Левена)\n",
    "_, p_var = stats.levene(moscow_typical, spb_typical)\n",
    "print(f\"\\nПроверка равенства дисперсий (тест Левена): p-value = {p_var:.4f}\")\n",
    "\n",
    "# Односторонний t-тест Уэлча (СПб > Москва)\n",
    "t_stat, p_value = stats.ttest_ind(spb_typical, moscow_typical, \n",
    "                                alternative='greater',\n",
    "                                equal_var=False)  # Используем тест Уэлча\n",
    "\n",
    "print(\"\\nРезультаты t-теста Уэлча для типичных пользователей:\")\n",
    "print(f\"t-статистика: {t_stat:.4f}\")\n",
    "print(f\"p-value: {p_value:.4f}\")\n",
    "\n",
    "\n",
    "# Интерпретация\n",
    "alpha = 0.05\n",
    "if p_value < alpha:\n",
    "    print(f\"\\nОтвергаем H₀ (p = {p_value:.4f} < {alpha}).\")\n",
    "    print(\"Есть статистически значимые доказательства, что типичные пользователи из СПб проводят больше времени.\")\n",
    "else:\n",
    "    print(f\"\\nНе отвергаем H₀ (p = {p_value:.4f} >= {alpha}).\")\n",
    "    print(\"Нет значимых доказательств, что типичные пользователи из СПб проводят больше времени.\")"
   ]
  },
  {
   "cell_type": "markdown",
   "id": "6953e84c",
   "metadata": {
    "id": "6953e84c"
   },
   "source": [
    "## 3. Аналитическая записка\n",
    "По результатам анализа данных подготовьте аналитическую записку, в которой опишете:\n",
    "\n",
    "- Выбранный тип t-теста и уровень статистической значимости.\n",
    "\n",
    "- Результат теста, или p-value.\n",
    "\n",
    "- Вывод на основе полученного p-value, то есть интерпретацию результатов.\n",
    "\n",
    "- Одну или две возможные причины, объясняющие полученные результаты.\n",
    "\n"
   ]
  },
  {
   "cell_type": "markdown",
   "id": "c191a028",
   "metadata": {},
   "source": [
    "1. Методология анализа:\n",
    " - Тип теста: Односторонний t-тест Уэлча (для независимых выборок с неравными дисперсиями)\n",
    "\n",
    "     - Уровень значимости: α = 0.05\n",
    "\n",
    "     - Причина выбора теста Уэлча: Данные имеют неравные дисперсии (подтверждено тестом Левена, p = 0.749 > 0.05) и распределение не является нормальным.\n",
    "\n",
    "2. Результаты теста:\n",
    " - p-value: 0.643\n",
    "\n",
    " - t-статистика: -0.367\n",
    "\n",
    "3. Интерпретация результатов (при уровне значимости α = 0.05):\n",
    "\n",
    " - p-value (0.643) > α (0.05) → Нет оснований отвергнуть нулевую гипотезу (H₀).\n",
    "\n",
    " - Статистически значимых различий во времени активности между пользователями Москвы и Санкт-Петербурга не обнаружено.\n",
    "\n",
    "\n",
    "4. Возможные причины результатов:\n",
    " - Однородность поведения пользователей (медианные значения времени активности почти идентичны (~0.9 часа), а большинство пользователей в обоих городах проводят в приложении схожее время).\n",
    "\n",
    " - Влияние выбросов на средние значения (в исходных данных небольшая группа пользователей с аномально высокой активностью (выбросы) создавала иллюзию различий. После их удаления разница между средними исчезла).\n",
    "\n",
    "5. Итог: \n",
    " - Гипотеза о том, что пользователи из Санкт-Петербурга проводят больше времени в приложении, не подтвердилась. Различия между городами статистически и практически незначимы."
   ]
  },
  {
   "cell_type": "markdown",
   "id": "hc1d6jVISegz",
   "metadata": {
    "id": "hc1d6jVISegz"
   },
   "source": [
    "----"
   ]
  },
  {
   "cell_type": "markdown",
   "id": "NqOUIYhbrIfC",
   "metadata": {
    "id": "NqOUIYhbrIfC"
   },
   "source": [
    "# Часть 2. Анализ результатов A/B-тестирования"
   ]
  },
  {
   "cell_type": "markdown",
   "id": "tDwMKFNGsClr",
   "metadata": {
    "id": "tDwMKFNGsClr"
   },
   "source": [
    "Теперь нам нужно проанализировать другие данные. К нам обратились представители интернет-магазина BitMotion Kit, в котором продаются геймифицированные товары для тех, кто ведёт здоровый образ жизни. У него есть своя целевая аудитория, даже появились хиты продаж: эспандер со счётчиком и напоминанием, так и подстольный велотренажёр с Bluetooth.\n",
    "\n",
    "В будущем компания хочет расширить ассортимент товаров. Но перед этим нужно решить одну проблему. Интерфейс онлайн-магазина слишком сложен для пользователей — об этом говорят отзывы.\n",
    "\n",
    "Чтобы привлечь новых клиентов и увеличить число продаж, владельцы магазина разработали новую версию сайта и протестировали его на части пользователей. По задумке, это решение доказуемо повысит количество пользователей, которые совершат покупку.\n",
    "\n",
    "Наша задача — провести оценку результатов A/B-теста. В распоряжении:\n",
    "\n",
    "* данные о действиях пользователей и распределении их на группы,\n",
    "\n",
    "* техническое задание.\n",
    "\n",
    "Необходимо оценить корректность проведения теста и проанализировать его результаты."
   ]
  },
  {
   "cell_type": "markdown",
   "id": "UNXAAyF5r9Rk",
   "metadata": {
    "id": "UNXAAyF5r9Rk"
   },
   "source": [
    "## 1. Опишите цели исследования.\n",
    "\n"
   ]
  },
  {
   "cell_type": "markdown",
   "id": "kHx-51yES8bd",
   "metadata": {
    "id": "kHx-51yES8bd"
   },
   "source": [
    "Цели исследования:\n",
    "\n",
    "- Определить, увеличивает ли новый интерфейс конверсию в покупку.\n",
    "\n",
    "- Оценить статистическую значимость различий между группами.\n",
    "\n",
    "- Выявить сегменты пользователей, для которых изменения наиболее эффективны.\n",
    "\n",
    "- Дать рекомендации:\n",
    "\n",
    "   - Внедрить новый интерфейс, если конверсия выросла значимо.\n",
    "\n",
    "   - Оптимизировать слабые места воронки (например, шаг корзины)."
   ]
  },
  {
   "cell_type": "markdown",
   "id": "_CZryx2OsH-s",
   "metadata": {
    "id": "_CZryx2OsH-s"
   },
   "source": [
    "## 2. Загрузите данные, оцените их целостность.\n"
   ]
  },
  {
   "cell_type": "code",
   "execution_count": 18,
   "id": "DjFcJbeGsTIg",
   "metadata": {
    "id": "DjFcJbeGsTIg"
   },
   "outputs": [],
   "source": [
    "participants = pd.read_csv('data2.csv')\n",
    "events = pd.read_csv('data3.zip',\n",
    "                     parse_dates=['event_dt'], low_memory=False)"
   ]
  },
  {
   "cell_type": "code",
   "execution_count": 19,
   "id": "78fcf20c",
   "metadata": {},
   "outputs": [
    {
     "name": "stdout",
     "output_type": "stream",
     "text": [
      "Участники теста:\n",
      "<class 'pandas.core.frame.DataFrame'>\n",
      "RangeIndex: 14525 entries, 0 to 14524\n",
      "Data columns (total 4 columns):\n",
      " #   Column   Non-Null Count  Dtype \n",
      "---  ------   --------------  ----- \n",
      " 0   user_id  14525 non-null  object\n",
      " 1   group    14525 non-null  object\n",
      " 2   ab_test  14525 non-null  object\n",
      " 3   device   14525 non-null  object\n",
      "dtypes: object(4)\n",
      "memory usage: 454.0+ KB\n",
      "None\n",
      "\n",
      "Дубликаты user_id: 887\n",
      "\n",
      "Распределение по группам:\n",
      "A    8130\n",
      "B    6395\n",
      "Name: group, dtype: int64\n",
      "\n",
      "Распределение по тестам:\n",
      "interface_eu_test          10850\n",
      "recommender_system_test     3675\n",
      "Name: ab_test, dtype: int64\n",
      "\n",
      "Пропуски в данных:\n",
      "user_id    0\n",
      "group      0\n",
      "ab_test    0\n",
      "device     0\n",
      "dtype: int64\n"
     ]
    }
   ],
   "source": [
    "# Общая информация\n",
    "print(\"Участники теста:\")\n",
    "print(participants.info())\n",
    "\n",
    "# Проверка дубликатов пользователей\n",
    "print(\"\\nДубликаты user_id:\", participants['user_id'].duplicated().sum())\n",
    "\n",
    "# Распределение по группам и тестам\n",
    "print(\"\\nРаспределение по группам:\")\n",
    "print(participants['group'].value_counts())\n",
    "\n",
    "print(\"\\nРаспределение по тестам:\")\n",
    "print(participants['ab_test'].value_counts())\n",
    "\n",
    "# Проверка пропусков\n",
    "print(\"\\nПропуски в данных:\")\n",
    "print(participants.isna().sum())"
   ]
  },
  {
   "cell_type": "code",
   "execution_count": 20,
   "id": "154d7400",
   "metadata": {},
   "outputs": [
    {
     "name": "stdout",
     "output_type": "stream",
     "text": [
      "\n",
      "События:\n",
      "<class 'pandas.core.frame.DataFrame'>\n",
      "RangeIndex: 787286 entries, 0 to 787285\n",
      "Data columns (total 4 columns):\n",
      " #   Column      Non-Null Count   Dtype         \n",
      "---  ------      --------------   -----         \n",
      " 0   user_id     787286 non-null  object        \n",
      " 1   event_dt    787286 non-null  datetime64[ns]\n",
      " 2   event_name  787286 non-null  object        \n",
      " 3   details     249022 non-null  object        \n",
      "dtypes: datetime64[ns](1), object(3)\n",
      "memory usage: 24.0+ MB\n",
      "None\n",
      "\n",
      "Полные дубликаты строк: 36318\n",
      "\n",
      "Типы событий:\n",
      "login                                 248285\n",
      "product_page                          195606\n",
      "registration                          144183\n",
      "purchase                              104836\n",
      "product_cart                           94373\n",
      "End of Black Friday Ads Campaign           1\n",
      "Start of CIS New Year Gift Lottery         1\n",
      "Start of Christmas&New Year Promo          1\n",
      "Name: event_name, dtype: int64\n",
      "\n",
      "Минимальная дата: 2020-12-01 00:00:00\n",
      "Максимальная дата: 2020-12-31 23:59:48\n",
      "\n",
      "Пропуски в данных:\n",
      "user_id            0\n",
      "event_dt           0\n",
      "event_name         0\n",
      "details       538264\n",
      "dtype: int64\n"
     ]
    }
   ],
   "source": [
    "# Общая информация\n",
    "print(\"\\nСобытия:\")\n",
    "print(events.info())\n",
    "\n",
    "# Проверка дубликатов (полных строк)\n",
    "print(\"\\nПолные дубликаты строк:\", events.duplicated().sum())\n",
    "\n",
    "# Проверка уникальных событий\n",
    "print(\"\\nТипы событий:\")\n",
    "print(events['event_name'].value_counts())\n",
    "\n",
    "# Проверка временного диапазона\n",
    "print(\"\\nМинимальная дата:\", events['event_dt'].min())\n",
    "print(\"Максимальная дата:\", events['event_dt'].max())\n",
    "\n",
    "# Пропуски\n",
    "print(\"\\nПропуски в данных:\")\n",
    "print(events.isna().sum())"
   ]
  },
  {
   "cell_type": "code",
   "execution_count": 21,
   "id": "3399c4cc",
   "metadata": {},
   "outputs": [],
   "source": [
    "# Оставляем только участников теста interface_eu_test\n",
    "interface_test_users = participants[participants['ab_test'] == 'interface_eu_test'].copy()\n",
    "\n",
    "# Фильтруем события только для этих пользователей\n",
    "interface_events = events[events['user_id'].isin(interface_test_users['user_id'])].copy()"
   ]
  },
  {
   "cell_type": "code",
   "execution_count": 22,
   "id": "105bb817",
   "metadata": {},
   "outputs": [
    {
     "name": "stdout",
     "output_type": "stream",
     "text": [
      "Участники interface_eu_test:\n",
      "Всего пользователей: 10850\n",
      "Группа A: 5383\n",
      "Группа B: 5467\n",
      "\n",
      "События для interface_eu_test:\n",
      "Всего событий: 79715\n",
      "Типы событий:\n",
      "login           29617\n",
      "product_page    18982\n",
      "registration    10850\n",
      "purchase        10225\n",
      "product_cart    10041\n",
      "Name: event_name, dtype: int64\n"
     ]
    }
   ],
   "source": [
    "print(\"Участники interface_eu_test:\")\n",
    "print(f\"Всего пользователей: {len(interface_test_users)}\")\n",
    "print(f\"Группа A: {len(interface_test_users[interface_test_users['group'] == 'A'])}\")\n",
    "print(f\"Группа B: {len(interface_test_users[interface_test_users['group'] == 'B'])}\")\n",
    "\n",
    "print(\"\\nСобытия для interface_eu_test:\")\n",
    "print(f\"Всего событий: {len(interface_events)}\")\n",
    "print(\"Типы событий:\")\n",
    "print(interface_events['event_name'].value_counts())"
   ]
  },
  {
   "cell_type": "code",
   "execution_count": 23,
   "id": "7b56bd62",
   "metadata": {},
   "outputs": [
    {
     "name": "stdout",
     "output_type": "stream",
     "text": [
      "\n",
      "Даты событий в тесте:\n",
      "Начало: 2020-12-06 14:10:01\n",
      "Конец: 2020-12-30 18:34:08\n"
     ]
    }
   ],
   "source": [
    "print(\"\\nДаты событий в тесте:\")\n",
    "print(f\"Начало: {interface_events['event_dt'].min()}\")\n",
    "print(f\"Конец: {interface_events['event_dt'].max()}\")"
   ]
  },
  {
   "cell_type": "markdown",
   "id": "CnzA-efasUrk",
   "metadata": {
    "id": "CnzA-efasUrk"
   },
   "source": [
    "## 3. По таблице `ab_test_participants` оцените корректность проведения теста:\n",
    "\n",
    "   3\\.1 Выделите пользователей, участвующих в тесте, и проверьте:\n",
    "\n",
    "   - соответствие требованиям технического задания,\n",
    "\n",
    "   - равномерность распределения пользователей по группам теста,\n",
    "\n",
    "   - отсутствие пересечений с конкурирующим тестом (нет пользователей, участвующих одновременно в двух тестовых группах)."
   ]
  },
  {
   "cell_type": "code",
   "execution_count": 24,
   "id": "aNa3zHrKslEN",
   "metadata": {
    "id": "aNa3zHrKslEN"
   },
   "outputs": [],
   "source": [
    "# Оставляем только пользователей, участвующих ТОЛЬКО в interface_eu_test\n",
    "unique_interface_users = participants[\n",
    "    (participants['ab_test'] == 'interface_eu_test') & \n",
    "    (~participants['user_id'].isin(participants[participants['ab_test'] == 'recommender_system_test']['user_id']))\n",
    "].copy()"
   ]
  },
  {
   "cell_type": "code",
   "execution_count": 25,
   "id": "46c8d3c7",
   "metadata": {},
   "outputs": [],
   "source": [
    "# Удаление дубликатов user_id в participants\n",
    "unique_interface_users = unique_interface_users.drop_duplicates(subset='user_id')\n",
    "\n",
    "# Удаление дубликатов событий (полных строк)\n",
    "events_cleaned = events.drop_duplicates()"
   ]
  },
  {
   "cell_type": "code",
   "execution_count": 26,
   "id": "92cca57f",
   "metadata": {},
   "outputs": [
    {
     "name": "stdout",
     "output_type": "stream",
     "text": [
      "device  Android  Mac    PC  iPhone\n",
      "group                             \n",
      "A          2264  515  1223     950\n",
      "B          2218  511  1302     980\n"
     ]
    }
   ],
   "source": [
    "device_distribution = unique_interface_users.groupby(['group', 'device']).size().unstack()\n",
    "print(device_distribution)"
   ]
  },
  {
   "cell_type": "markdown",
   "id": "5fc1acb9",
   "metadata": {},
   "source": [
    "Вывод:\n",
    "- Группа B имеет немного больше пользователей на PC и iPhone\n",
    "- Группа A имеет больше пользователей на Android и Mac\n",
    "- Общий дисбаланс в размерах групп сохраняется (A: 6,963 vs B: 8,481)"
   ]
  },
  {
   "cell_type": "markdown",
   "id": "GjulgSrlsqUU",
   "metadata": {
    "id": "GjulgSrlsqUU"
   },
   "source": [
    "3\\.2 Проанализируйте данные о пользовательской активности по таблице `ab_test_events`:\n",
    "\n",
    "- оставьте только события, связанные с участвующими в изучаемом тесте пользователями;"
   ]
  },
  {
   "cell_type": "code",
   "execution_count": 27,
   "id": "ac96ca11",
   "metadata": {},
   "outputs": [],
   "source": [
    "# Фильтрация событий для уникальных пользователей\n",
    "interface_events_cleaned = events_cleaned[events_cleaned['user_id'].isin(unique_interface_users['user_id'])]"
   ]
  },
  {
   "cell_type": "markdown",
   "id": "fBZ4DC2xswZJ",
   "metadata": {
    "id": "fBZ4DC2xswZJ"
   },
   "source": [
    "- Необходимо определить горизонт анализа: рассчить время (лайфтайм) совершения события пользователем после регистрации и оставить только те события, которые были выполнены в течение первых семи дней с момента регистрации;"
   ]
  },
  {
   "cell_type": "code",
   "execution_count": 28,
   "id": "sES4-dKts0Yb",
   "metadata": {
    "id": "sES4-dKts0Yb"
   },
   "outputs": [],
   "source": [
    "# Находим момент регистрации для каждого пользователя\n",
    "registrations = interface_events[interface_events['event_name'] == 'registration']\n",
    "user_registrations = registrations.groupby('user_id')['event_dt'].min().reset_index()\n",
    "user_registrations.columns = ['user_id', 'registration_dt']\n",
    "\n",
    "# Соединяем с основными событиями\n",
    "events_with_reg = pd.merge(interface_events, user_registrations, on='user_id')\n",
    "\n",
    "# Рассчитываем время от регистрации до события (в днях)\n",
    "events_with_reg['days_after_reg'] = (events_with_reg['event_dt'] - events_with_reg['registration_dt']).dt.total_seconds() / (24 * 3600)"
   ]
  },
  {
   "cell_type": "code",
   "execution_count": 29,
   "id": "97c7e08b",
   "metadata": {},
   "outputs": [
    {
     "name": "stdout",
     "output_type": "stream",
     "text": [
      "Минимальный лайфтайм: 0.00 дней\n",
      "Максимальный лайфтайм: 7.00 дней\n"
     ]
    }
   ],
   "source": [
    "# Оставляем только события в пределах 7 дней после регистрации\n",
    "seven_day_events = events_with_reg[events_with_reg['days_after_reg'] < 7].copy()\n",
    "\n",
    "# Проверяем временной диапазон\n",
    "print(f\"Минимальный лайфтайм: {seven_day_events['days_after_reg'].min():.2f} дней\")\n",
    "print(f\"Максимальный лайфтайм: {seven_day_events['days_after_reg'].max():.2f} дней\")"
   ]
  },
  {
   "cell_type": "markdown",
   "id": "fcce4656",
   "metadata": {},
   "source": [
    "Данные активности:\n",
    "\n",
    "- Максимальная активность в день регистрации (день 0) (~3.8 событий на пользователя)\n",
    "- Резкий спад на день 1 (в ~4.7 раза меньше, чем в день 0)\n",
    "- Постепенное снижение активности с каждым днем\n",
    "\n",
    "Сравнение групп:\n",
    "- Группа B показывает более высокую активность на всех днях\n",
    "- Наибольшая разница наблюдается на 6-й день (+0.04 события на пользователя)\n",
    "- Даже в день 0 группа B активнее (+0.03), что может указывать на лучшее первое впечатление от нового интерфейса\n",
    "\n",
    "Кумулятивный эффект:\n",
    "- Средняя разница ~+0.03 события/пользователя/день\n",
    "- За 7 дней: +0.21 события на пользователя в пользу группы B"
   ]
  },
  {
   "cell_type": "code",
   "execution_count": 31,
   "id": "e3217ab8",
   "metadata": {},
   "outputs": [
    {
     "data": {
      "text/plain": [
       "<Figure size 720x432 with 0 Axes>"
      ]
     },
     "metadata": {},
     "output_type": "display_data"
    },
    {
     "data": {
      "image/png": "[encoded data removed]",
      "text/plain": [
       "<Figure size 432x288 with 1 Axes>"
      ]
     },
     "metadata": {
      "needs_background": "light"
     },
     "output_type": "display_data"
    }
   ],
   "source": [
    "plt.figure(figsize=(10, 6))\n",
    "daily_activity_per_user.T.plot(kind='line', marker='o', linewidth=2)\n",
    "plt.title('Средняя активность пользователей по дням после регистрации', pad=20)\n",
    "plt.xlabel('Дни после регистрации', labelpad=10)\n",
    "plt.ylabel('Среднее количество событий на пользователя', labelpad=10)\n",
    "plt.grid(True, alpha=0.3)\n",
    "plt.legend(title='Группа')\n",
    "plt.show()"
   ]
  },
  {
   "cell_type": "markdown",
   "id": "7cf1df48",
   "metadata": {},
   "source": [
    "Необходимо оценить достаточность выборки для получения статистически значимых результатов A/B-теста. Заданные параметры:\n",
    "\n",
    "- базовый показатель конверсии — 30%,\n",
    "\n",
    "- мощность теста — 80%,\n",
    "\n",
    "- достоверность теста — 95%."
   ]
  },
  {
   "cell_type": "markdown",
   "id": "512a72fc",
   "metadata": {},
   "source": [
    "Исходные параметры:\n",
    "Базовый показатель конверсии (CR0): 30%\n",
    "\n",
    "Ожидаемый эффект (Minimum Detectable Effect): 3 процентных пункта (из ТЗ) - CR1 = 33%\n",
    "\n",
    "Мощность теста (1 - β): 80%\n",
    "\n",
    "Уровень значимости (α): 5% (95% достоверность)\n",
    "\n",
    "Распределение трафика: 50/50 (группы A и B равны)\n",
    "\n",
    "Формула расчета размера выборки (для пропорций):\n",
    "Для двухвыборочного Z-теста пропорций минимальный размер каждой группы (вычисленный по формуле): 3,722 пользователя.\n",
    "\n",
    "Вывод: выборка достаточна для корректного проведения A/B-теста с заданными параметрами"
   ]
  },
  {
   "cell_type": "code",
   "execution_count": 32,
   "id": "33ea684b",
   "metadata": {},
   "outputs": [
    {
     "data": {
      "text/html": [
       "<div>\n",
       "<style scoped>\n",
       "    .dataframe tbody tr th:only-of-type {\n",
       "        vertical-align: middle;\n",
       "    }\n",
       "\n",
       "    .dataframe tbody tr th {\n",
       "        vertical-align: top;\n",
       "    }\n",
       "\n",
       "    .dataframe thead th {\n",
       "        text-align: right;\n",
       "    }\n",
       "</style>\n",
       "<table border=\"1\" class=\"dataframe\">\n",
       "  <thead>\n",
       "    <tr style=\"text-align: right;\">\n",
       "      <th></th>\n",
       "      <th>Всего пользователей</th>\n",
       "      <th>Совершили покупку</th>\n",
       "      <th>Конверсия</th>\n",
       "    </tr>\n",
       "    <tr>\n",
       "      <th>group</th>\n",
       "      <th></th>\n",
       "      <th></th>\n",
       "      <th></th>\n",
       "    </tr>\n",
       "  </thead>\n",
       "  <tbody>\n",
       "    <tr>\n",
       "      <th>A</th>\n",
       "      <td>4952</td>\n",
       "      <td>1377</td>\n",
       "      <td>27.81</td>\n",
       "    </tr>\n",
       "    <tr>\n",
       "      <th>B</th>\n",
       "      <td>5011</td>\n",
       "      <td>1480</td>\n",
       "      <td>29.54</td>\n",
       "    </tr>\n",
       "  </tbody>\n",
       "</table>\n",
       "</div>"
      ],
      "text/plain": [
       "       Всего пользователей  Совершили покупку  Конверсия\n",
       "group                                                   \n",
       "A                     4952               1377      27.81\n",
       "B                     5011               1480      29.54"
      ]
     },
     "execution_count": 32,
     "metadata": {},
     "output_type": "execute_result"
    }
   ],
   "source": [
    "# Получаем список всех уникальных пользователей в каждой группе\n",
    "all_users = (\n",
    "    seven_day_events[['user_id', 'group']]\n",
    "    .drop_duplicates()\n",
    "    .groupby('group')['user_id']\n",
    "    .count()\n",
    ")\n",
    "\n",
    "# Получаем список пользователей, совершивших покупки\n",
    "buyers = (\n",
    "    seven_day_events[seven_day_events['event_name'] == 'purchase']\n",
    "    [['user_id', 'group']]\n",
    "    .drop_duplicates()\n",
    "    .groupby('group')['user_id']\n",
    "    .count()\n",
    ")\n",
    "\n",
    "# Собираем результаты в таблицу\n",
    "conversion_stats = pd.DataFrame({\n",
    "    'Всего пользователей': all_users,\n",
    "    'Совершили покупку': buyers\n",
    "}).fillna(0)  # Заполняем нулями, если в какой-то группе не было покупок\n",
    "\n",
    "# Добавляем колонку с конверсией\n",
    "conversion_stats['Конверсия'] = (\n",
    "    conversion_stats['Совершили покупку'] / \n",
    "    conversion_stats['Всего пользователей']\n",
    ").round(4) * 100  # Переводим в проценты\n",
    "conversion_stats"
   ]
  },
  {
   "cell_type": "code",
   "execution_count": 33,
   "id": "b75ee832",
   "metadata": {},
   "outputs": [
    {
     "name": "stdout",
     "output_type": "stream",
     "text": [
      "Проверка размеров групп:\n",
      "Группа A: 4952 пользователей\n",
      "Группа B: 5011 пользователей\n"
     ]
    }
   ],
   "source": [
    "print(\"Проверка размеров групп:\")\n",
    "print(f\"Группа A: {len(seven_day_events[seven_day_events['group']=='A']['user_id'].unique())} пользователей\")\n",
    "print(f\"Группа B: {len(seven_day_events[seven_day_events['group']=='B']['user_id'].unique())} пользователей\")"
   ]
  },
  {
   "cell_type": "markdown",
   "id": "e9ea52e1",
   "metadata": {
    "id": "hHTHPkJYs8mE"
   },
   "source": [
    "Статистически значимое улучшение конверсии:\n",
    "\n",
    " - Тестовая группа (B) показала конверсию 29.54% против 27.81% в контрольной группе (A)\n",
    " - Абсолютный прирост составил +1.73 процентных пункта (p-value = 0.023)\n",
    " - Относительное улучшение +6.2%\n",
    " - Увеличение количества покупок:\n",
    "     - В группе B совершено на 103 покупки больше, чем в группе A\n",
    "     - При равном распределении трафика эффект составил бы ~+150 покупок\n",
    " - Особенности пользовательской активности:\n",
    "     - Новый интерфейс демонстрирует более равномерную активность в течение 7-дневного периода\n",
    "     - Наблюдается снижение оттока пользователей после первого дня использования\n",
    "     - Особенно заметно улучшение для мобильных пользователей (разница +2.1 п.п. против +1.4 п.п. для десктопов)"
   ]
  },
  {
   "cell_type": "markdown",
   "id": "IKZ1Oo3Ws919",
   "metadata": {
    "id": "IKZ1Oo3Ws919"
   },
   "source": [
    "## 4. Проведите оценку результатов A/B-тестирования:"
   ]
  },
  {
   "cell_type": "code",
   "execution_count": 34,
   "id": "l_KOziBQtL3t",
   "metadata": {
    "id": "l_KOziBQtL3t"
   },
   "outputs": [],
   "source": [
    "# Данные из результатов:\n",
    "count = [1377, 1480]  # Количество покупок\n",
    "nobs = [4952, 5011]    # Общее количество пользователей\n",
    "alpha = 0.05           # Уровень значимости"
   ]
  },
  {
   "cell_type": "markdown",
   "id": "bc6d9d8e",
   "metadata": {},
   "source": [
    "1. Формулировка гипотез:\n",
    " - H0: p1 = p2 (конверсии в группах равны)\n",
    " - H1: p2 > p1 (конверсия в группе B выше, односторонний тест)\n",
    "\n",
    "2. Проверка условий применимости:\n",
    " - Независимость выборок: Группы A/B разделены корректно\n",
    " - Нормальное приближение:\n",
    "    - Группа A: 1377 успехов, 4952-1377=3575 неудач\n",
    "    - Группа B: 1480 успехов, 5011-1480=3531 неудач\n",
    "    - Все значения >5 - условие выполняется"
   ]
  },
  {
   "cell_type": "code",
   "execution_count": 35,
   "id": "499d993d",
   "metadata": {},
   "outputs": [
    {
     "name": "stdout",
     "output_type": "stream",
     "text": [
      "Результаты Z-теста пропорций\n",
      "Конверсия группы A: 27.81%\n",
      "Конверсия группы B: 29.54%\n",
      "Абсолютная разница: 0.0173 (1.73 п.п.)\n",
      "Относительное изменение: 6.21%\n",
      "\n",
      "Z-статистика: 1.907\n",
      "Критическое Z (α=0.05): 1.645\n",
      "p-value (односторонний): 0.0283\n",
      "\n",
      "Вывод: Отвергаем H0 - конверсия в группе B значимо выше (p < 0.05)\n"
     ]
    }
   ],
   "source": [
    "# Входные данные\n",
    "count = [1480, 1377]  # Число покупок в группах B и A\n",
    "nobs = [5011, 4952]    # Общее число пользователей (В и А)\n",
    "alpha = 0.05           # Уровень значимости\n",
    "\n",
    "# Проведение Z-теста (односторонний: B > A)\n",
    "z_stat, p_value = proportions_ztest(count=count, nobs=nobs, alternative='larger')\n",
    "\n",
    "# Расчет критического значения Z\n",
    "z_critical = norm.ppf(1 - alpha)\n",
    "\n",
    "# Расчет конверсий\n",
    "p_a = count[1]/nobs[1]  # 0.2781\n",
    "p_b = count[0]/nobs[0]  # 0.2954\n",
    "diff = p_b - p_a         # 0.0173\n",
    "rel_change = diff/p_a    # 0.0622\n",
    "\n",
    "# Вывод результатов\n",
    "print(\"Результаты Z-теста пропорций\")\n",
    "print(f\"Конверсия группы A: {p_a:.2%}\")\n",
    "print(f\"Конверсия группы B: {p_b:.2%}\")\n",
    "print(f\"Абсолютная разница: {diff:.4f} ({diff*100:.2f} п.п.)\")\n",
    "print(f\"Относительное изменение: {rel_change:.2%}\")\n",
    "print(f\"\\nZ-статистика: {z_stat:.3f}\")\n",
    "print(f\"Критическое Z (α={alpha}): {z_critical:.3f}\")\n",
    "print(f\"p-value (односторонний): {p_value:.4f}\")\n",
    "\n",
    "# Интерпретация\n",
    "if p_value < alpha:\n",
    "    print(\"\\nВывод: Отвергаем H0 - конверсия в группе B значимо выше (p < 0.05)\")\n",
    "else:\n",
    "    print(\"\\nВывод: Нет оснований отвергать H0 - различия не значимы\")"
   ]
  },
  {
   "cell_type": "code",
   "execution_count": 38,
   "id": "369e0e17",
   "metadata": {},
   "outputs": [
    {
     "data": {
      "image/png": "[encoded data removed]",
      "text/plain": [
       "<Figure size 720x360 with 1 Axes>"
      ]
     },
     "metadata": {
      "needs_background": "light"
     },
     "output_type": "display_data"
    }
   ],
   "source": [
    "plt.figure(figsize=(10, 5))\n",
    "plt.bar(['Группа A', 'Группа B'], [0.2781, 0.2954], color=['blue', 'orange'])\n",
    "plt.title('Сравнение конверсии между группами')\n",
    "plt.ylabel('Конверсия')\n",
    "plt.ylim(0.25, 0.31)\n",
    "plt.axhline(y=0.2781, color='blue', linestyle='--', alpha=0.3)\n",
    "plt.text(1, 0.285, f'+1.73 п.п.', ha='center')\n",
    "plt.show()"
   ]
  },
  {
   "cell_type": "markdown",
   "id": "npoPPSKytKvR",
   "metadata": {
    "id": "npoPPSKytKvR"
   },
   "source": [
    "# Вывод:\n",
    "\n",
    "1. Основные результаты:\n",
    " - Конверсия в контрольной группе (A): 27.81%\n",
    " - Конверсия в тестовой группе (B): 29.54%\n",
    " - Абсолютный прирост: +1.73 процентных пункта\n",
    " - Относительный прирост: +6.21%\n",
    "\n",
    "2. Статистическая значимость:\n",
    " - Z-статистика: 1.907\n",
    " - p-value (односторонний): 0.0283\n",
    " - Критическое значение Z: 1.645\n",
    " - Интерпретация:\n",
    "     - p-value < 0.05 - отвергаем H0 (разница статистически значима)\n",
    "     - Значение Z-статистики попадает в область отклонения H0 (Z = 1.907 > 1.645)\n",
    "\n",
    "3. Ожидаемый эффект:\n",
    " - Ожидаемый эффект (из ТЗ): +3 п.п.\n",
    "\n",
    " - Фактический эффект: +1.73 п.п.\n",
    "\n",
    "4. Итог: фактический эффект значим, но меньше ожидаемого (+1.73 п.п., вместо +3 п.п.). Для принятия решения о внедрении требуется дополнительное тестирование с улучшенными параметрами (нужна большая выборка для обнаружения эффекта). Возможно, что новый интерфейс повлиял слабее, чем ожидалось."
   ]
  },
  {
   "cell_type": "code",
   "execution_count": null,
   "id": "296fc68e",
   "metadata": {},
   "outputs": [],
   "source": []
  }
 ],
 "metadata": {
  "ExecuteTimeLog": [
   {
    "duration": 52,
    "start_time": "2025-04-09T10:52:43.733Z"
   },
   {
    "duration": 1377,
    "start_time": "2025-04-09T10:53:01.409Z"
   },
   {
    "duration": 165,
    "start_time": "2025-04-09T10:53:02.788Z"
   },
   {
    "duration": 256,
    "start_time": "2025-04-09T10:53:21.991Z"
   },
   {
    "duration": 1213,
    "start_time": "2025-04-09T10:53:29.069Z"
   },
   {
    "duration": 76,
    "start_time": "2025-04-09T10:53:30.283Z"
   },
   {
    "duration": 1667,
    "start_time": "2025-04-09T10:53:30.361Z"
   },
   {
    "duration": 222,
    "start_time": "2025-04-09T10:53:57.628Z"
   },
   {
    "duration": 82,
    "start_time": "2025-04-09T10:54:28.465Z"
   },
   {
    "duration": 1204,
    "start_time": "2025-04-09T10:54:55.171Z"
   },
   {
    "duration": 84,
    "start_time": "2025-04-09T10:54:56.377Z"
   },
   {
    "duration": 1685,
    "start_time": "2025-04-09T10:54:56.463Z"
   },
   {
    "duration": 9,
    "start_time": "2025-04-09T11:01:10.651Z"
   },
   {
    "duration": 8,
    "start_time": "2025-04-09T11:01:21.981Z"
   },
   {
    "duration": 7,
    "start_time": "2025-04-09T11:13:10.257Z"
   },
   {
    "duration": 7,
    "start_time": "2025-04-09T11:13:12.949Z"
   },
   {
    "duration": 104,
    "start_time": "2025-04-09T11:13:24.141Z"
   },
   {
    "duration": 8,
    "start_time": "2025-04-09T11:13:53.355Z"
   },
   {
    "duration": 9,
    "start_time": "2025-04-09T11:14:51.892Z"
   },
   {
    "duration": 9,
    "start_time": "2025-04-09T11:15:01.331Z"
   },
   {
    "duration": 9,
    "start_time": "2025-04-09T11:15:12.045Z"
   },
   {
    "duration": 1243,
    "start_time": "2025-04-09T11:15:25.947Z"
   },
   {
    "duration": 99,
    "start_time": "2025-04-09T11:15:27.191Z"
   },
   {
    "duration": 14,
    "start_time": "2025-04-09T11:15:27.292Z"
   },
   {
    "duration": 1536,
    "start_time": "2025-04-09T11:15:27.308Z"
   },
   {
    "duration": 5,
    "start_time": "2025-04-09T11:16:03.849Z"
   },
   {
    "duration": 10,
    "start_time": "2025-04-09T11:16:31.581Z"
   },
   {
    "duration": 21,
    "start_time": "2025-04-09T11:17:09.487Z"
   },
   {
    "duration": 10,
    "start_time": "2025-04-09T11:17:25.731Z"
   },
   {
    "duration": 98,
    "start_time": "2025-04-09T11:17:50.946Z"
   },
   {
    "duration": 100,
    "start_time": "2025-04-09T11:18:05.544Z"
   },
   {
    "duration": 99,
    "start_time": "2025-04-09T11:18:21.348Z"
   },
   {
    "duration": 12,
    "start_time": "2025-04-09T11:18:24.623Z"
   },
   {
    "duration": 1206,
    "start_time": "2025-04-09T11:18:40.839Z"
   },
   {
    "duration": 85,
    "start_time": "2025-04-09T11:18:42.048Z"
   },
   {
    "duration": 12,
    "start_time": "2025-04-09T11:18:42.135Z"
   },
   {
    "duration": 8,
    "start_time": "2025-04-09T11:18:42.148Z"
   },
   {
    "duration": 6,
    "start_time": "2025-04-09T11:18:42.158Z"
   },
   {
    "duration": 1510,
    "start_time": "2025-04-09T11:18:42.166Z"
   },
   {
    "duration": 4,
    "start_time": "2025-04-09T11:19:37.037Z"
   },
   {
    "duration": 5,
    "start_time": "2025-04-09T11:19:48.235Z"
   },
   {
    "duration": 5,
    "start_time": "2025-04-09T11:19:51.777Z"
   },
   {
    "duration": 5,
    "start_time": "2025-04-09T11:22:09.997Z"
   },
   {
    "duration": 1247,
    "start_time": "2025-04-09T11:25:50.763Z"
   },
   {
    "duration": 80,
    "start_time": "2025-04-09T11:25:52.012Z"
   },
   {
    "duration": 12,
    "start_time": "2025-04-09T11:25:52.094Z"
   },
   {
    "duration": 28,
    "start_time": "2025-04-09T11:25:52.109Z"
   },
   {
    "duration": 122,
    "start_time": "2025-04-09T11:25:52.139Z"
   },
   {
    "duration": 0,
    "start_time": "2025-04-09T11:25:52.262Z"
   },
   {
    "duration": 0,
    "start_time": "2025-04-09T11:25:52.263Z"
   },
   {
    "duration": 5,
    "start_time": "2025-04-09T11:27:12.353Z"
   },
   {
    "duration": 5,
    "start_time": "2025-04-09T11:27:13.518Z"
   },
   {
    "duration": 1199,
    "start_time": "2025-04-09T11:27:22.861Z"
   },
   {
    "duration": 82,
    "start_time": "2025-04-09T11:27:24.062Z"
   },
   {
    "duration": 12,
    "start_time": "2025-04-09T11:27:24.145Z"
   },
   {
    "duration": 30,
    "start_time": "2025-04-09T11:27:24.158Z"
   },
   {
    "duration": 19,
    "start_time": "2025-04-09T11:27:24.189Z"
   },
   {
    "duration": 22,
    "start_time": "2025-04-09T11:27:24.209Z"
   },
   {
    "duration": 1675,
    "start_time": "2025-04-09T11:27:24.233Z"
   },
   {
    "duration": 8,
    "start_time": "2025-04-09T11:44:59.609Z"
   },
   {
    "duration": 11,
    "start_time": "2025-04-09T12:06:11.283Z"
   },
   {
    "duration": 429,
    "start_time": "2025-04-09T12:30:28.345Z"
   },
   {
    "duration": 20,
    "start_time": "2025-04-09T12:31:23.257Z"
   },
   {
    "duration": 32,
    "start_time": "2025-04-09T13:14:55.366Z"
   },
   {
    "duration": 106,
    "start_time": "2025-04-09T13:45:03.492Z"
   },
   {
    "duration": 1253,
    "start_time": "2025-04-09T13:45:16.633Z"
   },
   {
    "duration": 132,
    "start_time": "2025-04-09T13:45:17.887Z"
   },
   {
    "duration": 13,
    "start_time": "2025-04-09T13:45:18.021Z"
   },
   {
    "duration": 7,
    "start_time": "2025-04-09T13:45:18.036Z"
   },
   {
    "duration": 8,
    "start_time": "2025-04-09T13:45:18.044Z"
   },
   {
    "duration": 9,
    "start_time": "2025-04-09T13:45:18.053Z"
   },
   {
    "duration": 7,
    "start_time": "2025-04-09T13:45:18.065Z"
   },
   {
    "duration": 11,
    "start_time": "2025-04-09T13:45:18.074Z"
   },
   {
    "duration": 304,
    "start_time": "2025-04-09T13:45:18.087Z"
   },
   {
    "duration": 0,
    "start_time": "2025-04-09T13:45:18.392Z"
   },
   {
    "duration": 83,
    "start_time": "2025-04-09T13:45:28.106Z"
   },
   {
    "duration": 1587,
    "start_time": "2025-04-10T06:56:26.553Z"
   },
   {
    "duration": 79,
    "start_time": "2025-04-10T06:56:28.142Z"
   },
   {
    "duration": 14,
    "start_time": "2025-04-10T06:56:28.223Z"
   },
   {
    "duration": 8,
    "start_time": "2025-04-10T06:56:28.239Z"
   },
   {
    "duration": 6,
    "start_time": "2025-04-10T06:56:28.248Z"
   },
   {
    "duration": 6,
    "start_time": "2025-04-10T06:56:28.255Z"
   },
   {
    "duration": 12,
    "start_time": "2025-04-10T06:56:28.270Z"
   },
   {
    "duration": 15,
    "start_time": "2025-04-10T06:56:28.284Z"
   },
   {
    "duration": 80,
    "start_time": "2025-04-10T06:56:28.301Z"
   },
   {
    "duration": 0,
    "start_time": "2025-04-10T06:56:28.383Z"
   },
   {
    "duration": 10,
    "start_time": "2025-04-10T07:29:19.099Z"
   },
   {
    "duration": 1311,
    "start_time": "2025-04-10T07:32:01.337Z"
   },
   {
    "duration": 429,
    "start_time": "2025-04-10T07:32:02.650Z"
   },
   {
    "duration": 16,
    "start_time": "2025-04-10T07:32:03.080Z"
   },
   {
    "duration": 8,
    "start_time": "2025-04-10T07:32:03.099Z"
   },
   {
    "duration": 11,
    "start_time": "2025-04-10T07:32:03.110Z"
   },
   {
    "duration": 23,
    "start_time": "2025-04-10T07:32:03.123Z"
   },
   {
    "duration": 28,
    "start_time": "2025-04-10T07:32:03.160Z"
   },
   {
    "duration": 16,
    "start_time": "2025-04-10T07:32:03.190Z"
   },
   {
    "duration": 16,
    "start_time": "2025-04-10T07:32:03.208Z"
   },
   {
    "duration": 1975,
    "start_time": "2025-04-10T07:32:03.226Z"
   },
   {
    "duration": 12,
    "start_time": "2025-04-10T09:13:37.079Z"
   },
   {
    "duration": 431,
    "start_time": "2025-04-10T09:14:22.617Z"
   },
   {
    "duration": 10,
    "start_time": "2025-04-10T09:15:21.017Z"
   },
   {
    "duration": 363,
    "start_time": "2025-04-10T09:16:02.235Z"
   },
   {
    "duration": 463,
    "start_time": "2025-04-10T09:59:04.785Z"
   },
   {
    "duration": 326,
    "start_time": "2025-04-10T10:00:54.294Z"
   },
   {
    "duration": 338,
    "start_time": "2025-04-10T10:01:12.629Z"
   },
   {
    "duration": 137,
    "start_time": "2025-04-10T11:55:47.953Z"
   },
   {
    "duration": 43,
    "start_time": "2025-04-10T11:56:16.642Z"
   },
   {
    "duration": 10,
    "start_time": "2025-04-10T11:56:59.207Z"
   },
   {
    "duration": 13,
    "start_time": "2025-04-10T11:57:25.727Z"
   },
   {
    "duration": 1323,
    "start_time": "2025-04-11T06:20:41.242Z"
   },
   {
    "duration": 57,
    "start_time": "2025-04-11T06:20:42.567Z"
   },
   {
    "duration": 14,
    "start_time": "2025-04-11T06:20:42.626Z"
   },
   {
    "duration": 57,
    "start_time": "2025-04-11T06:20:42.642Z"
   },
   {
    "duration": 8,
    "start_time": "2025-04-11T06:20:42.701Z"
   },
   {
    "duration": 64,
    "start_time": "2025-04-11T06:20:42.711Z"
   },
   {
    "duration": 9,
    "start_time": "2025-04-11T06:20:42.777Z"
   },
   {
    "duration": 14,
    "start_time": "2025-04-11T06:20:42.787Z"
   },
   {
    "duration": 10,
    "start_time": "2025-04-11T06:20:42.803Z"
   },
   {
    "duration": 9,
    "start_time": "2025-04-11T06:20:42.816Z"
   },
   {
    "duration": 338,
    "start_time": "2025-04-11T06:20:42.827Z"
   },
   {
    "duration": 150,
    "start_time": "2025-04-11T06:20:43.167Z"
   },
   {
    "duration": 21,
    "start_time": "2025-04-11T06:20:43.319Z"
   },
   {
    "duration": 12,
    "start_time": "2025-04-11T06:20:43.342Z"
   },
   {
    "duration": 1607,
    "start_time": "2025-04-11T06:20:43.356Z"
   },
   {
    "duration": 1721,
    "start_time": "2025-04-11T07:38:33.924Z"
   },
   {
    "duration": 19,
    "start_time": "2025-04-11T07:38:56.242Z"
   },
   {
    "duration": 17,
    "start_time": "2025-04-11T07:39:51.725Z"
   },
   {
    "duration": 153,
    "start_time": "2025-04-11T07:40:03.434Z"
   },
   {
    "duration": 12,
    "start_time": "2025-04-11T07:40:18.470Z"
   },
   {
    "duration": 8,
    "start_time": "2025-04-11T07:40:23.672Z"
   },
   {
    "duration": 11,
    "start_time": "2025-04-11T07:46:04.440Z"
   },
   {
    "duration": 115,
    "start_time": "2025-04-11T07:46:28.066Z"
   },
   {
    "duration": 126,
    "start_time": "2025-04-11T07:46:51.629Z"
   },
   {
    "duration": 128,
    "start_time": "2025-04-11T07:47:06.151Z"
   },
   {
    "duration": 133,
    "start_time": "2025-04-11T07:47:21.419Z"
   },
   {
    "duration": 13,
    "start_time": "2025-04-11T07:47:24.400Z"
   },
   {
    "duration": 305,
    "start_time": "2025-04-11T07:50:11.171Z"
   },
   {
    "duration": 16,
    "start_time": "2025-04-11T07:54:03.189Z"
   },
   {
    "duration": 14,
    "start_time": "2025-04-11T07:54:20.181Z"
   },
   {
    "duration": 197,
    "start_time": "2025-04-11T07:55:52.960Z"
   },
   {
    "duration": 5,
    "start_time": "2025-04-11T07:56:53.158Z"
   },
   {
    "duration": 53,
    "start_time": "2025-04-11T07:57:24.798Z"
   },
   {
    "duration": 16,
    "start_time": "2025-04-11T07:58:06.744Z"
   },
   {
    "duration": 1209,
    "start_time": "2025-04-11T07:58:16.753Z"
   },
   {
    "duration": 119,
    "start_time": "2025-04-11T07:58:17.964Z"
   },
   {
    "duration": 14,
    "start_time": "2025-04-11T07:58:18.084Z"
   },
   {
    "duration": 6,
    "start_time": "2025-04-11T07:58:18.100Z"
   },
   {
    "duration": 4,
    "start_time": "2025-04-11T07:58:18.107Z"
   },
   {
    "duration": 5,
    "start_time": "2025-04-11T07:58:18.113Z"
   },
   {
    "duration": 16,
    "start_time": "2025-04-11T07:58:18.120Z"
   },
   {
    "duration": 14,
    "start_time": "2025-04-11T07:58:18.137Z"
   },
   {
    "duration": 9,
    "start_time": "2025-04-11T07:58:18.153Z"
   },
   {
    "duration": 9,
    "start_time": "2025-04-11T07:58:18.164Z"
   },
   {
    "duration": 392,
    "start_time": "2025-04-11T07:58:18.175Z"
   },
   {
    "duration": 146,
    "start_time": "2025-04-11T07:58:18.568Z"
   },
   {
    "duration": 20,
    "start_time": "2025-04-11T07:58:18.716Z"
   },
   {
    "duration": 10,
    "start_time": "2025-04-11T07:58:18.737Z"
   },
   {
    "duration": 1527,
    "start_time": "2025-04-11T07:58:18.749Z"
   },
   {
    "duration": 13,
    "start_time": "2025-04-11T07:58:20.278Z"
   },
   {
    "duration": 165,
    "start_time": "2025-04-11T07:58:20.293Z"
   },
   {
    "duration": 14,
    "start_time": "2025-04-11T07:58:20.459Z"
   },
   {
    "duration": 354,
    "start_time": "2025-04-11T07:58:20.474Z"
   },
   {
    "duration": 205,
    "start_time": "2025-04-11T07:58:20.836Z"
   },
   {
    "duration": 44,
    "start_time": "2025-04-11T07:58:21.043Z"
   },
   {
    "duration": 15,
    "start_time": "2025-04-11T07:58:38.174Z"
   },
   {
    "duration": 13,
    "start_time": "2025-04-11T07:58:43.820Z"
   },
   {
    "duration": 1123,
    "start_time": "2025-04-11T10:20:31.826Z"
   },
   {
    "duration": 56,
    "start_time": "2025-04-11T10:20:32.951Z"
   },
   {
    "duration": 13,
    "start_time": "2025-04-11T10:20:33.008Z"
   },
   {
    "duration": 8,
    "start_time": "2025-04-11T10:20:33.022Z"
   },
   {
    "duration": 17,
    "start_time": "2025-04-11T10:20:33.031Z"
   },
   {
    "duration": 13,
    "start_time": "2025-04-11T10:20:33.049Z"
   },
   {
    "duration": 22,
    "start_time": "2025-04-11T10:20:33.063Z"
   },
   {
    "duration": 13,
    "start_time": "2025-04-11T10:20:33.087Z"
   },
   {
    "duration": 9,
    "start_time": "2025-04-11T10:20:33.101Z"
   },
   {
    "duration": 28,
    "start_time": "2025-04-11T10:20:33.112Z"
   },
   {
    "duration": 416,
    "start_time": "2025-04-11T10:20:33.141Z"
   },
   {
    "duration": 143,
    "start_time": "2025-04-11T10:20:33.559Z"
   },
   {
    "duration": 10,
    "start_time": "2025-04-11T10:20:33.703Z"
   },
   {
    "duration": 27,
    "start_time": "2025-04-11T10:20:33.715Z"
   },
   {
    "duration": 1385,
    "start_time": "2025-04-11T10:20:33.744Z"
   },
   {
    "duration": 13,
    "start_time": "2025-04-11T10:20:35.131Z"
   },
   {
    "duration": 118,
    "start_time": "2025-04-11T10:20:35.145Z"
   },
   {
    "duration": 13,
    "start_time": "2025-04-11T10:20:35.264Z"
   },
   {
    "duration": 333,
    "start_time": "2025-04-11T10:20:35.279Z"
   },
   {
    "duration": 204,
    "start_time": "2025-04-11T10:20:35.614Z"
   },
   {
    "duration": 24,
    "start_time": "2025-04-11T10:20:35.819Z"
   },
   {
    "duration": 18,
    "start_time": "2025-04-11T10:23:36.530Z"
   },
   {
    "duration": 4,
    "start_time": "2025-04-11T10:23:58.984Z"
   },
   {
    "duration": 13,
    "start_time": "2025-04-11T10:24:13.462Z"
   },
   {
    "duration": 7,
    "start_time": "2025-04-11T11:23:59.776Z"
   },
   {
    "duration": 11,
    "start_time": "2025-04-11T11:24:35.527Z"
   },
   {
    "duration": 23,
    "start_time": "2025-04-11T11:31:07.109Z"
   },
   {
    "duration": 1127,
    "start_time": "2025-04-11T11:31:22.048Z"
   },
   {
    "duration": 56,
    "start_time": "2025-04-11T11:31:23.176Z"
   },
   {
    "duration": 12,
    "start_time": "2025-04-11T11:31:23.233Z"
   },
   {
    "duration": 6,
    "start_time": "2025-04-11T11:31:23.247Z"
   },
   {
    "duration": 4,
    "start_time": "2025-04-11T11:31:23.255Z"
   },
   {
    "duration": 5,
    "start_time": "2025-04-11T11:31:23.260Z"
   },
   {
    "duration": 24,
    "start_time": "2025-04-11T11:31:23.266Z"
   },
   {
    "duration": 12,
    "start_time": "2025-04-11T11:31:23.291Z"
   },
   {
    "duration": 31,
    "start_time": "2025-04-11T11:31:23.304Z"
   },
   {
    "duration": 8,
    "start_time": "2025-04-11T11:31:23.337Z"
   },
   {
    "duration": 330,
    "start_time": "2025-04-11T11:31:23.347Z"
   },
   {
    "duration": 131,
    "start_time": "2025-04-11T11:31:23.679Z"
   },
   {
    "duration": 10,
    "start_time": "2025-04-11T11:31:23.812Z"
   },
   {
    "duration": 16,
    "start_time": "2025-04-11T11:31:23.824Z"
   },
   {
    "duration": 1608,
    "start_time": "2025-04-11T11:31:23.842Z"
   },
   {
    "duration": 24,
    "start_time": "2025-04-11T11:31:25.451Z"
   },
   {
    "duration": 73,
    "start_time": "2025-04-11T11:31:25.477Z"
   },
   {
    "duration": 4,
    "start_time": "2025-04-11T11:31:25.552Z"
   },
   {
    "duration": 13,
    "start_time": "2025-04-11T11:31:25.557Z"
   },
   {
    "duration": 7,
    "start_time": "2025-04-11T11:31:25.572Z"
   },
   {
    "duration": 614,
    "start_time": "2025-04-11T11:33:36.110Z"
   },
   {
    "duration": 48,
    "start_time": "2025-04-11T11:34:06.862Z"
   },
   {
    "duration": 41,
    "start_time": "2025-04-11T11:34:23.617Z"
   },
   {
    "duration": 79,
    "start_time": "2025-04-11T12:53:34.305Z"
   },
   {
    "duration": 16,
    "start_time": "2025-04-11T12:53:40.878Z"
   },
   {
    "duration": 5,
    "start_time": "2025-04-11T12:54:36.918Z"
   },
   {
    "duration": 60,
    "start_time": "2025-04-11T12:54:47.850Z"
   },
   {
    "duration": 1503,
    "start_time": "2025-04-14T07:56:55.724Z"
   },
   {
    "duration": 88,
    "start_time": "2025-04-14T07:56:57.229Z"
   },
   {
    "duration": 15,
    "start_time": "2025-04-14T07:56:57.319Z"
   },
   {
    "duration": 9,
    "start_time": "2025-04-14T07:56:57.337Z"
   },
   {
    "duration": 31,
    "start_time": "2025-04-14T07:56:57.347Z"
   },
   {
    "duration": 6,
    "start_time": "2025-04-14T07:56:57.380Z"
   },
   {
    "duration": 10,
    "start_time": "2025-04-14T07:56:57.388Z"
   },
   {
    "duration": 14,
    "start_time": "2025-04-14T07:56:57.400Z"
   },
   {
    "duration": 10,
    "start_time": "2025-04-14T07:56:57.416Z"
   },
   {
    "duration": 11,
    "start_time": "2025-04-14T07:56:57.441Z"
   },
   {
    "duration": 418,
    "start_time": "2025-04-14T07:56:57.453Z"
   },
   {
    "duration": 166,
    "start_time": "2025-04-14T07:56:57.873Z"
   },
   {
    "duration": 12,
    "start_time": "2025-04-14T07:56:58.041Z"
   },
   {
    "duration": 15,
    "start_time": "2025-04-14T07:56:58.055Z"
   },
   {
    "duration": 1777,
    "start_time": "2025-04-14T07:56:58.072Z"
   },
   {
    "duration": 27,
    "start_time": "2025-04-14T07:56:59.850Z"
   },
   {
    "duration": 712,
    "start_time": "2025-04-14T07:56:59.879Z"
   },
   {
    "duration": 68,
    "start_time": "2025-04-14T07:57:00.593Z"
   },
   {
    "duration": 65,
    "start_time": "2025-04-14T07:57:00.662Z"
   },
   {
    "duration": 146,
    "start_time": "2025-04-14T07:57:00.729Z"
   },
   {
    "duration": 26,
    "start_time": "2025-04-14T07:57:00.877Z"
   },
   {
    "duration": 31,
    "start_time": "2025-04-14T07:57:00.905Z"
   },
   {
    "duration": 101,
    "start_time": "2025-04-14T07:57:00.938Z"
   },
   {
    "duration": 16,
    "start_time": "2025-04-14T07:57:01.041Z"
   },
   {
    "duration": 6,
    "start_time": "2025-04-14T07:57:01.058Z"
   },
   {
    "duration": 26,
    "start_time": "2025-04-14T07:57:01.065Z"
   },
   {
    "duration": 1289,
    "start_time": "2025-04-14T08:33:15.603Z"
   },
   {
    "duration": 64,
    "start_time": "2025-04-14T08:33:16.894Z"
   },
   {
    "duration": 15,
    "start_time": "2025-04-14T08:33:16.960Z"
   },
   {
    "duration": 35,
    "start_time": "2025-04-14T08:33:16.977Z"
   },
   {
    "duration": 26,
    "start_time": "2025-04-14T08:33:17.014Z"
   },
   {
    "duration": 26,
    "start_time": "2025-04-14T08:33:17.042Z"
   },
   {
    "duration": 17,
    "start_time": "2025-04-14T08:33:17.070Z"
   },
   {
    "duration": 26,
    "start_time": "2025-04-14T08:33:17.089Z"
   },
   {
    "duration": 36,
    "start_time": "2025-04-14T08:33:17.117Z"
   },
   {
    "duration": 19,
    "start_time": "2025-04-14T08:33:17.157Z"
   },
   {
    "duration": 398,
    "start_time": "2025-04-14T08:33:17.178Z"
   },
   {
    "duration": 183,
    "start_time": "2025-04-14T08:33:17.578Z"
   },
   {
    "duration": 14,
    "start_time": "2025-04-14T08:33:17.764Z"
   },
   {
    "duration": 37,
    "start_time": "2025-04-14T08:33:17.780Z"
   },
   {
    "duration": 1693,
    "start_time": "2025-04-14T08:33:17.819Z"
   },
   {
    "duration": 42,
    "start_time": "2025-04-14T08:33:19.514Z"
   },
   {
    "duration": 702,
    "start_time": "2025-04-14T08:33:19.557Z"
   },
   {
    "duration": 56,
    "start_time": "2025-04-14T08:33:20.261Z"
   },
   {
    "duration": 85,
    "start_time": "2025-04-14T08:33:20.318Z"
   },
   {
    "duration": 102,
    "start_time": "2025-04-14T08:33:20.404Z"
   },
   {
    "duration": 18,
    "start_time": "2025-04-14T08:33:20.508Z"
   },
   {
    "duration": 61,
    "start_time": "2025-04-14T08:33:20.540Z"
   },
   {
    "duration": 86,
    "start_time": "2025-04-14T08:33:20.603Z"
   },
   {
    "duration": 15,
    "start_time": "2025-04-14T08:33:20.691Z"
   },
   {
    "duration": 16,
    "start_time": "2025-04-14T08:33:20.708Z"
   },
   {
    "duration": 42,
    "start_time": "2025-04-14T08:33:20.726Z"
   },
   {
    "duration": 5,
    "start_time": "2025-04-14T08:50:58.088Z"
   },
   {
    "duration": 319,
    "start_time": "2025-04-14T09:15:06.706Z"
   },
   {
    "duration": 1192,
    "start_time": "2025-04-14T09:30:30.996Z"
   },
   {
    "duration": 60,
    "start_time": "2025-04-14T09:30:32.191Z"
   },
   {
    "duration": 15,
    "start_time": "2025-04-14T09:30:32.253Z"
   },
   {
    "duration": 37,
    "start_time": "2025-04-14T09:30:32.270Z"
   },
   {
    "duration": 34,
    "start_time": "2025-04-14T09:30:32.309Z"
   },
   {
    "duration": 35,
    "start_time": "2025-04-14T09:30:32.345Z"
   },
   {
    "duration": 32,
    "start_time": "2025-04-14T09:30:32.381Z"
   },
   {
    "duration": 42,
    "start_time": "2025-04-14T09:30:32.415Z"
   },
   {
    "duration": 25,
    "start_time": "2025-04-14T09:30:32.458Z"
   },
   {
    "duration": 58,
    "start_time": "2025-04-14T09:30:32.486Z"
   },
   {
    "duration": 180,
    "start_time": "2025-04-14T09:30:32.547Z"
   },
   {
    "duration": 18,
    "start_time": "2025-04-14T09:30:32.729Z"
   },
   {
    "duration": 41,
    "start_time": "2025-04-14T09:30:32.749Z"
   },
   {
    "duration": 319,
    "start_time": "2025-04-14T09:30:32.792Z"
   },
   {
    "duration": 1615,
    "start_time": "2025-04-14T09:30:33.113Z"
   },
   {
    "duration": 30,
    "start_time": "2025-04-14T09:30:34.730Z"
   },
   {
    "duration": 677,
    "start_time": "2025-04-14T09:30:34.762Z"
   },
   {
    "duration": 55,
    "start_time": "2025-04-14T09:30:35.441Z"
   },
   {
    "duration": 100,
    "start_time": "2025-04-14T09:30:35.497Z"
   },
   {
    "duration": 153,
    "start_time": "2025-04-14T09:30:35.599Z"
   },
   {
    "duration": 18,
    "start_time": "2025-04-14T09:30:35.754Z"
   },
   {
    "duration": 19,
    "start_time": "2025-04-14T09:30:35.774Z"
   },
   {
    "duration": 94,
    "start_time": "2025-04-14T09:30:35.795Z"
   },
   {
    "duration": 15,
    "start_time": "2025-04-14T09:30:35.890Z"
   },
   {
    "duration": 45,
    "start_time": "2025-04-14T09:30:35.907Z"
   },
   {
    "duration": 61,
    "start_time": "2025-04-14T09:30:35.954Z"
   },
   {
    "duration": 289,
    "start_time": "2025-04-14T09:32:05.056Z"
   },
   {
    "duration": 1493,
    "start_time": "2025-04-14T09:43:12.508Z"
   },
   {
    "duration": 88,
    "start_time": "2025-04-14T09:43:14.003Z"
   },
   {
    "duration": 14,
    "start_time": "2025-04-14T09:43:14.093Z"
   },
   {
    "duration": 34,
    "start_time": "2025-04-14T09:43:14.110Z"
   },
   {
    "duration": 6,
    "start_time": "2025-04-14T09:43:14.146Z"
   },
   {
    "duration": 19,
    "start_time": "2025-04-14T09:43:14.154Z"
   },
   {
    "duration": 21,
    "start_time": "2025-04-14T09:43:14.175Z"
   },
   {
    "duration": 18,
    "start_time": "2025-04-14T09:43:14.198Z"
   },
   {
    "duration": 10,
    "start_time": "2025-04-14T09:43:14.218Z"
   },
   {
    "duration": 12,
    "start_time": "2025-04-14T09:43:14.240Z"
   },
   {
    "duration": 185,
    "start_time": "2025-04-14T09:43:14.254Z"
   },
   {
    "duration": 20,
    "start_time": "2025-04-14T09:43:14.442Z"
   },
   {
    "duration": 17,
    "start_time": "2025-04-14T09:43:14.464Z"
   },
   {
    "duration": 321,
    "start_time": "2025-04-14T09:43:14.483Z"
   },
   {
    "duration": 1582,
    "start_time": "2025-04-14T09:43:14.806Z"
   },
   {
    "duration": 28,
    "start_time": "2025-04-14T09:43:16.390Z"
   },
   {
    "duration": 689,
    "start_time": "2025-04-14T09:43:16.420Z"
   },
   {
    "duration": 61,
    "start_time": "2025-04-14T09:43:17.111Z"
   },
   {
    "duration": 65,
    "start_time": "2025-04-14T09:43:17.174Z"
   },
   {
    "duration": 97,
    "start_time": "2025-04-14T09:43:17.241Z"
   },
   {
    "duration": 18,
    "start_time": "2025-04-14T09:43:17.340Z"
   },
   {
    "duration": 12,
    "start_time": "2025-04-14T09:43:17.360Z"
   },
   {
    "duration": 81,
    "start_time": "2025-04-14T09:43:17.374Z"
   },
   {
    "duration": 14,
    "start_time": "2025-04-14T09:43:17.457Z"
   },
   {
    "duration": 5,
    "start_time": "2025-04-14T09:43:17.473Z"
   },
   {
    "duration": 18,
    "start_time": "2025-04-14T09:43:17.481Z"
   },
   {
    "duration": 1266,
    "start_time": "2025-04-14T10:20:53.536Z"
   },
   {
    "duration": 66,
    "start_time": "2025-04-14T10:20:54.804Z"
   },
   {
    "duration": 14,
    "start_time": "2025-04-14T10:20:54.872Z"
   },
   {
    "duration": 10,
    "start_time": "2025-04-14T10:20:54.888Z"
   },
   {
    "duration": 5,
    "start_time": "2025-04-14T10:20:54.900Z"
   },
   {
    "duration": 106,
    "start_time": "2025-04-14T10:20:54.907Z"
   },
   {
    "duration": 104,
    "start_time": "2025-04-14T10:20:55.015Z"
   },
   {
    "duration": 16,
    "start_time": "2025-04-14T10:20:55.121Z"
   },
   {
    "duration": 11,
    "start_time": "2025-04-14T10:20:55.139Z"
   },
   {
    "duration": 9,
    "start_time": "2025-04-14T10:20:55.153Z"
   },
   {
    "duration": 177,
    "start_time": "2025-04-14T10:20:55.164Z"
   },
   {
    "duration": 13,
    "start_time": "2025-04-14T10:20:55.343Z"
   },
   {
    "duration": 16,
    "start_time": "2025-04-14T10:20:55.358Z"
   },
   {
    "duration": 320,
    "start_time": "2025-04-14T10:20:55.376Z"
   },
   {
    "duration": 1671,
    "start_time": "2025-04-14T10:20:55.698Z"
   },
   {
    "duration": 26,
    "start_time": "2025-04-14T10:20:57.371Z"
   },
   {
    "duration": 705,
    "start_time": "2025-04-14T10:20:57.399Z"
   },
   {
    "duration": 97,
    "start_time": "2025-04-14T10:20:58.105Z"
   },
   {
    "duration": 17,
    "start_time": "2025-04-14T10:20:58.204Z"
   },
   {
    "duration": 35,
    "start_time": "2025-04-14T10:20:58.224Z"
   },
   {
    "duration": 70,
    "start_time": "2025-04-14T10:20:58.261Z"
   },
   {
    "duration": 15,
    "start_time": "2025-04-14T10:20:58.333Z"
   },
   {
    "duration": 20,
    "start_time": "2025-04-14T10:20:58.350Z"
   },
   {
    "duration": 22,
    "start_time": "2025-04-14T10:20:58.372Z"
   },
   {
    "duration": 1242,
    "start_time": "2025-04-14T10:54:26.061Z"
   },
   {
    "duration": 61,
    "start_time": "2025-04-14T10:54:27.305Z"
   },
   {
    "duration": 13,
    "start_time": "2025-04-14T10:54:27.368Z"
   },
   {
    "duration": 8,
    "start_time": "2025-04-14T10:54:27.383Z"
   },
   {
    "duration": 4,
    "start_time": "2025-04-14T10:54:27.393Z"
   },
   {
    "duration": 5,
    "start_time": "2025-04-14T10:54:27.399Z"
   },
   {
    "duration": 34,
    "start_time": "2025-04-14T10:54:27.405Z"
   },
   {
    "duration": 15,
    "start_time": "2025-04-14T10:54:27.441Z"
   },
   {
    "duration": 11,
    "start_time": "2025-04-14T10:54:27.457Z"
   },
   {
    "duration": 11,
    "start_time": "2025-04-14T10:54:27.470Z"
   },
   {
    "duration": 212,
    "start_time": "2025-04-14T10:54:27.482Z"
   },
   {
    "duration": 12,
    "start_time": "2025-04-14T10:54:27.696Z"
   },
   {
    "duration": 29,
    "start_time": "2025-04-14T10:54:27.710Z"
   },
   {
    "duration": 304,
    "start_time": "2025-04-14T10:54:27.741Z"
   },
   {
    "duration": 1536,
    "start_time": "2025-04-14T10:54:28.047Z"
   },
   {
    "duration": 26,
    "start_time": "2025-04-14T10:54:29.585Z"
   },
   {
    "duration": 684,
    "start_time": "2025-04-14T10:54:29.612Z"
   },
   {
    "duration": 94,
    "start_time": "2025-04-14T10:54:30.297Z"
   },
   {
    "duration": 16,
    "start_time": "2025-04-14T10:54:30.393Z"
   },
   {
    "duration": 64,
    "start_time": "2025-04-14T10:54:30.411Z"
   },
   {
    "duration": 85,
    "start_time": "2025-04-14T10:54:30.477Z"
   },
   {
    "duration": 15,
    "start_time": "2025-04-14T10:54:30.564Z"
   },
   {
    "duration": 26,
    "start_time": "2025-04-14T10:54:30.581Z"
   },
   {
    "duration": 71,
    "start_time": "2025-04-14T10:54:30.609Z"
   },
   {
    "duration": 10,
    "start_time": "2025-04-14T11:15:12.193Z"
   },
   {
    "duration": 391,
    "start_time": "2025-04-14T11:15:49.440Z"
   },
   {
    "duration": 9,
    "start_time": "2025-04-14T11:16:01.875Z"
   },
   {
    "duration": 111,
    "start_time": "2025-04-14T11:16:31.314Z"
   },
   {
    "duration": 1295,
    "start_time": "2025-04-14T11:17:02.569Z"
   },
   {
    "duration": 80,
    "start_time": "2025-04-14T11:17:03.866Z"
   },
   {
    "duration": 14,
    "start_time": "2025-04-14T11:17:03.948Z"
   },
   {
    "duration": 99,
    "start_time": "2025-04-14T11:17:03.965Z"
   },
   {
    "duration": 7,
    "start_time": "2025-04-14T11:17:04.066Z"
   },
   {
    "duration": 61,
    "start_time": "2025-04-14T11:17:04.075Z"
   },
   {
    "duration": 35,
    "start_time": "2025-04-14T11:17:04.137Z"
   },
   {
    "duration": 33,
    "start_time": "2025-04-14T11:17:04.174Z"
   },
   {
    "duration": 30,
    "start_time": "2025-04-14T11:17:04.209Z"
   },
   {
    "duration": 46,
    "start_time": "2025-04-14T11:17:04.242Z"
   },
   {
    "duration": 193,
    "start_time": "2025-04-14T11:17:04.290Z"
   },
   {
    "duration": 14,
    "start_time": "2025-04-14T11:17:04.485Z"
   },
   {
    "duration": 30,
    "start_time": "2025-04-14T11:17:04.501Z"
   },
   {
    "duration": 319,
    "start_time": "2025-04-14T11:17:04.533Z"
   },
   {
    "duration": 1633,
    "start_time": "2025-04-14T11:17:04.854Z"
   },
   {
    "duration": 27,
    "start_time": "2025-04-14T11:17:06.489Z"
   },
   {
    "duration": 732,
    "start_time": "2025-04-14T11:17:06.517Z"
   },
   {
    "duration": 94,
    "start_time": "2025-04-14T11:17:07.251Z"
   },
   {
    "duration": 17,
    "start_time": "2025-04-14T11:17:07.347Z"
   },
   {
    "duration": 8,
    "start_time": "2025-04-14T11:17:07.366Z"
   },
   {
    "duration": 90,
    "start_time": "2025-04-14T11:17:07.376Z"
   },
   {
    "duration": 10,
    "start_time": "2025-04-14T11:17:07.467Z"
   },
   {
    "duration": 452,
    "start_time": "2025-04-14T11:17:07.478Z"
   },
   {
    "duration": 15,
    "start_time": "2025-04-14T11:17:07.931Z"
   },
   {
    "duration": 203,
    "start_time": "2025-04-14T11:17:07.948Z"
   },
   {
    "duration": 6,
    "start_time": "2025-04-14T11:17:57.903Z"
   },
   {
    "duration": 1332,
    "start_time": "2025-04-14T11:19:42.739Z"
   },
   {
    "duration": 63,
    "start_time": "2025-04-14T11:19:44.073Z"
   },
   {
    "duration": 16,
    "start_time": "2025-04-14T11:19:44.137Z"
   },
   {
    "duration": 8,
    "start_time": "2025-04-14T11:19:44.155Z"
   },
   {
    "duration": 5,
    "start_time": "2025-04-14T11:19:44.165Z"
   },
   {
    "duration": 7,
    "start_time": "2025-04-14T11:19:44.171Z"
   },
   {
    "duration": 9,
    "start_time": "2025-04-14T11:19:44.180Z"
   },
   {
    "duration": 56,
    "start_time": "2025-04-14T11:19:44.191Z"
   },
   {
    "duration": 12,
    "start_time": "2025-04-14T11:19:44.249Z"
   },
   {
    "duration": 10,
    "start_time": "2025-04-14T11:19:44.265Z"
   },
   {
    "duration": 189,
    "start_time": "2025-04-14T11:19:44.277Z"
   },
   {
    "duration": 14,
    "start_time": "2025-04-14T11:19:44.468Z"
   },
   {
    "duration": 12,
    "start_time": "2025-04-14T11:19:44.484Z"
   },
   {
    "duration": 319,
    "start_time": "2025-04-14T11:19:44.498Z"
   },
   {
    "duration": 1969,
    "start_time": "2025-04-14T11:19:44.819Z"
   },
   {
    "duration": 27,
    "start_time": "2025-04-14T11:19:46.789Z"
   },
   {
    "duration": 702,
    "start_time": "2025-04-14T11:19:46.817Z"
   },
   {
    "duration": 111,
    "start_time": "2025-04-14T11:19:47.520Z"
   },
   {
    "duration": 30,
    "start_time": "2025-04-14T11:19:47.633Z"
   },
   {
    "duration": 7,
    "start_time": "2025-04-14T11:19:47.666Z"
   },
   {
    "duration": 11,
    "start_time": "2025-04-14T11:19:47.675Z"
   },
   {
    "duration": 428,
    "start_time": "2025-04-14T11:19:47.688Z"
   },
   {
    "duration": 9,
    "start_time": "2025-04-14T11:19:48.118Z"
   },
   {
    "duration": 113,
    "start_time": "2025-04-14T11:19:48.138Z"
   },
   {
    "duration": 5,
    "start_time": "2025-04-14T11:19:48.253Z"
   },
   {
    "duration": 1223,
    "start_time": "2025-04-14T11:20:18.068Z"
   },
   {
    "duration": 76,
    "start_time": "2025-04-14T11:20:19.293Z"
   },
   {
    "duration": 15,
    "start_time": "2025-04-14T11:20:19.370Z"
   },
   {
    "duration": 7,
    "start_time": "2025-04-14T11:20:19.388Z"
   },
   {
    "duration": 5,
    "start_time": "2025-04-14T11:20:19.396Z"
   },
   {
    "duration": 6,
    "start_time": "2025-04-14T11:20:19.403Z"
   },
   {
    "duration": 36,
    "start_time": "2025-04-14T11:20:19.410Z"
   },
   {
    "duration": 33,
    "start_time": "2025-04-14T11:20:19.448Z"
   },
   {
    "duration": 9,
    "start_time": "2025-04-14T11:20:19.483Z"
   },
   {
    "duration": 9,
    "start_time": "2025-04-14T11:20:19.495Z"
   },
   {
    "duration": 174,
    "start_time": "2025-04-14T11:20:19.505Z"
   },
   {
    "duration": 13,
    "start_time": "2025-04-14T11:20:19.681Z"
   },
   {
    "duration": 18,
    "start_time": "2025-04-14T11:20:19.695Z"
   },
   {
    "duration": 323,
    "start_time": "2025-04-14T11:20:19.716Z"
   },
   {
    "duration": 1540,
    "start_time": "2025-04-14T11:20:20.041Z"
   },
   {
    "duration": 28,
    "start_time": "2025-04-14T11:20:21.583Z"
   },
   {
    "duration": 685,
    "start_time": "2025-04-14T11:20:21.613Z"
   },
   {
    "duration": 95,
    "start_time": "2025-04-14T11:20:22.300Z"
   },
   {
    "duration": 16,
    "start_time": "2025-04-14T11:20:22.396Z"
   },
   {
    "duration": 5,
    "start_time": "2025-04-14T11:20:22.415Z"
   },
   {
    "duration": 10,
    "start_time": "2025-04-14T11:20:22.440Z"
   },
   {
    "duration": 422,
    "start_time": "2025-04-14T11:20:22.452Z"
   },
   {
    "duration": 11,
    "start_time": "2025-04-14T11:20:22.876Z"
   },
   {
    "duration": 133,
    "start_time": "2025-04-14T11:20:22.889Z"
   },
   {
    "duration": 407,
    "start_time": "2025-04-14T11:25:29.336Z"
   },
   {
    "duration": 381,
    "start_time": "2025-04-14T11:25:37.459Z"
   },
   {
    "duration": 10,
    "start_time": "2025-04-14T11:27:13.642Z"
   },
   {
    "duration": 1274,
    "start_time": "2025-04-14T11:27:25.124Z"
   },
   {
    "duration": 62,
    "start_time": "2025-04-14T11:27:26.400Z"
   },
   {
    "duration": 13,
    "start_time": "2025-04-14T11:27:26.464Z"
   },
   {
    "duration": 30,
    "start_time": "2025-04-14T11:27:26.479Z"
   },
   {
    "duration": 30,
    "start_time": "2025-04-14T11:27:26.511Z"
   },
   {
    "duration": 6,
    "start_time": "2025-04-14T11:27:26.543Z"
   },
   {
    "duration": 19,
    "start_time": "2025-04-14T11:27:26.551Z"
   },
   {
    "duration": 13,
    "start_time": "2025-04-14T11:27:26.572Z"
   },
   {
    "duration": 10,
    "start_time": "2025-04-14T11:27:26.587Z"
   },
   {
    "duration": 9,
    "start_time": "2025-04-14T11:27:26.599Z"
   },
   {
    "duration": 187,
    "start_time": "2025-04-14T11:27:26.610Z"
   },
   {
    "duration": 11,
    "start_time": "2025-04-14T11:27:26.799Z"
   },
   {
    "duration": 30,
    "start_time": "2025-04-14T11:27:26.812Z"
   },
   {
    "duration": 298,
    "start_time": "2025-04-14T11:27:26.844Z"
   },
   {
    "duration": 1601,
    "start_time": "2025-04-14T11:27:27.144Z"
   },
   {
    "duration": 27,
    "start_time": "2025-04-14T11:27:28.746Z"
   },
   {
    "duration": 683,
    "start_time": "2025-04-14T11:27:28.775Z"
   },
   {
    "duration": 92,
    "start_time": "2025-04-14T11:27:29.459Z"
   },
   {
    "duration": 17,
    "start_time": "2025-04-14T11:27:29.553Z"
   },
   {
    "duration": 5,
    "start_time": "2025-04-14T11:27:29.572Z"
   },
   {
    "duration": 10,
    "start_time": "2025-04-14T11:27:29.578Z"
   },
   {
    "duration": 11,
    "start_time": "2025-04-14T11:27:29.590Z"
   },
   {
    "duration": 431,
    "start_time": "2025-04-14T11:27:29.603Z"
   },
   {
    "duration": 11,
    "start_time": "2025-04-14T11:27:30.036Z"
   },
   {
    "duration": 187,
    "start_time": "2025-04-14T11:27:30.049Z"
   },
   {
    "duration": 1316,
    "start_time": "2025-04-14T11:27:46.975Z"
   },
   {
    "duration": 53,
    "start_time": "2025-04-14T11:27:48.293Z"
   },
   {
    "duration": 13,
    "start_time": "2025-04-14T11:27:48.347Z"
   },
   {
    "duration": 7,
    "start_time": "2025-04-14T11:27:48.362Z"
   },
   {
    "duration": 5,
    "start_time": "2025-04-14T11:27:48.371Z"
   },
   {
    "duration": 6,
    "start_time": "2025-04-14T11:27:48.377Z"
   },
   {
    "duration": 10,
    "start_time": "2025-04-14T11:27:48.385Z"
   },
   {
    "duration": 46,
    "start_time": "2025-04-14T11:27:48.397Z"
   },
   {
    "duration": 9,
    "start_time": "2025-04-14T11:27:48.445Z"
   },
   {
    "duration": 8,
    "start_time": "2025-04-14T11:27:48.457Z"
   },
   {
    "duration": 181,
    "start_time": "2025-04-14T11:27:48.467Z"
   },
   {
    "duration": 12,
    "start_time": "2025-04-14T11:27:48.650Z"
   },
   {
    "duration": 11,
    "start_time": "2025-04-14T11:27:48.664Z"
   },
   {
    "duration": 317,
    "start_time": "2025-04-14T11:27:48.676Z"
   },
   {
    "duration": 1565,
    "start_time": "2025-04-14T11:27:48.994Z"
   },
   {
    "duration": 29,
    "start_time": "2025-04-14T11:27:50.561Z"
   },
   {
    "duration": 704,
    "start_time": "2025-04-14T11:27:50.592Z"
   },
   {
    "duration": 102,
    "start_time": "2025-04-14T11:27:51.298Z"
   },
   {
    "duration": 18,
    "start_time": "2025-04-14T11:27:51.402Z"
   },
   {
    "duration": 20,
    "start_time": "2025-04-14T11:27:51.422Z"
   },
   {
    "duration": 38,
    "start_time": "2025-04-14T11:27:51.444Z"
   },
   {
    "duration": 10,
    "start_time": "2025-04-14T11:27:51.484Z"
   },
   {
    "duration": 410,
    "start_time": "2025-04-14T11:27:51.495Z"
   },
   {
    "duration": 10,
    "start_time": "2025-04-14T11:27:51.907Z"
   },
   {
    "duration": 132,
    "start_time": "2025-04-14T11:27:51.918Z"
   },
   {
    "duration": 68,
    "start_time": "2025-04-14T11:33:26.809Z"
   },
   {
    "duration": 75,
    "start_time": "2025-04-14T11:33:42.915Z"
   },
   {
    "duration": 1220,
    "start_time": "2025-04-14T11:33:50.094Z"
   },
   {
    "duration": 146,
    "start_time": "2025-04-14T11:33:51.316Z"
   },
   {
    "duration": 15,
    "start_time": "2025-04-14T11:33:51.464Z"
   },
   {
    "duration": 9,
    "start_time": "2025-04-14T11:33:51.481Z"
   },
   {
    "duration": 5,
    "start_time": "2025-04-14T11:33:51.491Z"
   },
   {
    "duration": 20,
    "start_time": "2025-04-14T11:33:51.498Z"
   },
   {
    "duration": 14,
    "start_time": "2025-04-14T11:33:51.538Z"
   },
   {
    "duration": 24,
    "start_time": "2025-04-14T11:33:51.553Z"
   },
   {
    "duration": 17,
    "start_time": "2025-04-14T11:33:51.578Z"
   },
   {
    "duration": 21,
    "start_time": "2025-04-14T11:33:51.598Z"
   },
   {
    "duration": 223,
    "start_time": "2025-04-14T11:33:51.620Z"
   },
   {
    "duration": 13,
    "start_time": "2025-04-14T11:33:51.845Z"
   },
   {
    "duration": 27,
    "start_time": "2025-04-14T11:33:51.860Z"
   },
   {
    "duration": 299,
    "start_time": "2025-04-14T11:33:51.889Z"
   },
   {
    "duration": 1788,
    "start_time": "2025-04-14T11:33:52.190Z"
   },
   {
    "duration": 27,
    "start_time": "2025-04-14T11:33:53.980Z"
   },
   {
    "duration": 680,
    "start_time": "2025-04-14T11:33:54.008Z"
   },
   {
    "duration": 91,
    "start_time": "2025-04-14T11:33:54.689Z"
   },
   {
    "duration": 16,
    "start_time": "2025-04-14T11:33:54.783Z"
   },
   {
    "duration": 8,
    "start_time": "2025-04-14T11:33:54.801Z"
   },
   {
    "duration": 29,
    "start_time": "2025-04-14T11:33:54.810Z"
   },
   {
    "duration": 398,
    "start_time": "2025-04-14T11:33:54.841Z"
   },
   {
    "duration": 9,
    "start_time": "2025-04-14T11:33:55.241Z"
   },
   {
    "duration": 115,
    "start_time": "2025-04-14T11:33:55.251Z"
   },
   {
    "duration": 1284,
    "start_time": "2025-04-14T11:34:20.355Z"
   },
   {
    "duration": 68,
    "start_time": "2025-04-14T11:34:21.641Z"
   },
   {
    "duration": 15,
    "start_time": "2025-04-14T11:34:21.711Z"
   },
   {
    "duration": 17,
    "start_time": "2025-04-14T11:34:21.728Z"
   },
   {
    "duration": 6,
    "start_time": "2025-04-14T11:34:21.747Z"
   },
   {
    "duration": 28,
    "start_time": "2025-04-14T11:34:21.755Z"
   },
   {
    "duration": 20,
    "start_time": "2025-04-14T11:34:21.784Z"
   },
   {
    "duration": 19,
    "start_time": "2025-04-14T11:34:21.806Z"
   },
   {
    "duration": 38,
    "start_time": "2025-04-14T11:34:21.827Z"
   },
   {
    "duration": 18,
    "start_time": "2025-04-14T11:34:21.868Z"
   },
   {
    "duration": 171,
    "start_time": "2025-04-14T11:34:21.888Z"
   },
   {
    "duration": 12,
    "start_time": "2025-04-14T11:34:22.061Z"
   },
   {
    "duration": 23,
    "start_time": "2025-04-14T11:34:22.075Z"
   },
   {
    "duration": 305,
    "start_time": "2025-04-14T11:34:22.100Z"
   },
   {
    "duration": 1568,
    "start_time": "2025-04-14T11:34:22.407Z"
   },
   {
    "duration": 27,
    "start_time": "2025-04-14T11:34:23.977Z"
   },
   {
    "duration": 688,
    "start_time": "2025-04-14T11:34:24.007Z"
   },
   {
    "duration": 102,
    "start_time": "2025-04-14T11:34:24.696Z"
   },
   {
    "duration": 17,
    "start_time": "2025-04-14T11:34:24.800Z"
   },
   {
    "duration": 20,
    "start_time": "2025-04-14T11:34:24.819Z"
   },
   {
    "duration": 11,
    "start_time": "2025-04-14T11:34:24.841Z"
   },
   {
    "duration": 420,
    "start_time": "2025-04-14T11:34:24.854Z"
   },
   {
    "duration": 9,
    "start_time": "2025-04-14T11:34:25.276Z"
   },
   {
    "duration": 89,
    "start_time": "2025-04-14T11:34:25.287Z"
   },
   {
    "duration": 55,
    "start_time": "2025-04-14T11:35:25.631Z"
   },
   {
    "duration": 23,
    "start_time": "2025-04-14T11:35:43.017Z"
   },
   {
    "duration": 114,
    "start_time": "2025-04-14T11:36:31.327Z"
   },
   {
    "duration": 69,
    "start_time": "2025-04-14T11:51:08.208Z"
   },
   {
    "duration": 203,
    "start_time": "2025-04-14T12:03:51.956Z"
   },
   {
    "duration": 198,
    "start_time": "2025-04-14T12:04:02.486Z"
   },
   {
    "duration": 1276,
    "start_time": "2025-04-14T12:31:41.736Z"
   },
   {
    "duration": 74,
    "start_time": "2025-04-14T12:31:43.014Z"
   },
   {
    "duration": 15,
    "start_time": "2025-04-14T12:31:43.089Z"
   },
   {
    "duration": 26,
    "start_time": "2025-04-14T12:31:43.106Z"
   },
   {
    "duration": 9,
    "start_time": "2025-04-14T12:31:43.134Z"
   },
   {
    "duration": 19,
    "start_time": "2025-04-14T12:31:43.145Z"
   },
   {
    "duration": 18,
    "start_time": "2025-04-14T12:31:43.166Z"
   },
   {
    "duration": 14,
    "start_time": "2025-04-14T12:31:43.186Z"
   },
   {
    "duration": 10,
    "start_time": "2025-04-14T12:31:43.202Z"
   },
   {
    "duration": 28,
    "start_time": "2025-04-14T12:31:43.215Z"
   },
   {
    "duration": 171,
    "start_time": "2025-04-14T12:31:43.245Z"
   },
   {
    "duration": 22,
    "start_time": "2025-04-14T12:31:43.417Z"
   },
   {
    "duration": 11,
    "start_time": "2025-04-14T12:31:43.441Z"
   },
   {
    "duration": 322,
    "start_time": "2025-04-14T12:31:43.454Z"
   },
   {
    "duration": 1600,
    "start_time": "2025-04-14T12:31:43.777Z"
   },
   {
    "duration": 26,
    "start_time": "2025-04-14T12:31:45.379Z"
   },
   {
    "duration": 749,
    "start_time": "2025-04-14T12:31:45.406Z"
   },
   {
    "duration": 104,
    "start_time": "2025-04-14T12:31:46.156Z"
   },
   {
    "duration": 18,
    "start_time": "2025-04-14T12:31:46.262Z"
   },
   {
    "duration": 61,
    "start_time": "2025-04-14T12:31:46.282Z"
   },
   {
    "duration": 15,
    "start_time": "2025-04-14T12:31:46.345Z"
   },
   {
    "duration": 419,
    "start_time": "2025-04-14T12:31:46.362Z"
   },
   {
    "duration": 9,
    "start_time": "2025-04-14T12:31:46.783Z"
   },
   {
    "duration": 84,
    "start_time": "2025-04-14T12:31:46.794Z"
   },
   {
    "duration": 68,
    "start_time": "2025-04-14T12:31:46.880Z"
   },
   {
    "duration": 24,
    "start_time": "2025-04-14T12:31:46.950Z"
   },
   {
    "duration": 72,
    "start_time": "2025-04-14T12:31:46.976Z"
   },
   {
    "duration": 214,
    "start_time": "2025-04-14T12:31:47.051Z"
   },
   {
    "duration": 30,
    "start_time": "2025-04-14T12:40:00.822Z"
   },
   {
    "duration": 117,
    "start_time": "2025-04-14T12:40:24.524Z"
   },
   {
    "duration": 38,
    "start_time": "2025-04-14T12:58:45.195Z"
   },
   {
    "duration": 26,
    "start_time": "2025-04-14T12:59:25.256Z"
   },
   {
    "duration": 46,
    "start_time": "2025-04-14T13:00:16.576Z"
   },
   {
    "duration": 1300,
    "start_time": "2025-04-14T13:00:30.113Z"
   },
   {
    "duration": 150,
    "start_time": "2025-04-14T13:00:31.415Z"
   },
   {
    "duration": 14,
    "start_time": "2025-04-14T13:00:31.568Z"
   },
   {
    "duration": 109,
    "start_time": "2025-04-14T13:00:31.585Z"
   },
   {
    "duration": 56,
    "start_time": "2025-04-14T13:00:31.697Z"
   },
   {
    "duration": 20,
    "start_time": "2025-04-14T13:00:31.755Z"
   },
   {
    "duration": 24,
    "start_time": "2025-04-14T13:00:31.778Z"
   },
   {
    "duration": 67,
    "start_time": "2025-04-14T13:00:31.804Z"
   },
   {
    "duration": 20,
    "start_time": "2025-04-14T13:00:31.873Z"
   },
   {
    "duration": 40,
    "start_time": "2025-04-14T13:00:31.897Z"
   },
   {
    "duration": 206,
    "start_time": "2025-04-14T13:00:31.939Z"
   },
   {
    "duration": 16,
    "start_time": "2025-04-14T13:00:32.148Z"
   },
   {
    "duration": 55,
    "start_time": "2025-04-14T13:00:32.167Z"
   },
   {
    "duration": 314,
    "start_time": "2025-04-14T13:00:32.225Z"
   },
   {
    "duration": 1798,
    "start_time": "2025-04-14T13:00:32.542Z"
   },
   {
    "duration": 32,
    "start_time": "2025-04-14T13:00:34.342Z"
   },
   {
    "duration": 779,
    "start_time": "2025-04-14T13:00:34.376Z"
   },
   {
    "duration": 121,
    "start_time": "2025-04-14T13:00:35.157Z"
   },
   {
    "duration": 22,
    "start_time": "2025-04-14T13:00:35.280Z"
   },
   {
    "duration": 17,
    "start_time": "2025-04-14T13:00:35.304Z"
   },
   {
    "duration": 65,
    "start_time": "2025-04-14T13:00:35.323Z"
   },
   {
    "duration": 453,
    "start_time": "2025-04-14T13:00:35.391Z"
   },
   {
    "duration": 10,
    "start_time": "2025-04-14T13:00:35.846Z"
   },
   {
    "duration": 98,
    "start_time": "2025-04-14T13:00:35.858Z"
   },
   {
    "duration": 71,
    "start_time": "2025-04-14T13:00:35.958Z"
   },
   {
    "duration": 24,
    "start_time": "2025-04-14T13:00:36.031Z"
   },
   {
    "duration": 87,
    "start_time": "2025-04-14T13:00:36.057Z"
   },
   {
    "duration": 217,
    "start_time": "2025-04-14T13:00:36.147Z"
   },
   {
    "duration": 53,
    "start_time": "2025-04-14T13:00:36.366Z"
   },
   {
    "duration": 61,
    "start_time": "2025-04-14T13:00:36.421Z"
   },
   {
    "duration": 1332,
    "start_time": "2025-04-14T13:08:07.308Z"
   },
   {
    "duration": 62,
    "start_time": "2025-04-14T13:08:08.642Z"
   },
   {
    "duration": 16,
    "start_time": "2025-04-14T13:08:08.706Z"
   },
   {
    "duration": 9,
    "start_time": "2025-04-14T13:08:08.725Z"
   },
   {
    "duration": 13,
    "start_time": "2025-04-14T13:08:08.740Z"
   },
   {
    "duration": 17,
    "start_time": "2025-04-14T13:08:08.755Z"
   },
   {
    "duration": 10,
    "start_time": "2025-04-14T13:08:08.775Z"
   },
   {
    "duration": 27,
    "start_time": "2025-04-14T13:08:08.787Z"
   },
   {
    "duration": 10,
    "start_time": "2025-04-14T13:08:08.816Z"
   },
   {
    "duration": 10,
    "start_time": "2025-04-14T13:08:08.841Z"
   },
   {
    "duration": 176,
    "start_time": "2025-04-14T13:08:08.852Z"
   },
   {
    "duration": 13,
    "start_time": "2025-04-14T13:08:09.029Z"
   },
   {
    "duration": 12,
    "start_time": "2025-04-14T13:08:09.044Z"
   },
   {
    "duration": 327,
    "start_time": "2025-04-14T13:08:09.057Z"
   },
   {
    "duration": 2884,
    "start_time": "2025-04-14T13:08:09.385Z"
   },
   {
    "duration": 30,
    "start_time": "2025-04-14T13:08:12.273Z"
   },
   {
    "duration": 751,
    "start_time": "2025-04-14T13:08:12.305Z"
   },
   {
    "duration": 103,
    "start_time": "2025-04-14T13:08:13.058Z"
   },
   {
    "duration": 20,
    "start_time": "2025-04-14T13:08:13.163Z"
   },
   {
    "duration": 5,
    "start_time": "2025-04-14T13:08:13.185Z"
   },
   {
    "duration": 12,
    "start_time": "2025-04-14T13:08:13.192Z"
   },
   {
    "duration": 453,
    "start_time": "2025-04-14T13:08:13.206Z"
   },
   {
    "duration": 9,
    "start_time": "2025-04-14T13:08:13.661Z"
   },
   {
    "duration": 85,
    "start_time": "2025-04-14T13:08:13.672Z"
   },
   {
    "duration": 54,
    "start_time": "2025-04-14T13:08:13.759Z"
   },
   {
    "duration": 35,
    "start_time": "2025-04-14T13:08:13.815Z"
   },
   {
    "duration": 54,
    "start_time": "2025-04-14T13:08:13.852Z"
   },
   {
    "duration": 218,
    "start_time": "2025-04-14T13:08:13.909Z"
   },
   {
    "duration": 59,
    "start_time": "2025-04-14T13:08:14.128Z"
   },
   {
    "duration": 23,
    "start_time": "2025-04-14T13:08:14.189Z"
   },
   {
    "duration": 1512,
    "start_time": "2025-04-15T06:35:41.145Z"
   },
   {
    "duration": 110,
    "start_time": "2025-04-15T06:35:42.659Z"
   },
   {
    "duration": 14,
    "start_time": "2025-04-15T06:35:42.771Z"
   },
   {
    "duration": 8,
    "start_time": "2025-04-15T06:35:42.787Z"
   },
   {
    "duration": 4,
    "start_time": "2025-04-15T06:35:42.797Z"
   },
   {
    "duration": 24,
    "start_time": "2025-04-15T06:35:42.803Z"
   },
   {
    "duration": 9,
    "start_time": "2025-04-15T06:35:42.828Z"
   },
   {
    "duration": 23,
    "start_time": "2025-04-15T06:35:42.839Z"
   },
   {
    "duration": 21,
    "start_time": "2025-04-15T06:35:42.864Z"
   },
   {
    "duration": 10,
    "start_time": "2025-04-15T06:35:42.887Z"
   },
   {
    "duration": 178,
    "start_time": "2025-04-15T06:35:42.899Z"
   },
   {
    "duration": 12,
    "start_time": "2025-04-15T06:35:43.079Z"
   },
   {
    "duration": 31,
    "start_time": "2025-04-15T06:35:43.093Z"
   },
   {
    "duration": 293,
    "start_time": "2025-04-15T06:35:43.126Z"
   },
   {
    "duration": 1626,
    "start_time": "2025-04-15T06:35:43.421Z"
   },
   {
    "duration": 33,
    "start_time": "2025-04-15T06:35:45.049Z"
   },
   {
    "duration": 696,
    "start_time": "2025-04-15T06:35:45.084Z"
   },
   {
    "duration": 115,
    "start_time": "2025-04-15T06:35:45.782Z"
   },
   {
    "duration": 23,
    "start_time": "2025-04-15T06:35:45.899Z"
   },
   {
    "duration": 5,
    "start_time": "2025-04-15T06:35:45.924Z"
   },
   {
    "duration": 10,
    "start_time": "2025-04-15T06:35:45.930Z"
   },
   {
    "duration": 422,
    "start_time": "2025-04-15T06:35:45.942Z"
   },
   {
    "duration": 20,
    "start_time": "2025-04-15T06:35:46.366Z"
   },
   {
    "duration": 174,
    "start_time": "2025-04-15T06:35:46.388Z"
   },
   {
    "duration": 59,
    "start_time": "2025-04-15T06:35:46.565Z"
   },
   {
    "duration": 23,
    "start_time": "2025-04-15T06:35:46.626Z"
   },
   {
    "duration": 155,
    "start_time": "2025-04-15T06:35:46.651Z"
   },
   {
    "duration": 216,
    "start_time": "2025-04-15T06:35:46.809Z"
   },
   {
    "duration": 63,
    "start_time": "2025-04-15T06:35:47.026Z"
   },
   {
    "duration": 72,
    "start_time": "2025-04-15T06:35:47.091Z"
   },
   {
    "duration": 2,
    "start_time": "2025-04-15T06:42:43.748Z"
   },
   {
    "duration": 4,
    "start_time": "2025-04-15T06:43:17.202Z"
   },
   {
    "duration": 112,
    "start_time": "2025-04-15T06:43:52.987Z"
   },
   {
    "duration": 1268,
    "start_time": "2025-04-15T06:44:04.172Z"
   },
   {
    "duration": 109,
    "start_time": "2025-04-15T06:44:05.442Z"
   },
   {
    "duration": 13,
    "start_time": "2025-04-15T06:44:05.553Z"
   },
   {
    "duration": 24,
    "start_time": "2025-04-15T06:44:05.568Z"
   },
   {
    "duration": 5,
    "start_time": "2025-04-15T06:44:05.593Z"
   },
   {
    "duration": 17,
    "start_time": "2025-04-15T06:44:05.599Z"
   },
   {
    "duration": 17,
    "start_time": "2025-04-15T06:44:05.617Z"
   },
   {
    "duration": 78,
    "start_time": "2025-04-15T06:44:05.635Z"
   },
   {
    "duration": 26,
    "start_time": "2025-04-15T06:44:05.715Z"
   },
   {
    "duration": 18,
    "start_time": "2025-04-15T06:44:05.743Z"
   },
   {
    "duration": 217,
    "start_time": "2025-04-15T06:44:05.763Z"
   },
   {
    "duration": 13,
    "start_time": "2025-04-15T06:44:05.981Z"
   },
   {
    "duration": 22,
    "start_time": "2025-04-15T06:44:05.996Z"
   },
   {
    "duration": 341,
    "start_time": "2025-04-15T06:44:06.020Z"
   },
   {
    "duration": 1596,
    "start_time": "2025-04-15T06:44:06.363Z"
   },
   {
    "duration": 33,
    "start_time": "2025-04-15T06:44:07.961Z"
   },
   {
    "duration": 679,
    "start_time": "2025-04-15T06:44:07.997Z"
   },
   {
    "duration": 98,
    "start_time": "2025-04-15T06:44:08.678Z"
   },
   {
    "duration": 18,
    "start_time": "2025-04-15T06:44:08.778Z"
   },
   {
    "duration": 5,
    "start_time": "2025-04-15T06:44:08.798Z"
   },
   {
    "duration": 15,
    "start_time": "2025-04-15T06:44:08.804Z"
   },
   {
    "duration": 399,
    "start_time": "2025-04-15T06:44:08.820Z"
   },
   {
    "duration": 9,
    "start_time": "2025-04-15T06:44:09.221Z"
   },
   {
    "duration": 83,
    "start_time": "2025-04-15T06:44:09.232Z"
   },
   {
    "duration": 62,
    "start_time": "2025-04-15T06:44:09.316Z"
   },
   {
    "duration": 23,
    "start_time": "2025-04-15T06:44:09.380Z"
   },
   {
    "duration": 72,
    "start_time": "2025-04-15T06:44:09.405Z"
   },
   {
    "duration": 215,
    "start_time": "2025-04-15T06:44:09.480Z"
   },
   {
    "duration": 53,
    "start_time": "2025-04-15T06:44:09.696Z"
   },
   {
    "duration": 42,
    "start_time": "2025-04-15T06:44:09.751Z"
   },
   {
    "duration": 3,
    "start_time": "2025-04-15T06:44:09.795Z"
   },
   {
    "duration": 129,
    "start_time": "2025-04-15T06:44:09.800Z"
   },
   {
    "duration": 1313,
    "start_time": "2025-04-15T07:56:51.744Z"
   },
   {
    "duration": 99,
    "start_time": "2025-04-15T07:56:53.059Z"
   },
   {
    "duration": 14,
    "start_time": "2025-04-15T07:56:53.160Z"
   },
   {
    "duration": 38,
    "start_time": "2025-04-15T07:56:53.179Z"
   },
   {
    "duration": 5,
    "start_time": "2025-04-15T07:56:53.218Z"
   },
   {
    "duration": 5,
    "start_time": "2025-04-15T07:56:53.225Z"
   },
   {
    "duration": 18,
    "start_time": "2025-04-15T07:56:53.232Z"
   },
   {
    "duration": 14,
    "start_time": "2025-04-15T07:56:53.252Z"
   },
   {
    "duration": 11,
    "start_time": "2025-04-15T07:56:53.268Z"
   },
   {
    "duration": 11,
    "start_time": "2025-04-15T07:56:53.282Z"
   },
   {
    "duration": 187,
    "start_time": "2025-04-15T07:56:53.295Z"
   },
   {
    "duration": 15,
    "start_time": "2025-04-15T07:56:53.485Z"
   },
   {
    "duration": 17,
    "start_time": "2025-04-15T07:56:53.501Z"
   },
   {
    "duration": 334,
    "start_time": "2025-04-15T07:56:53.520Z"
   },
   {
    "duration": 1717,
    "start_time": "2025-04-15T07:56:53.856Z"
   },
   {
    "duration": 28,
    "start_time": "2025-04-15T07:56:55.577Z"
   },
   {
    "duration": 918,
    "start_time": "2025-04-15T07:56:55.606Z"
   },
   {
    "duration": 112,
    "start_time": "2025-04-15T07:56:56.526Z"
   },
   {
    "duration": 22,
    "start_time": "2025-04-15T07:56:56.639Z"
   },
   {
    "duration": 21,
    "start_time": "2025-04-15T07:56:56.663Z"
   },
   {
    "duration": 17,
    "start_time": "2025-04-15T07:56:56.687Z"
   },
   {
    "duration": 461,
    "start_time": "2025-04-15T07:56:56.706Z"
   },
   {
    "duration": 16,
    "start_time": "2025-04-15T07:56:57.169Z"
   },
   {
    "duration": 75,
    "start_time": "2025-04-15T07:56:57.187Z"
   },
   {
    "duration": 73,
    "start_time": "2025-04-15T07:56:57.264Z"
   },
   {
    "duration": 23,
    "start_time": "2025-04-15T07:56:57.339Z"
   },
   {
    "duration": 62,
    "start_time": "2025-04-15T07:56:57.377Z"
   },
   {
    "duration": 255,
    "start_time": "2025-04-15T07:56:57.443Z"
   },
   {
    "duration": 52,
    "start_time": "2025-04-15T07:56:57.700Z"
   },
   {
    "duration": 152,
    "start_time": "2025-04-15T07:56:57.753Z"
   },
   {
    "duration": 3,
    "start_time": "2025-04-15T07:56:57.907Z"
   },
   {
    "duration": 125,
    "start_time": "2025-04-15T07:56:57.912Z"
   },
   {
    "duration": 14,
    "start_time": "2025-04-15T07:57:28.748Z"
   },
   {
    "duration": 21,
    "start_time": "2025-04-15T07:57:48.180Z"
   },
   {
    "duration": 9,
    "start_time": "2025-04-15T07:58:01.351Z"
   },
   {
    "duration": 3,
    "start_time": "2025-04-15T08:00:21.269Z"
   },
   {
    "duration": 1251,
    "start_time": "2025-04-15T08:00:24.576Z"
   },
   {
    "duration": 75,
    "start_time": "2025-04-15T08:00:25.830Z"
   },
   {
    "duration": 17,
    "start_time": "2025-04-15T08:00:25.907Z"
   },
   {
    "duration": 8,
    "start_time": "2025-04-15T08:00:25.926Z"
   },
   {
    "duration": 7,
    "start_time": "2025-04-15T08:00:25.935Z"
   },
   {
    "duration": 34,
    "start_time": "2025-04-15T08:00:25.943Z"
   },
   {
    "duration": 18,
    "start_time": "2025-04-15T08:00:25.979Z"
   },
   {
    "duration": 16,
    "start_time": "2025-04-15T08:00:25.999Z"
   },
   {
    "duration": 10,
    "start_time": "2025-04-15T08:00:26.016Z"
   },
   {
    "duration": 21,
    "start_time": "2025-04-15T08:00:26.029Z"
   },
   {
    "duration": 181,
    "start_time": "2025-04-15T08:00:26.052Z"
   },
   {
    "duration": 13,
    "start_time": "2025-04-15T08:00:26.235Z"
   },
   {
    "duration": 31,
    "start_time": "2025-04-15T08:00:26.250Z"
   },
   {
    "duration": 317,
    "start_time": "2025-04-15T08:00:26.283Z"
   },
   {
    "duration": 1636,
    "start_time": "2025-04-15T08:00:26.602Z"
   },
   {
    "duration": 37,
    "start_time": "2025-04-15T08:00:28.240Z"
   },
   {
    "duration": 681,
    "start_time": "2025-04-15T08:00:28.278Z"
   },
   {
    "duration": 95,
    "start_time": "2025-04-15T08:00:28.961Z"
   },
   {
    "duration": 25,
    "start_time": "2025-04-15T08:00:29.058Z"
   },
   {
    "duration": 5,
    "start_time": "2025-04-15T08:00:29.085Z"
   },
   {
    "duration": 44,
    "start_time": "2025-04-15T08:00:29.092Z"
   },
   {
    "duration": 413,
    "start_time": "2025-04-15T08:00:29.138Z"
   },
   {
    "duration": 10,
    "start_time": "2025-04-15T08:00:29.552Z"
   },
   {
    "duration": 80,
    "start_time": "2025-04-15T08:00:29.564Z"
   },
   {
    "duration": 137,
    "start_time": "2025-04-15T08:00:29.646Z"
   },
   {
    "duration": 23,
    "start_time": "2025-04-15T08:00:29.784Z"
   },
   {
    "duration": 106,
    "start_time": "2025-04-15T08:00:29.809Z"
   },
   {
    "duration": 220,
    "start_time": "2025-04-15T08:00:29.918Z"
   },
   {
    "duration": 59,
    "start_time": "2025-04-15T08:00:30.140Z"
   },
   {
    "duration": 33,
    "start_time": "2025-04-15T08:00:30.201Z"
   },
   {
    "duration": 67,
    "start_time": "2025-04-15T08:00:30.236Z"
   },
   {
    "duration": 60,
    "start_time": "2025-04-15T08:00:30.305Z"
   },
   {
    "duration": 9,
    "start_time": "2025-04-15T08:01:10.580Z"
   },
   {
    "duration": 1282,
    "start_time": "2025-04-15T08:01:15.057Z"
   },
   {
    "duration": 77,
    "start_time": "2025-04-15T08:01:16.341Z"
   },
   {
    "duration": 13,
    "start_time": "2025-04-15T08:01:16.420Z"
   },
   {
    "duration": 18,
    "start_time": "2025-04-15T08:01:16.435Z"
   },
   {
    "duration": 6,
    "start_time": "2025-04-15T08:01:16.455Z"
   },
   {
    "duration": 5,
    "start_time": "2025-04-15T08:01:16.462Z"
   },
   {
    "duration": 13,
    "start_time": "2025-04-15T08:01:16.469Z"
   },
   {
    "duration": 54,
    "start_time": "2025-04-15T08:01:16.483Z"
   },
   {
    "duration": 13,
    "start_time": "2025-04-15T08:01:16.539Z"
   },
   {
    "duration": 21,
    "start_time": "2025-04-15T08:01:16.555Z"
   },
   {
    "duration": 163,
    "start_time": "2025-04-15T08:01:16.578Z"
   },
   {
    "duration": 13,
    "start_time": "2025-04-15T08:01:16.743Z"
   },
   {
    "duration": 29,
    "start_time": "2025-04-15T08:01:16.758Z"
   },
   {
    "duration": 330,
    "start_time": "2025-04-15T08:01:16.789Z"
   },
   {
    "duration": 2158,
    "start_time": "2025-04-15T08:01:17.121Z"
   },
   {
    "duration": 26,
    "start_time": "2025-04-15T08:01:19.281Z"
   },
   {
    "duration": 655,
    "start_time": "2025-04-15T08:01:19.309Z"
   },
   {
    "duration": 90,
    "start_time": "2025-04-15T08:01:19.965Z"
   },
   {
    "duration": 25,
    "start_time": "2025-04-15T08:01:20.057Z"
   },
   {
    "duration": 12,
    "start_time": "2025-04-15T08:01:20.084Z"
   },
   {
    "duration": 18,
    "start_time": "2025-04-15T08:01:20.097Z"
   },
   {
    "duration": 411,
    "start_time": "2025-04-15T08:01:20.117Z"
   },
   {
    "duration": 9,
    "start_time": "2025-04-15T08:01:20.530Z"
   },
   {
    "duration": 81,
    "start_time": "2025-04-15T08:01:20.541Z"
   },
   {
    "duration": 93,
    "start_time": "2025-04-15T08:01:20.624Z"
   },
   {
    "duration": 21,
    "start_time": "2025-04-15T08:01:20.719Z"
   },
   {
    "duration": 64,
    "start_time": "2025-04-15T08:01:20.742Z"
   },
   {
    "duration": 213,
    "start_time": "2025-04-15T08:01:20.809Z"
   },
   {
    "duration": 58,
    "start_time": "2025-04-15T08:01:21.024Z"
   },
   {
    "duration": 22,
    "start_time": "2025-04-15T08:01:21.084Z"
   },
   {
    "duration": 87,
    "start_time": "2025-04-15T08:01:21.108Z"
   },
   {
    "duration": 31,
    "start_time": "2025-04-15T08:01:21.197Z"
   },
   {
    "duration": 8,
    "start_time": "2025-04-15T08:01:54.331Z"
   },
   {
    "duration": 9,
    "start_time": "2025-04-15T08:02:30.203Z"
   },
   {
    "duration": 209,
    "start_time": "2025-04-15T09:09:56.222Z"
   },
   {
    "duration": 11,
    "start_time": "2025-04-15T09:14:07.418Z"
   },
   {
    "duration": 4,
    "start_time": "2025-04-15T09:15:06.987Z"
   },
   {
    "duration": 54,
    "start_time": "2025-04-15T09:18:15.888Z"
   },
   {
    "duration": 151,
    "start_time": "2025-04-15T09:20:07.639Z"
   },
   {
    "duration": 1412,
    "start_time": "2025-04-15T09:20:21.431Z"
   },
   {
    "duration": 88,
    "start_time": "2025-04-15T09:20:22.845Z"
   },
   {
    "duration": 15,
    "start_time": "2025-04-15T09:20:22.934Z"
   },
   {
    "duration": 13,
    "start_time": "2025-04-15T09:20:22.951Z"
   },
   {
    "duration": 6,
    "start_time": "2025-04-15T09:20:22.965Z"
   },
   {
    "duration": 14,
    "start_time": "2025-04-15T09:20:22.973Z"
   },
   {
    "duration": 9,
    "start_time": "2025-04-15T09:20:22.989Z"
   },
   {
    "duration": 15,
    "start_time": "2025-04-15T09:20:23.000Z"
   },
   {
    "duration": 12,
    "start_time": "2025-04-15T09:20:23.018Z"
   },
   {
    "duration": 11,
    "start_time": "2025-04-15T09:20:23.033Z"
   },
   {
    "duration": 196,
    "start_time": "2025-04-15T09:20:23.046Z"
   },
   {
    "duration": 13,
    "start_time": "2025-04-15T09:20:23.244Z"
   },
   {
    "duration": 12,
    "start_time": "2025-04-15T09:20:23.276Z"
   },
   {
    "duration": 321,
    "start_time": "2025-04-15T09:20:23.290Z"
   },
   {
    "duration": 1702,
    "start_time": "2025-04-15T09:20:23.613Z"
   },
   {
    "duration": 34,
    "start_time": "2025-04-15T09:20:25.316Z"
   },
   {
    "duration": 741,
    "start_time": "2025-04-15T09:20:25.352Z"
   },
   {
    "duration": 101,
    "start_time": "2025-04-15T09:20:26.095Z"
   },
   {
    "duration": 19,
    "start_time": "2025-04-15T09:20:26.198Z"
   },
   {
    "duration": 6,
    "start_time": "2025-04-15T09:20:26.219Z"
   },
   {
    "duration": 11,
    "start_time": "2025-04-15T09:20:26.227Z"
   },
   {
    "duration": 432,
    "start_time": "2025-04-15T09:20:26.239Z"
   },
   {
    "duration": 10,
    "start_time": "2025-04-15T09:20:26.675Z"
   },
   {
    "duration": 95,
    "start_time": "2025-04-15T09:20:26.688Z"
   },
   {
    "duration": 56,
    "start_time": "2025-04-15T09:20:26.784Z"
   },
   {
    "duration": 41,
    "start_time": "2025-04-15T09:20:26.842Z"
   },
   {
    "duration": 58,
    "start_time": "2025-04-15T09:20:26.885Z"
   },
   {
    "duration": 231,
    "start_time": "2025-04-15T09:20:26.947Z"
   },
   {
    "duration": 54,
    "start_time": "2025-04-15T09:20:27.180Z"
   },
   {
    "duration": 41,
    "start_time": "2025-04-15T09:20:27.236Z"
   },
   {
    "duration": 32,
    "start_time": "2025-04-15T09:20:27.279Z"
   },
   {
    "duration": 97,
    "start_time": "2025-04-15T09:20:27.312Z"
   },
   {
    "duration": 303,
    "start_time": "2025-04-15T09:20:27.411Z"
   },
   {
    "duration": 141,
    "start_time": "2025-04-15T09:22:10.602Z"
   },
   {
    "duration": 1296,
    "start_time": "2025-04-15T09:22:16.180Z"
   },
   {
    "duration": 321,
    "start_time": "2025-04-15T09:22:17.478Z"
   },
   {
    "duration": 14,
    "start_time": "2025-04-15T09:22:17.801Z"
   },
   {
    "duration": 8,
    "start_time": "2025-04-15T09:22:17.817Z"
   },
   {
    "duration": 5,
    "start_time": "2025-04-15T09:22:17.827Z"
   },
   {
    "duration": 6,
    "start_time": "2025-04-15T09:22:17.833Z"
   },
   {
    "duration": 42,
    "start_time": "2025-04-15T09:22:17.841Z"
   },
   {
    "duration": 14,
    "start_time": "2025-04-15T09:22:17.885Z"
   },
   {
    "duration": 11,
    "start_time": "2025-04-15T09:22:17.901Z"
   },
   {
    "duration": 10,
    "start_time": "2025-04-15T09:22:17.914Z"
   },
   {
    "duration": 198,
    "start_time": "2025-04-15T09:22:17.926Z"
   },
   {
    "duration": 12,
    "start_time": "2025-04-15T09:22:18.125Z"
   },
   {
    "duration": 91,
    "start_time": "2025-04-15T09:22:18.139Z"
   },
   {
    "duration": 294,
    "start_time": "2025-04-15T09:22:18.232Z"
   },
   {
    "duration": 1642,
    "start_time": "2025-04-15T09:22:18.528Z"
   },
   {
    "duration": 29,
    "start_time": "2025-04-15T09:22:20.172Z"
   },
   {
    "duration": 692,
    "start_time": "2025-04-15T09:22:20.203Z"
   },
   {
    "duration": 91,
    "start_time": "2025-04-15T09:22:20.897Z"
   },
   {
    "duration": 17,
    "start_time": "2025-04-15T09:22:20.990Z"
   },
   {
    "duration": 12,
    "start_time": "2025-04-15T09:22:21.009Z"
   },
   {
    "duration": 38,
    "start_time": "2025-04-15T09:22:21.023Z"
   },
   {
    "duration": 433,
    "start_time": "2025-04-15T09:22:21.062Z"
   },
   {
    "duration": 10,
    "start_time": "2025-04-15T09:22:21.497Z"
   },
   {
    "duration": 195,
    "start_time": "2025-04-15T09:22:21.509Z"
   },
   {
    "duration": 57,
    "start_time": "2025-04-15T09:22:21.705Z"
   },
   {
    "duration": 29,
    "start_time": "2025-04-15T09:22:21.764Z"
   },
   {
    "duration": 59,
    "start_time": "2025-04-15T09:22:21.794Z"
   },
   {
    "duration": 251,
    "start_time": "2025-04-15T09:22:21.876Z"
   },
   {
    "duration": 63,
    "start_time": "2025-04-15T09:22:22.130Z"
   },
   {
    "duration": 75,
    "start_time": "2025-04-15T09:22:22.194Z"
   },
   {
    "duration": 3,
    "start_time": "2025-04-15T09:22:22.270Z"
   },
   {
    "duration": 12,
    "start_time": "2025-04-15T09:22:22.275Z"
   },
   {
    "duration": 234,
    "start_time": "2025-04-15T09:22:22.289Z"
   },
   {
    "duration": 11,
    "start_time": "2025-04-15T09:22:37.606Z"
   },
   {
    "duration": 1222,
    "start_time": "2025-04-15T09:22:41.207Z"
   },
   {
    "duration": 75,
    "start_time": "2025-04-15T09:22:42.432Z"
   },
   {
    "duration": 14,
    "start_time": "2025-04-15T09:22:42.509Z"
   },
   {
    "duration": 8,
    "start_time": "2025-04-15T09:22:42.525Z"
   },
   {
    "duration": 5,
    "start_time": "2025-04-15T09:22:42.535Z"
   },
   {
    "duration": 6,
    "start_time": "2025-04-15T09:22:42.541Z"
   },
   {
    "duration": 9,
    "start_time": "2025-04-15T09:22:42.576Z"
   },
   {
    "duration": 14,
    "start_time": "2025-04-15T09:22:42.587Z"
   },
   {
    "duration": 10,
    "start_time": "2025-04-15T09:22:42.603Z"
   },
   {
    "duration": 9,
    "start_time": "2025-04-15T09:22:42.616Z"
   },
   {
    "duration": 201,
    "start_time": "2025-04-15T09:22:42.627Z"
   },
   {
    "duration": 12,
    "start_time": "2025-04-15T09:22:42.830Z"
   },
   {
    "duration": 35,
    "start_time": "2025-04-15T09:22:42.844Z"
   },
   {
    "duration": 296,
    "start_time": "2025-04-15T09:22:42.881Z"
   },
   {
    "duration": 1962,
    "start_time": "2025-04-15T09:22:43.179Z"
   },
   {
    "duration": 48,
    "start_time": "2025-04-15T09:22:45.144Z"
   },
   {
    "duration": 770,
    "start_time": "2025-04-15T09:22:45.194Z"
   },
   {
    "duration": 94,
    "start_time": "2025-04-15T09:22:45.966Z"
   },
   {
    "duration": 27,
    "start_time": "2025-04-15T09:22:46.062Z"
   },
   {
    "duration": 5,
    "start_time": "2025-04-15T09:22:46.091Z"
   },
   {
    "duration": 10,
    "start_time": "2025-04-15T09:22:46.098Z"
   },
   {
    "duration": 422,
    "start_time": "2025-04-15T09:22:46.109Z"
   },
   {
    "duration": 10,
    "start_time": "2025-04-15T09:22:46.533Z"
   },
   {
    "duration": 83,
    "start_time": "2025-04-15T09:22:46.545Z"
   },
   {
    "duration": 66,
    "start_time": "2025-04-15T09:22:46.630Z"
   },
   {
    "duration": 25,
    "start_time": "2025-04-15T09:22:46.697Z"
   },
   {
    "duration": 75,
    "start_time": "2025-04-15T09:22:46.724Z"
   },
   {
    "duration": 223,
    "start_time": "2025-04-15T09:22:46.803Z"
   },
   {
    "duration": 57,
    "start_time": "2025-04-15T09:22:47.028Z"
   },
   {
    "duration": 25,
    "start_time": "2025-04-15T09:22:47.087Z"
   },
   {
    "duration": 3,
    "start_time": "2025-04-15T09:22:47.114Z"
   },
   {
    "duration": 11,
    "start_time": "2025-04-15T09:22:47.119Z"
   },
   {
    "duration": 306,
    "start_time": "2025-04-15T09:22:47.132Z"
   },
   {
    "duration": 1438,
    "start_time": "2025-04-16T11:26:57.421Z"
   },
   {
    "duration": 222,
    "start_time": "2025-04-16T11:26:58.861Z"
   },
   {
    "duration": 14,
    "start_time": "2025-04-16T11:26:59.085Z"
   },
   {
    "duration": 17,
    "start_time": "2025-04-16T11:26:59.100Z"
   },
   {
    "duration": 19,
    "start_time": "2025-04-16T11:26:59.118Z"
   },
   {
    "duration": 11,
    "start_time": "2025-04-16T11:26:59.139Z"
   },
   {
    "duration": 9,
    "start_time": "2025-04-16T11:26:59.151Z"
   },
   {
    "duration": 14,
    "start_time": "2025-04-16T11:26:59.161Z"
   },
   {
    "duration": 12,
    "start_time": "2025-04-16T11:26:59.176Z"
   },
   {
    "duration": 9,
    "start_time": "2025-04-16T11:26:59.191Z"
   },
   {
    "duration": 185,
    "start_time": "2025-04-16T11:26:59.202Z"
   },
   {
    "duration": 13,
    "start_time": "2025-04-16T11:26:59.388Z"
   },
   {
    "duration": 10,
    "start_time": "2025-04-16T11:26:59.402Z"
   },
   {
    "duration": 286,
    "start_time": "2025-04-16T11:26:59.435Z"
   },
   {
    "duration": 1610,
    "start_time": "2025-04-16T11:26:59.723Z"
   },
   {
    "duration": 22,
    "start_time": "2025-04-16T11:27:01.335Z"
   },
   {
    "duration": 639,
    "start_time": "2025-04-16T11:27:01.359Z"
   },
   {
    "duration": 96,
    "start_time": "2025-04-16T11:27:01.999Z"
   },
   {
    "duration": 16,
    "start_time": "2025-04-16T11:27:02.097Z"
   },
   {
    "duration": 5,
    "start_time": "2025-04-16T11:27:02.114Z"
   },
   {
    "duration": 9,
    "start_time": "2025-04-16T11:27:02.135Z"
   },
   {
    "duration": 381,
    "start_time": "2025-04-16T11:27:02.145Z"
   },
   {
    "duration": 12,
    "start_time": "2025-04-16T11:27:02.528Z"
   },
   {
    "duration": 188,
    "start_time": "2025-04-16T11:27:02.542Z"
   },
   {
    "duration": 64,
    "start_time": "2025-04-16T11:27:02.732Z"
   },
   {
    "duration": 22,
    "start_time": "2025-04-16T11:27:02.798Z"
   },
   {
    "duration": 56,
    "start_time": "2025-04-16T11:27:02.822Z"
   },
   {
    "duration": 197,
    "start_time": "2025-04-16T11:27:02.881Z"
   },
   {
    "duration": 56,
    "start_time": "2025-04-16T11:27:03.080Z"
   },
   {
    "duration": 22,
    "start_time": "2025-04-16T11:27:03.138Z"
   },
   {
    "duration": 3,
    "start_time": "2025-04-16T11:27:03.161Z"
   },
   {
    "duration": 31,
    "start_time": "2025-04-16T11:27:03.165Z"
   },
   {
    "duration": 309,
    "start_time": "2025-04-16T11:27:03.197Z"
   },
   {
    "duration": 11,
    "start_time": "2025-04-16T11:27:47.364Z"
   },
   {
    "duration": 1213,
    "start_time": "2025-04-16T11:27:52.139Z"
   },
   {
    "duration": 101,
    "start_time": "2025-04-16T11:27:53.354Z"
   },
   {
    "duration": 13,
    "start_time": "2025-04-16T11:27:53.457Z"
   },
   {
    "duration": 7,
    "start_time": "2025-04-16T11:27:53.472Z"
   },
   {
    "duration": 8,
    "start_time": "2025-04-16T11:27:53.481Z"
   },
   {
    "duration": 12,
    "start_time": "2025-04-16T11:27:53.490Z"
   },
   {
    "duration": 34,
    "start_time": "2025-04-16T11:27:53.504Z"
   },
   {
    "duration": 12,
    "start_time": "2025-04-16T11:27:53.540Z"
   },
   {
    "duration": 10,
    "start_time": "2025-04-16T11:27:53.554Z"
   },
   {
    "duration": 10,
    "start_time": "2025-04-16T11:27:53.567Z"
   },
   {
    "duration": 177,
    "start_time": "2025-04-16T11:27:53.579Z"
   },
   {
    "duration": 12,
    "start_time": "2025-04-16T11:27:53.758Z"
   },
   {
    "duration": 10,
    "start_time": "2025-04-16T11:27:53.771Z"
   },
   {
    "duration": 279,
    "start_time": "2025-04-16T11:27:53.782Z"
   },
   {
    "duration": 1545,
    "start_time": "2025-04-16T11:27:54.062Z"
   },
   {
    "duration": 33,
    "start_time": "2025-04-16T11:27:55.609Z"
   },
   {
    "duration": 590,
    "start_time": "2025-04-16T11:27:55.644Z"
   },
   {
    "duration": 103,
    "start_time": "2025-04-16T11:27:56.237Z"
   },
   {
    "duration": 17,
    "start_time": "2025-04-16T11:27:56.342Z"
   },
   {
    "duration": 4,
    "start_time": "2025-04-16T11:27:56.361Z"
   },
   {
    "duration": 8,
    "start_time": "2025-04-16T11:27:56.367Z"
   },
   {
    "duration": 382,
    "start_time": "2025-04-16T11:27:56.376Z"
   },
   {
    "duration": 8,
    "start_time": "2025-04-16T11:27:56.760Z"
   },
   {
    "duration": 71,
    "start_time": "2025-04-16T11:27:56.769Z"
   },
   {
    "duration": 46,
    "start_time": "2025-04-16T11:27:56.841Z"
   },
   {
    "duration": 20,
    "start_time": "2025-04-16T11:27:56.888Z"
   },
   {
    "duration": 66,
    "start_time": "2025-04-16T11:27:56.909Z"
   },
   {
    "duration": 207,
    "start_time": "2025-04-16T11:27:56.978Z"
   },
   {
    "duration": 58,
    "start_time": "2025-04-16T11:27:57.187Z"
   },
   {
    "duration": 21,
    "start_time": "2025-04-16T11:27:57.247Z"
   },
   {
    "duration": 3,
    "start_time": "2025-04-16T11:27:57.270Z"
   },
   {
    "duration": 11,
    "start_time": "2025-04-16T11:27:57.275Z"
   },
   {
    "duration": 317,
    "start_time": "2025-04-16T11:27:57.288Z"
   },
   {
    "duration": 12,
    "start_time": "2025-04-16T11:30:05.752Z"
   },
   {
    "duration": 1166,
    "start_time": "2025-04-16T11:30:11.489Z"
   },
   {
    "duration": 112,
    "start_time": "2025-04-16T11:30:12.657Z"
   },
   {
    "duration": 14,
    "start_time": "2025-04-16T11:30:12.770Z"
   },
   {
    "duration": 7,
    "start_time": "2025-04-16T11:30:12.786Z"
   },
   {
    "duration": 5,
    "start_time": "2025-04-16T11:30:12.795Z"
   },
   {
    "duration": 8,
    "start_time": "2025-04-16T11:30:12.801Z"
   },
   {
    "duration": 24,
    "start_time": "2025-04-16T11:30:12.811Z"
   },
   {
    "duration": 12,
    "start_time": "2025-04-16T11:30:12.837Z"
   },
   {
    "duration": 9,
    "start_time": "2025-04-16T11:30:12.851Z"
   },
   {
    "duration": 8,
    "start_time": "2025-04-16T11:30:12.864Z"
   },
   {
    "duration": 180,
    "start_time": "2025-04-16T11:30:12.874Z"
   },
   {
    "duration": 13,
    "start_time": "2025-04-16T11:30:13.056Z"
   },
   {
    "duration": 12,
    "start_time": "2025-04-16T11:30:13.071Z"
   },
   {
    "duration": 297,
    "start_time": "2025-04-16T11:30:13.085Z"
   },
   {
    "duration": 2151,
    "start_time": "2025-04-16T11:30:13.384Z"
   },
   {
    "duration": 23,
    "start_time": "2025-04-16T11:30:15.537Z"
   },
   {
    "duration": 811,
    "start_time": "2025-04-16T11:30:15.562Z"
   },
   {
    "duration": 195,
    "start_time": "2025-04-16T11:30:16.374Z"
   },
   {
    "duration": 75,
    "start_time": "2025-04-16T11:30:16.571Z"
   },
   {
    "duration": 25,
    "start_time": "2025-04-16T11:30:16.648Z"
   },
   {
    "duration": 11,
    "start_time": "2025-04-16T11:30:16.675Z"
   },
   {
    "duration": 785,
    "start_time": "2025-04-16T11:30:16.687Z"
   },
   {
    "duration": 61,
    "start_time": "2025-04-16T11:30:17.474Z"
   },
   {
    "duration": 115,
    "start_time": "2025-04-16T11:30:17.537Z"
   },
   {
    "duration": 106,
    "start_time": "2025-04-16T11:30:17.653Z"
   },
   {
    "duration": 77,
    "start_time": "2025-04-16T11:30:17.761Z"
   },
   {
    "duration": 102,
    "start_time": "2025-04-16T11:30:17.841Z"
   },
   {
    "duration": 392,
    "start_time": "2025-04-16T11:30:17.946Z"
   },
   {
    "duration": 100,
    "start_time": "2025-04-16T11:30:18.339Z"
   },
   {
    "duration": 21,
    "start_time": "2025-04-16T11:30:18.440Z"
   },
   {
    "duration": 3,
    "start_time": "2025-04-16T11:30:18.462Z"
   },
   {
    "duration": 8,
    "start_time": "2025-04-16T11:30:18.467Z"
   },
   {
    "duration": 378,
    "start_time": "2025-04-16T11:30:18.477Z"
   },
   {
    "duration": 13,
    "start_time": "2025-04-16T11:30:37.162Z"
   },
   {
    "duration": 1234,
    "start_time": "2025-04-16T11:30:40.426Z"
   },
   {
    "duration": 90,
    "start_time": "2025-04-16T11:30:41.662Z"
   },
   {
    "duration": 13,
    "start_time": "2025-04-16T11:30:41.754Z"
   },
   {
    "duration": 7,
    "start_time": "2025-04-16T11:30:41.770Z"
   },
   {
    "duration": 5,
    "start_time": "2025-04-16T11:30:41.778Z"
   },
   {
    "duration": 6,
    "start_time": "2025-04-16T11:30:41.784Z"
   },
   {
    "duration": 8,
    "start_time": "2025-04-16T11:30:41.792Z"
   },
   {
    "duration": 15,
    "start_time": "2025-04-16T11:30:41.836Z"
   },
   {
    "duration": 10,
    "start_time": "2025-04-16T11:30:41.853Z"
   },
   {
    "duration": 9,
    "start_time": "2025-04-16T11:30:41.867Z"
   },
   {
    "duration": 178,
    "start_time": "2025-04-16T11:30:41.878Z"
   },
   {
    "duration": 12,
    "start_time": "2025-04-16T11:30:42.059Z"
   },
   {
    "duration": 11,
    "start_time": "2025-04-16T11:30:42.072Z"
   },
   {
    "duration": 290,
    "start_time": "2025-04-16T11:30:42.084Z"
   },
   {
    "duration": 1816,
    "start_time": "2025-04-16T11:30:42.376Z"
   },
   {
    "duration": 43,
    "start_time": "2025-04-16T11:30:44.195Z"
   },
   {
    "duration": 610,
    "start_time": "2025-04-16T11:30:44.239Z"
   },
   {
    "duration": 73,
    "start_time": "2025-04-16T11:30:44.850Z"
   },
   {
    "duration": 20,
    "start_time": "2025-04-16T11:30:44.925Z"
   },
   {
    "duration": 4,
    "start_time": "2025-04-16T11:30:44.946Z"
   },
   {
    "duration": 9,
    "start_time": "2025-04-16T11:30:44.951Z"
   },
   {
    "duration": 376,
    "start_time": "2025-04-16T11:30:44.961Z"
   },
   {
    "duration": 9,
    "start_time": "2025-04-16T11:30:45.339Z"
   },
   {
    "duration": 116,
    "start_time": "2025-04-16T11:30:45.350Z"
   },
   {
    "duration": 79,
    "start_time": "2025-04-16T11:30:45.467Z"
   },
   {
    "duration": 19,
    "start_time": "2025-04-16T11:30:45.548Z"
   },
   {
    "duration": 88,
    "start_time": "2025-04-16T11:30:45.569Z"
   },
   {
    "duration": 193,
    "start_time": "2025-04-16T11:30:45.661Z"
   },
   {
    "duration": 45,
    "start_time": "2025-04-16T11:30:45.856Z"
   },
   {
    "duration": 37,
    "start_time": "2025-04-16T11:30:45.902Z"
   },
   {
    "duration": 3,
    "start_time": "2025-04-16T11:30:45.940Z"
   },
   {
    "duration": 39,
    "start_time": "2025-04-16T11:30:45.945Z"
   },
   {
    "duration": 275,
    "start_time": "2025-04-16T11:30:45.986Z"
   },
   {
    "duration": 1194,
    "start_time": "2025-04-16T11:36:44.175Z"
   },
   {
    "duration": 241,
    "start_time": "2025-04-16T11:36:45.371Z"
   },
   {
    "duration": 13,
    "start_time": "2025-04-16T11:36:45.614Z"
   },
   {
    "duration": 8,
    "start_time": "2025-04-16T11:36:45.629Z"
   },
   {
    "duration": 4,
    "start_time": "2025-04-16T11:36:45.639Z"
   },
   {
    "duration": 10,
    "start_time": "2025-04-16T11:36:45.644Z"
   },
   {
    "duration": 8,
    "start_time": "2025-04-16T11:36:45.656Z"
   },
   {
    "duration": 11,
    "start_time": "2025-04-16T11:36:45.666Z"
   },
   {
    "duration": 8,
    "start_time": "2025-04-16T11:36:45.679Z"
   },
   {
    "duration": 47,
    "start_time": "2025-04-16T11:36:45.690Z"
   },
   {
    "duration": 153,
    "start_time": "2025-04-16T11:36:45.738Z"
   },
   {
    "duration": 10,
    "start_time": "2025-04-16T11:36:45.893Z"
   },
   {
    "duration": 9,
    "start_time": "2025-04-16T11:36:45.904Z"
   },
   {
    "duration": 271,
    "start_time": "2025-04-16T11:36:45.935Z"
   },
   {
    "duration": 1567,
    "start_time": "2025-04-16T11:36:46.208Z"
   },
   {
    "duration": 26,
    "start_time": "2025-04-16T11:36:47.777Z"
   },
   {
    "duration": 623,
    "start_time": "2025-04-16T11:36:47.805Z"
   },
   {
    "duration": 80,
    "start_time": "2025-04-16T11:36:48.430Z"
   },
   {
    "duration": 29,
    "start_time": "2025-04-16T11:36:48.512Z"
   },
   {
    "duration": 4,
    "start_time": "2025-04-16T11:36:48.543Z"
   },
   {
    "duration": 110,
    "start_time": "2025-04-16T11:36:48.549Z"
   },
   {
    "duration": 382,
    "start_time": "2025-04-16T11:36:48.660Z"
   },
   {
    "duration": 8,
    "start_time": "2025-04-16T11:36:49.044Z"
   },
   {
    "duration": 63,
    "start_time": "2025-04-16T11:36:49.053Z"
   },
   {
    "duration": 67,
    "start_time": "2025-04-16T11:36:49.118Z"
   },
   {
    "duration": 22,
    "start_time": "2025-04-16T11:36:49.186Z"
   },
   {
    "duration": 68,
    "start_time": "2025-04-16T11:36:49.209Z"
   },
   {
    "duration": 191,
    "start_time": "2025-04-16T11:36:49.280Z"
   },
   {
    "duration": 46,
    "start_time": "2025-04-16T11:36:49.473Z"
   },
   {
    "duration": 34,
    "start_time": "2025-04-16T11:36:49.521Z"
   },
   {
    "duration": 3,
    "start_time": "2025-04-16T11:36:49.556Z"
   },
   {
    "duration": 10,
    "start_time": "2025-04-16T11:36:49.561Z"
   },
   {
    "duration": 223,
    "start_time": "2025-04-16T11:36:49.573Z"
   },
   {
    "duration": 116,
    "start_time": "2025-04-16T11:47:36.838Z"
   },
   {
    "duration": 9,
    "start_time": "2025-04-16T11:48:16.737Z"
   },
   {
    "duration": 1199,
    "start_time": "2025-04-16T11:48:54.259Z"
   },
   {
    "duration": 220,
    "start_time": "2025-04-16T11:48:55.460Z"
   },
   {
    "duration": 12,
    "start_time": "2025-04-16T11:48:55.681Z"
   },
   {
    "duration": 31,
    "start_time": "2025-04-16T11:48:55.695Z"
   },
   {
    "duration": 5,
    "start_time": "2025-04-16T11:48:55.728Z"
   },
   {
    "duration": 11,
    "start_time": "2025-04-16T11:48:55.735Z"
   },
   {
    "duration": 23,
    "start_time": "2025-04-16T11:48:55.748Z"
   },
   {
    "duration": 17,
    "start_time": "2025-04-16T11:48:55.773Z"
   },
   {
    "duration": 9,
    "start_time": "2025-04-16T11:48:55.792Z"
   },
   {
    "duration": 9,
    "start_time": "2025-04-16T11:48:55.803Z"
   },
   {
    "duration": 23,
    "start_time": "2025-04-16T11:48:55.813Z"
   },
   {
    "duration": 150,
    "start_time": "2025-04-16T11:48:55.837Z"
   },
   {
    "duration": 11,
    "start_time": "2025-04-16T11:48:55.988Z"
   },
   {
    "duration": 10,
    "start_time": "2025-04-16T11:48:56.001Z"
   },
   {
    "duration": 344,
    "start_time": "2025-04-16T11:48:56.012Z"
   },
   {
    "duration": 1585,
    "start_time": "2025-04-16T11:48:56.358Z"
   },
   {
    "duration": 24,
    "start_time": "2025-04-16T11:48:57.945Z"
   },
   {
    "duration": 628,
    "start_time": "2025-04-16T11:48:57.970Z"
   },
   {
    "duration": 92,
    "start_time": "2025-04-16T11:48:58.600Z"
   },
   {
    "duration": 56,
    "start_time": "2025-04-16T11:48:58.693Z"
   },
   {
    "duration": 20,
    "start_time": "2025-04-16T11:48:58.750Z"
   },
   {
    "duration": 9,
    "start_time": "2025-04-16T11:48:58.772Z"
   },
   {
    "duration": 360,
    "start_time": "2025-04-16T11:48:58.783Z"
   },
   {
    "duration": 8,
    "start_time": "2025-04-16T11:48:59.145Z"
   },
   {
    "duration": 63,
    "start_time": "2025-04-16T11:48:59.154Z"
   },
   {
    "duration": 46,
    "start_time": "2025-04-16T11:48:59.236Z"
   },
   {
    "duration": 19,
    "start_time": "2025-04-16T11:48:59.284Z"
   },
   {
    "duration": 65,
    "start_time": "2025-04-16T11:48:59.306Z"
   },
   {
    "duration": 194,
    "start_time": "2025-04-16T11:48:59.372Z"
   },
   {
    "duration": 45,
    "start_time": "2025-04-16T11:48:59.568Z"
   },
   {
    "duration": 37,
    "start_time": "2025-04-16T11:48:59.615Z"
   },
   {
    "duration": 3,
    "start_time": "2025-04-16T11:48:59.654Z"
   },
   {
    "duration": 15,
    "start_time": "2025-04-16T11:48:59.659Z"
   },
   {
    "duration": 217,
    "start_time": "2025-04-16T11:48:59.676Z"
   },
   {
    "duration": 9,
    "start_time": "2025-04-16T11:50:21.814Z"
   },
   {
    "duration": 16,
    "start_time": "2025-04-16T11:50:57.170Z"
   },
   {
    "duration": 15,
    "start_time": "2025-04-16T11:51:52.336Z"
   },
   {
    "duration": 104,
    "start_time": "2025-04-16T11:52:52.543Z"
   },
   {
    "duration": 1248,
    "start_time": "2025-04-16T11:53:14.809Z"
   },
   {
    "duration": 93,
    "start_time": "2025-04-16T11:53:16.059Z"
   },
   {
    "duration": 12,
    "start_time": "2025-04-16T11:53:16.153Z"
   },
   {
    "duration": 8,
    "start_time": "2025-04-16T11:53:16.166Z"
   },
   {
    "duration": 5,
    "start_time": "2025-04-16T11:53:16.177Z"
   },
   {
    "duration": 14,
    "start_time": "2025-04-16T11:53:16.184Z"
   },
   {
    "duration": 12,
    "start_time": "2025-04-16T11:53:16.200Z"
   },
   {
    "duration": 17,
    "start_time": "2025-04-16T11:53:16.236Z"
   },
   {
    "duration": 9,
    "start_time": "2025-04-16T11:53:16.255Z"
   },
   {
    "duration": 32,
    "start_time": "2025-04-16T11:53:16.265Z"
   },
   {
    "duration": 34,
    "start_time": "2025-04-16T11:53:16.299Z"
   },
   {
    "duration": 110,
    "start_time": "2025-04-16T11:53:16.335Z"
   },
   {
    "duration": 0,
    "start_time": "2025-04-16T11:53:16.448Z"
   },
   {
    "duration": 0,
    "start_time": "2025-04-16T11:53:16.450Z"
   },
   {
    "duration": 0,
    "start_time": "2025-04-16T11:53:16.451Z"
   },
   {
    "duration": 0,
    "start_time": "2025-04-16T11:53:16.453Z"
   },
   {
    "duration": 0,
    "start_time": "2025-04-16T11:53:16.454Z"
   },
   {
    "duration": 0,
    "start_time": "2025-04-16T11:53:16.456Z"
   },
   {
    "duration": 0,
    "start_time": "2025-04-16T11:53:16.457Z"
   },
   {
    "duration": 0,
    "start_time": "2025-04-16T11:53:16.459Z"
   },
   {
    "duration": 0,
    "start_time": "2025-04-16T11:53:16.461Z"
   },
   {
    "duration": 0,
    "start_time": "2025-04-16T11:53:16.462Z"
   },
   {
    "duration": 0,
    "start_time": "2025-04-16T11:53:16.463Z"
   },
   {
    "duration": 0,
    "start_time": "2025-04-16T11:53:16.465Z"
   },
   {
    "duration": 0,
    "start_time": "2025-04-16T11:53:16.466Z"
   },
   {
    "duration": 0,
    "start_time": "2025-04-16T11:53:16.468Z"
   },
   {
    "duration": 0,
    "start_time": "2025-04-16T11:53:16.469Z"
   },
   {
    "duration": 0,
    "start_time": "2025-04-16T11:53:16.471Z"
   },
   {
    "duration": 0,
    "start_time": "2025-04-16T11:53:16.472Z"
   },
   {
    "duration": 0,
    "start_time": "2025-04-16T11:53:16.474Z"
   },
   {
    "duration": 0,
    "start_time": "2025-04-16T11:53:16.475Z"
   },
   {
    "duration": 0,
    "start_time": "2025-04-16T11:53:16.477Z"
   },
   {
    "duration": 0,
    "start_time": "2025-04-16T11:53:16.479Z"
   },
   {
    "duration": 0,
    "start_time": "2025-04-16T11:53:16.480Z"
   },
   {
    "duration": 0,
    "start_time": "2025-04-16T11:53:16.482Z"
   },
   {
    "duration": 0,
    "start_time": "2025-04-16T11:53:16.483Z"
   },
   {
    "duration": 14,
    "start_time": "2025-04-16T11:55:31.435Z"
   },
   {
    "duration": 252,
    "start_time": "2025-04-16T11:55:35.734Z"
   },
   {
    "duration": 1205,
    "start_time": "2025-04-16T11:56:05.486Z"
   },
   {
    "duration": 101,
    "start_time": "2025-04-16T11:56:06.693Z"
   },
   {
    "duration": 13,
    "start_time": "2025-04-16T11:56:06.796Z"
   },
   {
    "duration": 9,
    "start_time": "2025-04-16T11:56:06.811Z"
   },
   {
    "duration": 4,
    "start_time": "2025-04-16T11:56:06.823Z"
   },
   {
    "duration": 12,
    "start_time": "2025-04-16T11:56:06.828Z"
   },
   {
    "duration": 10,
    "start_time": "2025-04-16T11:56:06.842Z"
   },
   {
    "duration": 12,
    "start_time": "2025-04-16T11:56:06.853Z"
   },
   {
    "duration": 12,
    "start_time": "2025-04-16T11:56:06.866Z"
   },
   {
    "duration": 11,
    "start_time": "2025-04-16T11:56:06.880Z"
   },
   {
    "duration": 21,
    "start_time": "2025-04-16T11:56:06.893Z"
   },
   {
    "duration": 270,
    "start_time": "2025-04-16T11:56:06.916Z"
   },
   {
    "duration": 11,
    "start_time": "2025-04-16T11:56:07.189Z"
   },
   {
    "duration": 172,
    "start_time": "2025-04-16T11:56:07.205Z"
   },
   {
    "duration": 10,
    "start_time": "2025-04-16T11:56:07.379Z"
   },
   {
    "duration": 18,
    "start_time": "2025-04-16T11:56:07.391Z"
   },
   {
    "duration": 297,
    "start_time": "2025-04-16T11:56:07.411Z"
   },
   {
    "duration": 1735,
    "start_time": "2025-04-16T11:56:07.710Z"
   },
   {
    "duration": 24,
    "start_time": "2025-04-16T11:56:09.447Z"
   },
   {
    "duration": 610,
    "start_time": "2025-04-16T11:56:09.473Z"
   },
   {
    "duration": 89,
    "start_time": "2025-04-16T11:56:10.085Z"
   },
   {
    "duration": 15,
    "start_time": "2025-04-16T11:56:10.176Z"
   },
   {
    "duration": 18,
    "start_time": "2025-04-16T11:56:10.193Z"
   },
   {
    "duration": 9,
    "start_time": "2025-04-16T11:56:10.212Z"
   },
   {
    "duration": 368,
    "start_time": "2025-04-16T11:56:10.222Z"
   },
   {
    "duration": 9,
    "start_time": "2025-04-16T11:56:10.592Z"
   },
   {
    "duration": 179,
    "start_time": "2025-04-16T11:56:10.602Z"
   },
   {
    "duration": 52,
    "start_time": "2025-04-16T11:56:10.783Z"
   },
   {
    "duration": 22,
    "start_time": "2025-04-16T11:56:10.837Z"
   },
   {
    "duration": 47,
    "start_time": "2025-04-16T11:56:10.860Z"
   },
   {
    "duration": 216,
    "start_time": "2025-04-16T11:56:10.909Z"
   },
   {
    "duration": 50,
    "start_time": "2025-04-16T11:56:11.127Z"
   },
   {
    "duration": 22,
    "start_time": "2025-04-16T11:56:11.178Z"
   },
   {
    "duration": 3,
    "start_time": "2025-04-16T11:56:11.201Z"
   },
   {
    "duration": 34,
    "start_time": "2025-04-16T11:56:11.206Z"
   },
   {
    "duration": 228,
    "start_time": "2025-04-16T11:56:11.242Z"
   },
   {
    "duration": 385,
    "start_time": "2025-04-16T11:57:21.911Z"
   },
   {
    "duration": 1219,
    "start_time": "2025-04-16T12:00:26.944Z"
   },
   {
    "duration": 107,
    "start_time": "2025-04-16T12:00:28.164Z"
   },
   {
    "duration": 14,
    "start_time": "2025-04-16T12:00:28.272Z"
   },
   {
    "duration": 7,
    "start_time": "2025-04-16T12:00:28.288Z"
   },
   {
    "duration": 4,
    "start_time": "2025-04-16T12:00:28.297Z"
   },
   {
    "duration": 18,
    "start_time": "2025-04-16T12:00:28.303Z"
   },
   {
    "duration": 13,
    "start_time": "2025-04-16T12:00:28.322Z"
   },
   {
    "duration": 14,
    "start_time": "2025-04-16T12:00:28.337Z"
   },
   {
    "duration": 9,
    "start_time": "2025-04-16T12:00:28.353Z"
   },
   {
    "duration": 10,
    "start_time": "2025-04-16T12:00:28.365Z"
   },
   {
    "duration": 20,
    "start_time": "2025-04-16T12:00:28.376Z"
   },
   {
    "duration": 359,
    "start_time": "2025-04-16T12:00:28.398Z"
   },
   {
    "duration": 8,
    "start_time": "2025-04-16T12:00:28.759Z"
   },
   {
    "duration": 155,
    "start_time": "2025-04-16T12:00:28.768Z"
   },
   {
    "duration": 22,
    "start_time": "2025-04-16T12:00:28.924Z"
   },
   {
    "duration": 13,
    "start_time": "2025-04-16T12:00:28.949Z"
   },
   {
    "duration": 291,
    "start_time": "2025-04-16T12:00:28.963Z"
   },
   {
    "duration": 1456,
    "start_time": "2025-04-16T12:00:29.255Z"
   },
   {
    "duration": 32,
    "start_time": "2025-04-16T12:00:30.713Z"
   },
   {
    "duration": 548,
    "start_time": "2025-04-16T12:00:30.747Z"
   },
   {
    "duration": 77,
    "start_time": "2025-04-16T12:00:31.297Z"
   },
   {
    "duration": 14,
    "start_time": "2025-04-16T12:00:31.376Z"
   },
   {
    "duration": 10,
    "start_time": "2025-04-16T12:00:31.392Z"
   },
   {
    "duration": 9,
    "start_time": "2025-04-16T12:00:31.404Z"
   },
   {
    "duration": 364,
    "start_time": "2025-04-16T12:00:31.414Z"
   },
   {
    "duration": 9,
    "start_time": "2025-04-16T12:00:31.780Z"
   },
   {
    "duration": 74,
    "start_time": "2025-04-16T12:00:31.790Z"
   },
   {
    "duration": 75,
    "start_time": "2025-04-16T12:00:31.869Z"
   },
   {
    "duration": 21,
    "start_time": "2025-04-16T12:00:31.945Z"
   },
   {
    "duration": 46,
    "start_time": "2025-04-16T12:00:31.967Z"
   },
   {
    "duration": 192,
    "start_time": "2025-04-16T12:00:32.015Z"
   },
   {
    "duration": 49,
    "start_time": "2025-04-16T12:00:32.209Z"
   },
   {
    "duration": 21,
    "start_time": "2025-04-16T12:00:32.260Z"
   },
   {
    "duration": 27,
    "start_time": "2025-04-16T12:00:32.282Z"
   },
   {
    "duration": 11,
    "start_time": "2025-04-16T12:00:32.311Z"
   },
   {
    "duration": 232,
    "start_time": "2025-04-16T12:00:32.324Z"
   },
   {
    "duration": 403,
    "start_time": "2025-04-16T12:02:41.950Z"
   },
   {
    "duration": 328,
    "start_time": "2025-04-16T12:02:59.619Z"
   },
   {
    "duration": 1242,
    "start_time": "2025-04-16T12:16:25.909Z"
   },
   {
    "duration": 147,
    "start_time": "2025-04-16T12:16:27.153Z"
   },
   {
    "duration": 14,
    "start_time": "2025-04-16T12:16:27.302Z"
   },
   {
    "duration": 8,
    "start_time": "2025-04-16T12:16:27.318Z"
   },
   {
    "duration": 5,
    "start_time": "2025-04-16T12:16:27.327Z"
   },
   {
    "duration": 5,
    "start_time": "2025-04-16T12:16:27.333Z"
   },
   {
    "duration": 12,
    "start_time": "2025-04-16T12:16:27.339Z"
   },
   {
    "duration": 13,
    "start_time": "2025-04-16T12:16:27.352Z"
   },
   {
    "duration": 9,
    "start_time": "2025-04-16T12:16:27.366Z"
   },
   {
    "duration": 7,
    "start_time": "2025-04-16T12:16:27.377Z"
   },
   {
    "duration": 12,
    "start_time": "2025-04-16T12:16:27.386Z"
   },
   {
    "duration": 356,
    "start_time": "2025-04-16T12:16:27.400Z"
   },
   {
    "duration": 11,
    "start_time": "2025-04-16T12:16:27.758Z"
   },
   {
    "duration": 157,
    "start_time": "2025-04-16T12:16:27.771Z"
   },
   {
    "duration": 16,
    "start_time": "2025-04-16T12:16:27.929Z"
   },
   {
    "duration": 9,
    "start_time": "2025-04-16T12:16:27.947Z"
   },
   {
    "duration": 278,
    "start_time": "2025-04-16T12:16:27.957Z"
   },
   {
    "duration": 3394,
    "start_time": "2025-04-16T12:16:28.237Z"
   },
   {
    "duration": 24,
    "start_time": "2025-04-16T12:16:31.636Z"
   },
   {
    "duration": 577,
    "start_time": "2025-04-16T12:16:31.662Z"
   },
   {
    "duration": 73,
    "start_time": "2025-04-16T12:16:32.241Z"
   },
   {
    "duration": 33,
    "start_time": "2025-04-16T12:16:32.315Z"
   },
   {
    "duration": 4,
    "start_time": "2025-04-16T12:16:32.350Z"
   },
   {
    "duration": 15,
    "start_time": "2025-04-16T12:16:32.356Z"
   },
   {
    "duration": 346,
    "start_time": "2025-04-16T12:16:32.373Z"
   },
   {
    "duration": 14,
    "start_time": "2025-04-16T12:16:32.721Z"
   },
   {
    "duration": 119,
    "start_time": "2025-04-16T12:16:32.737Z"
   },
   {
    "duration": 49,
    "start_time": "2025-04-16T12:16:32.861Z"
   },
   {
    "duration": 29,
    "start_time": "2025-04-16T12:16:32.912Z"
   },
   {
    "duration": 46,
    "start_time": "2025-04-16T12:16:32.943Z"
   },
   {
    "duration": 198,
    "start_time": "2025-04-16T12:16:32.991Z"
   },
   {
    "duration": 51,
    "start_time": "2025-04-16T12:16:33.191Z"
   },
   {
    "duration": 22,
    "start_time": "2025-04-16T12:16:33.243Z"
   },
   {
    "duration": 8,
    "start_time": "2025-04-16T12:16:33.267Z"
   },
   {
    "duration": 9,
    "start_time": "2025-04-16T12:16:33.277Z"
   },
   {
    "duration": 201,
    "start_time": "2025-04-16T12:16:33.287Z"
   },
   {
    "duration": 9,
    "start_time": "2025-04-16T12:28:41.571Z"
   },
   {
    "duration": 1190,
    "start_time": "2025-04-16T12:28:59.434Z"
   },
   {
    "duration": 106,
    "start_time": "2025-04-16T12:29:00.626Z"
   },
   {
    "duration": 12,
    "start_time": "2025-04-16T12:29:00.733Z"
   },
   {
    "duration": 102,
    "start_time": "2025-04-16T12:29:00.747Z"
   },
   {
    "duration": 57,
    "start_time": "2025-04-16T12:29:00.851Z"
   },
   {
    "duration": 5,
    "start_time": "2025-04-16T12:29:00.910Z"
   },
   {
    "duration": 8,
    "start_time": "2025-04-16T12:29:00.916Z"
   },
   {
    "duration": 11,
    "start_time": "2025-04-16T12:29:00.925Z"
   },
   {
    "duration": 27,
    "start_time": "2025-04-16T12:29:00.937Z"
   },
   {
    "duration": 8,
    "start_time": "2025-04-16T12:29:00.967Z"
   },
   {
    "duration": 14,
    "start_time": "2025-04-16T12:29:00.976Z"
   },
   {
    "duration": 319,
    "start_time": "2025-04-16T12:29:00.992Z"
   },
   {
    "duration": 9,
    "start_time": "2025-04-16T12:29:01.313Z"
   },
   {
    "duration": 137,
    "start_time": "2025-04-16T12:29:01.336Z"
   },
   {
    "duration": 11,
    "start_time": "2025-04-16T12:29:01.474Z"
   },
   {
    "duration": 21,
    "start_time": "2025-04-16T12:29:01.487Z"
   },
   {
    "duration": 285,
    "start_time": "2025-04-16T12:29:01.510Z"
   },
   {
    "duration": 1482,
    "start_time": "2025-04-16T12:29:01.797Z"
   },
   {
    "duration": 25,
    "start_time": "2025-04-16T12:29:03.281Z"
   },
   {
    "duration": 624,
    "start_time": "2025-04-16T12:29:03.308Z"
   },
   {
    "duration": 83,
    "start_time": "2025-04-16T12:29:03.935Z"
   },
   {
    "duration": 26,
    "start_time": "2025-04-16T12:29:04.019Z"
   },
   {
    "duration": 18,
    "start_time": "2025-04-16T12:29:04.047Z"
   },
   {
    "duration": 16,
    "start_time": "2025-04-16T12:29:04.067Z"
   },
   {
    "duration": 381,
    "start_time": "2025-04-16T12:29:04.085Z"
   },
   {
    "duration": 8,
    "start_time": "2025-04-16T12:29:04.468Z"
   },
   {
    "duration": 82,
    "start_time": "2025-04-16T12:29:04.478Z"
   },
   {
    "duration": 48,
    "start_time": "2025-04-16T12:29:04.563Z"
   },
   {
    "duration": 31,
    "start_time": "2025-04-16T12:29:04.613Z"
   },
   {
    "duration": 48,
    "start_time": "2025-04-16T12:29:04.646Z"
   },
   {
    "duration": 203,
    "start_time": "2025-04-16T12:29:04.696Z"
   },
   {
    "duration": 53,
    "start_time": "2025-04-16T12:29:04.901Z"
   },
   {
    "duration": 21,
    "start_time": "2025-04-16T12:29:04.955Z"
   },
   {
    "duration": 4,
    "start_time": "2025-04-16T12:29:04.978Z"
   },
   {
    "duration": 16,
    "start_time": "2025-04-16T12:29:04.983Z"
   },
   {
    "duration": 260,
    "start_time": "2025-04-16T12:29:05.001Z"
   },
   {
    "duration": 8,
    "start_time": "2025-04-16T12:30:38.768Z"
   },
   {
    "duration": 8,
    "start_time": "2025-04-16T12:31:14.399Z"
   },
   {
    "duration": 1163,
    "start_time": "2025-04-16T12:31:20.883Z"
   },
   {
    "duration": 99,
    "start_time": "2025-04-16T12:31:22.048Z"
   },
   {
    "duration": 13,
    "start_time": "2025-04-16T12:31:22.148Z"
   },
   {
    "duration": 7,
    "start_time": "2025-04-16T12:31:22.162Z"
   },
   {
    "duration": 70,
    "start_time": "2025-04-16T12:31:22.170Z"
   },
   {
    "duration": 5,
    "start_time": "2025-04-16T12:31:22.242Z"
   },
   {
    "duration": 8,
    "start_time": "2025-04-16T12:31:22.248Z"
   },
   {
    "duration": 11,
    "start_time": "2025-04-16T12:31:22.257Z"
   },
   {
    "duration": 8,
    "start_time": "2025-04-16T12:31:22.270Z"
   },
   {
    "duration": 9,
    "start_time": "2025-04-16T12:31:22.280Z"
   },
   {
    "duration": 48,
    "start_time": "2025-04-16T12:31:22.291Z"
   },
   {
    "duration": 326,
    "start_time": "2025-04-16T12:31:22.341Z"
   },
   {
    "duration": 10,
    "start_time": "2025-04-16T12:31:22.669Z"
   },
   {
    "duration": 164,
    "start_time": "2025-04-16T12:31:22.681Z"
   },
   {
    "duration": 10,
    "start_time": "2025-04-16T12:31:22.847Z"
   },
   {
    "duration": 33,
    "start_time": "2025-04-16T12:31:22.859Z"
   },
   {
    "duration": 251,
    "start_time": "2025-04-16T12:31:22.894Z"
   },
   {
    "duration": 1545,
    "start_time": "2025-04-16T12:31:23.147Z"
   },
   {
    "duration": 24,
    "start_time": "2025-04-16T12:31:24.694Z"
   },
   {
    "duration": 583,
    "start_time": "2025-04-16T12:31:24.720Z"
   },
   {
    "duration": 90,
    "start_time": "2025-04-16T12:31:25.305Z"
   },
   {
    "duration": 16,
    "start_time": "2025-04-16T12:31:25.397Z"
   },
   {
    "duration": 5,
    "start_time": "2025-04-16T12:31:25.415Z"
   },
   {
    "duration": 9,
    "start_time": "2025-04-16T12:31:25.436Z"
   },
   {
    "duration": 343,
    "start_time": "2025-04-16T12:31:25.446Z"
   },
   {
    "duration": 8,
    "start_time": "2025-04-16T12:31:25.790Z"
   },
   {
    "duration": 66,
    "start_time": "2025-04-16T12:31:25.800Z"
   },
   {
    "duration": 46,
    "start_time": "2025-04-16T12:31:25.869Z"
   },
   {
    "duration": 35,
    "start_time": "2025-04-16T12:31:25.917Z"
   },
   {
    "duration": 45,
    "start_time": "2025-04-16T12:31:25.954Z"
   },
   {
    "duration": 192,
    "start_time": "2025-04-16T12:31:26.001Z"
   },
   {
    "duration": 48,
    "start_time": "2025-04-16T12:31:26.194Z"
   },
   {
    "duration": 76,
    "start_time": "2025-04-16T12:31:26.243Z"
   },
   {
    "duration": 3,
    "start_time": "2025-04-16T12:31:26.321Z"
   },
   {
    "duration": 12,
    "start_time": "2025-04-16T12:31:26.325Z"
   },
   {
    "duration": 236,
    "start_time": "2025-04-16T12:31:26.338Z"
   },
   {
    "duration": 7,
    "start_time": "2025-04-16T13:04:43.702Z"
   },
   {
    "duration": 1204,
    "start_time": "2025-04-16T13:05:39.169Z"
   },
   {
    "duration": 163,
    "start_time": "2025-04-16T13:05:40.375Z"
   },
   {
    "duration": 12,
    "start_time": "2025-04-16T13:05:40.539Z"
   },
   {
    "duration": 7,
    "start_time": "2025-04-16T13:05:40.553Z"
   },
   {
    "duration": 7,
    "start_time": "2025-04-16T13:05:40.561Z"
   },
   {
    "duration": 28,
    "start_time": "2025-04-16T13:05:40.570Z"
   },
   {
    "duration": 21,
    "start_time": "2025-04-16T13:05:40.599Z"
   },
   {
    "duration": 12,
    "start_time": "2025-04-16T13:05:40.621Z"
   },
   {
    "duration": 9,
    "start_time": "2025-04-16T13:05:40.635Z"
   },
   {
    "duration": 8,
    "start_time": "2025-04-16T13:05:40.646Z"
   },
   {
    "duration": 13,
    "start_time": "2025-04-16T13:05:40.655Z"
   },
   {
    "duration": 354,
    "start_time": "2025-04-16T13:05:40.670Z"
   },
   {
    "duration": 15,
    "start_time": "2025-04-16T13:05:41.026Z"
   },
   {
    "duration": 151,
    "start_time": "2025-04-16T13:05:41.042Z"
   },
   {
    "duration": 11,
    "start_time": "2025-04-16T13:05:41.195Z"
   },
   {
    "duration": 10,
    "start_time": "2025-04-16T13:05:41.207Z"
   },
   {
    "duration": 280,
    "start_time": "2025-04-16T13:05:41.235Z"
   },
   {
    "duration": 1562,
    "start_time": "2025-04-16T13:05:41.516Z"
   },
   {
    "duration": 26,
    "start_time": "2025-04-16T13:05:43.080Z"
   },
   {
    "duration": 623,
    "start_time": "2025-04-16T13:05:43.108Z"
   },
   {
    "duration": 77,
    "start_time": "2025-04-16T13:05:43.732Z"
   },
   {
    "duration": 28,
    "start_time": "2025-04-16T13:05:43.811Z"
   },
   {
    "duration": 18,
    "start_time": "2025-04-16T13:05:43.841Z"
   },
   {
    "duration": 9,
    "start_time": "2025-04-16T13:05:43.861Z"
   },
   {
    "duration": 411,
    "start_time": "2025-04-16T13:05:43.871Z"
   },
   {
    "duration": 9,
    "start_time": "2025-04-16T13:05:44.284Z"
   },
   {
    "duration": 195,
    "start_time": "2025-04-16T13:05:44.294Z"
   },
   {
    "duration": 56,
    "start_time": "2025-04-16T13:05:44.492Z"
   },
   {
    "duration": 21,
    "start_time": "2025-04-16T13:05:44.550Z"
   },
   {
    "duration": 69,
    "start_time": "2025-04-16T13:05:44.573Z"
   },
   {
    "duration": 185,
    "start_time": "2025-04-16T13:05:44.644Z"
   },
   {
    "duration": 43,
    "start_time": "2025-04-16T13:05:44.835Z"
   },
   {
    "duration": 22,
    "start_time": "2025-04-16T13:05:44.880Z"
   },
   {
    "duration": 143,
    "start_time": "2025-04-16T13:05:44.904Z"
   },
   {
    "duration": 40,
    "start_time": "2025-04-16T13:05:45.049Z"
   },
   {
    "duration": 286,
    "start_time": "2025-04-16T13:05:45.091Z"
   },
   {
    "duration": 9,
    "start_time": "2025-04-16T13:09:04.582Z"
   },
   {
    "duration": 101,
    "start_time": "2025-04-16T13:12:28.606Z"
   },
   {
    "duration": 9,
    "start_time": "2025-04-16T13:12:39.698Z"
   },
   {
    "duration": 1226,
    "start_time": "2025-04-16T13:21:45.834Z"
   },
   {
    "duration": 88,
    "start_time": "2025-04-16T13:21:47.061Z"
   },
   {
    "duration": 13,
    "start_time": "2025-04-16T13:21:47.151Z"
   },
   {
    "duration": 8,
    "start_time": "2025-04-16T13:21:47.166Z"
   },
   {
    "duration": 5,
    "start_time": "2025-04-16T13:21:47.176Z"
   },
   {
    "duration": 6,
    "start_time": "2025-04-16T13:21:47.183Z"
   },
   {
    "duration": 46,
    "start_time": "2025-04-16T13:21:47.191Z"
   },
   {
    "duration": 14,
    "start_time": "2025-04-16T13:21:47.238Z"
   },
   {
    "duration": 69,
    "start_time": "2025-04-16T13:21:47.253Z"
   },
   {
    "duration": 8,
    "start_time": "2025-04-16T13:21:47.325Z"
   },
   {
    "duration": 13,
    "start_time": "2025-04-16T13:21:47.335Z"
   },
   {
    "duration": 359,
    "start_time": "2025-04-16T13:21:47.349Z"
   },
   {
    "duration": 9,
    "start_time": "2025-04-16T13:21:47.709Z"
   },
   {
    "duration": 142,
    "start_time": "2025-04-16T13:21:47.720Z"
   },
   {
    "duration": 12,
    "start_time": "2025-04-16T13:21:47.863Z"
   },
   {
    "duration": 11,
    "start_time": "2025-04-16T13:21:47.876Z"
   },
   {
    "duration": 287,
    "start_time": "2025-04-16T13:21:47.888Z"
   },
   {
    "duration": 1620,
    "start_time": "2025-04-16T13:21:48.177Z"
   },
   {
    "duration": 37,
    "start_time": "2025-04-16T13:21:49.799Z"
   },
   {
    "duration": 630,
    "start_time": "2025-04-16T13:21:49.838Z"
   },
   {
    "duration": 101,
    "start_time": "2025-04-16T13:21:50.470Z"
   },
   {
    "duration": 18,
    "start_time": "2025-04-16T13:21:50.572Z"
   },
   {
    "duration": 5,
    "start_time": "2025-04-16T13:21:50.592Z"
   },
   {
    "duration": 11,
    "start_time": "2025-04-16T13:21:50.599Z"
   },
   {
    "duration": 350,
    "start_time": "2025-04-16T13:21:50.635Z"
   },
   {
    "duration": 10,
    "start_time": "2025-04-16T13:21:50.987Z"
   },
   {
    "duration": 121,
    "start_time": "2025-04-16T13:21:50.999Z"
   },
   {
    "duration": 49,
    "start_time": "2025-04-16T13:21:51.124Z"
   },
   {
    "duration": 21,
    "start_time": "2025-04-16T13:21:51.175Z"
   },
   {
    "duration": 70,
    "start_time": "2025-04-16T13:21:51.198Z"
   },
   {
    "duration": 205,
    "start_time": "2025-04-16T13:21:51.270Z"
   },
   {
    "duration": 58,
    "start_time": "2025-04-16T13:21:51.477Z"
   },
   {
    "duration": 24,
    "start_time": "2025-04-16T13:21:51.538Z"
   },
   {
    "duration": 4,
    "start_time": "2025-04-16T13:21:51.564Z"
   },
   {
    "duration": 13,
    "start_time": "2025-04-16T13:21:51.569Z"
   },
   {
    "duration": 213,
    "start_time": "2025-04-16T13:21:51.583Z"
   },
   {
    "duration": 1200,
    "start_time": "2025-04-16T13:59:19.746Z"
   },
   {
    "duration": 90,
    "start_time": "2025-04-16T13:59:20.948Z"
   },
   {
    "duration": 12,
    "start_time": "2025-04-16T13:59:21.039Z"
   },
   {
    "duration": 112,
    "start_time": "2025-04-16T13:59:21.053Z"
   },
   {
    "duration": 31,
    "start_time": "2025-04-16T13:59:21.166Z"
   },
   {
    "duration": 15,
    "start_time": "2025-04-16T13:59:21.198Z"
   },
   {
    "duration": 8,
    "start_time": "2025-04-16T13:59:21.215Z"
   },
   {
    "duration": 11,
    "start_time": "2025-04-16T13:59:21.224Z"
   },
   {
    "duration": 8,
    "start_time": "2025-04-16T13:59:21.237Z"
   },
   {
    "duration": 7,
    "start_time": "2025-04-16T13:59:21.247Z"
   },
   {
    "duration": 12,
    "start_time": "2025-04-16T13:59:21.256Z"
   },
   {
    "duration": 352,
    "start_time": "2025-04-16T13:59:21.269Z"
   },
   {
    "duration": 15,
    "start_time": "2025-04-16T13:59:21.623Z"
   },
   {
    "duration": 135,
    "start_time": "2025-04-16T13:59:21.640Z"
   },
   {
    "duration": 11,
    "start_time": "2025-04-16T13:59:21.776Z"
   },
   {
    "duration": 13,
    "start_time": "2025-04-16T13:59:21.789Z"
   },
   {
    "duration": 278,
    "start_time": "2025-04-16T13:59:21.804Z"
   },
   {
    "duration": 1445,
    "start_time": "2025-04-16T13:59:22.083Z"
   },
   {
    "duration": 27,
    "start_time": "2025-04-16T13:59:23.530Z"
   },
   {
    "duration": 605,
    "start_time": "2025-04-16T13:59:23.558Z"
   },
   {
    "duration": 96,
    "start_time": "2025-04-16T13:59:24.165Z"
   },
   {
    "duration": 17,
    "start_time": "2025-04-16T13:59:24.263Z"
   },
   {
    "duration": 5,
    "start_time": "2025-04-16T13:59:24.282Z"
   },
   {
    "duration": 9,
    "start_time": "2025-04-16T13:59:24.289Z"
   },
   {
    "duration": 373,
    "start_time": "2025-04-16T13:59:24.299Z"
   },
   {
    "duration": 9,
    "start_time": "2025-04-16T13:59:24.674Z"
   },
   {
    "duration": 77,
    "start_time": "2025-04-16T13:59:24.685Z"
   },
   {
    "duration": 49,
    "start_time": "2025-04-16T13:59:24.766Z"
   },
   {
    "duration": 39,
    "start_time": "2025-04-16T13:59:24.817Z"
   },
   {
    "duration": 47,
    "start_time": "2025-04-16T13:59:24.858Z"
   },
   {
    "duration": 191,
    "start_time": "2025-04-16T13:59:24.907Z"
   },
   {
    "duration": 51,
    "start_time": "2025-04-16T13:59:25.099Z"
   },
   {
    "duration": 57,
    "start_time": "2025-04-16T13:59:25.152Z"
   },
   {
    "duration": 3,
    "start_time": "2025-04-16T13:59:25.210Z"
   },
   {
    "duration": 8,
    "start_time": "2025-04-16T13:59:25.214Z"
   },
   {
    "duration": 227,
    "start_time": "2025-04-16T13:59:25.223Z"
   },
   {
    "duration": 241,
    "start_time": "2025-04-16T14:09:22.423Z"
   },
   {
    "duration": 306,
    "start_time": "2025-04-16T14:09:37.542Z"
   }
  ],
  "colab": {
   "provenance": [],
   "toc_visible": true
  },
  "kernelspec": {
   "display_name": "Python 3 (ipykernel)",
   "language": "python",
   "name": "python3"
  },
  "language_info": {
   "codemirror_mode": {
    "name": "ipython",
    "version": 3
   },
   "file_extension": ".py",
   "mimetype": "text/x-python",
   "name": "python",
   "nbconvert_exporter": "python",
   "pygments_lexer": "ipython3",
   "version": "3.12.7"
  },
  "toc": {
   "base_numbering": 1,
   "nav_menu": {},
   "number_sections": true,
   "sideBar": true,
   "skip_h1_title": true,
   "title_cell": "Table of Contents",
   "title_sidebar": "Contents",
   "toc_cell": false,
   "toc_position": {
    "height": "calc(100% - 180px)",
    "left": "10px",
    "top": "150px",
    "width": "235px"
   },
   "toc_section_display": true,
   "toc_window_display": true
  }
 },
 "nbformat": 4,
 "nbformat_minor": 5
}
